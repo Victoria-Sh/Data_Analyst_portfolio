{
    "cells": [
        {
            "attachments": {},
            "cell_type": "markdown",
            "metadata": {},
            "source": [
                "## <span style=\"color:#FE8F77;\"><strong>Bellabeat Case Study</strong></span>\n",
                "### <span style=\"color:#ff5757;\">Victoria Shpetnaya</span>\n",
                "---"
            ]
        },
        {
            "cell_type": "markdown",
            "metadata": {},
            "source": [
                "### 1. About the company\n",
                "Bellabeat is a high-tech company that manufactures health-focused smart products. \n",
                "They offer different smart devices that collect data on activity, sleep, stress, and reproductive health to empower women with knowledge about their own health and habits.\n",
                "\n",
                "### 2. Ask\n",
                "#### 2.1. Questions for the analysis\n",
                "1. What are some trends in smart device usage?\n",
                "2. How could these trends apply to Bellabeat customers?\n",
                "3. How could these trends help influence Bellabeat marketing strategy?\n",
                "\n",
                "#### 2.2. Business task\n",
                "Identify potential opportunities for growth and recommendations for the Bellabeat marketing strategy improvement based on trends in smart device usage. \n",
                "\n",
                "#### 2.3 Key Stakeholders\n",
                "* Urška Sršen: cofounder and Chief Creative Officer.\n",
                "* Sando Mur: cofounder and a key member of the Bellabeat executive team.\n",
                "* Bellabeat marketing analytics team.\n",
                "\n",
                "### 3. Prepare\n",
                "FitBit Fitness Tracker Data (CC0: Public Domain, dataset made available through Mobius, Kaggle) which consists of 18 CVS files. This dataset contains personal fitness tracker from thirty fitbit users. Thirty eligible Fitbit users consented to the submission of personal tracker data, including minute-level output for physical activity, heart rate, and sleep monitoring. It includes information about daily activity, steps, and heart rate that can be used to explore users’ habits.\n",
                "\n",
                "#### 3.1. Accessibility and privacy of data: \n",
                "This dataset is an open-source. [link to Kaggle](https://www.kaggle.com/datasets/arashnic/fitbit)\n",
                "\n",
                "#### 3.2.Data Credibility and Integrity:\n",
                "* Sampling bias: the limitation of dataset size of 30 users.\n",
                "* Not current: this dataset was generated between 12.03.2016 - 12.05.2016.\n",
                "\n",
                "\n",
                "### 4. Process\n",
                "To start, let’s set up the environment by opening the necessary libraries for the analysis.\n"
            ]
        },
        {
            "cell_type": "code",
            "execution_count": 2,
            "metadata": {
                "vscode": {
                    "languageId": "r"
                }
            },
            "outputs": [
                {
                    "name": "stderr",
                    "output_type": "stream",
                    "text": [
                        "Warning message:\n",
                        "\"пакет 'tibble' был собран под R версии 4.2.3\"\n",
                        "Warning message:\n",
                        "\"пакет 'dplyr' был собран под R версии 4.2.3\"\n",
                        "Warning message:\n",
                        "\"пакет 'stringr' был собран под R версии 4.2.3\"\n",
                        "── \u001b[1mAttaching core tidyverse packages\u001b[22m ──────────────────────── tidyverse 2.0.0 ──\n",
                        "\u001b[32m✔\u001b[39m \u001b[34mdplyr    \u001b[39m 1.1.1     \u001b[32m✔\u001b[39m \u001b[34mreadr    \u001b[39m 2.1.4\n",
                        "\u001b[32m✔\u001b[39m \u001b[34mforcats  \u001b[39m 1.0.0     \u001b[32m✔\u001b[39m \u001b[34mstringr  \u001b[39m 1.5.0\n",
                        "\u001b[32m✔\u001b[39m \u001b[34mggplot2  \u001b[39m 3.4.1     \u001b[32m✔\u001b[39m \u001b[34mtibble   \u001b[39m 3.2.1\n",
                        "\u001b[32m✔\u001b[39m \u001b[34mlubridate\u001b[39m 1.9.2     \u001b[32m✔\u001b[39m \u001b[34mtidyr    \u001b[39m 1.3.0\n",
                        "\u001b[32m✔\u001b[39m \u001b[34mpurrr    \u001b[39m 1.0.1     \n",
                        "── \u001b[1mConflicts\u001b[22m ────────────────────────────────────────── tidyverse_conflicts() ──\n",
                        "\u001b[31m✖\u001b[39m \u001b[34mdplyr\u001b[39m::\u001b[32mfilter()\u001b[39m masks \u001b[34mstats\u001b[39m::filter()\n",
                        "\u001b[31m✖\u001b[39m \u001b[34mdplyr\u001b[39m::\u001b[32mlag()\u001b[39m    masks \u001b[34mstats\u001b[39m::lag()\n",
                        "\u001b[36mℹ\u001b[39m Use the conflicted package (\u001b[3m\u001b[34m<http://conflicted.r-lib.org/>\u001b[39m\u001b[23m) to force all conflicts to become errors\n",
                        "Warning message:\n",
                        "\"пакет 'sqldf' был собран под R версии 4.2.3\"\n",
                        "Загрузка требуемого пакета: gsubfn\n",
                        "\n",
                        "Warning message:\n",
                        "\"пакет 'gsubfn' был собран под R версии 4.2.3\"\n",
                        "Загрузка требуемого пакета: proto\n",
                        "\n",
                        "Warning message:\n",
                        "\"пакет 'proto' был собран под R версии 4.2.3\"\n",
                        "Загрузка требуемого пакета: RSQLite\n",
                        "\n",
                        "Warning message:\n",
                        "\"пакет 'RSQLite' был собран под R версии 4.2.3\"\n",
                        "Warning message:\n",
                        "\"пакет 'ggeasy' был собран под R версии 4.2.3\"\n",
                        "\n",
                        "Присоединяю пакет: 'scales'\n",
                        "\n",
                        "\n",
                        "Следующий объект скрыт от 'package:purrr':\n",
                        "\n",
                        "    discard\n",
                        "\n",
                        "\n",
                        "Следующий объект скрыт от 'package:readr':\n",
                        "\n",
                        "    col_factor\n",
                        "\n",
                        "\n",
                        "Warning message:\n",
                        "\"пакет 'ggthemes' был собран под R версии 4.2.3\"\n",
                        "Warning message:\n",
                        "\"пакет 'highcharter' был собран под R версии 4.2.3\"\n",
                        "Registered S3 method overwritten by 'quantmod':\n",
                        "  method            from\n",
                        "  as.zoo.data.frame zoo \n",
                        "\n",
                        "Highcharts (www.highcharts.com) is a Highsoft software product which is\n",
                        "\n",
                        "not free for commercial and Governmental use\n",
                        "\n"
                    ]
                }
            ],
            "source": [
                "library(tidyverse)\n",
                "library(lubridate)\n",
                "library(sqldf)\n",
                "library(skimr)\n",
                "library(ggeasy)\n",
                "library(scales)\n",
                "library(ggthemes)\n",
                "library(highcharter)\n"
            ]
        },
        {
            "cell_type": "markdown",
            "metadata": {},
            "source": [
                "#### 4.1. Exploring data structure\n",
                "\n",
                "Importing datasets:\n"
            ]
        },
        {
            "cell_type": "code",
            "execution_count": 3,
            "metadata": {
                "vscode": {
                    "languageId": "r"
                }
            },
            "outputs": [],
            "source": [
                "activity <- read.csv('fitbit_data_raw\\\\dailyActivity_merged.csv')\n",
                "calories <- read.csv('fitbit_data_raw\\\\dailyCalories_merged.csv')\n",
                "intensities <- read.csv('fitbit_data_raw\\\\dailyIntensities_merged.csv')\n",
                "daily_steps <- read.csv('fitbit_data_raw\\\\dailySteps_merged.csv')\n",
                "hourly_steps <- read.csv('fitbit_data_raw\\\\hourlySteps_merged.csv')\n",
                "sleep <- read.csv('fitbit_data_raw\\\\sleepDay_merged.csv')\n",
                "weight <- read.csv('fitbit_data_raw\\\\weightLoginfo_merged.csv')\n"
            ]
        },
        {
            "cell_type": "markdown",
            "metadata": {},
            "source": [
                "I have already checked the data in MS Excel. Now using the head(), glimpse() functions I need to make sure that data is transferred correctly.\n",
                "\n",
                "Based on observation in MS Excel, tables _\"calories\"_ , _\"intensities\"_, and _\"steps\"_\n",
                " could be subsets of _\"activity\"_. \n",
                "To check this hypothesis I will run a sql query using package \"sqldf\" I installed earlier.\n"
            ]
        },
        {
            "cell_type": "code",
            "execution_count": 4,
            "metadata": {
                "vscode": {
                    "languageId": "r"
                }
            },
            "outputs": [
                {
                    "data": {
                        "text/html": [
                            "<table class=\"dataframe\">\n",
                            "<caption>A data.frame: 1 × 1</caption>\n",
                            "<thead>\n",
                            "\t<tr><th scope=col>COUNT()</th></tr>\n",
                            "\t<tr><th scope=col>&lt;int&gt;</th></tr>\n",
                            "</thead>\n",
                            "<tbody>\n",
                            "\t<tr><td>940</td></tr>\n",
                            "</tbody>\n",
                            "</table>\n"
                        ],
                        "text/latex": [
                            "A data.frame: 1 × 1\n",
                            "\\begin{tabular}{l}\n",
                            " COUNT()\\\\\n",
                            " <int>\\\\\n",
                            "\\hline\n",
                            "\t 940\\\\\n",
                            "\\end{tabular}\n"
                        ],
                        "text/markdown": [
                            "\n",
                            "A data.frame: 1 × 1\n",
                            "\n",
                            "| COUNT() &lt;int&gt; |\n",
                            "|---|\n",
                            "| 940 |\n",
                            "\n"
                        ],
                        "text/plain": [
                            "  COUNT()\n",
                            "1 940    "
                        ]
                    },
                    "metadata": {},
                    "output_type": "display_data"
                },
                {
                    "data": {
                        "text/html": [
                            "<table class=\"dataframe\">\n",
                            "<caption>A data.frame: 1 × 1</caption>\n",
                            "<thead>\n",
                            "\t<tr><th scope=col>COUNT()</th></tr>\n",
                            "\t<tr><th scope=col>&lt;int&gt;</th></tr>\n",
                            "</thead>\n",
                            "<tbody>\n",
                            "\t<tr><td>940</td></tr>\n",
                            "</tbody>\n",
                            "</table>\n"
                        ],
                        "text/latex": [
                            "A data.frame: 1 × 1\n",
                            "\\begin{tabular}{l}\n",
                            " COUNT()\\\\\n",
                            " <int>\\\\\n",
                            "\\hline\n",
                            "\t 940\\\\\n",
                            "\\end{tabular}\n"
                        ],
                        "text/markdown": [
                            "\n",
                            "A data.frame: 1 × 1\n",
                            "\n",
                            "| COUNT() &lt;int&gt; |\n",
                            "|---|\n",
                            "| 940 |\n",
                            "\n"
                        ],
                        "text/plain": [
                            "  COUNT()\n",
                            "1 940    "
                        ]
                    },
                    "metadata": {},
                    "output_type": "display_data"
                },
                {
                    "data": {
                        "text/html": [
                            "<table class=\"dataframe\">\n",
                            "<caption>A data.frame: 1 × 1</caption>\n",
                            "<thead>\n",
                            "\t<tr><th scope=col>COUNT()</th></tr>\n",
                            "\t<tr><th scope=col>&lt;int&gt;</th></tr>\n",
                            "</thead>\n",
                            "<tbody>\n",
                            "\t<tr><td>940</td></tr>\n",
                            "</tbody>\n",
                            "</table>\n"
                        ],
                        "text/latex": [
                            "A data.frame: 1 × 1\n",
                            "\\begin{tabular}{l}\n",
                            " COUNT()\\\\\n",
                            " <int>\\\\\n",
                            "\\hline\n",
                            "\t 940\\\\\n",
                            "\\end{tabular}\n"
                        ],
                        "text/markdown": [
                            "\n",
                            "A data.frame: 1 × 1\n",
                            "\n",
                            "| COUNT() &lt;int&gt; |\n",
                            "|---|\n",
                            "| 940 |\n",
                            "\n"
                        ],
                        "text/plain": [
                            "  COUNT()\n",
                            "1 940    "
                        ]
                    },
                    "metadata": {},
                    "output_type": "display_data"
                }
            ],
            "source": [
                "sqldf(\"SELECT COUNT()\n",
                "      FROM activity \n",
                "      INNER JOIN calories ON \n",
                "      activity.Id = calories.Id AND \n",
                "      activity.ActivityDate = calories.ActivityDay AND \n",
                "      activity.Calories = calories.Calories\")\n",
                "\n",
                "sqldf(\"SELECT COUNT()\n",
                "      FROM activity \n",
                "      INNER JOIN daily_steps  ON \n",
                "      activity.Id = daily_steps.Id AND \n",
                "      activity.ActivityDate = daily_steps.ActivityDay AND \n",
                "      activity.Totalsteps = dailY_steps.StepTotal\")\n",
                "\n",
                "sqldf(\"SELECT COUNT()\n",
                "      FROM activity \n",
                "      INNER JOIN intensities  ON \n",
                "      activity.Id = intensities.Id AND \n",
                "      activity.ActivityDate = intensities.ActivityDay AND \n",
                "      activity.SedentaryMinutes = intensities.SedentaryMinutes AND\n",
                "      activity.LightlyActiveMinutes = intensities.LightlyActiveMinutes AND\n",
                "      activity.FairlyActiveMinutes = intensities.FairlyActiveMinutes AND\n",
                "      activity.VeryActiveMinutes = intensities.VeryActiveMinutes AND\n",
                "      activity.SedentaryActiveDistance = intensities.SedentaryActiveDistance AND\n",
                "      activity.LightActiveDistance = intensities.LightActiveDistance AND\n",
                "      activity.ModeratelyActiveDistance = intensities.ModeratelyActiveDistance AND\n",
                "      activity.VeryActiveDistance = intensities.VeryActiveDistance\")\n"
            ]
        },
        {
            "cell_type": "markdown",
            "metadata": {},
            "source": [
                " All three queries returned the value of 940 as in _\"activity\"_ table, which means that my hypothesis was true and I can drop tables _\"calories\"_, _\"intensities\"_, and _\"steps\"_, as the _\"activity\"_ table already contains that information. \n",
                "\n"
            ]
        },
        {
            "cell_type": "code",
            "execution_count": 5,
            "metadata": {
                "vscode": {
                    "languageId": "r"
                }
            },
            "outputs": [],
            "source": [
                "rm(calories, intensities, daily_steps)"
            ]
        },
        {
            "cell_type": "markdown",
            "metadata": {},
            "source": [
                "\n",
                "Checking for unique ids of the participants:\n"
            ]
        },
        {
            "cell_type": "code",
            "execution_count": 6,
            "metadata": {
                "vscode": {
                    "languageId": "r"
                }
            },
            "outputs": [
                {
                    "data": {
                        "text/html": [
                            "33"
                        ],
                        "text/latex": [
                            "33"
                        ],
                        "text/markdown": [
                            "33"
                        ],
                        "text/plain": [
                            "[1] 33"
                        ]
                    },
                    "metadata": {},
                    "output_type": "display_data"
                },
                {
                    "data": {
                        "text/html": [
                            "33"
                        ],
                        "text/latex": [
                            "33"
                        ],
                        "text/markdown": [
                            "33"
                        ],
                        "text/plain": [
                            "[1] 33"
                        ]
                    },
                    "metadata": {},
                    "output_type": "display_data"
                },
                {
                    "data": {
                        "text/html": [
                            "24"
                        ],
                        "text/latex": [
                            "24"
                        ],
                        "text/markdown": [
                            "24"
                        ],
                        "text/plain": [
                            "[1] 24"
                        ]
                    },
                    "metadata": {},
                    "output_type": "display_data"
                },
                {
                    "data": {
                        "text/html": [
                            "8"
                        ],
                        "text/latex": [
                            "8"
                        ],
                        "text/markdown": [
                            "8"
                        ],
                        "text/plain": [
                            "[1] 8"
                        ]
                    },
                    "metadata": {},
                    "output_type": "display_data"
                }
            ],
            "source": [
                "n_unique(activity$Id)\n",
                "n_unique(hourly_steps$Id)\n",
                "n_unique(sleep$Id)\n",
                "n_unique(weight$Id)"
            ]
        },
        {
            "cell_type": "markdown",
            "metadata": {},
            "source": [
                "The number of unique ids in _\"sleep\"_ table (24) and _\"weight\"_ (8) is usually not significant to make any recommendations and conclusions based on this data. But I will keep it for the sake of this practice project.\n",
                "\n",
                "#### 4.2. Data cleaning\n",
                "Checking for duplicates in our dataset:\n"
            ]
        },
        {
            "cell_type": "code",
            "execution_count": 7,
            "metadata": {
                "vscode": {
                    "languageId": "r"
                }
            },
            "outputs": [
                {
                    "data": {
                        "text/html": [
                            "0"
                        ],
                        "text/latex": [
                            "0"
                        ],
                        "text/markdown": [
                            "0"
                        ],
                        "text/plain": [
                            "[1] 0"
                        ]
                    },
                    "metadata": {},
                    "output_type": "display_data"
                },
                {
                    "data": {
                        "text/html": [
                            "0"
                        ],
                        "text/latex": [
                            "0"
                        ],
                        "text/markdown": [
                            "0"
                        ],
                        "text/plain": [
                            "[1] 0"
                        ]
                    },
                    "metadata": {},
                    "output_type": "display_data"
                },
                {
                    "data": {
                        "text/html": [
                            "3"
                        ],
                        "text/latex": [
                            "3"
                        ],
                        "text/markdown": [
                            "3"
                        ],
                        "text/plain": [
                            "[1] 3"
                        ]
                    },
                    "metadata": {},
                    "output_type": "display_data"
                },
                {
                    "data": {
                        "text/html": [
                            "0"
                        ],
                        "text/latex": [
                            "0"
                        ],
                        "text/markdown": [
                            "0"
                        ],
                        "text/plain": [
                            "[1] 0"
                        ]
                    },
                    "metadata": {},
                    "output_type": "display_data"
                }
            ],
            "source": [
                "sum(duplicated(activity))\n",
                "sum(duplicated(hourly_steps))\n",
                "sum(duplicated(sleep))\n",
                "sum(duplicated(weight))"
            ]
        },
        {
            "cell_type": "markdown",
            "metadata": {},
            "source": [
                "Seems like table _\"sleep\"_ has 3 duplicates, which must be removed before conducting the analysis.\n"
            ]
        },
        {
            "cell_type": "code",
            "execution_count": 8,
            "metadata": {
                "vscode": {
                    "languageId": "r"
                }
            },
            "outputs": [],
            "source": [
                "sleep <- unique(sleep)"
            ]
        },
        {
            "cell_type": "markdown",
            "metadata": {},
            "source": [
                "The tables _\"hourly_steps\"_, _\"sleep\"_, and _\"weigth\"_ have the date column which consists of date and time, which should be separated and renamed, for  _\"sleep\"_, and _\"weigth\"_ time column is dropped. For _'activity\"_ table date column was converted into the same type and renamed.\n"
            ]
        },
        {
            "cell_type": "code",
            "execution_count": 9,
            "metadata": {
                "vscode": {
                    "languageId": "r"
                }
            },
            "outputs": [],
            "source": [
                "activity <- activity %>% \n",
                "  rename(Date = ActivityDate) %>% \n",
                "  mutate(Date = as.Date(Date, format = \"%m/%d/%Y\")) #uppercase Y for 4-digit year \n",
                "\n",
                "sleep <- sleep %>% \n",
                "  rename(Date = SleepDay) %>% \n",
                "  mutate(Date = as.Date(Date, format = \"%m/%d/%Y\"))\n",
                "\n",
                "weight <- weight %>% \n",
                "  mutate(Date = as.Date(Date, format = \"%m/%d/%Y\"))\n",
                "\n",
                "hourly_steps$ActivityHour = as.POSIXct(hourly_steps$ActivityHour, format=\"%m/%d/%Y %I:%M:%S %p\", tz=Sys.timezone()) \n",
                "# \"%I\" stands for a 12-hour clock, \"%p\" - either `AM' or `PM' Uppercase \n",
                "hourly_steps$time <- format(hourly_steps$ActivityHour, format = \"%H:%M:%S\")\n",
                "hourly_steps$date <- format(hourly_steps$ActivityHour, format = \"%m/%d/%Y\")\n"
            ]
        },
        {
            "cell_type": "markdown",
            "metadata": {},
            "source": [
                "#### 4.3. Data merging\n",
                "I merged three tables into one by their Ids and dates, the _\"hourly_steps\"_ is not merged due to time column which is crucial in that case.\n"
            ]
        },
        {
            "cell_type": "code",
            "execution_count": 10,
            "metadata": {
                "vscode": {
                    "languageId": "r"
                }
            },
            "outputs": [],
            "source": [
                "final_df <- merge(merge(activity, sleep, by = c('Id', 'Date'), all = TRUE), \n",
                "                  weight, by = c('Id', 'Date'), all = TRUE)\n"
            ]
        },
        {
            "cell_type": "markdown",
            "metadata": {},
            "source": [
                "\n",
                "Then I removed the columns which I won't be using during my analysis. First I checked the column names, then chose the columns to wor with from my _\"final_df\"_.\n"
            ]
        },
        {
            "cell_type": "code",
            "execution_count": 11,
            "metadata": {
                "vscode": {
                    "languageId": "r"
                }
            },
            "outputs": [
                {
                    "data": {
                        "text/html": [
                            "<style>\n",
                            ".list-inline {list-style: none; margin:0; padding: 0}\n",
                            ".list-inline>li {display: inline-block}\n",
                            ".list-inline>li:not(:last-child)::after {content: \"\\00b7\"; padding: 0 .5ex}\n",
                            "</style>\n",
                            "<ol class=list-inline><li>'Id'</li><li>'Date'</li><li>'TotalSteps'</li><li>'TotalDistance'</li><li>'TrackerDistance'</li><li>'LoggedActivitiesDistance'</li><li>'VeryActiveDistance'</li><li>'ModeratelyActiveDistance'</li><li>'LightActiveDistance'</li><li>'SedentaryActiveDistance'</li><li>'VeryActiveMinutes'</li><li>'FairlyActiveMinutes'</li><li>'LightlyActiveMinutes'</li><li>'SedentaryMinutes'</li><li>'Calories'</li><li>'TotalSleepRecords'</li><li>'TotalMinutesAsleep'</li><li>'TotalTimeInBed'</li><li>'WeightKg'</li><li>'WeightPounds'</li><li>'Fat'</li><li>'BMI'</li><li>'IsManualReport'</li><li>'LogId'</li></ol>\n"
                        ],
                        "text/latex": [
                            "\\begin{enumerate*}\n",
                            "\\item 'Id'\n",
                            "\\item 'Date'\n",
                            "\\item 'TotalSteps'\n",
                            "\\item 'TotalDistance'\n",
                            "\\item 'TrackerDistance'\n",
                            "\\item 'LoggedActivitiesDistance'\n",
                            "\\item 'VeryActiveDistance'\n",
                            "\\item 'ModeratelyActiveDistance'\n",
                            "\\item 'LightActiveDistance'\n",
                            "\\item 'SedentaryActiveDistance'\n",
                            "\\item 'VeryActiveMinutes'\n",
                            "\\item 'FairlyActiveMinutes'\n",
                            "\\item 'LightlyActiveMinutes'\n",
                            "\\item 'SedentaryMinutes'\n",
                            "\\item 'Calories'\n",
                            "\\item 'TotalSleepRecords'\n",
                            "\\item 'TotalMinutesAsleep'\n",
                            "\\item 'TotalTimeInBed'\n",
                            "\\item 'WeightKg'\n",
                            "\\item 'WeightPounds'\n",
                            "\\item 'Fat'\n",
                            "\\item 'BMI'\n",
                            "\\item 'IsManualReport'\n",
                            "\\item 'LogId'\n",
                            "\\end{enumerate*}\n"
                        ],
                        "text/markdown": [
                            "1. 'Id'\n",
                            "2. 'Date'\n",
                            "3. 'TotalSteps'\n",
                            "4. 'TotalDistance'\n",
                            "5. 'TrackerDistance'\n",
                            "6. 'LoggedActivitiesDistance'\n",
                            "7. 'VeryActiveDistance'\n",
                            "8. 'ModeratelyActiveDistance'\n",
                            "9. 'LightActiveDistance'\n",
                            "10. 'SedentaryActiveDistance'\n",
                            "11. 'VeryActiveMinutes'\n",
                            "12. 'FairlyActiveMinutes'\n",
                            "13. 'LightlyActiveMinutes'\n",
                            "14. 'SedentaryMinutes'\n",
                            "15. 'Calories'\n",
                            "16. 'TotalSleepRecords'\n",
                            "17. 'TotalMinutesAsleep'\n",
                            "18. 'TotalTimeInBed'\n",
                            "19. 'WeightKg'\n",
                            "20. 'WeightPounds'\n",
                            "21. 'Fat'\n",
                            "22. 'BMI'\n",
                            "23. 'IsManualReport'\n",
                            "24. 'LogId'\n",
                            "\n",
                            "\n"
                        ],
                        "text/plain": [
                            " [1] \"Id\"                       \"Date\"                    \n",
                            " [3] \"TotalSteps\"               \"TotalDistance\"           \n",
                            " [5] \"TrackerDistance\"          \"LoggedActivitiesDistance\"\n",
                            " [7] \"VeryActiveDistance\"       \"ModeratelyActiveDistance\"\n",
                            " [9] \"LightActiveDistance\"      \"SedentaryActiveDistance\" \n",
                            "[11] \"VeryActiveMinutes\"        \"FairlyActiveMinutes\"     \n",
                            "[13] \"LightlyActiveMinutes\"     \"SedentaryMinutes\"        \n",
                            "[15] \"Calories\"                 \"TotalSleepRecords\"       \n",
                            "[17] \"TotalMinutesAsleep\"       \"TotalTimeInBed\"          \n",
                            "[19] \"WeightKg\"                 \"WeightPounds\"            \n",
                            "[21] \"Fat\"                      \"BMI\"                     \n",
                            "[23] \"IsManualReport\"           \"LogId\"                   "
                        ]
                    },
                    "metadata": {},
                    "output_type": "display_data"
                },
                {
                    "data": {
                        "text/html": [
                            "<style>\n",
                            ".list-inline {list-style: none; margin:0; padding: 0}\n",
                            ".list-inline>li {display: inline-block}\n",
                            ".list-inline>li:not(:last-child)::after {content: \"\\00b7\"; padding: 0 .5ex}\n",
                            "</style>\n",
                            "<ol class=list-inline><li>'Id'</li><li>'Date'</li><li>'TotalSteps'</li><li>'TotalDistance'</li><li>'VeryActiveDistance'</li><li>'ModeratelyActiveDistance'</li><li>'LightActiveDistance'</li><li>'VeryActiveMinutes'</li><li>'FairlyActiveMinutes'</li><li>'LightlyActiveMinutes'</li><li>'SedentaryMinutes'</li><li>'Calories'</li><li>'TotalMinutesAsleep'</li><li>'TotalTimeInBed'</li><li>'WeightKg'</li><li>'BMI'</li></ol>\n"
                        ],
                        "text/latex": [
                            "\\begin{enumerate*}\n",
                            "\\item 'Id'\n",
                            "\\item 'Date'\n",
                            "\\item 'TotalSteps'\n",
                            "\\item 'TotalDistance'\n",
                            "\\item 'VeryActiveDistance'\n",
                            "\\item 'ModeratelyActiveDistance'\n",
                            "\\item 'LightActiveDistance'\n",
                            "\\item 'VeryActiveMinutes'\n",
                            "\\item 'FairlyActiveMinutes'\n",
                            "\\item 'LightlyActiveMinutes'\n",
                            "\\item 'SedentaryMinutes'\n",
                            "\\item 'Calories'\n",
                            "\\item 'TotalMinutesAsleep'\n",
                            "\\item 'TotalTimeInBed'\n",
                            "\\item 'WeightKg'\n",
                            "\\item 'BMI'\n",
                            "\\end{enumerate*}\n"
                        ],
                        "text/markdown": [
                            "1. 'Id'\n",
                            "2. 'Date'\n",
                            "3. 'TotalSteps'\n",
                            "4. 'TotalDistance'\n",
                            "5. 'VeryActiveDistance'\n",
                            "6. 'ModeratelyActiveDistance'\n",
                            "7. 'LightActiveDistance'\n",
                            "8. 'VeryActiveMinutes'\n",
                            "9. 'FairlyActiveMinutes'\n",
                            "10. 'LightlyActiveMinutes'\n",
                            "11. 'SedentaryMinutes'\n",
                            "12. 'Calories'\n",
                            "13. 'TotalMinutesAsleep'\n",
                            "14. 'TotalTimeInBed'\n",
                            "15. 'WeightKg'\n",
                            "16. 'BMI'\n",
                            "\n",
                            "\n"
                        ],
                        "text/plain": [
                            " [1] \"Id\"                       \"Date\"                    \n",
                            " [3] \"TotalSteps\"               \"TotalDistance\"           \n",
                            " [5] \"VeryActiveDistance\"       \"ModeratelyActiveDistance\"\n",
                            " [7] \"LightActiveDistance\"      \"VeryActiveMinutes\"       \n",
                            " [9] \"FairlyActiveMinutes\"      \"LightlyActiveMinutes\"    \n",
                            "[11] \"SedentaryMinutes\"         \"Calories\"                \n",
                            "[13] \"TotalMinutesAsleep\"       \"TotalTimeInBed\"          \n",
                            "[15] \"WeightKg\"                 \"BMI\"                     "
                        ]
                    },
                    "metadata": {},
                    "output_type": "display_data"
                }
            ],
            "source": [
                "colnames(final_df)\n",
                "final_df <- final_df %>% \n",
                "  select(-c(TrackerDistance, LoggedActivitiesDistance, \n",
                "            SedentaryActiveDistance, TotalSleepRecords, WeightPounds, Fat, IsManualReport, LogId))\n",
                "colnames(final_df)\n"
            ]
        },
        {
            "cell_type": "markdown",
            "metadata": {},
            "source": [
                "### 5. Analyze\n",
                "First, I took a look at a summary of my _\"final_df\"_\n"
            ]
        },
        {
            "cell_type": "code",
            "execution_count": 12,
            "metadata": {
                "vscode": {
                    "languageId": "r"
                }
            },
            "outputs": [
                {
                    "data": {
                        "text/plain": [
                            "   TotalSteps       Calories    VeryActiveMinutes FairlyActiveMinutes\n",
                            " Min.   :   17   Min.   : 257   Min.   :  0.00    Min.   :  0.00     \n",
                            " 1st Qu.: 5189   1st Qu.:1841   1st Qu.:  0.00    1st Qu.:  0.00     \n",
                            " Median : 8913   Median :2207   Median :  9.00    Median : 11.00     \n",
                            " Mean   : 8515   Mean   :2389   Mean   : 25.05    Mean   : 17.92     \n",
                            " 3rd Qu.:11370   3rd Qu.:2920   3rd Qu.: 38.00    3rd Qu.: 26.75     \n",
                            " Max.   :22770   Max.   :4900   Max.   :210.00    Max.   :143.00     \n",
                            " LightlyActiveMinutes SedentaryMinutes TotalMinutesAsleep TotalTimeInBed \n",
                            " Min.   :  2.0        Min.   :   0.0   Min.   : 58.0      Min.   : 61.0  \n",
                            " 1st Qu.:158.0        1st Qu.: 631.2   1st Qu.:361.0      1st Qu.:403.8  \n",
                            " Median :208.0        Median : 717.0   Median :432.5      Median :463.0  \n",
                            " Mean   :216.5        Mean   : 712.1   Mean   :419.2      Mean   :458.5  \n",
                            " 3rd Qu.:263.0        3rd Qu.: 782.8   3rd Qu.:490.0      3rd Qu.:526.0  \n",
                            " Max.   :518.0        Max.   :1265.0   Max.   :796.0      Max.   :961.0  "
                        ]
                    },
                    "metadata": {},
                    "output_type": "display_data"
                }
            ],
            "source": [
                "final_df %>% \n",
                "  select(TotalSteps, Calories,\n",
                "         VeryActiveMinutes, FairlyActiveMinutes, LightlyActiveMinutes, SedentaryMinutes,\n",
                "         TotalMinutesAsleep, TotalTimeInBed)%>%\n",
                "  drop_na() %>%\n",
                "  summary()\n"
            ]
        },
        {
            "cell_type": "markdown",
            "metadata": {},
            "source": [
                "Key findings:\n",
                "\n",
                "* On average, each user takes 8515 steps per day, which can be encouraged by the app to continue with this step rate or not lower 7500 steps. \n",
                "There's evidence that an average of approximately 7500 steps per day were associated with steady declines in mortality, beyond which rates leveled. [JAMA Intern Med.](https://jamanetwork.com/journals/jamainternalmedicine/fullarticle/2734709)\n",
                "\n",
                "* On average, each user spends 712.1 minutes (~12 hours) per day being inactive. \n",
                "There's no evidence of how much sedentary minutes is okay for an adult, but sedentary behavior is strongly correlated with all-cause and CVD mortalities in adults. [National Library of Medicine.](https://www.ncbi.nlm.nih.gov/pmc/articles/PMC7700832/)\n",
                "\n",
                "* On average, each user sleeps 419.2 minutes (~7 hours)  per day, which considered normal for the age 18-60 years by [CDC](https://www.cdc.gov/sleep/about_sleep/how_much_sleep.html).\n",
                "\n",
                "* On average, users are lightly-active.\n",
                "\n",
                "\n",
                "#### 5.1. Activity in a week\n",
                "First I added \"weekday\" column to the _\"final_df\"_.\n"
            ]
        },
        {
            "cell_type": "code",
            "execution_count": 13,
            "metadata": {
                "vscode": {
                    "languageId": "r"
                }
            },
            "outputs": [],
            "source": [
                "final_df$weekday <- weekdays(final_df$Date, abbreviate = TRUE)\n",
                "final_df$weekday <- factor(final_df$weekday, labels = c(\"Mon\", \"Tue\", \"Wed\", \"Thu\", \"Fri\", \"Sat\", \"Sun\")) \n"
            ]
        },
        {
            "cell_type": "markdown",
            "metadata": {},
            "source": [
                "Then created a box plot.\n"
            ]
        },
        {
            "cell_type": "code",
            "execution_count": 15,
            "metadata": {
                "vscode": {
                    "languageId": "r"
                }
            },
            "outputs": [
                {
                    "data": {
                        "image/png": "[encoded data removed]",
                        "text/plain": [
                            "plot without title"
                        ]
                    },
                    "metadata": {
                        "image/png": {
                            "height": 420,
                            "width": 420
                        }
                    },
                    "output_type": "display_data"
                }
            ],
            "source": [
                "final_df %>% \n",
                "  ggplot(aes(x = weekday, y = TotalSteps, fill = weekday)) +\n",
                "  geom_boxplot() +\n",
                "  theme(legend.position=\"none\") +\n",
                "  labs(\n",
                "    title = \"Activity throught the week\",\n",
                "    x = \"Day of the week\",\n",
                "    y = \"Steps\",\n",
                "    caption = 'Data Source: FitBit Fitness Tracker Data'\n",
                "  ) +\n",
                "  ggeasy::easy_center_title()"
            ]
        },
        {
            "cell_type": "markdown",
            "metadata": {},
            "source": [
                " \n",
                "In this box plot, we can see that the difference between days of the week is minimal as well as that activity was slightly lower on Mondays and Thursdays. \n",
                "\n",
                "The BellaBeat app may recommend planning activities and walks on these days more often.\n",
                "\n",
                "#### 5.2. Steps throughout the day\n",
                " To see if the users are more active on a certain hours of the day I made the next plot.\n"
            ]
        },
        {
            "cell_type": "code",
            "execution_count": null,
            "metadata": {
                "vscode": {
                    "languageId": "r"
                }
            },
            "outputs": [],
            "source": [
                "hourly_steps %>%\n",
                "  group_by(time) %>%\n",
                "  drop_na(StepTotal) %>% \n",
                "  summarise(mean_steps = mean(StepTotal)) %>% \n",
                "  hchart(\"bar\", hcaes(x = time, y = mean_steps, color = mean_steps)) %>% \n",
                "         #dataLabels = list(enables = TRUE)) %>% \n",
                "  hc_tooltip(pointFormat = \"{point.y: .0f}\") %>% \n",
                "  hc_title(text = \"Steps throughout the day\",\n",
                "         align = \"center\") %>%\n",
                "  hc_subtitle(text = \"Users' average number of steps by hour\",\n",
                "              align = \"center\") %>% \n",
                "  hc_credits(\n",
                "    enabled = TRUE,\n",
                "    text = \"<em>DS: FitBit Fitness Tracker Data</em></span>\",\n",
                "    style = list(fontSize = \"10px\")) %>% \n",
                "  hc_yAxis(title = list(text = \"Average Number of Steps\")) %>%\n",
                "  hc_xAxis(title = list(text = \"Time of the day\")) %>% \n",
                "  hc_add_theme(hc_theme_flat()) \n"
            ]
        },
        {
            "attachments": {},
            "cell_type": "markdown",
            "metadata": {},
            "source": [
                "*The interactive vizualisation doesn't show in a jupiter notebook. Please view html file or rmd*"
            ]
        },
        {
            "cell_type": "markdown",
            "metadata": {},
            "source": [
                "This visualization shows that users are more active from 12:00 to 14:00 and 17:00 to 19:00, which might be due to a lunch break and a walk home from work. The BellaBeat app should remind and motivate users to make breaks for a walk in the morning and after lunch if possible.\n",
                "\n",
                "#### 5.3. Falling asleep\n",
                "\n",
                "First I added a column which represents time in bed trying to fall asleep, which might show sleeping problems.Then, I made two plots, which depict how being inactive or active throughout the day may influence falling asleep later.\n"
            ]
        },
        {
            "cell_type": "code",
            "execution_count": 17,
            "metadata": {
                "vscode": {
                    "languageId": "r"
                }
            },
            "outputs": [
                {
                    "name": "stderr",
                    "output_type": "stream",
                    "text": [
                        "\u001b[1m\u001b[22m`geom_smooth()` using method = 'loess' and formula = 'y ~ x'\n"
                    ]
                },
                {
                    "data": {
                        "image/png": "[encoded data removed]",
                        "text/plain": [
                            "plot without title"
                        ]
                    },
                    "metadata": {
                        "image/png": {
                            "height": 420,
                            "width": 420
                        }
                    },
                    "output_type": "display_data"
                }
            ],
            "source": [
                "final_df %>%\n",
                "  mutate(lying_in_bed = TotalTimeInBed - TotalMinutesAsleep) %>% \n",
                "  drop_na(SedentaryMinutes, lying_in_bed) %>% \n",
                "  ggplot(mapping = aes(x = lying_in_bed, y = SedentaryMinutes)) +\n",
                "  geom_point() +\n",
                "  geom_smooth() + \n",
                "  labs(\n",
                "    title = \"How Can Inactivity Affect Falling Sleep??\", \n",
                "    x = \"Time lying in bed, min\",\n",
                "    y = \"Time being inactive\"\n",
                "    ) +\n",
                "  ggeasy::easy_center_title()\n"
            ]
        },
        {
            "cell_type": "markdown",
            "metadata": {},
            "source": [
                "\n",
                "Then I've decided to check correlation coefficient as looking at the plot it wasn't clear enough.\n"
            ]
        },
        {
            "cell_type": "code",
            "execution_count": 20,
            "metadata": {
                "vscode": {
                    "languageId": "r"
                }
            },
            "outputs": [
                {
                    "data": {
                        "text/html": [
                            "-0.165894070870563"
                        ],
                        "text/latex": [
                            "-0.165894070870563"
                        ],
                        "text/markdown": [
                            "-0.165894070870563"
                        ],
                        "text/plain": [
                            "[1] -0.1658941"
                        ]
                    },
                    "metadata": {},
                    "output_type": "display_data"
                }
            ],
            "source": [
                "final_df$lying_in_bed <- final_df$TotalTimeInBed - final_df$TotalMinutesAsleep\n",
                "cor(final_df$lying_in_bed, final_df$SedentaryMinutes, use = \"complete.obs\")\n"
            ]
        },
        {
            "cell_type": "markdown",
            "metadata": {},
            "source": [
                "Correlation coefficient confirmed a weak negative correlation, but it might be due to a small dataset of sleeping patterns, which I confirmed earlier.\n",
                "\n"
            ]
        },
        {
            "cell_type": "code",
            "execution_count": 18,
            "metadata": {
                "vscode": {
                    "languageId": "r"
                }
            },
            "outputs": [
                {
                    "name": "stderr",
                    "output_type": "stream",
                    "text": [
                        "\u001b[1m\u001b[22m`geom_smooth()` using method = 'loess' and formula = 'y ~ x'\n"
                    ]
                },
                {
                    "data": {
                        "image/png": "[encoded data removed]",
                        "text/plain": [
                            "plot without title"
                        ]
                    },
                    "metadata": {
                        "image/png": {
                            "height": 420,
                            "width": 420
                        }
                    },
                    "output_type": "display_data"
                }
            ],
            "source": [
                "final_df %>%\n",
                "  mutate(lying_in_bed = TotalTimeInBed - TotalMinutesAsleep) %>% \n",
                "  drop_na(TotalSteps, lying_in_bed) %>% \n",
                "  ggplot(mapping = aes(x = lying_in_bed, y = TotalSteps)) +\n",
                "  geom_point() +\n",
                "  geom_smooth() +\n",
                "  labs(\n",
                "    title = \"How Can Activity Affect Falling Sleep?\", \n",
                "    x = \"Time lying in bed, min\",\n",
                "    y = \"Time being active\"\n",
                "  ) +\n",
                "  ggeasy::easy_center_title()\n"
            ]
        },
        {
            "cell_type": "code",
            "execution_count": 21,
            "metadata": {
                "vscode": {
                    "languageId": "r"
                }
            },
            "outputs": [
                {
                    "data": {
                        "text/html": [
                            "0.0298540169404362"
                        ],
                        "text/latex": [
                            "0.0298540169404362"
                        ],
                        "text/markdown": [
                            "0.0298540169404362"
                        ],
                        "text/plain": [
                            "[1] 0.02985402"
                        ]
                    },
                    "metadata": {},
                    "output_type": "display_data"
                }
            ],
            "source": [
                "cor(final_df$lying_in_bed, final_df$TotalSteps, use = \"complete.obs\")"
            ]
        },
        {
            "cell_type": "markdown",
            "metadata": {},
            "source": [
                "Both plots show that being active or inactive throughout the day can't help falling asleep faster. This problem may be due to insomnia, stress and should be investigated further if needed.\n",
                "\n",
                "#### 5.4. Physical Activity Distribution of Users\n",
                "\n",
                "To detect what types of physical activities users have I made the next pie-chart which represents activity distribution.\n"
            ]
        },
        {
            "cell_type": "code",
            "execution_count": null,
            "metadata": {
                "vscode": {
                    "languageId": "r"
                }
            },
            "outputs": [],
            "source": [
                "final_df %>% \n",
                "  select(VeryActiveMinutes, \n",
                "         FairlyActiveMinutes, \n",
                "         LightlyActiveMinutes, \n",
                "         SedentaryMinutes) %>% \n",
                "  summarise(across(everything(), list(sum))) %>% \n",
                "  gather(active_level, minutes) %>% \n",
                "  mutate(active_level = factor(active_level, \n",
                "                               labels = c('Fairly Active','Lightly Active',\n",
                "                                          'Sedentary','Heavly Active'))) %>% \n",
                "  hchart(\"pie\", hcaes(x = active_level, y = minutes),\n",
                "         dataLabels = list(enabled = TRUE, \n",
                "                           format = \"{point.name}: {point.percentage:,.1f} %\",\n",
                "                           style = list(\n",
                "                             fontSize = \"14px\"))) %>% \n",
                "  hc_title(text = \"Activity distribution\",\n",
                "           align = \"center\") %>%\n",
                "  hc_subtitle(text = \"Users' activity based on active minutes\",\n",
                "              align = \"center\") %>% \n",
                "  hc_credits(\n",
                "      enabled = TRUE,\n",
                "      text = \"<em>DS: FitBit Fitness Tracker Data</em></span>\",\n",
                "      style = list(fontSize = \"10px\")) %>% \n",
                "  hc_add_theme(hc_theme_538()) \n"
            ]
        },
        {
            "attachments": {},
            "cell_type": "markdown",
            "metadata": {},
            "source": [
                "*The interactive vizualisation doesn't show in a jupiter notebook. Please view html file or rmd*"
            ]
        },
        {
            "cell_type": "markdown",
            "metadata": {},
            "source": [
                "The pie-chart illustrates that the most common level of activity during being active is light, as I have discovered before by summary.\n",
                "And the majority of users (81.3%) lead sedentary lifestyle, which means that the stakeholders have to focus on these type of users and how to help that become at least \"lightly active\".\n",
                "\n",
                "\n",
                "#### 5.5. Frequency Of User Activity\n",
                "\n",
                "Then I decided to define users type by how many days they had used the tracker throughout the month. I specified 3 user types which I described below.\n"
            ]
        },
        {
            "cell_type": "code",
            "execution_count": 23,
            "metadata": {
                "vscode": {
                    "languageId": "r"
                }
            },
            "outputs": [],
            "source": [
                "usage_df <- final_df %>%\n",
                "  group_by(Id) %>%\n",
                "  summarise(use_days = sum(n())) %>%\n",
                "  mutate(use_type = case_when(\n",
                "    use_days >= 1 & use_days <= 10 ~ \"Low (> 10 days)\",\n",
                "    use_days >= 11 & use_days <=20 ~ \"Medium (11-20 days)\",\n",
                "    use_days >= 21 & use_days <= 31 ~ \"High (< 21 days)\"))  #defined user_type\n"
            ]
        },
        {
            "cell_type": "code",
            "execution_count": null,
            "metadata": {
                "vscode": {
                    "languageId": "r"
                }
            },
            "outputs": [],
            "source": [
                "usage_df%>%  \n",
                "  select(use_type, use_days) %>% \n",
                "  group_by(use_type) %>% \n",
                "  summarise(use_count = n()) %>%\n",
                "  hchart(\"pie\", hcaes(x = use_type, y = use_count), \n",
                "         dataLabels = list(enabled = TRUE,\n",
                "                           format = \"{point.use_type} : {point.percentage:,.1f}%\",\n",
                "                           style = list(\n",
                "                             fontSize = \"14px\"))) %>%\n",
                "  hc_tooltip(pointFormat = \"<b>Percentage</b> {point.percentage:,.2f}%\") %>% \n",
                "  hc_title(text = \"Frequency Of User Activity\",\n",
                "           align = \"center\") %>%\n",
                "  hc_subtitle(text = \"The total number of days that users were active in a month \",\n",
                "              align = \"center\") %>% \n",
                "  hc_credits(\n",
                "    enabled = TRUE,\n",
                "    text = \"<em>DS: FitBit Fitness Tracker Data</em></span>\",\n",
                "    style = list(fontSize = \"10px\"))\n"
            ]
        },
        {
            "attachments": {},
            "cell_type": "markdown",
            "metadata": {},
            "source": [
                "*The interactive vizualisation doesn't show in a jupiter notebook. Please view html file or rmd*"
            ]
        },
        {
            "cell_type": "markdown",
            "metadata": {},
            "source": [
                "This pie-cart shows that the majority of users had been using the tracker for above 21 days, which represents good engagement of using tracker, but I decided to investigate further as \"using a tracker\" can be just for an hour and not representative.\n",
                "\n",
                "##### 5.6. Daily Usage of a Tracker\n"
            ]
        },
        {
            "cell_type": "code",
            "execution_count": 25,
            "metadata": {
                "vscode": {
                    "languageId": "r"
                }
            },
            "outputs": [
                {
                    "data": {
                        "text/html": [
                            "<table class=\"dataframe\">\n",
                            "<caption>A tibble: 6 × 2</caption>\n",
                            "<thead>\n",
                            "\t<tr><th scope=col>date</th><th scope=col>average_hr</th></tr>\n",
                            "\t<tr><th scope=col>&lt;date&gt;</th><th scope=col>&lt;dbl&gt;</th></tr>\n",
                            "</thead>\n",
                            "<tbody>\n",
                            "\t<tr><td>2016-04-12</td><td>24.00</td></tr>\n",
                            "\t<tr><td>2016-04-13</td><td>24.00</td></tr>\n",
                            "\t<tr><td>2016-04-14</td><td>24.00</td></tr>\n",
                            "\t<tr><td>2016-04-15</td><td>23.76</td></tr>\n",
                            "\t<tr><td>2016-04-16</td><td>23.27</td></tr>\n",
                            "\t<tr><td>2016-04-17</td><td>23.27</td></tr>\n",
                            "</tbody>\n",
                            "</table>\n"
                        ],
                        "text/latex": [
                            "A tibble: 6 × 2\n",
                            "\\begin{tabular}{ll}\n",
                            " date & average\\_hr\\\\\n",
                            " <date> & <dbl>\\\\\n",
                            "\\hline\n",
                            "\t 2016-04-12 & 24.00\\\\\n",
                            "\t 2016-04-13 & 24.00\\\\\n",
                            "\t 2016-04-14 & 24.00\\\\\n",
                            "\t 2016-04-15 & 23.76\\\\\n",
                            "\t 2016-04-16 & 23.27\\\\\n",
                            "\t 2016-04-17 & 23.27\\\\\n",
                            "\\end{tabular}\n"
                        ],
                        "text/markdown": [
                            "\n",
                            "A tibble: 6 × 2\n",
                            "\n",
                            "| date &lt;date&gt; | average_hr &lt;dbl&gt; |\n",
                            "|---|---|\n",
                            "| 2016-04-12 | 24.00 |\n",
                            "| 2016-04-13 | 24.00 |\n",
                            "| 2016-04-14 | 24.00 |\n",
                            "| 2016-04-15 | 23.76 |\n",
                            "| 2016-04-16 | 23.27 |\n",
                            "| 2016-04-17 | 23.27 |\n",
                            "\n"
                        ],
                        "text/plain": [
                            "  date       average_hr\n",
                            "1 2016-04-12 24.00     \n",
                            "2 2016-04-13 24.00     \n",
                            "3 2016-04-14 24.00     \n",
                            "4 2016-04-15 23.76     \n",
                            "5 2016-04-16 23.27     \n",
                            "6 2016-04-17 23.27     "
                        ]
                    },
                    "metadata": {},
                    "output_type": "display_data"
                }
            ],
            "source": [
                "h_step_trend <- hourly_steps %>%\n",
                "  group_by(date) %>%\n",
                "  summarise(average_hr = round((n()/33),2)) %>% \n",
                "  mutate(date = mdy(date))\n",
                "head(h_step_trend)\n"
            ]
        },
        {
            "cell_type": "code",
            "execution_count": null,
            "metadata": {
                "vscode": {
                    "languageId": "r"
                }
            },
            "outputs": [],
            "source": [
                "h_step_trend %>%  \n",
                "  group_by(date) %>% \n",
                "  hchart(\"line\", hcaes(x = date, y = average_hr)) %>% \n",
                "  hc_tooltip(pointFormat = \"<b>Average usage in a day</b> {point.y}\") %>% \n",
                "  hc_title(text = \"Daily Usage of a Tracker\",\n",
                "           align = \"center\") %>%\n",
                "  hc_subtitle(text = \"How users wore a 'fitbit tracker' throughout a month per day\",\n",
                "              align = \"center\") %>% \n",
                "  hc_yAxis(title = list(text = 'Worn hours per day'),\n",
                "           showFirstLabel = TRUE,\n",
                "           max = 24,\n",
                "           min = 0,\n",
                "           tickInterval = 4) %>% \n",
                "  hc_xAxis(title = list(text = \"\")) %>% \n",
                "  hc_credits(\n",
                "    enabled = TRUE,\n",
                "    text = \"<em>DS: FitBit Fitness Tracker Data</em></span>\",\n",
                "    style = list(fontSize = \"10px\")) %>% \n",
                "  hc_add_theme(hc_theme_flat())\n"
            ]
        },
        {
            "attachments": {},
            "cell_type": "markdown",
            "metadata": {},
            "source": [
                "*The interactive vizualisation doesn't show in a jupiter notebook. Please view html file or rmd*"
            ]
        },
        {
            "cell_type": "markdown",
            "metadata": {},
            "source": [
                "This descending line indicates that users wore the tracker full day at first, maintained a average wearing time of 23 hours a day, and then gradually decrease after 2 weeks (April 28th) and then significantly dropped by May 12th to 8 hours a day.\n",
                "\n",
                "\n",
                "\n",
                "### 6. Share and Act\n",
                " \n",
                "1. On average, each user takes 8515 steps per day, which can be encouraged by the app to continue with this step rate or not lower 7500 steps per day **with notification if the total steps in a day are lower then 7500 by 19:00**.\n",
                "There's evidence that an average of approximately 7500 steps per day were associated with steady declines in mortality, beyond which rates leveled. [JAMA Intern Med.](https://jamanetwork.com/journals/jamainternalmedicine/fullarticle/2734709)\n",
                "\n",
                "2. On average, each user spends 712.1 minutes (~12 hours) per day being inactive and it is the majority of users (81.3%), which means that **the stakeholders have to focus on these type of users and how to help that become at least \"lightly active\" with fitness plans, podcast for a walk, award system.**\n",
                "There's no evidence of how much sedentary minutes is okay for an adult, but sedentary behavior is strongly correlated with all-cause and CVD mortalities in adults. [National Library of Medicine.](https://www.ncbi.nlm.nih.gov/pmc/articles/PMC7700832/)\n",
                "\n",
                " \n",
                "3. Users are lightly-active if being active, more active from 12:00 to 14:00 and 17:00 to 19:00 (which might be due to a lunch break and a walk home from work), and activity was slightly lower on Mondays and Thursdays. \n",
                "**The BellaBeat App may recommend planning activities  and walks ahead on these days more often and might remind and motivate users to make breaks for a walk in the morning and after lunch if possible. The App might send alerts to encourage activity if user remain seated or inactive longer than a certain period of time (awarding system).**\n",
                "\n",
                "4. On average, each user sleeps 419.2 minutes (~7 hours)  per day, which considered normal for the age 18-60 years by [CDC](https://www.cdc.gov/sleep/about_sleep/how_much_sleep.html). Also being physically active or inactive throughout the day can't help with falling asleep faster. This problem may be due to insomnia, stress and should be investigated further if needed.\n",
                "\n",
                "\n",
                "5. Mostly users had been using the tracker for above 21 days, but users wore the tracker full day at first, maintained a average wearing time of 23 hours a day, and then gradually decrease after 2 weeks (April 28th) and then significantly dropped by May 12th to 8 hours a day. \n",
                "**The stakeholders should take into consideration users' engagement activities of continuous usage (in-app chats, mini-games, discounts, coupons, monthly-plans, award system, etc.) as well as sending notifications at a certain time for users to remain consistent throughout the day and the week. This may help creating a sense of reward and thus increase retention rate.**\n"
            ]
        }
    ],
    "metadata": {
        "anaconda-cloud": "",
        "kernelspec": {
            "display_name": "R",
            "langauge": "R",
            "language": "R",
            "name": "ir"
        },
        "language_info": {
            "codemirror_mode": "r",
            "file_extension": ".r",
            "mimetype": "text/x-r-source",
            "name": "R",
            "pygments_lexer": "r",
            "version": "4.2.2"
        }
    },
    "nbformat": 4,
    "nbformat_minor": 1
}
