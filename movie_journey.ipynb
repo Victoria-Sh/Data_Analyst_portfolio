{
    "cells": [
        {
            "attachments": {},
            "cell_type": "markdown",
            "metadata": {},
            "source": [
                "## <span style=\"color:#5e548e;\"><strong>My Movie Journey</strong></span>\n",
                "##### <span style=\"color:#9f86c0;\">_A personal tour through years of cinema_</span>\n",
                "### <span style=\"color:#be95c4;\">Victoria Shpetnaya</span>\n",
                "________________________________________________________________________________________________________________"
            ]
        },
        {
            "attachments": {},
            "cell_type": "markdown",
            "metadata": {
                "azdata_cell_guid": "6797f199-918c-424d-a46d-bb2a1508fb85"
            },
            "source": [
                "### 1. About the project\n",
                "\n",
                "This project is based on my personal experience of the last 10 years of movie watching.\n",
                "\n",
                "### 2. Ask\n",
                "\n",
                "#### 2.1. Questions for the analysis\n",
                "\n",
                "1.  What are some trends in my movie choice in a week?\n",
                "2.  How is my movie choosing correspond with the Academy Awards (the Oscar)?\n",
                "3.  Who are my favorites?\n",
                "\n",
                "#### 2.2. Business task\n",
                "\n",
                "Identify my movie choosing pattern to:\n",
                "* to ease potential movie search.\n",
                "* to diversify my experience.\n",
                "\n",
                "### 3. Prepare\n",
                "To start, let’s set up the environment by opening the necessary libraries for the analysis in R.\n"
            ]
        },
        {
            "cell_type": "code",
            "execution_count": 1,
            "metadata": {
                "azdata_cell_guid": "e679e16d-4809-439f-9723-bba52aa27ed1",
                "language": "sql",
                "vscode": {
                    "languageId": "r"
                }
            },
            "outputs": [
                {
                    "name": "stderr",
                    "output_type": "stream",
                    "text": [
                        "Warning message:\n",
                        "\"пакет 'tibble' был собран под R версии 4.2.3\"\n",
                        "Warning message:\n",
                        "\"пакет 'dplyr' был собран под R версии 4.2.3\"\n",
                        "Warning message:\n",
                        "\"пакет 'stringr' был собран под R версии 4.2.3\"\n",
                        "── \u001b[1mAttaching core tidyverse packages\u001b[22m ──────────────────────── tidyverse 2.0.0 ──\n",
                        "\u001b[32m✔\u001b[39m \u001b[34mdplyr    \u001b[39m 1.1.1     \u001b[32m✔\u001b[39m \u001b[34mreadr    \u001b[39m 2.1.4\n",
                        "\u001b[32m✔\u001b[39m \u001b[34mforcats  \u001b[39m 1.0.0     \u001b[32m✔\u001b[39m \u001b[34mstringr  \u001b[39m 1.5.0\n",
                        "\u001b[32m✔\u001b[39m \u001b[34mggplot2  \u001b[39m 3.4.1     \u001b[32m✔\u001b[39m \u001b[34mtibble   \u001b[39m 3.2.1\n",
                        "\u001b[32m✔\u001b[39m \u001b[34mlubridate\u001b[39m 1.9.2     \u001b[32m✔\u001b[39m \u001b[34mtidyr    \u001b[39m 1.3.0\n",
                        "\u001b[32m✔\u001b[39m \u001b[34mpurrr    \u001b[39m 1.0.1     \n",
                        "── \u001b[1mConflicts\u001b[22m ────────────────────────────────────────── tidyverse_conflicts() ──\n",
                        "\u001b[31m✖\u001b[39m \u001b[34mdplyr\u001b[39m::\u001b[32mfilter()\u001b[39m masks \u001b[34mstats\u001b[39m::filter()\n",
                        "\u001b[31m✖\u001b[39m \u001b[34mdplyr\u001b[39m::\u001b[32mlag()\u001b[39m    masks \u001b[34mstats\u001b[39m::lag()\n",
                        "\u001b[36mℹ\u001b[39m Use the conflicted package (\u001b[3m\u001b[34m<http://conflicted.r-lib.org/>\u001b[39m\u001b[23m) to force all conflicts to become errors\n",
                        "Warning message:\n",
                        "\"пакет 'knitr' был собран под R версии 4.2.3\"\n"
                    ]
                }
            ],
            "source": [
                "library(\"tidyverse\")\n",
                "library(\"readr\")\n",
                "library(\"knitr\")"
            ]
        },
        {
            "cell_type": "markdown",
            "metadata": {
                "azdata_cell_guid": "504eb2ed-9db1-45ea-86f0-10496b8e6bef"
            },
            "source": [
                "I downloaded my personal data set from \"Kinopoisk\", which I kept for 10 years since 2010. I used a program which I found on [git](https://github.com/Rocky-04/Movie_Rating_Migrator_Kinopoisk_to_IMDB). It extracted my movies with next columns:\n",
                "\n"
            ]
        },
        {
            "cell_type": "code",
            "execution_count": 2,
            "metadata": {
                "azdata_cell_guid": "6b8242a0-8c42-4513-b7cf-01e737585e11",
                "language": "sql",
                "vscode": {
                    "languageId": "r"
                }
            },
            "outputs": [
                {
                    "data": {
                        "text/plain": [
                            "\n",
                            "\n",
                            "| id |        russian_movie_names         |    english_movie_names     | release_year | user_ratings | user_rating_count | kinopoisk_ratings | kinopoisk_ids |\n",
                            "|:--:|:----------------------------------:|:--------------------------:|:------------:|:------------:|:-----------------:|:-----------------:|:-------------:|\n",
                            "| 1  | Джентльмены предпочитают блондинок |  Gentlemen Prefer Blondes  |     1953     |      7       |       24366       |        7,7        |     11662     |\n",
                            "| 2  |   Как выйти замуж за миллионера    | How to Marry a Millionaire |     1953     |      8       |       11226       |        7,7        |     11661     |"
                        ]
                    },
                    "metadata": {},
                    "output_type": "display_data"
                }
            ],
            "source": [
                "my_tbl <- tibble::tribble(\n",
                "              ~id, ~russian_movie_names,                  ~english_movie_names,                    ~release_year,                ~user_ratings, ~user_rating_count, ~kinopoisk_ratings,~kinopoisk_ids,                  \"1\", \"Джентльмены предпочитают блондинок\",       \"Gentlemen Prefer Blondes\",                       \"1953\",                \"7\",            \"24366\",\n",
                "            \"7,7\",              \"11662\",                                   \"2\", \"Как выйти замуж за миллионера\", \"How to Marry a Millionaire\",             \"1953\",                \"8\",\n",
                "          \"11226\",                \"7,7\",                               \"11661\"                             \n",
                "  )\n",
                "\n",
                "require(knitr)\n",
                "kable(my_tbl, digits = 3, row.names = FALSE, align = \"c\",\n",
                "              caption = NULL)\n"
            ]
        },
        {
            "cell_type": "markdown",
            "metadata": {
                "azdata_cell_guid": "2349b295-c881-40e7-ab21-fa283a3ca4fb"
            },
            "source": [
                "For broader analysis I needed also the date, when I have seen each movie. That option was not available at this program, so I added it manually.\n",
                "\n"
            ]
        },
        {
            "cell_type": "code",
            "execution_count": 3,
            "metadata": {
                "azdata_cell_guid": "c4958f10-a37d-483c-83ae-227c86e62373",
                "language": "sql",
                "vscode": {
                    "languageId": "r"
                }
            },
            "outputs": [
                {
                    "data": {
                        "text/plain": [
                            "\n",
                            "\n",
                            "| id |        russian_movie_names         |    english_movie_names     | release_year | user_ratings | user_rating_count | kinopoisk_ratings | kinopoisk_ids |  date_of_rating   |\n",
                            "|:--:|:----------------------------------:|:--------------------------:|:------------:|:------------:|:-----------------:|:-----------------:|:-------------:|:-----------------:|\n",
                            "| 1  | Джентльмены предпочитают блондинок |  Gentlemen Prefer Blondes  |     1953     |      7       |       24366       |        7,7        |     11662     | 20.03.2023, 22:35 |\n",
                            "| 2  |   Как выйти замуж за миллионера    | How to Marry a Millionaire |     1953     |      8       |       11226       |        7,7        |     11661     | 19.03.2023, 23:08 |"
                        ]
                    },
                    "metadata": {},
                    "output_type": "display_data"
                }
            ],
            "source": [
                "my_tbl <- tibble::tribble(\n",
                "               ~id, ~russian_movie_names,                  ~english_movie_names,                    ~release_year,                ~user_ratings, ~user_rating_count, ~kinopoisk_ratings,        ~kinopoisk_ids,\n",
                "  ~date_of_rating,                  \"1\", \"Джентльмены предпочитают блондинок\",       \"Gentlemen Prefer Blondes\",                       \"1953\",                \"7\",            \"24366\",                 \"7,7\",\n",
                "           \"11662\",  \"20.03.2023, 22:35\",                                   \"2\", \"Как выйти замуж за миллионера\", \"How to Marry a Millionaire\",             \"1953\",                \"8\",               \"11226\",\n",
                "             \"7,7\",              \"11661\",                   \"19.03.2023, 23:08\",\n",
                "  )\n",
                "\n",
                "require(knitr)\n",
                "kable(my_tbl, digits = 3, row.names = FALSE, align = \"c\",\n",
                "              caption = NULL)\n"
            ]
        },
        {
            "attachments": {},
            "cell_type": "markdown",
            "metadata": {
                "azdata_cell_guid": "5f5daa32-bfab-4d13-9e64-577abae75807"
            },
            "source": [
                "For more information on movies that I have watched I downloaded data sets from [IMDB](https://www.imdb.com/interfaces/), which are refreshed daily.\n",
                "\n",
                "Each dataset is a tab-separated-values (TSV) formatted file in the UTF-8 character set. The first line in each file contains headers that describe what is in each column. A '\\N' is used to denote that a particular field is missing or null for that title/name.\n",
                "\n",
                "For information about the Oscars I used the [Kaggle dataset](https://www.kaggle.com/datasets/unanimad/the-oscar-award) which is an open-source.\n",
                "\n",
                "#### 3.1. Accessibility and privacy of data:\n",
                "\n",
                "[IMDB](https://www.imdb.com/interfaces/) dataset is an open-source.\n",
                "\n",
                "#### 3.2. Data Limitations:\n",
                "\n",
                "-   No \"rewatched\" column which is not a option on \"Kinopoisk\".\n",
                "\n",
                "### 4. Process\n",
                "\n",
                "#### 4.1. Exploring data structure\n",
                "\n",
                "Importing datasets:\n"
            ]
        },
        {
            "cell_type": "code",
            "execution_count": null,
            "metadata": {
                "azdata_cell_guid": "ce5b1667-7e8f-4368-aa8c-5f1e11e6e968",
                "language": "sql",
                "vscode": {
                    "languageId": "r"
                }
            },
            "outputs": [],
            "source": [
                "name_df <- read_tsv(\"name.tsv\", show_col_types = FALSE)\n",
                "crew_df <- read_tsv(\"crew.tsv\", show_col_types = FALSE)\n",
                "ratings_df <- read_tsv(\"ratings.tsv\", show_col_types = FALSE)\n",
                "basics_df <- read_tsv(\"basics.tsv\", show_col_types = FALSE)\n",
                "principals_df <- read_tsv(\"principals.tsv\", show_col_types = FALSE)\n",
                "akas <- read_tsv(\"akas.tsv\", show_col_types = FALSE) #didn't use"
            ]
        },
        {
            "cell_type": "code",
            "execution_count": 5,
            "metadata": {
                "azdata_cell_guid": "2c4d43a9-f270-428b-a2d8-8e9ae8d77086",
                "language": "sql",
                "vscode": {
                    "languageId": "r"
                }
            },
            "outputs": [
                {
                    "data": {
                        "text/html": [
                            "<table class=\"dataframe\">\n",
                            "<caption>A tibble: 6 × 6</caption>\n",
                            "<thead>\n",
                            "\t<tr><th scope=col>nconst</th><th scope=col>primaryName</th><th scope=col>birthYear</th><th scope=col>deathYear</th><th scope=col>primaryProfession</th><th scope=col>knownForTitles</th></tr>\n",
                            "\t<tr><th scope=col>&lt;chr&gt;</th><th scope=col>&lt;chr&gt;</th><th scope=col>&lt;chr&gt;</th><th scope=col>&lt;chr&gt;</th><th scope=col>&lt;chr&gt;</th><th scope=col>&lt;chr&gt;</th></tr>\n",
                            "</thead>\n",
                            "<tbody>\n",
                            "\t<tr><td>nm0000001</td><td>Fred Astaire   </td><td>1899</td><td>1987</td><td>soundtrack,actor,miscellaneous     </td><td>tt0072308,tt0053137,tt0050419,tt0045537</td></tr>\n",
                            "\t<tr><td>nm0000002</td><td>Lauren Bacall  </td><td>1924</td><td>2014</td><td>actress,soundtrack                 </td><td>tt0037382,tt0075213,tt0117057,tt0038355</td></tr>\n",
                            "\t<tr><td>nm0000003</td><td>Brigitte Bardot</td><td>1934</td><td>\\N </td><td>actress,soundtrack,music_department</td><td>tt0056404,tt0054452,tt0057345,tt0049189</td></tr>\n",
                            "\t<tr><td>nm0000004</td><td>John Belushi   </td><td>1949</td><td>1982</td><td>actor,soundtrack,writer            </td><td>tt0078723,tt0080455,tt0072562,tt0077975</td></tr>\n",
                            "\t<tr><td>nm0000005</td><td>Ingmar Bergman </td><td>1918</td><td>2007</td><td>writer,director,actor              </td><td>tt0083922,tt0050976,tt0050986,tt0060827</td></tr>\n",
                            "\t<tr><td>nm0000006</td><td>Ingrid Bergman </td><td>1915</td><td>1982</td><td>actress,soundtrack,producer        </td><td>tt0036855,tt0038787,tt0038109,tt0034583</td></tr>\n",
                            "</tbody>\n",
                            "</table>\n"
                        ],
                        "text/latex": [
                            "A tibble: 6 × 6\n",
                            "\\begin{tabular}{llllll}\n",
                            " nconst & primaryName & birthYear & deathYear & primaryProfession & knownForTitles\\\\\n",
                            " <chr> & <chr> & <chr> & <chr> & <chr> & <chr>\\\\\n",
                            "\\hline\n",
                            "\t nm0000001 & Fred Astaire    & 1899 & 1987 & soundtrack,actor,miscellaneous      & tt0072308,tt0053137,tt0050419,tt0045537\\\\\n",
                            "\t nm0000002 & Lauren Bacall   & 1924 & 2014 & actress,soundtrack                  & tt0037382,tt0075213,tt0117057,tt0038355\\\\\n",
                            "\t nm0000003 & Brigitte Bardot & 1934 & \\textbackslash{}N  & actress,soundtrack,music\\_department & tt0056404,tt0054452,tt0057345,tt0049189\\\\\n",
                            "\t nm0000004 & John Belushi    & 1949 & 1982 & actor,soundtrack,writer             & tt0078723,tt0080455,tt0072562,tt0077975\\\\\n",
                            "\t nm0000005 & Ingmar Bergman  & 1918 & 2007 & writer,director,actor               & tt0083922,tt0050976,tt0050986,tt0060827\\\\\n",
                            "\t nm0000006 & Ingrid Bergman  & 1915 & 1982 & actress,soundtrack,producer         & tt0036855,tt0038787,tt0038109,tt0034583\\\\\n",
                            "\\end{tabular}\n"
                        ],
                        "text/markdown": [
                            "\n",
                            "A tibble: 6 × 6\n",
                            "\n",
                            "| nconst &lt;chr&gt; | primaryName &lt;chr&gt; | birthYear &lt;chr&gt; | deathYear &lt;chr&gt; | primaryProfession &lt;chr&gt; | knownForTitles &lt;chr&gt; |\n",
                            "|---|---|---|---|---|---|\n",
                            "| nm0000001 | Fred Astaire    | 1899 | 1987 | soundtrack,actor,miscellaneous      | tt0072308,tt0053137,tt0050419,tt0045537 |\n",
                            "| nm0000002 | Lauren Bacall   | 1924 | 2014 | actress,soundtrack                  | tt0037382,tt0075213,tt0117057,tt0038355 |\n",
                            "| nm0000003 | Brigitte Bardot | 1934 | \\N  | actress,soundtrack,music_department | tt0056404,tt0054452,tt0057345,tt0049189 |\n",
                            "| nm0000004 | John Belushi    | 1949 | 1982 | actor,soundtrack,writer             | tt0078723,tt0080455,tt0072562,tt0077975 |\n",
                            "| nm0000005 | Ingmar Bergman  | 1918 | 2007 | writer,director,actor               | tt0083922,tt0050976,tt0050986,tt0060827 |\n",
                            "| nm0000006 | Ingrid Bergman  | 1915 | 1982 | actress,soundtrack,producer         | tt0036855,tt0038787,tt0038109,tt0034583 |\n",
                            "\n"
                        ],
                        "text/plain": [
                            "  nconst    primaryName     birthYear deathYear\n",
                            "1 nm0000001 Fred Astaire    1899      1987     \n",
                            "2 nm0000002 Lauren Bacall   1924      2014     \n",
                            "3 nm0000003 Brigitte Bardot 1934      \\\\N      \n",
                            "4 nm0000004 John Belushi    1949      1982     \n",
                            "5 nm0000005 Ingmar Bergman  1918      2007     \n",
                            "6 nm0000006 Ingrid Bergman  1915      1982     \n",
                            "  primaryProfession                   knownForTitles                         \n",
                            "1 soundtrack,actor,miscellaneous      tt0072308,tt0053137,tt0050419,tt0045537\n",
                            "2 actress,soundtrack                  tt0037382,tt0075213,tt0117057,tt0038355\n",
                            "3 actress,soundtrack,music_department tt0056404,tt0054452,tt0057345,tt0049189\n",
                            "4 actor,soundtrack,writer             tt0078723,tt0080455,tt0072562,tt0077975\n",
                            "5 writer,director,actor               tt0083922,tt0050976,tt0050986,tt0060827\n",
                            "6 actress,soundtrack,producer         tt0036855,tt0038787,tt0038109,tt0034583"
                        ]
                    },
                    "metadata": {},
                    "output_type": "display_data"
                },
                {
                    "data": {
                        "text/html": [
                            "<table class=\"dataframe\">\n",
                            "<caption>A tibble: 6 × 3</caption>\n",
                            "<thead>\n",
                            "\t<tr><th scope=col>tconst</th><th scope=col>directors</th><th scope=col>writers</th></tr>\n",
                            "\t<tr><th scope=col>&lt;chr&gt;</th><th scope=col>&lt;chr&gt;</th><th scope=col>&lt;chr&gt;</th></tr>\n",
                            "</thead>\n",
                            "<tbody>\n",
                            "\t<tr><td>tt0000001</td><td>nm0005690</td><td>\\N</td></tr>\n",
                            "\t<tr><td>tt0000002</td><td>nm0721526</td><td>\\N</td></tr>\n",
                            "\t<tr><td>tt0000003</td><td>nm0721526</td><td>\\N</td></tr>\n",
                            "\t<tr><td>tt0000004</td><td>nm0721526</td><td>\\N</td></tr>\n",
                            "\t<tr><td>tt0000005</td><td>nm0005690</td><td>\\N</td></tr>\n",
                            "\t<tr><td>tt0000006</td><td>nm0005690</td><td>\\N</td></tr>\n",
                            "</tbody>\n",
                            "</table>\n"
                        ],
                        "text/latex": [
                            "A tibble: 6 × 3\n",
                            "\\begin{tabular}{lll}\n",
                            " tconst & directors & writers\\\\\n",
                            " <chr> & <chr> & <chr>\\\\\n",
                            "\\hline\n",
                            "\t tt0000001 & nm0005690 & \\textbackslash{}N\\\\\n",
                            "\t tt0000002 & nm0721526 & \\textbackslash{}N\\\\\n",
                            "\t tt0000003 & nm0721526 & \\textbackslash{}N\\\\\n",
                            "\t tt0000004 & nm0721526 & \\textbackslash{}N\\\\\n",
                            "\t tt0000005 & nm0005690 & \\textbackslash{}N\\\\\n",
                            "\t tt0000006 & nm0005690 & \\textbackslash{}N\\\\\n",
                            "\\end{tabular}\n"
                        ],
                        "text/markdown": [
                            "\n",
                            "A tibble: 6 × 3\n",
                            "\n",
                            "| tconst &lt;chr&gt; | directors &lt;chr&gt; | writers &lt;chr&gt; |\n",
                            "|---|---|---|\n",
                            "| tt0000001 | nm0005690 | \\N |\n",
                            "| tt0000002 | nm0721526 | \\N |\n",
                            "| tt0000003 | nm0721526 | \\N |\n",
                            "| tt0000004 | nm0721526 | \\N |\n",
                            "| tt0000005 | nm0005690 | \\N |\n",
                            "| tt0000006 | nm0005690 | \\N |\n",
                            "\n"
                        ],
                        "text/plain": [
                            "  tconst    directors writers\n",
                            "1 tt0000001 nm0005690 \\\\N    \n",
                            "2 tt0000002 nm0721526 \\\\N    \n",
                            "3 tt0000003 nm0721526 \\\\N    \n",
                            "4 tt0000004 nm0721526 \\\\N    \n",
                            "5 tt0000005 nm0005690 \\\\N    \n",
                            "6 tt0000006 nm0005690 \\\\N    "
                        ]
                    },
                    "metadata": {},
                    "output_type": "display_data"
                },
                {
                    "data": {
                        "text/html": [
                            "<table class=\"dataframe\">\n",
                            "<caption>A tibble: 6 × 3</caption>\n",
                            "<thead>\n",
                            "\t<tr><th scope=col>tconst</th><th scope=col>averageRating</th><th scope=col>numVotes</th></tr>\n",
                            "\t<tr><th scope=col>&lt;chr&gt;</th><th scope=col>&lt;dbl&gt;</th><th scope=col>&lt;dbl&gt;</th></tr>\n",
                            "</thead>\n",
                            "<tbody>\n",
                            "\t<tr><td>tt0000001</td><td>5.7</td><td>1966</td></tr>\n",
                            "\t<tr><td>tt0000002</td><td>5.8</td><td> 263</td></tr>\n",
                            "\t<tr><td>tt0000003</td><td>6.5</td><td>1803</td></tr>\n",
                            "\t<tr><td>tt0000004</td><td>5.6</td><td> 179</td></tr>\n",
                            "\t<tr><td>tt0000005</td><td>6.2</td><td>2603</td></tr>\n",
                            "\t<tr><td>tt0000006</td><td>5.1</td><td> 178</td></tr>\n",
                            "</tbody>\n",
                            "</table>\n"
                        ],
                        "text/latex": [
                            "A tibble: 6 × 3\n",
                            "\\begin{tabular}{lll}\n",
                            " tconst & averageRating & numVotes\\\\\n",
                            " <chr> & <dbl> & <dbl>\\\\\n",
                            "\\hline\n",
                            "\t tt0000001 & 5.7 & 1966\\\\\n",
                            "\t tt0000002 & 5.8 &  263\\\\\n",
                            "\t tt0000003 & 6.5 & 1803\\\\\n",
                            "\t tt0000004 & 5.6 &  179\\\\\n",
                            "\t tt0000005 & 6.2 & 2603\\\\\n",
                            "\t tt0000006 & 5.1 &  178\\\\\n",
                            "\\end{tabular}\n"
                        ],
                        "text/markdown": [
                            "\n",
                            "A tibble: 6 × 3\n",
                            "\n",
                            "| tconst &lt;chr&gt; | averageRating &lt;dbl&gt; | numVotes &lt;dbl&gt; |\n",
                            "|---|---|---|\n",
                            "| tt0000001 | 5.7 | 1966 |\n",
                            "| tt0000002 | 5.8 |  263 |\n",
                            "| tt0000003 | 6.5 | 1803 |\n",
                            "| tt0000004 | 5.6 |  179 |\n",
                            "| tt0000005 | 6.2 | 2603 |\n",
                            "| tt0000006 | 5.1 |  178 |\n",
                            "\n"
                        ],
                        "text/plain": [
                            "  tconst    averageRating numVotes\n",
                            "1 tt0000001 5.7           1966    \n",
                            "2 tt0000002 5.8            263    \n",
                            "3 tt0000003 6.5           1803    \n",
                            "4 tt0000004 5.6            179    \n",
                            "5 tt0000005 6.2           2603    \n",
                            "6 tt0000006 5.1            178    "
                        ]
                    },
                    "metadata": {},
                    "output_type": "display_data"
                },
                {
                    "data": {
                        "text/html": [
                            "<table class=\"dataframe\">\n",
                            "<caption>A tibble: 6 × 6</caption>\n",
                            "<thead>\n",
                            "\t<tr><th scope=col>tconst</th><th scope=col>ordering</th><th scope=col>nconst</th><th scope=col>category</th><th scope=col>job</th><th scope=col>characters</th></tr>\n",
                            "\t<tr><th scope=col>&lt;chr&gt;</th><th scope=col>&lt;dbl&gt;</th><th scope=col>&lt;chr&gt;</th><th scope=col>&lt;chr&gt;</th><th scope=col>&lt;chr&gt;</th><th scope=col>&lt;chr&gt;</th></tr>\n",
                            "</thead>\n",
                            "<tbody>\n",
                            "\t<tr><td>tt0000001</td><td>1</td><td>nm1588970</td><td>self           </td><td>\\N                    </td><td>[\"Self\"]</td></tr>\n",
                            "\t<tr><td>tt0000001</td><td>2</td><td>nm0005690</td><td>director       </td><td>\\N                    </td><td>\\N     </td></tr>\n",
                            "\t<tr><td>tt0000001</td><td>3</td><td>nm0374658</td><td>cinematographer</td><td>director of photography</td><td>\\N     </td></tr>\n",
                            "\t<tr><td>tt0000002</td><td>1</td><td>nm0721526</td><td>director       </td><td>\\N                    </td><td>\\N     </td></tr>\n",
                            "\t<tr><td>tt0000002</td><td>2</td><td>nm1335271</td><td>composer       </td><td>\\N                    </td><td>\\N     </td></tr>\n",
                            "\t<tr><td>tt0000003</td><td>1</td><td>nm0721526</td><td>director       </td><td>\\N                    </td><td>\\N     </td></tr>\n",
                            "</tbody>\n",
                            "</table>\n"
                        ],
                        "text/latex": [
                            "A tibble: 6 × 6\n",
                            "\\begin{tabular}{llllll}\n",
                            " tconst & ordering & nconst & category & job & characters\\\\\n",
                            " <chr> & <dbl> & <chr> & <chr> & <chr> & <chr>\\\\\n",
                            "\\hline\n",
                            "\t tt0000001 & 1 & nm1588970 & self            & \\textbackslash{}N                     & {[}\"Self\"{]}\\\\\n",
                            "\t tt0000001 & 2 & nm0005690 & director        & \\textbackslash{}N                     & \\textbackslash{}N     \\\\\n",
                            "\t tt0000001 & 3 & nm0374658 & cinematographer & director of photography & \\textbackslash{}N     \\\\\n",
                            "\t tt0000002 & 1 & nm0721526 & director        & \\textbackslash{}N                     & \\textbackslash{}N     \\\\\n",
                            "\t tt0000002 & 2 & nm1335271 & composer        & \\textbackslash{}N                     & \\textbackslash{}N     \\\\\n",
                            "\t tt0000003 & 1 & nm0721526 & director        & \\textbackslash{}N                     & \\textbackslash{}N     \\\\\n",
                            "\\end{tabular}\n"
                        ],
                        "text/markdown": [
                            "\n",
                            "A tibble: 6 × 6\n",
                            "\n",
                            "| tconst &lt;chr&gt; | ordering &lt;dbl&gt; | nconst &lt;chr&gt; | category &lt;chr&gt; | job &lt;chr&gt; | characters &lt;chr&gt; |\n",
                            "|---|---|---|---|---|---|\n",
                            "| tt0000001 | 1 | nm1588970 | self            | \\N                     | [\"Self\"] |\n",
                            "| tt0000001 | 2 | nm0005690 | director        | \\N                     | \\N      |\n",
                            "| tt0000001 | 3 | nm0374658 | cinematographer | director of photography | \\N      |\n",
                            "| tt0000002 | 1 | nm0721526 | director        | \\N                     | \\N      |\n",
                            "| tt0000002 | 2 | nm1335271 | composer        | \\N                     | \\N      |\n",
                            "| tt0000003 | 1 | nm0721526 | director        | \\N                     | \\N      |\n",
                            "\n"
                        ],
                        "text/plain": [
                            "  tconst    ordering nconst    category        job                    \n",
                            "1 tt0000001 1        nm1588970 self            \\\\N                    \n",
                            "2 tt0000001 2        nm0005690 director        \\\\N                    \n",
                            "3 tt0000001 3        nm0374658 cinematographer director of photography\n",
                            "4 tt0000002 1        nm0721526 director        \\\\N                    \n",
                            "5 tt0000002 2        nm1335271 composer        \\\\N                    \n",
                            "6 tt0000003 1        nm0721526 director        \\\\N                    \n",
                            "  characters\n",
                            "1 [\"Self\"]  \n",
                            "2 \\\\N       \n",
                            "3 \\\\N       \n",
                            "4 \\\\N       \n",
                            "5 \\\\N       \n",
                            "6 \\\\N       "
                        ]
                    },
                    "metadata": {},
                    "output_type": "display_data"
                },
                {
                    "data": {
                        "text/html": [
                            "<table class=\"dataframe\">\n",
                            "<caption>A tibble: 6 × 9</caption>\n",
                            "<thead>\n",
                            "\t<tr><th scope=col>tconst</th><th scope=col>titleType</th><th scope=col>primaryTitle</th><th scope=col>originalTitle</th><th scope=col>isAdult</th><th scope=col>startYear</th><th scope=col>endYear</th><th scope=col>runtimeMinutes</th><th scope=col>genres</th></tr>\n",
                            "\t<tr><th scope=col>&lt;chr&gt;</th><th scope=col>&lt;chr&gt;</th><th scope=col>&lt;chr&gt;</th><th scope=col>&lt;chr&gt;</th><th scope=col>&lt;dbl&gt;</th><th scope=col>&lt;chr&gt;</th><th scope=col>&lt;chr&gt;</th><th scope=col>&lt;chr&gt;</th><th scope=col>&lt;chr&gt;</th></tr>\n",
                            "</thead>\n",
                            "<tbody>\n",
                            "\t<tr><td>tt0000001</td><td>short</td><td>Carmencita            </td><td>Carmencita            </td><td>0</td><td>1894</td><td>\\N</td><td>1 </td><td>Documentary,Short       </td></tr>\n",
                            "\t<tr><td>tt0000002</td><td>short</td><td>Le clown et ses chiens</td><td>Le clown et ses chiens</td><td>0</td><td>1892</td><td>\\N</td><td>5 </td><td>Animation,Short         </td></tr>\n",
                            "\t<tr><td>tt0000003</td><td>short</td><td>Pauvre Pierrot        </td><td>Pauvre Pierrot        </td><td>0</td><td>1892</td><td>\\N</td><td>4 </td><td>Animation,Comedy,Romance</td></tr>\n",
                            "\t<tr><td>tt0000004</td><td>short</td><td>Un bon bock           </td><td>Un bon bock           </td><td>0</td><td>1892</td><td>\\N</td><td>12</td><td>Animation,Short         </td></tr>\n",
                            "\t<tr><td>tt0000005</td><td>short</td><td>Blacksmith Scene      </td><td>Blacksmith Scene      </td><td>0</td><td>1893</td><td>\\N</td><td>1 </td><td>Comedy,Short            </td></tr>\n",
                            "\t<tr><td>tt0000006</td><td>short</td><td>Chinese Opium Den     </td><td>Chinese Opium Den     </td><td>0</td><td>1894</td><td>\\N</td><td>1 </td><td>Short                   </td></tr>\n",
                            "</tbody>\n",
                            "</table>\n"
                        ],
                        "text/latex": [
                            "A tibble: 6 × 9\n",
                            "\\begin{tabular}{lllllllll}\n",
                            " tconst & titleType & primaryTitle & originalTitle & isAdult & startYear & endYear & runtimeMinutes & genres\\\\\n",
                            " <chr> & <chr> & <chr> & <chr> & <dbl> & <chr> & <chr> & <chr> & <chr>\\\\\n",
                            "\\hline\n",
                            "\t tt0000001 & short & Carmencita             & Carmencita             & 0 & 1894 & \\textbackslash{}N & 1  & Documentary,Short       \\\\\n",
                            "\t tt0000002 & short & Le clown et ses chiens & Le clown et ses chiens & 0 & 1892 & \\textbackslash{}N & 5  & Animation,Short         \\\\\n",
                            "\t tt0000003 & short & Pauvre Pierrot         & Pauvre Pierrot         & 0 & 1892 & \\textbackslash{}N & 4  & Animation,Comedy,Romance\\\\\n",
                            "\t tt0000004 & short & Un bon bock            & Un bon bock            & 0 & 1892 & \\textbackslash{}N & 12 & Animation,Short         \\\\\n",
                            "\t tt0000005 & short & Blacksmith Scene       & Blacksmith Scene       & 0 & 1893 & \\textbackslash{}N & 1  & Comedy,Short            \\\\\n",
                            "\t tt0000006 & short & Chinese Opium Den      & Chinese Opium Den      & 0 & 1894 & \\textbackslash{}N & 1  & Short                   \\\\\n",
                            "\\end{tabular}\n"
                        ],
                        "text/markdown": [
                            "\n",
                            "A tibble: 6 × 9\n",
                            "\n",
                            "| tconst &lt;chr&gt; | titleType &lt;chr&gt; | primaryTitle &lt;chr&gt; | originalTitle &lt;chr&gt; | isAdult &lt;dbl&gt; | startYear &lt;chr&gt; | endYear &lt;chr&gt; | runtimeMinutes &lt;chr&gt; | genres &lt;chr&gt; |\n",
                            "|---|---|---|---|---|---|---|---|---|\n",
                            "| tt0000001 | short | Carmencita             | Carmencita             | 0 | 1894 | \\N | 1  | Documentary,Short        |\n",
                            "| tt0000002 | short | Le clown et ses chiens | Le clown et ses chiens | 0 | 1892 | \\N | 5  | Animation,Short          |\n",
                            "| tt0000003 | short | Pauvre Pierrot         | Pauvre Pierrot         | 0 | 1892 | \\N | 4  | Animation,Comedy,Romance |\n",
                            "| tt0000004 | short | Un bon bock            | Un bon bock            | 0 | 1892 | \\N | 12 | Animation,Short          |\n",
                            "| tt0000005 | short | Blacksmith Scene       | Blacksmith Scene       | 0 | 1893 | \\N | 1  | Comedy,Short             |\n",
                            "| tt0000006 | short | Chinese Opium Den      | Chinese Opium Den      | 0 | 1894 | \\N | 1  | Short                    |\n",
                            "\n"
                        ],
                        "text/plain": [
                            "  tconst    titleType primaryTitle           originalTitle          isAdult\n",
                            "1 tt0000001 short     Carmencita             Carmencita             0      \n",
                            "2 tt0000002 short     Le clown et ses chiens Le clown et ses chiens 0      \n",
                            "3 tt0000003 short     Pauvre Pierrot         Pauvre Pierrot         0      \n",
                            "4 tt0000004 short     Un bon bock            Un bon bock            0      \n",
                            "5 tt0000005 short     Blacksmith Scene       Blacksmith Scene       0      \n",
                            "6 tt0000006 short     Chinese Opium Den      Chinese Opium Den      0      \n",
                            "  startYear endYear runtimeMinutes genres                  \n",
                            "1 1894      \\\\N     1              Documentary,Short       \n",
                            "2 1892      \\\\N     5              Animation,Short         \n",
                            "3 1892      \\\\N     4              Animation,Comedy,Romance\n",
                            "4 1892      \\\\N     12             Animation,Short         \n",
                            "5 1893      \\\\N     1              Comedy,Short            \n",
                            "6 1894      \\\\N     1              Short                   "
                        ]
                    },
                    "metadata": {},
                    "output_type": "display_data"
                },
                {
                    "data": {
                        "text/html": [
                            "<table class=\"dataframe\">\n",
                            "<caption>A tibble: 6 × 8</caption>\n",
                            "<thead>\n",
                            "\t<tr><th scope=col>titleId</th><th scope=col>ordering</th><th scope=col>title</th><th scope=col>region</th><th scope=col>language</th><th scope=col>types</th><th scope=col>attributes</th><th scope=col>isOriginalTitle</th></tr>\n",
                            "\t<tr><th scope=col>&lt;chr&gt;</th><th scope=col>&lt;dbl&gt;</th><th scope=col>&lt;chr&gt;</th><th scope=col>&lt;chr&gt;</th><th scope=col>&lt;chr&gt;</th><th scope=col>&lt;chr&gt;</th><th scope=col>&lt;chr&gt;</th><th scope=col>&lt;dbl&gt;</th></tr>\n",
                            "</thead>\n",
                            "<tbody>\n",
                            "\t<tr><td>tt0000001</td><td>1</td><td>Карменсіта               </td><td>UA</td><td>\\N</td><td>imdbDisplay</td><td>\\N          </td><td>0</td></tr>\n",
                            "\t<tr><td>tt0000001</td><td>2</td><td>Carmencita               </td><td>DE</td><td>\\N</td><td>\\N        </td><td>literal title</td><td>0</td></tr>\n",
                            "\t<tr><td>tt0000001</td><td>3</td><td>Carmencita - spanyol tánc</td><td>HU</td><td>\\N</td><td>imdbDisplay</td><td>\\N          </td><td>0</td></tr>\n",
                            "\t<tr><td>tt0000001</td><td>4</td><td>Καρμενσίτα               </td><td>GR</td><td>\\N</td><td>imdbDisplay</td><td>\\N          </td><td>0</td></tr>\n",
                            "\t<tr><td>tt0000001</td><td>5</td><td>Карменсита               </td><td>RU</td><td>\\N</td><td>imdbDisplay</td><td>\\N          </td><td>0</td></tr>\n",
                            "\t<tr><td>tt0000001</td><td>6</td><td>Carmencita               </td><td>US</td><td>\\N</td><td>imdbDisplay</td><td>\\N          </td><td>0</td></tr>\n",
                            "</tbody>\n",
                            "</table>\n"
                        ],
                        "text/latex": [
                            "A tibble: 6 × 8\n",
                            "\\begin{tabular}{llllllll}\n",
                            " titleId & ordering & title & region & language & types & attributes & isOriginalTitle\\\\\n",
                            " <chr> & <dbl> & <chr> & <chr> & <chr> & <chr> & <chr> & <dbl>\\\\\n",
                            "\\hline\n",
                            "\t tt0000001 & 1 & Карменсіта                & UA & \\textbackslash{}N & imdbDisplay & \\textbackslash{}N           & 0\\\\\n",
                            "\t tt0000001 & 2 & Carmencita                & DE & \\textbackslash{}N & \\textbackslash{}N         & literal title & 0\\\\\n",
                            "\t tt0000001 & 3 & Carmencita - spanyol tánc & HU & \\textbackslash{}N & imdbDisplay & \\textbackslash{}N           & 0\\\\\n",
                            "\t tt0000001 & 4 & Καρμενσίτα                & GR & \\textbackslash{}N & imdbDisplay & \\textbackslash{}N           & 0\\\\\n",
                            "\t tt0000001 & 5 & Карменсита                & RU & \\textbackslash{}N & imdbDisplay & \\textbackslash{}N           & 0\\\\\n",
                            "\t tt0000001 & 6 & Carmencita                & US & \\textbackslash{}N & imdbDisplay & \\textbackslash{}N           & 0\\\\\n",
                            "\\end{tabular}\n"
                        ],
                        "text/markdown": [
                            "\n",
                            "A tibble: 6 × 8\n",
                            "\n",
                            "| titleId &lt;chr&gt; | ordering &lt;dbl&gt; | title &lt;chr&gt; | region &lt;chr&gt; | language &lt;chr&gt; | types &lt;chr&gt; | attributes &lt;chr&gt; | isOriginalTitle &lt;dbl&gt; |\n",
                            "|---|---|---|---|---|---|---|---|\n",
                            "| tt0000001 | 1 | Карменсіта                | UA | \\N | imdbDisplay | \\N           | 0 |\n",
                            "| tt0000001 | 2 | Carmencita                | DE | \\N | \\N         | literal title | 0 |\n",
                            "| tt0000001 | 3 | Carmencita - spanyol tánc | HU | \\N | imdbDisplay | \\N           | 0 |\n",
                            "| tt0000001 | 4 | Καρμενσίτα                | GR | \\N | imdbDisplay | \\N           | 0 |\n",
                            "| tt0000001 | 5 | Карменсита                | RU | \\N | imdbDisplay | \\N           | 0 |\n",
                            "| tt0000001 | 6 | Carmencita                | US | \\N | imdbDisplay | \\N           | 0 |\n",
                            "\n"
                        ],
                        "text/plain": [
                            "  titleId   ordering title                     region language types      \n",
                            "1 tt0000001 1        Карменсіта                UA     \\\\N      imdbDisplay\n",
                            "2 tt0000001 2        Carmencita                DE     \\\\N      \\\\N        \n",
                            "3 tt0000001 3        Carmencita - spanyol tánc HU     \\\\N      imdbDisplay\n",
                            "4 tt0000001 4        Καρμενσίτα                GR     \\\\N      imdbDisplay\n",
                            "5 tt0000001 5        Карменсита                RU     \\\\N      imdbDisplay\n",
                            "6 tt0000001 6        Carmencita                US     \\\\N      imdbDisplay\n",
                            "  attributes    isOriginalTitle\n",
                            "1 \\\\N           0              \n",
                            "2 literal title 0              \n",
                            "3 \\\\N           0              \n",
                            "4 \\\\N           0              \n",
                            "5 \\\\N           0              \n",
                            "6 \\\\N           0              "
                        ]
                    },
                    "metadata": {},
                    "output_type": "display_data"
                },
                {
                    "name": "stdout",
                    "output_type": "stream",
                    "text": [
                        "Rows: 12,405,586\n",
                        "Columns: 6\n",
                        "$ nconst            \u001b[3m\u001b[90m<chr>\u001b[39m\u001b[23m \"nm0000001\", \"nm0000002\", \"nm0000003\", \"nm0000004\", …\n",
                        "$ primaryName       \u001b[3m\u001b[90m<chr>\u001b[39m\u001b[23m \"Fred Astaire\", \"Lauren Bacall\", \"Brigitte Bardot\", …\n",
                        "$ birthYear         \u001b[3m\u001b[90m<chr>\u001b[39m\u001b[23m \"1899\", \"1924\", \"1934\", \"1949\", \"1918\", \"1915\", \"189…\n",
                        "$ deathYear         \u001b[3m\u001b[90m<chr>\u001b[39m\u001b[23m \"1987\", \"2014\", \"\\\\N\", \"1982\", \"2007\", \"1982\", \"1957…\n",
                        "$ primaryProfession \u001b[3m\u001b[90m<chr>\u001b[39m\u001b[23m \"soundtrack,actor,miscellaneous\", \"actress,soundtrac…\n",
                        "$ knownForTitles    \u001b[3m\u001b[90m<chr>\u001b[39m\u001b[23m \"tt0072308,tt0053137,tt0050419,tt0045537\", \"tt003738…\n",
                        "Rows: 9,725,149\n",
                        "Columns: 3\n",
                        "$ tconst    \u001b[3m\u001b[90m<chr>\u001b[39m\u001b[23m \"tt0000001\", \"tt0000002\", \"tt0000003\", \"tt0000004\", \"tt00000…\n",
                        "$ directors \u001b[3m\u001b[90m<chr>\u001b[39m\u001b[23m \"nm0005690\", \"nm0721526\", \"nm0721526\", \"nm0721526\", \"nm00056…\n",
                        "$ writers   \u001b[3m\u001b[90m<chr>\u001b[39m\u001b[23m \"\\\\N\", \"\\\\N\", \"\\\\N\", \"\\\\N\", \"\\\\N\", \"\\\\N\", \"\\\\N\", \"\\\\N\", \"nm0…\n",
                        "Rows: 1,294,138\n",
                        "Columns: 3\n",
                        "$ tconst        \u001b[3m\u001b[90m<chr>\u001b[39m\u001b[23m \"tt0000001\", \"tt0000002\", \"tt0000003\", \"tt0000004\", \"tt0…\n",
                        "$ averageRating \u001b[3m\u001b[90m<dbl>\u001b[39m\u001b[23m 5.7, 5.8, 6.5, 5.6, 6.2, 5.1, 5.4, 5.4, 5.3, 6.9, 5.3, 7…\n",
                        "$ numVotes      \u001b[3m\u001b[90m<dbl>\u001b[39m\u001b[23m 1966, 263, 1803, 179, 2603, 178, 817, 2101, 204, 7096, 3…\n",
                        "Rows: 54,945,101\n",
                        "Columns: 6\n",
                        "$ tconst     \u001b[3m\u001b[90m<chr>\u001b[39m\u001b[23m \"tt0000001\", \"tt0000001\", \"tt0000001\", \"tt0000002\", \"tt0000…\n",
                        "$ ordering   \u001b[3m\u001b[90m<dbl>\u001b[39m\u001b[23m 1, 2, 3, 1, 2, 1, 2, 3, 4, 1, 2, 1, 2, 3, 4, 1, 1, 2, 3, 4,…\n",
                        "$ nconst     \u001b[3m\u001b[90m<chr>\u001b[39m\u001b[23m \"nm1588970\", \"nm0005690\", \"nm0374658\", \"nm0721526\", \"nm1335…\n",
                        "$ category   \u001b[3m\u001b[90m<chr>\u001b[39m\u001b[23m \"self\", \"director\", \"cinematographer\", \"director\", \"compose…\n",
                        "$ job        \u001b[3m\u001b[90m<chr>\u001b[39m\u001b[23m \"\\\\N\", \"\\\\N\", \"director of photography\", \"\\\\N\", \"\\\\N\", \"\\\\N…\n",
                        "$ characters \u001b[3m\u001b[90m<chr>\u001b[39m\u001b[23m \"[\\\"Self\\\"]\", \"\\\\N\", \"\\\\N\", \"\\\\N\", \"\\\\N\", \"\\\\N\", \"\\\\N\", \"\\\\…\n",
                        "Rows: 9,725,149\n",
                        "Columns: 9\n",
                        "$ tconst         \u001b[3m\u001b[90m<chr>\u001b[39m\u001b[23m \"tt0000001\", \"tt0000002\", \"tt0000003\", \"tt0000004\", \"tt…\n",
                        "$ titleType      \u001b[3m\u001b[90m<chr>\u001b[39m\u001b[23m \"short\", \"short\", \"short\", \"short\", \"short\", \"short\", \"…\n",
                        "$ primaryTitle   \u001b[3m\u001b[90m<chr>\u001b[39m\u001b[23m \"Carmencita\", \"Le clown et ses chiens\", \"Pauvre Pierrot…\n",
                        "$ originalTitle  \u001b[3m\u001b[90m<chr>\u001b[39m\u001b[23m \"Carmencita\", \"Le clown et ses chiens\", \"Pauvre Pierrot…\n",
                        "$ isAdult        \u001b[3m\u001b[90m<dbl>\u001b[39m\u001b[23m 0, 0, 0, 0, 0, 0, 0, 0, 0, 0, 0, 0, 0, 0, 0, 0, 0, 0, 0…\n",
                        "$ startYear      \u001b[3m\u001b[90m<chr>\u001b[39m\u001b[23m \"1894\", \"1892\", \"1892\", \"1892\", \"1893\", \"1894\", \"1894\",…\n",
                        "$ endYear        \u001b[3m\u001b[90m<chr>\u001b[39m\u001b[23m \"\\\\N\", \"\\\\N\", \"\\\\N\", \"\\\\N\", \"\\\\N\", \"\\\\N\", \"\\\\N\", \"\\\\N\",…\n",
                        "$ runtimeMinutes \u001b[3m\u001b[90m<chr>\u001b[39m\u001b[23m \"1\", \"5\", \"4\", \"12\", \"1\", \"1\", \"1\", \"1\", \"45\", \"1\", \"1\"…\n",
                        "$ genres         \u001b[3m\u001b[90m<chr>\u001b[39m\u001b[23m \"Documentary,Short\", \"Animation,Short\", \"Animation,Come…\n",
                        "Rows: 34,915,280\n",
                        "Columns: 8\n",
                        "$ titleId         \u001b[3m\u001b[90m<chr>\u001b[39m\u001b[23m \"tt0000001\", \"tt0000001\", \"tt0000001\", \"tt0000001\", \"t…\n",
                        "$ ordering        \u001b[3m\u001b[90m<dbl>\u001b[39m\u001b[23m 1, 2, 3, 4, 5, 6, 7, 8, 1, 2, 3, 4, 5, 6, 7, 8, 1, 2, …\n",
                        "$ title           \u001b[3m\u001b[90m<chr>\u001b[39m\u001b[23m \"Карменсіта\", \"Carmencita\", \"Carmencita - spanyol tánc…\n",
                        "$ region          \u001b[3m\u001b[90m<chr>\u001b[39m\u001b[23m \"UA\", \"DE\", \"HU\", \"GR\", \"RU\", \"US\", \"\\\\N\", \"JP\", \"\\\\N\"…\n",
                        "$ language        \u001b[3m\u001b[90m<chr>\u001b[39m\u001b[23m \"\\\\N\", \"\\\\N\", \"\\\\N\", \"\\\\N\", \"\\\\N\", \"\\\\N\", \"\\\\N\", \"ja\",…\n",
                        "$ types           \u001b[3m\u001b[90m<chr>\u001b[39m\u001b[23m \"imdbDisplay\", \"\\\\N\", \"imdbDisplay\", \"imdbDisplay\", \"i…\n",
                        "$ attributes      \u001b[3m\u001b[90m<chr>\u001b[39m\u001b[23m \"\\\\N\", \"literal title\", \"\\\\N\", \"\\\\N\", \"\\\\N\", \"\\\\N\", \"\\…\n",
                        "$ isOriginalTitle \u001b[3m\u001b[90m<dbl>\u001b[39m\u001b[23m 0, 0, 0, 0, 0, 0, 1, 0, 1, 0, 0, 0, 0, 0, 0, 0, 0, 0, …\n"
                    ]
                }
            ],
            "source": [
                "head(name_df)\n",
                "head(crew_df) \n",
                "head(ratings_df)\n",
                "head(principals_df)\n",
                "head(basics_df) \n",
                "head(akas) \n",
                "glimpse(name_df) #over 12.4M rows\n",
                "glimpse(crew_df) #over 9.7M rows\n",
                "glimpse(ratings_df) #over 1.2M rows\n",
                "glimpse(principals_df) #over 54.9M rows\n",
                "glimpse(basics_df) #over 54.9M rows\n",
                "glimpse(akas) #over 9.7M rows\n"
            ]
        },
        {
            "cell_type": "markdown",
            "metadata": {
                "azdata_cell_guid": "b8bee8a4-1279-4dd3-9d1b-01bc037b4eb4"
            },
            "source": [
                "I opted every data set, with exception of \"akas\" as it has information about titles in different languages.\n",
                "I decided to use R to reduce the size of data for SQL import.\n",
                "\n",
                "\n",
                "#### 4.2. Merging data sets\n"
            ]
        },
        {
            "cell_type": "code",
            "execution_count": 6,
            "metadata": {
                "azdata_cell_guid": "8d342f53-045e-4277-8d77-f18d2da378d2",
                "language": "sql",
                "vscode": {
                    "languageId": "r"
                }
            },
            "outputs": [
                {
                    "data": {
                        "text/html": [
                            "<table class=\"dataframe\">\n",
                            "<caption>A data.frame: 6 × 5</caption>\n",
                            "<thead>\n",
                            "\t<tr><th></th><th scope=col>nconst</th><th scope=col>primaryName</th><th scope=col>birthYear</th><th scope=col>deathYear</th><th scope=col>tconst</th></tr>\n",
                            "\t<tr><th></th><th scope=col>&lt;chr&gt;</th><th scope=col>&lt;chr&gt;</th><th scope=col>&lt;chr&gt;</th><th scope=col>&lt;chr&gt;</th><th scope=col>&lt;chr&gt;</th></tr>\n",
                            "</thead>\n",
                            "<tbody>\n",
                            "\t<tr><th scope=row>1</th><td>nm0000005</td><td>Ingmar Bergman</td><td>1918</td><td>2007</td><td>tt0111204</td></tr>\n",
                            "\t<tr><th scope=row>2</th><td>nm0000005</td><td>Ingmar Bergman</td><td>1918</td><td>2007</td><td>tt0083922</td></tr>\n",
                            "\t<tr><th scope=row>3</th><td>nm0000005</td><td>Ingmar Bergman</td><td>1918</td><td>2007</td><td>tt0064897</td></tr>\n",
                            "\t<tr><th scope=row>4</th><td>nm0000005</td><td>Ingmar Bergman</td><td>1918</td><td>2007</td><td>tt0058124</td></tr>\n",
                            "\t<tr><th scope=row>5</th><td>nm0000005</td><td>Ingmar Bergman</td><td>1918</td><td>2007</td><td>tt0050986</td></tr>\n",
                            "\t<tr><th scope=row>6</th><td>nm0000005</td><td>Ingmar Bergman</td><td>1918</td><td>2007</td><td>tt0040418</td></tr>\n",
                            "</tbody>\n",
                            "</table>\n"
                        ],
                        "text/latex": [
                            "A data.frame: 6 × 5\n",
                            "\\begin{tabular}{r|lllll}\n",
                            "  & nconst & primaryName & birthYear & deathYear & tconst\\\\\n",
                            "  & <chr> & <chr> & <chr> & <chr> & <chr>\\\\\n",
                            "\\hline\n",
                            "\t1 & nm0000005 & Ingmar Bergman & 1918 & 2007 & tt0111204\\\\\n",
                            "\t2 & nm0000005 & Ingmar Bergman & 1918 & 2007 & tt0083922\\\\\n",
                            "\t3 & nm0000005 & Ingmar Bergman & 1918 & 2007 & tt0064897\\\\\n",
                            "\t4 & nm0000005 & Ingmar Bergman & 1918 & 2007 & tt0058124\\\\\n",
                            "\t5 & nm0000005 & Ingmar Bergman & 1918 & 2007 & tt0050986\\\\\n",
                            "\t6 & nm0000005 & Ingmar Bergman & 1918 & 2007 & tt0040418\\\\\n",
                            "\\end{tabular}\n"
                        ],
                        "text/markdown": [
                            "\n",
                            "A data.frame: 6 × 5\n",
                            "\n",
                            "| <!--/--> | nconst &lt;chr&gt; | primaryName &lt;chr&gt; | birthYear &lt;chr&gt; | deathYear &lt;chr&gt; | tconst &lt;chr&gt; |\n",
                            "|---|---|---|---|---|---|\n",
                            "| 1 | nm0000005 | Ingmar Bergman | 1918 | 2007 | tt0111204 |\n",
                            "| 2 | nm0000005 | Ingmar Bergman | 1918 | 2007 | tt0083922 |\n",
                            "| 3 | nm0000005 | Ingmar Bergman | 1918 | 2007 | tt0064897 |\n",
                            "| 4 | nm0000005 | Ingmar Bergman | 1918 | 2007 | tt0058124 |\n",
                            "| 5 | nm0000005 | Ingmar Bergman | 1918 | 2007 | tt0050986 |\n",
                            "| 6 | nm0000005 | Ingmar Bergman | 1918 | 2007 | tt0040418 |\n",
                            "\n"
                        ],
                        "text/plain": [
                            "  nconst    primaryName    birthYear deathYear tconst   \n",
                            "1 nm0000005 Ingmar Bergman 1918      2007      tt0111204\n",
                            "2 nm0000005 Ingmar Bergman 1918      2007      tt0083922\n",
                            "3 nm0000005 Ingmar Bergman 1918      2007      tt0064897\n",
                            "4 nm0000005 Ingmar Bergman 1918      2007      tt0058124\n",
                            "5 nm0000005 Ingmar Bergman 1918      2007      tt0050986\n",
                            "6 nm0000005 Ingmar Bergman 1918      2007      tt0040418"
                        ]
                    },
                    "metadata": {},
                    "output_type": "display_data"
                }
            ],
            "source": [
                "name_crew_df <- merge(x = name_df,y = crew_df, \n",
                "             by.x = \"nconst\", \n",
                "             by.y = \"directors\") %>% \n",
                "  select(-c(knownForTitles, writers, primaryProfession))\n",
                "head(name_crew_df)"
            ]
        },
        {
            "cell_type": "code",
            "execution_count": 7,
            "metadata": {
                "azdata_cell_guid": "bb71a43b-0e47-4e05-ae35-379c6fa9835f",
                "language": "sql",
                "vscode": {
                    "languageId": "r"
                }
            },
            "outputs": [
                {
                    "data": {
                        "text/html": [
                            "<table class=\"dataframe\">\n",
                            "<caption>A data.frame: 6 × 12</caption>\n",
                            "<thead>\n",
                            "\t<tr><th></th><th scope=col>tconst</th><th scope=col>nconst</th><th scope=col>primaryName</th><th scope=col>birthYear</th><th scope=col>deathYear</th><th scope=col>titleType</th><th scope=col>primaryTitle</th><th scope=col>originalTitle</th><th scope=col>startYear</th><th scope=col>endYear</th><th scope=col>runtimeMinutes</th><th scope=col>genres</th></tr>\n",
                            "\t<tr><th></th><th scope=col>&lt;chr&gt;</th><th scope=col>&lt;chr&gt;</th><th scope=col>&lt;chr&gt;</th><th scope=col>&lt;chr&gt;</th><th scope=col>&lt;chr&gt;</th><th scope=col>&lt;chr&gt;</th><th scope=col>&lt;chr&gt;</th><th scope=col>&lt;chr&gt;</th><th scope=col>&lt;chr&gt;</th><th scope=col>&lt;chr&gt;</th><th scope=col>&lt;chr&gt;</th><th scope=col>&lt;chr&gt;</th></tr>\n",
                            "</thead>\n",
                            "<tbody>\n",
                            "\t<tr><th scope=row>1</th><td>tt0000001</td><td>nm0005690</td><td>William K.L. Dickson</td><td>1860</td><td>1935</td><td>short</td><td>Carmencita            </td><td>Carmencita            </td><td>1894</td><td>\\N</td><td>1 </td><td>Documentary,Short       </td></tr>\n",
                            "\t<tr><th scope=row>2</th><td>tt0000002</td><td>nm0721526</td><td>Émile Reynaud       </td><td>1844</td><td>1918</td><td>short</td><td>Le clown et ses chiens</td><td>Le clown et ses chiens</td><td>1892</td><td>\\N</td><td>5 </td><td>Animation,Short         </td></tr>\n",
                            "\t<tr><th scope=row>3</th><td>tt0000003</td><td>nm0721526</td><td>Émile Reynaud       </td><td>1844</td><td>1918</td><td>short</td><td>Pauvre Pierrot        </td><td>Pauvre Pierrot        </td><td>1892</td><td>\\N</td><td>4 </td><td>Animation,Comedy,Romance</td></tr>\n",
                            "\t<tr><th scope=row>4</th><td>tt0000004</td><td>nm0721526</td><td>Émile Reynaud       </td><td>1844</td><td>1918</td><td>short</td><td>Un bon bock           </td><td>Un bon bock           </td><td>1892</td><td>\\N</td><td>12</td><td>Animation,Short         </td></tr>\n",
                            "\t<tr><th scope=row>5</th><td>tt0000005</td><td>nm0005690</td><td>William K.L. Dickson</td><td>1860</td><td>1935</td><td>short</td><td>Blacksmith Scene      </td><td>Blacksmith Scene      </td><td>1893</td><td>\\N</td><td>1 </td><td>Comedy,Short            </td></tr>\n",
                            "\t<tr><th scope=row>6</th><td>tt0000006</td><td>nm0005690</td><td>William K.L. Dickson</td><td>1860</td><td>1935</td><td>short</td><td>Chinese Opium Den     </td><td>Chinese Opium Den     </td><td>1894</td><td>\\N</td><td>1 </td><td>Short                   </td></tr>\n",
                            "</tbody>\n",
                            "</table>\n"
                        ],
                        "text/latex": [
                            "A data.frame: 6 × 12\n",
                            "\\begin{tabular}{r|llllllllllll}\n",
                            "  & tconst & nconst & primaryName & birthYear & deathYear & titleType & primaryTitle & originalTitle & startYear & endYear & runtimeMinutes & genres\\\\\n",
                            "  & <chr> & <chr> & <chr> & <chr> & <chr> & <chr> & <chr> & <chr> & <chr> & <chr> & <chr> & <chr>\\\\\n",
                            "\\hline\n",
                            "\t1 & tt0000001 & nm0005690 & William K.L. Dickson & 1860 & 1935 & short & Carmencita             & Carmencita             & 1894 & \\textbackslash{}N & 1  & Documentary,Short       \\\\\n",
                            "\t2 & tt0000002 & nm0721526 & Émile Reynaud        & 1844 & 1918 & short & Le clown et ses chiens & Le clown et ses chiens & 1892 & \\textbackslash{}N & 5  & Animation,Short         \\\\\n",
                            "\t3 & tt0000003 & nm0721526 & Émile Reynaud        & 1844 & 1918 & short & Pauvre Pierrot         & Pauvre Pierrot         & 1892 & \\textbackslash{}N & 4  & Animation,Comedy,Romance\\\\\n",
                            "\t4 & tt0000004 & nm0721526 & Émile Reynaud        & 1844 & 1918 & short & Un bon bock            & Un bon bock            & 1892 & \\textbackslash{}N & 12 & Animation,Short         \\\\\n",
                            "\t5 & tt0000005 & nm0005690 & William K.L. Dickson & 1860 & 1935 & short & Blacksmith Scene       & Blacksmith Scene       & 1893 & \\textbackslash{}N & 1  & Comedy,Short            \\\\\n",
                            "\t6 & tt0000006 & nm0005690 & William K.L. Dickson & 1860 & 1935 & short & Chinese Opium Den      & Chinese Opium Den      & 1894 & \\textbackslash{}N & 1  & Short                   \\\\\n",
                            "\\end{tabular}\n"
                        ],
                        "text/markdown": [
                            "\n",
                            "A data.frame: 6 × 12\n",
                            "\n",
                            "| <!--/--> | tconst &lt;chr&gt; | nconst &lt;chr&gt; | primaryName &lt;chr&gt; | birthYear &lt;chr&gt; | deathYear &lt;chr&gt; | titleType &lt;chr&gt; | primaryTitle &lt;chr&gt; | originalTitle &lt;chr&gt; | startYear &lt;chr&gt; | endYear &lt;chr&gt; | runtimeMinutes &lt;chr&gt; | genres &lt;chr&gt; |\n",
                            "|---|---|---|---|---|---|---|---|---|---|---|---|---|\n",
                            "| 1 | tt0000001 | nm0005690 | William K.L. Dickson | 1860 | 1935 | short | Carmencita             | Carmencita             | 1894 | \\N | 1  | Documentary,Short        |\n",
                            "| 2 | tt0000002 | nm0721526 | Émile Reynaud        | 1844 | 1918 | short | Le clown et ses chiens | Le clown et ses chiens | 1892 | \\N | 5  | Animation,Short          |\n",
                            "| 3 | tt0000003 | nm0721526 | Émile Reynaud        | 1844 | 1918 | short | Pauvre Pierrot         | Pauvre Pierrot         | 1892 | \\N | 4  | Animation,Comedy,Romance |\n",
                            "| 4 | tt0000004 | nm0721526 | Émile Reynaud        | 1844 | 1918 | short | Un bon bock            | Un bon bock            | 1892 | \\N | 12 | Animation,Short          |\n",
                            "| 5 | tt0000005 | nm0005690 | William K.L. Dickson | 1860 | 1935 | short | Blacksmith Scene       | Blacksmith Scene       | 1893 | \\N | 1  | Comedy,Short             |\n",
                            "| 6 | tt0000006 | nm0005690 | William K.L. Dickson | 1860 | 1935 | short | Chinese Opium Den      | Chinese Opium Den      | 1894 | \\N | 1  | Short                    |\n",
                            "\n"
                        ],
                        "text/plain": [
                            "  tconst    nconst    primaryName          birthYear deathYear titleType\n",
                            "1 tt0000001 nm0005690 William K.L. Dickson 1860      1935      short    \n",
                            "2 tt0000002 nm0721526 Émile Reynaud        1844      1918      short    \n",
                            "3 tt0000003 nm0721526 Émile Reynaud        1844      1918      short    \n",
                            "4 tt0000004 nm0721526 Émile Reynaud        1844      1918      short    \n",
                            "5 tt0000005 nm0005690 William K.L. Dickson 1860      1935      short    \n",
                            "6 tt0000006 nm0005690 William K.L. Dickson 1860      1935      short    \n",
                            "  primaryTitle           originalTitle          startYear endYear\n",
                            "1 Carmencita             Carmencita             1894      \\\\N    \n",
                            "2 Le clown et ses chiens Le clown et ses chiens 1892      \\\\N    \n",
                            "3 Pauvre Pierrot         Pauvre Pierrot         1892      \\\\N    \n",
                            "4 Un bon bock            Un bon bock            1892      \\\\N    \n",
                            "5 Blacksmith Scene       Blacksmith Scene       1893      \\\\N    \n",
                            "6 Chinese Opium Den      Chinese Opium Den      1894      \\\\N    \n",
                            "  runtimeMinutes genres                  \n",
                            "1 1              Documentary,Short       \n",
                            "2 5              Animation,Short         \n",
                            "3 4              Animation,Comedy,Romance\n",
                            "4 12             Animation,Short         \n",
                            "5 1              Comedy,Short            \n",
                            "6 1              Short                   "
                        ]
                    },
                    "metadata": {},
                    "output_type": "display_data"
                }
            ],
            "source": [
                "directors_movies_df <- merge(x=name_crew_df,y=basics_df, by = \"tconst\")  %>% \n",
                "  select(-isAdult)\n",
                "head(directors_movies_df)\n"
            ]
        },
        {
            "cell_type": "code",
            "execution_count": null,
            "metadata": {
                "azdata_cell_guid": "700b4a93-3cc9-4050-97e1-be58b57a74c5",
                "language": "sql",
                "vscode": {
                    "languageId": "r"
                }
            },
            "outputs": [],
            "source": [
                "write_csv(directors_movies_df,\"directors_movies_df.csv\" )"
            ]
        },
        {
            "cell_type": "code",
            "execution_count": 6,
            "metadata": {
                "azdata_cell_guid": "b05a9009-0207-4201-9fa0-d6efcc22e8f8",
                "language": "sql",
                "vscode": {
                    "languageId": "r"
                }
            },
            "outputs": [
                {
                    "data": {
                        "text/html": [
                            "<table class=\"dataframe\">\n",
                            "<caption>A data.frame: 6 × 9</caption>\n",
                            "<thead>\n",
                            "\t<tr><th></th><th scope=col>tconst</th><th scope=col>titleType</th><th scope=col>primaryTitle</th><th scope=col>startYear</th><th scope=col>endYear</th><th scope=col>runtimeMinutes</th><th scope=col>genres</th><th scope=col>averageRating</th><th scope=col>numVotes</th></tr>\n",
                            "\t<tr><th></th><th scope=col>&lt;chr&gt;</th><th scope=col>&lt;chr&gt;</th><th scope=col>&lt;chr&gt;</th><th scope=col>&lt;chr&gt;</th><th scope=col>&lt;chr&gt;</th><th scope=col>&lt;chr&gt;</th><th scope=col>&lt;chr&gt;</th><th scope=col>&lt;dbl&gt;</th><th scope=col>&lt;dbl&gt;</th></tr>\n",
                            "</thead>\n",
                            "<tbody>\n",
                            "\t<tr><th scope=row>1</th><td>tt0000001</td><td>short</td><td>Carmencita            </td><td>1894</td><td>\\N</td><td>1 </td><td>Documentary,Short       </td><td>5.7</td><td>1966</td></tr>\n",
                            "\t<tr><th scope=row>2</th><td>tt0000002</td><td>short</td><td>Le clown et ses chiens</td><td>1892</td><td>\\N</td><td>5 </td><td>Animation,Short         </td><td>5.8</td><td> 263</td></tr>\n",
                            "\t<tr><th scope=row>3</th><td>tt0000003</td><td>short</td><td>Pauvre Pierrot        </td><td>1892</td><td>\\N</td><td>4 </td><td>Animation,Comedy,Romance</td><td>6.5</td><td>1803</td></tr>\n",
                            "\t<tr><th scope=row>4</th><td>tt0000004</td><td>short</td><td>Un bon bock           </td><td>1892</td><td>\\N</td><td>12</td><td>Animation,Short         </td><td>5.6</td><td> 179</td></tr>\n",
                            "\t<tr><th scope=row>5</th><td>tt0000005</td><td>short</td><td>Blacksmith Scene      </td><td>1893</td><td>\\N</td><td>1 </td><td>Comedy,Short            </td><td>6.2</td><td>2603</td></tr>\n",
                            "\t<tr><th scope=row>6</th><td>tt0000006</td><td>short</td><td>Chinese Opium Den     </td><td>1894</td><td>\\N</td><td>1 </td><td>Short                   </td><td>5.1</td><td> 178</td></tr>\n",
                            "</tbody>\n",
                            "</table>\n"
                        ],
                        "text/latex": [
                            "A data.frame: 6 × 9\n",
                            "\\begin{tabular}{r|lllllllll}\n",
                            "  & tconst & titleType & primaryTitle & startYear & endYear & runtimeMinutes & genres & averageRating & numVotes\\\\\n",
                            "  & <chr> & <chr> & <chr> & <chr> & <chr> & <chr> & <chr> & <dbl> & <dbl>\\\\\n",
                            "\\hline\n",
                            "\t1 & tt0000001 & short & Carmencita             & 1894 & \\textbackslash{}N & 1  & Documentary,Short        & 5.7 & 1966\\\\\n",
                            "\t2 & tt0000002 & short & Le clown et ses chiens & 1892 & \\textbackslash{}N & 5  & Animation,Short          & 5.8 &  263\\\\\n",
                            "\t3 & tt0000003 & short & Pauvre Pierrot         & 1892 & \\textbackslash{}N & 4  & Animation,Comedy,Romance & 6.5 & 1803\\\\\n",
                            "\t4 & tt0000004 & short & Un bon bock            & 1892 & \\textbackslash{}N & 12 & Animation,Short          & 5.6 &  179\\\\\n",
                            "\t5 & tt0000005 & short & Blacksmith Scene       & 1893 & \\textbackslash{}N & 1  & Comedy,Short             & 6.2 & 2603\\\\\n",
                            "\t6 & tt0000006 & short & Chinese Opium Den      & 1894 & \\textbackslash{}N & 1  & Short                    & 5.1 &  178\\\\\n",
                            "\\end{tabular}\n"
                        ],
                        "text/markdown": [
                            "\n",
                            "A data.frame: 6 × 9\n",
                            "\n",
                            "| <!--/--> | tconst &lt;chr&gt; | titleType &lt;chr&gt; | primaryTitle &lt;chr&gt; | startYear &lt;chr&gt; | endYear &lt;chr&gt; | runtimeMinutes &lt;chr&gt; | genres &lt;chr&gt; | averageRating &lt;dbl&gt; | numVotes &lt;dbl&gt; |\n",
                            "|---|---|---|---|---|---|---|---|---|---|\n",
                            "| 1 | tt0000001 | short | Carmencita             | 1894 | \\N | 1  | Documentary,Short        | 5.7 | 1966 |\n",
                            "| 2 | tt0000002 | short | Le clown et ses chiens | 1892 | \\N | 5  | Animation,Short          | 5.8 |  263 |\n",
                            "| 3 | tt0000003 | short | Pauvre Pierrot         | 1892 | \\N | 4  | Animation,Comedy,Romance | 6.5 | 1803 |\n",
                            "| 4 | tt0000004 | short | Un bon bock            | 1892 | \\N | 12 | Animation,Short          | 5.6 |  179 |\n",
                            "| 5 | tt0000005 | short | Blacksmith Scene       | 1893 | \\N | 1  | Comedy,Short             | 6.2 | 2603 |\n",
                            "| 6 | tt0000006 | short | Chinese Opium Den      | 1894 | \\N | 1  | Short                    | 5.1 |  178 |\n",
                            "\n"
                        ],
                        "text/plain": [
                            "  tconst    titleType primaryTitle           startYear endYear runtimeMinutes\n",
                            "1 tt0000001 short     Carmencita             1894      \\\\N     1             \n",
                            "2 tt0000002 short     Le clown et ses chiens 1892      \\\\N     5             \n",
                            "3 tt0000003 short     Pauvre Pierrot         1892      \\\\N     4             \n",
                            "4 tt0000004 short     Un bon bock            1892      \\\\N     12            \n",
                            "5 tt0000005 short     Blacksmith Scene       1893      \\\\N     1             \n",
                            "6 tt0000006 short     Chinese Opium Den      1894      \\\\N     1             \n",
                            "  genres                   averageRating numVotes\n",
                            "1 Documentary,Short        5.7           1966    \n",
                            "2 Animation,Short          5.8            263    \n",
                            "3 Animation,Comedy,Romance 6.5           1803    \n",
                            "4 Animation,Short          5.6            179    \n",
                            "5 Comedy,Short             6.2           2603    \n",
                            "6 Short                    5.1            178    "
                        ]
                    },
                    "metadata": {},
                    "output_type": "display_data"
                }
            ],
            "source": [
                "movies_ratings_df <- merge(x=basics_df,y=ratings_df,by = \"tconst\") %>% \n",
                "  select(-c(isAdult,originalTitle))\n",
                "head(movies_ratings_df)"
            ]
        },
        {
            "cell_type": "code",
            "execution_count": null,
            "metadata": {
                "azdata_cell_guid": "72ba39de-c876-4700-9394-2ca770949d8f",
                "language": "sql",
                "vscode": {
                    "languageId": "r"
                }
            },
            "outputs": [],
            "source": [
                "movies_ratings_df <- read_csv(\"movies_ratings_df.csv\" )"
            ]
        },
        {
            "cell_type": "code",
            "execution_count": 5,
            "metadata": {
                "azdata_cell_guid": "7c21425b-c2c3-4290-a31f-f0011f866790",
                "language": "sql",
                "vscode": {
                    "languageId": "r"
                }
            },
            "outputs": [
                {
                    "name": "stderr",
                    "output_type": "stream",
                    "text": [
                        "Warning message:\n",
                        "\"\u001b[1m\u001b[22mExpected 4 pieces. Additional pieces discarded in 19 rows [2361320, 2849379,\n",
                        "3755995, 4204600, 5620268, 5648010, 7083996, 7253152, 7566389, 7852305,\n",
                        "8341599, 8758476, 9344118, 9906085, 10009822, 10714929, 11198611, 11379759,\n",
                        "11597477].\"\n",
                        "Warning message:\n",
                        "\"\u001b[1m\u001b[22mExpected 4 pieces. Missing pieces filled with `NA` in 10212065 rows [477, 557,\n",
                        "666, 716, 967, 1063, 1364, 1385, 1389, 1390, 1492, 1621, 1663, 1696, 1710,\n",
                        "1741, 1756, 1878, 2073, 2211, ...].\"\n"
                    ]
                },
                {
                    "data": {
                        "text/html": [
                            "<table class=\"dataframe\">\n",
                            "<caption>A tibble: 6 × 9</caption>\n",
                            "<thead>\n",
                            "\t<tr><th scope=col>nconst</th><th scope=col>primaryName</th><th scope=col>birthYear</th><th scope=col>deathYear</th><th scope=col>primaryProfession</th><th scope=col>t_1</th><th scope=col>t_2</th><th scope=col>t_3</th><th scope=col>t_4</th></tr>\n",
                            "\t<tr><th scope=col>&lt;chr&gt;</th><th scope=col>&lt;chr&gt;</th><th scope=col>&lt;chr&gt;</th><th scope=col>&lt;chr&gt;</th><th scope=col>&lt;chr&gt;</th><th scope=col>&lt;chr&gt;</th><th scope=col>&lt;chr&gt;</th><th scope=col>&lt;chr&gt;</th><th scope=col>&lt;chr&gt;</th></tr>\n",
                            "</thead>\n",
                            "<tbody>\n",
                            "\t<tr><td>nm0000001</td><td>Fred Astaire   </td><td>1899</td><td>1987</td><td>soundtrack,actor,miscellaneous     </td><td>tt0072308</td><td>tt0053137</td><td>tt0050419</td><td>tt0045537</td></tr>\n",
                            "\t<tr><td>nm0000002</td><td>Lauren Bacall  </td><td>1924</td><td>2014</td><td>actress,soundtrack                 </td><td>tt0037382</td><td>tt0075213</td><td>tt0117057</td><td>tt0038355</td></tr>\n",
                            "\t<tr><td>nm0000003</td><td>Brigitte Bardot</td><td>1934</td><td>\\N </td><td>actress,soundtrack,music_department</td><td>tt0056404</td><td>tt0054452</td><td>tt0057345</td><td>tt0049189</td></tr>\n",
                            "\t<tr><td>nm0000004</td><td>John Belushi   </td><td>1949</td><td>1982</td><td>actor,soundtrack,writer            </td><td>tt0078723</td><td>tt0080455</td><td>tt0072562</td><td>tt0077975</td></tr>\n",
                            "\t<tr><td>nm0000005</td><td>Ingmar Bergman </td><td>1918</td><td>2007</td><td>writer,director,actor              </td><td>tt0083922</td><td>tt0050976</td><td>tt0050986</td><td>tt0060827</td></tr>\n",
                            "\t<tr><td>nm0000006</td><td>Ingrid Bergman </td><td>1915</td><td>1982</td><td>actress,soundtrack,producer        </td><td>tt0036855</td><td>tt0038787</td><td>tt0038109</td><td>tt0034583</td></tr>\n",
                            "</tbody>\n",
                            "</table>\n"
                        ],
                        "text/latex": [
                            "A tibble: 6 × 9\n",
                            "\\begin{tabular}{lllllllll}\n",
                            " nconst & primaryName & birthYear & deathYear & primaryProfession & t\\_1 & t\\_2 & t\\_3 & t\\_4\\\\\n",
                            " <chr> & <chr> & <chr> & <chr> & <chr> & <chr> & <chr> & <chr> & <chr>\\\\\n",
                            "\\hline\n",
                            "\t nm0000001 & Fred Astaire    & 1899 & 1987 & soundtrack,actor,miscellaneous      & tt0072308 & tt0053137 & tt0050419 & tt0045537\\\\\n",
                            "\t nm0000002 & Lauren Bacall   & 1924 & 2014 & actress,soundtrack                  & tt0037382 & tt0075213 & tt0117057 & tt0038355\\\\\n",
                            "\t nm0000003 & Brigitte Bardot & 1934 & \\textbackslash{}N  & actress,soundtrack,music\\_department & tt0056404 & tt0054452 & tt0057345 & tt0049189\\\\\n",
                            "\t nm0000004 & John Belushi    & 1949 & 1982 & actor,soundtrack,writer             & tt0078723 & tt0080455 & tt0072562 & tt0077975\\\\\n",
                            "\t nm0000005 & Ingmar Bergman  & 1918 & 2007 & writer,director,actor               & tt0083922 & tt0050976 & tt0050986 & tt0060827\\\\\n",
                            "\t nm0000006 & Ingrid Bergman  & 1915 & 1982 & actress,soundtrack,producer         & tt0036855 & tt0038787 & tt0038109 & tt0034583\\\\\n",
                            "\\end{tabular}\n"
                        ],
                        "text/markdown": [
                            "\n",
                            "A tibble: 6 × 9\n",
                            "\n",
                            "| nconst &lt;chr&gt; | primaryName &lt;chr&gt; | birthYear &lt;chr&gt; | deathYear &lt;chr&gt; | primaryProfession &lt;chr&gt; | t_1 &lt;chr&gt; | t_2 &lt;chr&gt; | t_3 &lt;chr&gt; | t_4 &lt;chr&gt; |\n",
                            "|---|---|---|---|---|---|---|---|---|\n",
                            "| nm0000001 | Fred Astaire    | 1899 | 1987 | soundtrack,actor,miscellaneous      | tt0072308 | tt0053137 | tt0050419 | tt0045537 |\n",
                            "| nm0000002 | Lauren Bacall   | 1924 | 2014 | actress,soundtrack                  | tt0037382 | tt0075213 | tt0117057 | tt0038355 |\n",
                            "| nm0000003 | Brigitte Bardot | 1934 | \\N  | actress,soundtrack,music_department | tt0056404 | tt0054452 | tt0057345 | tt0049189 |\n",
                            "| nm0000004 | John Belushi    | 1949 | 1982 | actor,soundtrack,writer             | tt0078723 | tt0080455 | tt0072562 | tt0077975 |\n",
                            "| nm0000005 | Ingmar Bergman  | 1918 | 2007 | writer,director,actor               | tt0083922 | tt0050976 | tt0050986 | tt0060827 |\n",
                            "| nm0000006 | Ingrid Bergman  | 1915 | 1982 | actress,soundtrack,producer         | tt0036855 | tt0038787 | tt0038109 | tt0034583 |\n",
                            "\n"
                        ],
                        "text/plain": [
                            "  nconst    primaryName     birthYear deathYear\n",
                            "1 nm0000001 Fred Astaire    1899      1987     \n",
                            "2 nm0000002 Lauren Bacall   1924      2014     \n",
                            "3 nm0000003 Brigitte Bardot 1934      \\\\N      \n",
                            "4 nm0000004 John Belushi    1949      1982     \n",
                            "5 nm0000005 Ingmar Bergman  1918      2007     \n",
                            "6 nm0000006 Ingrid Bergman  1915      1982     \n",
                            "  primaryProfession                   t_1       t_2       t_3       t_4      \n",
                            "1 soundtrack,actor,miscellaneous      tt0072308 tt0053137 tt0050419 tt0045537\n",
                            "2 actress,soundtrack                  tt0037382 tt0075213 tt0117057 tt0038355\n",
                            "3 actress,soundtrack,music_department tt0056404 tt0054452 tt0057345 tt0049189\n",
                            "4 actor,soundtrack,writer             tt0078723 tt0080455 tt0072562 tt0077975\n",
                            "5 writer,director,actor               tt0083922 tt0050976 tt0050986 tt0060827\n",
                            "6 actress,soundtrack,producer         tt0036855 tt0038787 tt0038109 tt0034583"
                        ]
                    },
                    "metadata": {},
                    "output_type": "display_data"
                }
            ],
            "source": [
                "name_df2 <- name_df %>% \n",
                "  separate(knownForTitles,c(\"t_1\",\"t_2\", \"t_3\", \"t_4\"), sep=\",\") \n",
                "head(name_df2)"
            ]
        },
        {
            "cell_type": "code",
            "execution_count": 7,
            "metadata": {
                "azdata_cell_guid": "3096bea9-6b93-4583-a2ad-8c7eeb80e886",
                "language": "sql",
                "vscode": {
                    "languageId": "r"
                }
            },
            "outputs": [
                {
                    "name": "stderr",
                    "output_type": "stream",
                    "text": [
                        "\u001b[1m\u001b[22mJoining with `by = join_by(tconst)`\n"
                    ]
                },
                {
                    "data": {
                        "text/html": [
                            "<table class=\"dataframe\">\n",
                            "<caption>A data.frame: 6 × 15</caption>\n",
                            "<thead>\n",
                            "\t<tr><th></th><th scope=col>tconst</th><th scope=col>titleType</th><th scope=col>primaryTitle</th><th scope=col>startYear</th><th scope=col>endYear</th><th scope=col>runtimeMinutes</th><th scope=col>genres</th><th scope=col>averageRating</th><th scope=col>numVotes</th><th scope=col>nconst</th><th scope=col>primaryName</th><th scope=col>birthYear</th><th scope=col>deathYear</th><th scope=col>primaryProfession</th><th scope=col>name</th></tr>\n",
                            "\t<tr><th></th><th scope=col>&lt;chr&gt;</th><th scope=col>&lt;chr&gt;</th><th scope=col>&lt;chr&gt;</th><th scope=col>&lt;chr&gt;</th><th scope=col>&lt;chr&gt;</th><th scope=col>&lt;chr&gt;</th><th scope=col>&lt;chr&gt;</th><th scope=col>&lt;dbl&gt;</th><th scope=col>&lt;dbl&gt;</th><th scope=col>&lt;chr&gt;</th><th scope=col>&lt;chr&gt;</th><th scope=col>&lt;chr&gt;</th><th scope=col>&lt;chr&gt;</th><th scope=col>&lt;chr&gt;</th><th scope=col>&lt;chr&gt;</th></tr>\n",
                            "</thead>\n",
                            "<tbody>\n",
                            "\t<tr><th scope=row>1</th><td>tt0000001</td><td>short</td><td>Carmencita            </td><td>1894</td><td>\\N</td><td>1</td><td>Documentary,Short       </td><td>5.7</td><td>1966</td><td>nm1588970</td><td>Carmencita   </td><td>1868</td><td>1910</td><td>soundtrack                                   </td><td>t_2</td></tr>\n",
                            "\t<tr><th scope=row>2</th><td>tt0000002</td><td>short</td><td>Le clown et ses chiens</td><td>1892</td><td>\\N</td><td>5</td><td>Animation,Short         </td><td>5.8</td><td> 263</td><td>NA       </td><td>NA           </td><td>NA  </td><td>NA  </td><td>NA                                           </td><td>NA </td></tr>\n",
                            "\t<tr><th scope=row>3</th><td>tt0000003</td><td>short</td><td>Pauvre Pierrot        </td><td>1892</td><td>\\N</td><td>4</td><td>Animation,Comedy,Romance</td><td>6.5</td><td>1803</td><td>nm0721526</td><td>Émile Reynaud</td><td>1844</td><td>1918</td><td>director,animation_department,producer       </td><td>t_2</td></tr>\n",
                            "\t<tr><th scope=row>4</th><td>tt0000003</td><td>short</td><td>Pauvre Pierrot        </td><td>1892</td><td>\\N</td><td>4</td><td>Animation,Comedy,Romance</td><td>6.5</td><td>1803</td><td>nm1335271</td><td>Gaston Paulin</td><td>\\N </td><td>1921</td><td>composer                                     </td><td>t_2</td></tr>\n",
                            "\t<tr><th scope=row>5</th><td>tt0000003</td><td>short</td><td>Pauvre Pierrot        </td><td>1892</td><td>\\N</td><td>4</td><td>Animation,Comedy,Romance</td><td>6.5</td><td>1803</td><td>nm1770680</td><td>Julien Pappé </td><td>1920</td><td>2005</td><td>cinematographer,director,animation_department</td><td>t_1</td></tr>\n",
                            "\t<tr><th scope=row>6</th><td>tt0000003</td><td>short</td><td>Pauvre Pierrot        </td><td>1892</td><td>\\N</td><td>4</td><td>Animation,Comedy,Romance</td><td>6.5</td><td>1803</td><td>nm5442200</td><td>Tamara Pappé </td><td>\\N </td><td>\\N </td><td>editor                                       </td><td>t_1</td></tr>\n",
                            "</tbody>\n",
                            "</table>\n"
                        ],
                        "text/latex": [
                            "A data.frame: 6 × 15\n",
                            "\\begin{tabular}{r|lllllllllllllll}\n",
                            "  & tconst & titleType & primaryTitle & startYear & endYear & runtimeMinutes & genres & averageRating & numVotes & nconst & primaryName & birthYear & deathYear & primaryProfession & name\\\\\n",
                            "  & <chr> & <chr> & <chr> & <chr> & <chr> & <chr> & <chr> & <dbl> & <dbl> & <chr> & <chr> & <chr> & <chr> & <chr> & <chr>\\\\\n",
                            "\\hline\n",
                            "\t1 & tt0000001 & short & Carmencita             & 1894 & \\textbackslash{}N & 1 & Documentary,Short        & 5.7 & 1966 & nm1588970 & Carmencita    & 1868 & 1910 & soundtrack                                    & t\\_2\\\\\n",
                            "\t2 & tt0000002 & short & Le clown et ses chiens & 1892 & \\textbackslash{}N & 5 & Animation,Short          & 5.8 &  263 & NA        & NA            & NA   & NA   & NA                                            & NA \\\\\n",
                            "\t3 & tt0000003 & short & Pauvre Pierrot         & 1892 & \\textbackslash{}N & 4 & Animation,Comedy,Romance & 6.5 & 1803 & nm0721526 & Émile Reynaud & 1844 & 1918 & director,animation\\_department,producer        & t\\_2\\\\\n",
                            "\t4 & tt0000003 & short & Pauvre Pierrot         & 1892 & \\textbackslash{}N & 4 & Animation,Comedy,Romance & 6.5 & 1803 & nm1335271 & Gaston Paulin & \\textbackslash{}N  & 1921 & composer                                      & t\\_2\\\\\n",
                            "\t5 & tt0000003 & short & Pauvre Pierrot         & 1892 & \\textbackslash{}N & 4 & Animation,Comedy,Romance & 6.5 & 1803 & nm1770680 & Julien Pappé  & 1920 & 2005 & cinematographer,director,animation\\_department & t\\_1\\\\\n",
                            "\t6 & tt0000003 & short & Pauvre Pierrot         & 1892 & \\textbackslash{}N & 4 & Animation,Comedy,Romance & 6.5 & 1803 & nm5442200 & Tamara Pappé  & \\textbackslash{}N  & \\textbackslash{}N  & editor                                        & t\\_1\\\\\n",
                            "\\end{tabular}\n"
                        ],
                        "text/markdown": [
                            "\n",
                            "A data.frame: 6 × 15\n",
                            "\n",
                            "| <!--/--> | tconst &lt;chr&gt; | titleType &lt;chr&gt; | primaryTitle &lt;chr&gt; | startYear &lt;chr&gt; | endYear &lt;chr&gt; | runtimeMinutes &lt;chr&gt; | genres &lt;chr&gt; | averageRating &lt;dbl&gt; | numVotes &lt;dbl&gt; | nconst &lt;chr&gt; | primaryName &lt;chr&gt; | birthYear &lt;chr&gt; | deathYear &lt;chr&gt; | primaryProfession &lt;chr&gt; | name &lt;chr&gt; |\n",
                            "|---|---|---|---|---|---|---|---|---|---|---|---|---|---|---|---|\n",
                            "| 1 | tt0000001 | short | Carmencita             | 1894 | \\N | 1 | Documentary,Short        | 5.7 | 1966 | nm1588970 | Carmencita    | 1868 | 1910 | soundtrack                                    | t_2 |\n",
                            "| 2 | tt0000002 | short | Le clown et ses chiens | 1892 | \\N | 5 | Animation,Short          | 5.8 |  263 | NA        | NA            | NA   | NA   | NA                                            | NA  |\n",
                            "| 3 | tt0000003 | short | Pauvre Pierrot         | 1892 | \\N | 4 | Animation,Comedy,Romance | 6.5 | 1803 | nm0721526 | Émile Reynaud | 1844 | 1918 | director,animation_department,producer        | t_2 |\n",
                            "| 4 | tt0000003 | short | Pauvre Pierrot         | 1892 | \\N | 4 | Animation,Comedy,Romance | 6.5 | 1803 | nm1335271 | Gaston Paulin | \\N  | 1921 | composer                                      | t_2 |\n",
                            "| 5 | tt0000003 | short | Pauvre Pierrot         | 1892 | \\N | 4 | Animation,Comedy,Romance | 6.5 | 1803 | nm1770680 | Julien Pappé  | 1920 | 2005 | cinematographer,director,animation_department | t_1 |\n",
                            "| 6 | tt0000003 | short | Pauvre Pierrot         | 1892 | \\N | 4 | Animation,Comedy,Romance | 6.5 | 1803 | nm5442200 | Tamara Pappé  | \\N  | \\N  | editor                                        | t_1 |\n",
                            "\n"
                        ],
                        "text/plain": [
                            "  tconst    titleType primaryTitle           startYear endYear runtimeMinutes\n",
                            "1 tt0000001 short     Carmencita             1894      \\\\N     1             \n",
                            "2 tt0000002 short     Le clown et ses chiens 1892      \\\\N     5             \n",
                            "3 tt0000003 short     Pauvre Pierrot         1892      \\\\N     4             \n",
                            "4 tt0000003 short     Pauvre Pierrot         1892      \\\\N     4             \n",
                            "5 tt0000003 short     Pauvre Pierrot         1892      \\\\N     4             \n",
                            "6 tt0000003 short     Pauvre Pierrot         1892      \\\\N     4             \n",
                            "  genres                   averageRating numVotes nconst    primaryName  \n",
                            "1 Documentary,Short        5.7           1966     nm1588970 Carmencita   \n",
                            "2 Animation,Short          5.8            263     NA        NA           \n",
                            "3 Animation,Comedy,Romance 6.5           1803     nm0721526 Émile Reynaud\n",
                            "4 Animation,Comedy,Romance 6.5           1803     nm1335271 Gaston Paulin\n",
                            "5 Animation,Comedy,Romance 6.5           1803     nm1770680 Julien Pappé \n",
                            "6 Animation,Comedy,Romance 6.5           1803     nm5442200 Tamara Pappé \n",
                            "  birthYear deathYear primaryProfession                             name\n",
                            "1 1868      1910      soundtrack                                    t_2 \n",
                            "2 NA        NA        NA                                            NA  \n",
                            "3 1844      1918      director,animation_department,producer        t_2 \n",
                            "4 \\\\N       1921      composer                                      t_2 \n",
                            "5 1920      2005      cinematographer,director,animation_department t_1 \n",
                            "6 \\\\N       \\\\N       editor                                        t_1 "
                        ]
                    },
                    "metadata": {},
                    "output_type": "display_data"
                }
            ],
            "source": [
                "final_set <- movies_ratings_df  %>%  \n",
                "  left_join(\n",
                "    name_df2 %>% \n",
                "      pivot_longer(c(starts_with(\"t_\")), values_to = \"tconst\"))\n",
                "head(final_set)"
            ]
        },
        {
            "cell_type": "code",
            "execution_count": null,
            "metadata": {
                "azdata_cell_guid": "e9e722c6-19f4-4e99-ba55-6f77c64e7d50",
                "language": "sql",
                "vscode": {
                    "languageId": "r"
                }
            },
            "outputs": [],
            "source": [
                "write_csv(final_set,\"final_set.csv\")"
            ]
        },
        {
            "attachments": {},
            "cell_type": "markdown",
            "metadata": {
                "azdata_cell_guid": "b3d9295b-7695-4f22-937c-42db3567c434"
            },
            "source": [
                "Then I imported the resulting data sets into MS SQL.\n",
                "\n",
                "\n"
            ]
        },
        {
            "attachments": {},
            "cell_type": "markdown",
            "metadata": {
                "azdata_cell_guid": "92a0ac00-f105-4fa7-9226-1e8a7d5abbcd"
            },
            "source": [
                "#### 4.3. Merging with IMDB\n",
                "First I joined final data set (R) with movies I watched as \"main_movie_list\"."
            ]
        },
        {
            "cell_type": "code",
            "execution_count": null,
            "metadata": {
                "azdata_cell_guid": "eda8576f-36aa-41fb-b41c-77c5f7a3cb32",
                "language": "sql",
                "tags": [],
                "vscode": {
                    "languageId": "r"
                }
            },
            "outputs": [],
            "source": [
                "DROP TABLE IF EXISTS my_only_movies\n",
                "SELECT main_movie_list.*, \n",
                "      final_set.tconst,\n",
                "      final_set.titleType,\n",
                "      final_set.primaryTitle,\n",
                "      final_set.startYear,\n",
                "      final_set.endYear,\n",
                "      final_set.runtimeMinutes,\n",
                "      final_set.genres,\n",
                "      final_set.averageRating,\n",
                "      final_set.numVotes\n",
                "INTO my_only_movies\n",
                "  FROM main_movie_list\n",
                "  LEFT JOIN final_set\n",
                "  ON main_movie_list.english_movie_names =\n",
                "   CASE \n",
                "  WHEN final_set.titleType LIKE '%ovie%' or final_set.titleType LIKE '%ideo%' THEN final_set.primaryTitle \n",
                "  END\n",
                "AND\n",
                "main_movie_list.release_year =\n",
                "CASE\n",
                "WHEN final_set.titleType LIKE '%ovie%' or final_set.titleType LIKE '%ideo%' THEN final_set.startYear \n",
                "END"
            ]
        },
        {
            "cell_type": "code",
            "execution_count": 13,
            "metadata": {
                "azdata_cell_guid": "e859e676-f402-4445-93c8-a3b6032a8a0e",
                "language": "sql",
                "tags": [],
                "vscode": {
                    "languageId": "r"
                }
            },
            "outputs": [
                {
                    "data": {
                        "text/html": [
                            "(10 rows affected)"
                        ]
                    },
                    "metadata": {},
                    "output_type": "display_data"
                },
                {
                    "data": {
                        "text/html": [
                            "Total execution time: 00:00:00.026"
                        ]
                    },
                    "metadata": {},
                    "output_type": "display_data"
                },
                {
                    "data": {
                        "application/vnd.dataresource+json": {
                            "data": [
                                {
                                    "0": "1190",
                                    "1": "Аладдин ",
                                    "2": "Aladdin",
                                    "3": "1992",
                                    "4": "9",
                                    "5": "301139",
                                    "6": "8,164",
                                    "7": "2361",
                                    "8": "24.06.2011, 09:26",
                                    "9": "tt0103639",
                                    "10": "movie",
                                    "11": "Aladdin",
                                    "12": "1992",
                                    "13": "\\N",
                                    "14": "90",
                                    "15": "Adventure,Animation,Comedy",
                                    "16": "8",
                                    "17": "430849"
                                },
                                {
                                    "0": "1190",
                                    "1": "Аладдин ",
                                    "2": "Aladdin",
                                    "3": "1992",
                                    "4": "9",
                                    "5": "301139",
                                    "6": "8,164",
                                    "7": "2361",
                                    "8": "24.06.2011, 09:26",
                                    "9": "tt0103639",
                                    "10": "movie",
                                    "11": "Aladdin",
                                    "12": "1992",
                                    "13": "\\N",
                                    "14": "90",
                                    "15": "Adventure,Animation,Comedy",
                                    "16": "8",
                                    "17": "430849"
                                },
                                {
                                    "0": "1190",
                                    "1": "Аладдин ",
                                    "2": "Aladdin",
                                    "3": "1992",
                                    "4": "9",
                                    "5": "301139",
                                    "6": "8,164",
                                    "7": "2361",
                                    "8": "24.06.2011, 09:26",
                                    "9": "tt0103639",
                                    "10": "movie",
                                    "11": "Aladdin",
                                    "12": "1992",
                                    "13": "\\N",
                                    "14": "90",
                                    "15": "Adventure,Animation,Comedy",
                                    "16": "8",
                                    "17": "430849"
                                },
                                {
                                    "0": "1190",
                                    "1": "Аладдин ",
                                    "2": "Aladdin",
                                    "3": "1992",
                                    "4": "9",
                                    "5": "301139",
                                    "6": "8,164",
                                    "7": "2361",
                                    "8": "24.06.2011, 09:26",
                                    "9": "tt0103639",
                                    "10": "movie",
                                    "11": "Aladdin",
                                    "12": "1992",
                                    "13": "\\N",
                                    "14": "90",
                                    "15": "Adventure,Animation,Comedy",
                                    "16": "8",
                                    "17": "430849"
                                },
                                {
                                    "0": "1190",
                                    "1": "Аладдин ",
                                    "2": "Aladdin",
                                    "3": "1992",
                                    "4": "9",
                                    "5": "301139",
                                    "6": "8,164",
                                    "7": "2361",
                                    "8": "24.06.2011, 09:26",
                                    "9": "tt0103639",
                                    "10": "movie",
                                    "11": "Aladdin",
                                    "12": "1992",
                                    "13": "\\N",
                                    "14": "90",
                                    "15": "Adventure,Animation,Comedy",
                                    "16": "8",
                                    "17": "430849"
                                },
                                {
                                    "0": "1190",
                                    "1": "Аладдин ",
                                    "2": "Aladdin",
                                    "3": "1992",
                                    "4": "9",
                                    "5": "301139",
                                    "6": "8,164",
                                    "7": "2361",
                                    "8": "24.06.2011, 09:26",
                                    "9": "tt0103639",
                                    "10": "movie",
                                    "11": "Aladdin",
                                    "12": "1992",
                                    "13": "\\N",
                                    "14": "90",
                                    "15": "Adventure,Animation,Comedy",
                                    "16": "8",
                                    "17": "430849"
                                },
                                {
                                    "0": "1190",
                                    "1": "Аладдин ",
                                    "2": "Aladdin",
                                    "3": "1992",
                                    "4": "9",
                                    "5": "301139",
                                    "6": "8,164",
                                    "7": "2361",
                                    "8": "24.06.2011, 09:26",
                                    "9": "tt0103639",
                                    "10": "movie",
                                    "11": "Aladdin",
                                    "12": "1992",
                                    "13": "\\N",
                                    "14": "90",
                                    "15": "Adventure,Animation,Comedy",
                                    "16": "8",
                                    "17": "430849"
                                },
                                {
                                    "0": "1190",
                                    "1": "Аладдин ",
                                    "2": "Aladdin",
                                    "3": "1992",
                                    "4": "9",
                                    "5": "301139",
                                    "6": "8,164",
                                    "7": "2361",
                                    "8": "24.06.2011, 09:26",
                                    "9": "tt0103639",
                                    "10": "movie",
                                    "11": "Aladdin",
                                    "12": "1992",
                                    "13": "\\N",
                                    "14": "90",
                                    "15": "Adventure,Animation,Comedy",
                                    "16": "8",
                                    "17": "430849"
                                },
                                {
                                    "0": "1190",
                                    "1": "Аладдин ",
                                    "2": "Aladdin",
                                    "3": "1992",
                                    "4": "9",
                                    "5": "301139",
                                    "6": "8,164",
                                    "7": "2361",
                                    "8": "24.06.2011, 09:26",
                                    "9": "tt0103639",
                                    "10": "movie",
                                    "11": "Aladdin",
                                    "12": "1992",
                                    "13": "\\N",
                                    "14": "90",
                                    "15": "Adventure,Animation,Comedy",
                                    "16": "8",
                                    "17": "430849"
                                },
                                {
                                    "0": "1190",
                                    "1": "Аладдин ",
                                    "2": "Aladdin",
                                    "3": "1992",
                                    "4": "9",
                                    "5": "301139",
                                    "6": "8,164",
                                    "7": "2361",
                                    "8": "24.06.2011, 09:26",
                                    "9": "tt0103639",
                                    "10": "movie",
                                    "11": "Aladdin",
                                    "12": "1992",
                                    "13": "\\N",
                                    "14": "90",
                                    "15": "Adventure,Animation,Comedy",
                                    "16": "8",
                                    "17": "430849"
                                }
                            ],
                            "schema": {
                                "fields": [
                                    {
                                        "name": "id"
                                    },
                                    {
                                        "name": "russian_movie_names"
                                    },
                                    {
                                        "name": "english_movie_names"
                                    },
                                    {
                                        "name": "release_year"
                                    },
                                    {
                                        "name": "user_ratings"
                                    },
                                    {
                                        "name": "user_rating_count"
                                    },
                                    {
                                        "name": "kinopoisk_ratings"
                                    },
                                    {
                                        "name": "kinopoisk_ids"
                                    },
                                    {
                                        "name": "date_of_rating"
                                    },
                                    {
                                        "name": "tconst"
                                    },
                                    {
                                        "name": "titleType"
                                    },
                                    {
                                        "name": "primaryTitle"
                                    },
                                    {
                                        "name": "startYear"
                                    },
                                    {
                                        "name": "endYear"
                                    },
                                    {
                                        "name": "runtimeMinutes"
                                    },
                                    {
                                        "name": "genres"
                                    },
                                    {
                                        "name": "averageRating"
                                    },
                                    {
                                        "name": "numVotes"
                                    }
                                ]
                            }
                        },
                        "text/html": [
                            "<table><tr><th>id</th><th>russian_movie_names</th><th>english_movie_names</th><th>release_year</th><th>user_ratings</th><th>user_rating_count</th><th>kinopoisk_ratings</th><th>kinopoisk_ids</th><th>date_of_rating</th><th>tconst</th><th>titleType</th><th>primaryTitle</th><th>startYear</th><th>endYear</th><th>runtimeMinutes</th><th>genres</th><th>averageRating</th><th>numVotes</th></tr><tr><td>1190</td><td>Аладдин </td><td>Aladdin</td><td>1992</td><td>9</td><td>301139</td><td>8,164</td><td>2361</td><td>24.06.2011, 09:26</td><td>tt0103639</td><td>movie</td><td>Aladdin</td><td>1992</td><td>\\N</td><td>90</td><td>Adventure,Animation,Comedy</td><td>8</td><td>430849</td></tr><tr><td>1190</td><td>Аладдин </td><td>Aladdin</td><td>1992</td><td>9</td><td>301139</td><td>8,164</td><td>2361</td><td>24.06.2011, 09:26</td><td>tt0103639</td><td>movie</td><td>Aladdin</td><td>1992</td><td>\\N</td><td>90</td><td>Adventure,Animation,Comedy</td><td>8</td><td>430849</td></tr><tr><td>1190</td><td>Аладдин </td><td>Aladdin</td><td>1992</td><td>9</td><td>301139</td><td>8,164</td><td>2361</td><td>24.06.2011, 09:26</td><td>tt0103639</td><td>movie</td><td>Aladdin</td><td>1992</td><td>\\N</td><td>90</td><td>Adventure,Animation,Comedy</td><td>8</td><td>430849</td></tr><tr><td>1190</td><td>Аладдин </td><td>Aladdin</td><td>1992</td><td>9</td><td>301139</td><td>8,164</td><td>2361</td><td>24.06.2011, 09:26</td><td>tt0103639</td><td>movie</td><td>Aladdin</td><td>1992</td><td>\\N</td><td>90</td><td>Adventure,Animation,Comedy</td><td>8</td><td>430849</td></tr><tr><td>1190</td><td>Аладдин </td><td>Aladdin</td><td>1992</td><td>9</td><td>301139</td><td>8,164</td><td>2361</td><td>24.06.2011, 09:26</td><td>tt0103639</td><td>movie</td><td>Aladdin</td><td>1992</td><td>\\N</td><td>90</td><td>Adventure,Animation,Comedy</td><td>8</td><td>430849</td></tr><tr><td>1190</td><td>Аладдин </td><td>Aladdin</td><td>1992</td><td>9</td><td>301139</td><td>8,164</td><td>2361</td><td>24.06.2011, 09:26</td><td>tt0103639</td><td>movie</td><td>Aladdin</td><td>1992</td><td>\\N</td><td>90</td><td>Adventure,Animation,Comedy</td><td>8</td><td>430849</td></tr><tr><td>1190</td><td>Аладдин </td><td>Aladdin</td><td>1992</td><td>9</td><td>301139</td><td>8,164</td><td>2361</td><td>24.06.2011, 09:26</td><td>tt0103639</td><td>movie</td><td>Aladdin</td><td>1992</td><td>\\N</td><td>90</td><td>Adventure,Animation,Comedy</td><td>8</td><td>430849</td></tr><tr><td>1190</td><td>Аладдин </td><td>Aladdin</td><td>1992</td><td>9</td><td>301139</td><td>8,164</td><td>2361</td><td>24.06.2011, 09:26</td><td>tt0103639</td><td>movie</td><td>Aladdin</td><td>1992</td><td>\\N</td><td>90</td><td>Adventure,Animation,Comedy</td><td>8</td><td>430849</td></tr><tr><td>1190</td><td>Аладдин </td><td>Aladdin</td><td>1992</td><td>9</td><td>301139</td><td>8,164</td><td>2361</td><td>24.06.2011, 09:26</td><td>tt0103639</td><td>movie</td><td>Aladdin</td><td>1992</td><td>\\N</td><td>90</td><td>Adventure,Animation,Comedy</td><td>8</td><td>430849</td></tr><tr><td>1190</td><td>Аладдин </td><td>Aladdin</td><td>1992</td><td>9</td><td>301139</td><td>8,164</td><td>2361</td><td>24.06.2011, 09:26</td><td>tt0103639</td><td>movie</td><td>Aladdin</td><td>1992</td><td>\\N</td><td>90</td><td>Adventure,Animation,Comedy</td><td>8</td><td>430849</td></tr></table>"
                        ]
                    },
                    "execution_count": 13,
                    "metadata": {},
                    "output_type": "execute_result"
                }
            ],
            "source": [
                "SELECT TOP 10 *\n",
                "FROM my_only_movies"
            ]
        },
        {
            "attachments": {},
            "cell_type": "markdown",
            "metadata": {
                "azdata_cell_guid": "11ae9e3c-f211-4a64-9cb8-1bc705fe8c04"
            },
            "source": [
                "I counted distinct rows from this data and merged."
            ]
        },
        {
            "cell_type": "code",
            "execution_count": 14,
            "metadata": {
                "azdata_cell_guid": "29ecdbdf-f672-4864-a9b2-1d2728436c9a",
                "language": "sql",
                "tags": [],
                "vscode": {
                    "languageId": "r"
                }
            },
            "outputs": [
                {
                    "data": {
                        "text/html": [
                            "Внимание! Значение NULL исключено в агрегатных или других операциях SET."
                        ]
                    },
                    "metadata": {},
                    "output_type": "display_data"
                },
                {
                    "data": {
                        "text/html": [
                            "(1 row affected)"
                        ]
                    },
                    "metadata": {},
                    "output_type": "display_data"
                },
                {
                    "data": {
                        "text/html": [
                            "Total execution time: 00:00:00.097"
                        ]
                    },
                    "metadata": {},
                    "output_type": "display_data"
                },
                {
                    "data": {
                        "application/vnd.dataresource+json": {
                            "data": [
                                {
                                    "0": "925",
                                    "1": "1216"
                                }
                            ],
                            "schema": {
                                "fields": [
                                    {
                                        "name": "(No column name)"
                                    },
                                    {
                                        "name": "(No column name)"
                                    }
                                ]
                            }
                        },
                        "text/html": [
                            "<table><tr><th>(No column name)</th><th>(No column name)</th></tr><tr><td>925</td><td>1216</td></tr></table>"
                        ]
                    },
                    "execution_count": 14,
                    "metadata": {},
                    "output_type": "execute_result"
                }
            ],
            "source": [
                "SELECT APPROX_COUNT_DISTINCT(tconst), APPROX_COUNT_DISTINCT(id)\n",
                "FROM my_only_movies /*925, 1216*/"
            ]
        },
        {
            "attachments": {},
            "cell_type": "markdown",
            "metadata": {
                "azdata_cell_guid": "22602491-6b93-4368-b2e0-965b4ae959c1",
                "language": "sql"
            },
            "source": [
                "Then I removed russian movies as IMDB doesn't contain titles in russian, with that it had -63 rows."
            ]
        },
        {
            "cell_type": "code",
            "execution_count": 15,
            "metadata": {
                "azdata_cell_guid": "8fdc27dd-6358-4806-89a2-d4aa97da2d1a",
                "language": "sql",
                "vscode": {
                    "languageId": "r"
                }
            },
            "outputs": [
                {
                    "data": {
                        "text/html": [
                            "(66 rows affected)"
                        ]
                    },
                    "metadata": {},
                    "output_type": "display_data"
                },
                {
                    "data": {
                        "text/html": [
                            "Внимание! Значение NULL исключено в агрегатных или других операциях SET."
                        ]
                    },
                    "metadata": {},
                    "output_type": "display_data"
                },
                {
                    "data": {
                        "text/html": [
                            "(1 row affected)"
                        ]
                    },
                    "metadata": {},
                    "output_type": "display_data"
                },
                {
                    "data": {
                        "text/html": [
                            "Total execution time: 00:00:00.207"
                        ]
                    },
                    "metadata": {},
                    "output_type": "display_data"
                },
                {
                    "data": {
                        "application/vnd.dataresource+json": {
                            "data": [
                                {
                                    "0": "925",
                                    "1": "1153"
                                }
                            ],
                            "schema": {
                                "fields": [
                                    {
                                        "name": "(No column name)"
                                    },
                                    {
                                        "name": "(No column name)"
                                    }
                                ]
                            }
                        },
                        "text/html": [
                            "<table><tr><th>(No column name)</th><th>(No column name)</th></tr><tr><td>925</td><td>1153</td></tr></table>"
                        ]
                    },
                    "execution_count": 15,
                    "metadata": {},
                    "output_type": "execute_result"
                }
            ],
            "source": [
                "Delete \n",
                "FROM my_only_movies\n",
                "WHERE  Len(english_movie_names) = 1 \n",
                "\n",
                "SELECT APPROX_COUNT_DISTINCT(tconst), APPROX_COUNT_DISTINCT(id)\n",
                "FROM my_only_movies /*925, 1153*/     -- 63 rows"
            ]
        },
        {
            "attachments": {},
            "cell_type": "markdown",
            "metadata": {
                "azdata_cell_guid": "34862b9f-1163-4cfe-acb3-3f13b82810b3"
            },
            "source": [
                "#### 4.4. Cleaning the data set."
            ]
        },
        {
            "cell_type": "code",
            "execution_count": 16,
            "metadata": {
                "azdata_cell_guid": "2ba34632-d8f3-49e8-a3b1-e17eb780aa9f",
                "language": "sql",
                "tags": [],
                "vscode": {
                    "languageId": "r"
                }
            },
            "outputs": [
                {
                    "data": {
                        "text/html": [
                            "(1 row affected)"
                        ]
                    },
                    "metadata": {},
                    "output_type": "display_data"
                },
                {
                    "data": {
                        "text/html": [
                            "(331 rows affected)"
                        ]
                    },
                    "metadata": {},
                    "output_type": "display_data"
                },
                {
                    "data": {
                        "text/html": [
                            "Total execution time: 00:00:00.155"
                        ]
                    },
                    "metadata": {},
                    "output_type": "display_data"
                },
                {
                    "data": {
                        "application/vnd.dataresource+json": {
                            "data": [
                                {
                                    "0": "329"
                                }
                            ],
                            "schema": {
                                "fields": [
                                    {
                                        "name": "(No column name)"
                                    }
                                ]
                            }
                        },
                        "text/html": [
                            "<table><tr><th>(No column name)</th></tr><tr><td>329</td></tr></table>"
                        ]
                    },
                    "execution_count": 16,
                    "metadata": {},
                    "output_type": "execute_result"
                }
            ],
            "source": [
                "SELECT APPROX_COUNT_DISTINCT(id)\n",
                "FROM my_only_movies\n",
                "WHERE tconst is Null \n",
                "/*329 rows which are tv-shows and a few with release_year incomparatabilities,\n",
                "which I have decided to drop and not manually change*/\n",
                "\n",
                "Delete\n",
                "FROM my_only_movies\n",
                "WHERE tconst is Null /*deleted those rows*/"
            ]
        },
        {
            "cell_type": "code",
            "execution_count": 17,
            "metadata": {
                "azdata_cell_guid": "8b4af48c-6811-4719-836c-3dc6da17b651",
                "language": "sql",
                "vscode": {
                    "languageId": "r"
                }
            },
            "outputs": [
                {
                    "data": {
                        "text/html": [
                            "(3 rows affected)"
                        ]
                    },
                    "metadata": {},
                    "output_type": "display_data"
                },
                {
                    "data": {
                        "text/html": [
                            "(1096 rows affected)"
                        ]
                    },
                    "metadata": {},
                    "output_type": "display_data"
                },
                {
                    "data": {
                        "text/html": [
                            "Total execution time: 00:00:00.357"
                        ]
                    },
                    "metadata": {},
                    "output_type": "display_data"
                },
                {
                    "data": {
                        "application/vnd.dataresource+json": {
                            "data": [
                                {
                                    "0": "Kiss the Ground"
                                },
                                {
                                    "0": "One Direction: The Only Way Is Up"
                                },
                                {
                                    "0": "The Morning After"
                                }
                            ],
                            "schema": {
                                "fields": [
                                    {
                                        "name": "primaryTitle"
                                    }
                                ]
                            }
                        },
                        "text/html": [
                            "<table><tr><th>primaryTitle</th></tr><tr><td>Kiss the Ground</td></tr><tr><td>One Direction: The Only Way Is Up</td></tr><tr><td>The Morning After</td></tr></table>"
                        ]
                    },
                    "execution_count": 17,
                    "metadata": {},
                    "output_type": "execute_result"
                }
            ],
            "source": [
                "SELECT primaryTitle\n",
                "FROM my_only_movies\n",
                "WHERE kinopoisk_ratings is Null\n",
                "GROUP By primaryTitle /*3 rows returned which I'm going to delete*/\n",
                "\n",
                "Delete\n",
                "FROM my_only_movies\n",
                "WHERE kinopoisk_ratings is Null \n",
                "OR  titleType = 'videoGame' \n",
                "OR runtimeMinutes is Null /*deleted the rows with no kinopoisk rating and videogames*/ "
            ]
        },
        {
            "cell_type": "code",
            "execution_count": 23,
            "metadata": {
                "azdata_cell_guid": "6ff07363-5dfd-430b-8af0-c2ebfb16a689",
                "language": "sql",
                "vscode": {
                    "languageId": "r"
                }
            },
            "outputs": [
                {
                    "data": {
                        "text/html": [
                            "(10 rows affected)"
                        ]
                    },
                    "metadata": {},
                    "output_type": "display_data"
                },
                {
                    "data": {
                        "text/html": [
                            "Total execution time: 00:00:00.014"
                        ]
                    },
                    "metadata": {},
                    "output_type": "display_data"
                },
                {
                    "data": {
                        "application/vnd.dataresource+json": {
                            "data": [
                                {
                                    "0": "1190",
                                    "1": "Аладдин ",
                                    "2": "Aladdin",
                                    "3": "1992",
                                    "4": "9",
                                    "5": "301139",
                                    "6": "8,164",
                                    "7": "2361",
                                    "8": "24.06.2011, 09:26",
                                    "9": "tt0103639",
                                    "10": "movie",
                                    "11": "Aladdin",
                                    "12": "1992",
                                    "13": "\\N",
                                    "14": "90",
                                    "15": "Adventure,Animation,Comedy",
                                    "16": "8",
                                    "17": "430849"
                                },
                                {
                                    "0": "234",
                                    "1": "Звезда родилась ",
                                    "2": "A Star Is Born",
                                    "3": "2018",
                                    "4": "7",
                                    "5": "142817",
                                    "6": "7,371",
                                    "7": "474935",
                                    "8": "09.03.2020, 19:54",
                                    "9": "tt1517451",
                                    "10": "movie",
                                    "11": "A Star Is Born",
                                    "12": "2018",
                                    "13": "\\N",
                                    "14": "136",
                                    "15": "Drama,Music,Romance",
                                    "16": "7.6",
                                    "17": "393834"
                                },
                                {
                                    "0": "1017",
                                    "1": "Прощальный поцелуй ",
                                    "2": "The Last Kiss",
                                    "3": "2006",
                                    "4": "9",
                                    "5": "7469",
                                    "6": "6,874",
                                    "7": "86989",
                                    "8": "24.07.2012, 12:13",
                                    "9": "tt0434139",
                                    "10": "movie",
                                    "11": "The Last Kiss",
                                    "12": "2006",
                                    "13": "\\N",
                                    "14": "115",
                                    "15": "Comedy,Drama,Romance",
                                    "16": "6.4",
                                    "17": "41917"
                                },
                                {
                                    "0": "1025",
                                    "1": "Мачо и ботан ",
                                    "2": "21 Jump Street",
                                    "3": "2012",
                                    "4": "5",
                                    "5": "230876",
                                    "6": "7,023",
                                    "7": "413080",
                                    "8": "07.07.2012, 23:18",
                                    "9": "tt1232829",
                                    "10": "movie",
                                    "11": "21 Jump Street",
                                    "12": "2012",
                                    "13": "\\N",
                                    "14": "109",
                                    "15": "Action,Comedy,Crime",
                                    "16": "7.2",
                                    "17": "569553"
                                },
                                {
                                    "0": "448",
                                    "1": "Жизнь задом наперед ",
                                    "2": "Stuart: A Life Backwards",
                                    "3": "2007",
                                    "4": "6",
                                    "5": "48405",
                                    "6": "7,796",
                                    "7": "302080",
                                    "8": "15.08.2016, 15:49",
                                    "9": "tt0853153",
                                    "10": "tvMovie",
                                    "11": "Stuart: A Life Backwards",
                                    "12": "2007",
                                    "13": "\\N",
                                    "14": "92",
                                    "15": "Drama",
                                    "16": "7.7",
                                    "17": "12879"
                                },
                                {
                                    "0": "694",
                                    "1": "Мадагаскар ",
                                    "2": "Madagascar",
                                    "3": "2005",
                                    "4": "9",
                                    "5": "389464",
                                    "6": "7,975",
                                    "7": "6006",
                                    "8": "04.05.2014, 13:12",
                                    "9": "tt0351283",
                                    "10": "movie",
                                    "11": "Madagascar",
                                    "12": "2005",
                                    "13": "\\N",
                                    "14": "86",
                                    "15": "Adventure,Animation,Comedy",
                                    "16": "6.9",
                                    "17": "413500"
                                },
                                {
                                    "0": "455",
                                    "1": "История любви ",
                                    "2": "Love Story",
                                    "3": "1970",
                                    "4": "8",
                                    "5": "7996",
                                    "6": "7,856",
                                    "7": "5035",
                                    "8": "11.08.2016, 20:50",
                                    "9": "tt0066011",
                                    "10": "movie",
                                    "11": "Love Story",
                                    "12": "1970",
                                    "13": "\\N",
                                    "14": "100",
                                    "15": "Drama,Romance",
                                    "16": "6.9",
                                    "17": "35445"
                                },
                                {
                                    "0": "808",
                                    "1": "Клуб «Завтрак» ",
                                    "2": "The Breakfast Club",
                                    "3": "1985",
                                    "4": "8",
                                    "5": "82990",
                                    "6": "8,01",
                                    "7": "21844",
                                    "8": "22.08.2013, 13:52",
                                    "9": "tt0088847",
                                    "10": "movie",
                                    "11": "The Breakfast Club",
                                    "12": "1985",
                                    "13": "\\N",
                                    "14": "97",
                                    "15": "Comedy,Drama",
                                    "16": "7.8",
                                    "17": "408957"
                                },
                                {
                                    "0": "349",
                                    "1": "Свадебный угар ",
                                    "2": "Mike and Dave Need Wedding Dates",
                                    "3": "2016",
                                    "4": "5",
                                    "5": "52657",
                                    "6": "5,844",
                                    "7": "756092",
                                    "8": "31.01.2018, 21:15",
                                    "9": "tt2823054",
                                    "10": "movie",
                                    "11": "Mike and Dave Need Wedding Dates",
                                    "12": "2016",
                                    "13": "\\N",
                                    "14": "98",
                                    "15": "Comedy,Romance",
                                    "16": "6",
                                    "17": "91371"
                                },
                                {
                                    "0": "705",
                                    "1": "Жизнь, как она есть ",
                                    "2": "Life as We Know It",
                                    "3": "2010",
                                    "4": "8",
                                    "5": "68468",
                                    "6": "7,453",
                                    "7": "463952",
                                    "8": "09.04.2014, 23:46",
                                    "9": "tt1055292",
                                    "10": "movie",
                                    "11": "Life as We Know It",
                                    "12": "2010",
                                    "13": "\\N",
                                    "14": "115",
                                    "15": "Comedy,Drama,Romance",
                                    "16": "6.5",
                                    "17": "134781"
                                }
                            ],
                            "schema": {
                                "fields": [
                                    {
                                        "name": "id"
                                    },
                                    {
                                        "name": "russian_movie_names"
                                    },
                                    {
                                        "name": "english_movie_names"
                                    },
                                    {
                                        "name": "release_year"
                                    },
                                    {
                                        "name": "user_ratings"
                                    },
                                    {
                                        "name": "user_rating_count"
                                    },
                                    {
                                        "name": "kinopoisk_ratings"
                                    },
                                    {
                                        "name": "kinopoisk_ids"
                                    },
                                    {
                                        "name": "date_of_rating"
                                    },
                                    {
                                        "name": "tconst"
                                    },
                                    {
                                        "name": "titleType"
                                    },
                                    {
                                        "name": "primaryTitle"
                                    },
                                    {
                                        "name": "startYear"
                                    },
                                    {
                                        "name": "endYear"
                                    },
                                    {
                                        "name": "runtimeMinutes"
                                    },
                                    {
                                        "name": "genres"
                                    },
                                    {
                                        "name": "averageRating"
                                    },
                                    {
                                        "name": "numVotes"
                                    }
                                ]
                            }
                        },
                        "text/html": [
                            "<table><tr><th>id</th><th>russian_movie_names</th><th>english_movie_names</th><th>release_year</th><th>user_ratings</th><th>user_rating_count</th><th>kinopoisk_ratings</th><th>kinopoisk_ids</th><th>date_of_rating</th><th>tconst</th><th>titleType</th><th>primaryTitle</th><th>startYear</th><th>endYear</th><th>runtimeMinutes</th><th>genres</th><th>averageRating</th><th>numVotes</th></tr><tr><td>1190</td><td>Аладдин </td><td>Aladdin</td><td>1992</td><td>9</td><td>301139</td><td>8,164</td><td>2361</td><td>24.06.2011, 09:26</td><td>tt0103639</td><td>movie</td><td>Aladdin</td><td>1992</td><td>\\N</td><td>90</td><td>Adventure,Animation,Comedy</td><td>8</td><td>430849</td></tr><tr><td>234</td><td>Звезда родилась </td><td>A Star Is Born</td><td>2018</td><td>7</td><td>142817</td><td>7,371</td><td>474935</td><td>09.03.2020, 19:54</td><td>tt1517451</td><td>movie</td><td>A Star Is Born</td><td>2018</td><td>\\N</td><td>136</td><td>Drama,Music,Romance</td><td>7.6</td><td>393834</td></tr><tr><td>1017</td><td>Прощальный поцелуй </td><td>The Last Kiss</td><td>2006</td><td>9</td><td>7469</td><td>6,874</td><td>86989</td><td>24.07.2012, 12:13</td><td>tt0434139</td><td>movie</td><td>The Last Kiss</td><td>2006</td><td>\\N</td><td>115</td><td>Comedy,Drama,Romance</td><td>6.4</td><td>41917</td></tr><tr><td>1025</td><td>Мачо и ботан </td><td>21 Jump Street</td><td>2012</td><td>5</td><td>230876</td><td>7,023</td><td>413080</td><td>07.07.2012, 23:18</td><td>tt1232829</td><td>movie</td><td>21 Jump Street</td><td>2012</td><td>\\N</td><td>109</td><td>Action,Comedy,Crime</td><td>7.2</td><td>569553</td></tr><tr><td>448</td><td>Жизнь задом наперед </td><td>Stuart: A Life Backwards</td><td>2007</td><td>6</td><td>48405</td><td>7,796</td><td>302080</td><td>15.08.2016, 15:49</td><td>tt0853153</td><td>tvMovie</td><td>Stuart: A Life Backwards</td><td>2007</td><td>\\N</td><td>92</td><td>Drama</td><td>7.7</td><td>12879</td></tr><tr><td>694</td><td>Мадагаскар </td><td>Madagascar</td><td>2005</td><td>9</td><td>389464</td><td>7,975</td><td>6006</td><td>04.05.2014, 13:12</td><td>tt0351283</td><td>movie</td><td>Madagascar</td><td>2005</td><td>\\N</td><td>86</td><td>Adventure,Animation,Comedy</td><td>6.9</td><td>413500</td></tr><tr><td>455</td><td>История любви </td><td>Love Story</td><td>1970</td><td>8</td><td>7996</td><td>7,856</td><td>5035</td><td>11.08.2016, 20:50</td><td>tt0066011</td><td>movie</td><td>Love Story</td><td>1970</td><td>\\N</td><td>100</td><td>Drama,Romance</td><td>6.9</td><td>35445</td></tr><tr><td>808</td><td>Клуб «Завтрак» </td><td>The Breakfast Club</td><td>1985</td><td>8</td><td>82990</td><td>8,01</td><td>21844</td><td>22.08.2013, 13:52</td><td>tt0088847</td><td>movie</td><td>The Breakfast Club</td><td>1985</td><td>\\N</td><td>97</td><td>Comedy,Drama</td><td>7.8</td><td>408957</td></tr><tr><td>349</td><td>Свадебный угар </td><td>Mike and Dave Need Wedding Dates</td><td>2016</td><td>5</td><td>52657</td><td>5,844</td><td>756092</td><td>31.01.2018, 21:15</td><td>tt2823054</td><td>movie</td><td>Mike and Dave Need Wedding Dates</td><td>2016</td><td>\\N</td><td>98</td><td>Comedy,Romance</td><td>6</td><td>91371</td></tr><tr><td>705</td><td>Жизнь, как она есть </td><td>Life as We Know It</td><td>2010</td><td>8</td><td>68468</td><td>7,453</td><td>463952</td><td>09.04.2014, 23:46</td><td>tt1055292</td><td>movie</td><td>Life as We Know It</td><td>2010</td><td>\\N</td><td>115</td><td>Comedy,Drama,Romance</td><td>6.5</td><td>134781</td></tr></table>"
                        ]
                    },
                    "execution_count": 23,
                    "metadata": {},
                    "output_type": "execute_result"
                }
            ],
            "source": [
                "SELECT TOP 10 *\n",
                "FROM my_only_movies\n",
                "GROUP BY [id]\n",
                "      ,[russian_movie_names]\n",
                "      ,[english_movie_names]\n",
                "      ,[release_year]\n",
                "      ,[user_ratings]\n",
                "      ,[user_rating_count]\n",
                "      ,[kinopoisk_ratings]\n",
                "      ,[kinopoisk_ids]\n",
                "      ,[date_of_rating]\n",
                "      ,[tconst]\n",
                "      ,[titleType]\n",
                "      ,[primaryTitle]\n",
                "      ,[startYear]\n",
                "      ,[endYear]\n",
                "      ,[runtimeMinutes]\n",
                "      ,[genres]\n",
                "      ,[averageRating]\n",
                "      ,[numVotes]         --864 rows is the final table"
            ]
        },
        {
            "attachments": {},
            "cell_type": "markdown",
            "metadata": {
                "azdata_cell_guid": "01f5a487-2ded-4c72-aa4e-e36cd5441a14"
            },
            "source": [
                "#### 4.5. Then I changed data types where it was needed."
            ]
        },
        {
            "cell_type": "code",
            "execution_count": 46,
            "metadata": {
                "azdata_cell_guid": "296a1d5e-4809-4c92-9c31-4f22556ce485",
                "language": "sql",
                "tags": [],
                "vscode": {
                    "languageId": "r"
                }
            },
            "outputs": [
                {
                    "data": {
                        "text/html": [
                            " "
                        ]
                    },
                    "metadata": {},
                    "output_type": "display_data"
                },
                {
                    "data": {
                        "text/html": [
                            " "
                        ]
                    },
                    "metadata": {},
                    "output_type": "display_data"
                },
                {
                    "data": {
                        "text/html": [
                            " "
                        ]
                    },
                    "metadata": {},
                    "output_type": "display_data"
                },
                {
                    "data": {
                        "text/html": [
                            " "
                        ]
                    },
                    "metadata": {},
                    "output_type": "display_data"
                },
                {
                    "data": {
                        "text/html": [
                            " "
                        ]
                    },
                    "metadata": {},
                    "output_type": "display_data"
                },
                {
                    "data": {
                        "text/html": [
                            " "
                        ]
                    },
                    "metadata": {},
                    "output_type": "display_data"
                },
                {
                    "data": {
                        "text/html": [
                            "Объект \"my_only_movies\" не имеет индексов, либо отсутствуют разрешения."
                        ]
                    },
                    "metadata": {},
                    "output_type": "display_data"
                },
                {
                    "data": {
                        "text/html": [
                            " "
                        ]
                    },
                    "metadata": {},
                    "output_type": "display_data"
                },
                {
                    "data": {
                        "text/html": [
                            "Ограничения на объект \"my_only_movies\" не заданы, либо отсутствуют разрешения."
                        ]
                    },
                    "metadata": {},
                    "output_type": "display_data"
                },
                {
                    "data": {
                        "text/html": [
                            " "
                        ]
                    },
                    "metadata": {},
                    "output_type": "display_data"
                },
                {
                    "data": {
                        "text/html": [
                            "На таблицу \"my_only_movies\" не ссылаются внешние ключи либо отсутствует разрешение на создание ссылок на таблицы."
                        ]
                    },
                    "metadata": {},
                    "output_type": "display_data"
                },
                {
                    "data": {
                        "text/html": [
                            "Отсутствуют представления со схемой, привязанной к ссылочной таблице \"my_only_movies\"."
                        ]
                    },
                    "metadata": {},
                    "output_type": "display_data"
                },
                {
                    "data": {
                        "text/html": [
                            "Total execution time: 00:00:00.051"
                        ]
                    },
                    "metadata": {},
                    "output_type": "display_data"
                },
                {
                    "data": {
                        "application/vnd.dataresource+json": {
                            "data": [
                                {
                                    "0": "my_only_movies",
                                    "1": "dbo",
                                    "2": "user table",
                                    "3": "2023-04-06 10:19:40.323"
                                }
                            ],
                            "schema": {
                                "fields": [
                                    {
                                        "name": "Name"
                                    },
                                    {
                                        "name": "Owner"
                                    },
                                    {
                                        "name": "Type"
                                    },
                                    {
                                        "name": "Created_datetime"
                                    }
                                ]
                            }
                        },
                        "text/html": [
                            "<table>\n",
                            "<tr><th>Name</th><th>Owner</th><th>Type</th><th>Created_datetime</th></tr>\n",
                            "<tr><td>my_only_movies</td><td>dbo</td><td>user table</td><td>2023-04-06 10:19:40.323</td></tr>\n",
                            "</table>"
                        ]
                    },
                    "execution_count": 46,
                    "metadata": {},
                    "output_type": "execute_result"
                },
                {
                    "data": {
                        "application/vnd.dataresource+json": {
                            "data": [
                                {
                                    "0": "id",
                                    "1": "nvarchar",
                                    "2": "no",
                                    "3": "200",
                                    "4": "     ",
                                    "5": "     ",
                                    "6": "yes",
                                    "7": "(n/a)",
                                    "8": "(n/a)",
                                    "9": "Cyrillic_General_CI_AS"
                                },
                                {
                                    "0": "russian_movie_names",
                                    "1": "nvarchar",
                                    "2": "no",
                                    "3": "200",
                                    "4": "     ",
                                    "5": "     ",
                                    "6": "yes",
                                    "7": "(n/a)",
                                    "8": "(n/a)",
                                    "9": "Cyrillic_General_CI_AS"
                                },
                                {
                                    "0": "english_movie_names",
                                    "1": "nvarchar",
                                    "2": "no",
                                    "3": "200",
                                    "4": "     ",
                                    "5": "     ",
                                    "6": "yes",
                                    "7": "(n/a)",
                                    "8": "(n/a)",
                                    "9": "Cyrillic_General_CI_AS"
                                },
                                {
                                    "0": "release_year",
                                    "1": "nvarchar",
                                    "2": "no",
                                    "3": "100",
                                    "4": "     ",
                                    "5": "     ",
                                    "6": "yes",
                                    "7": "(n/a)",
                                    "8": "(n/a)",
                                    "9": "Cyrillic_General_CI_AS"
                                },
                                {
                                    "0": "user_ratings",
                                    "1": "nvarchar",
                                    "2": "no",
                                    "3": "100",
                                    "4": "     ",
                                    "5": "     ",
                                    "6": "yes",
                                    "7": "(n/a)",
                                    "8": "(n/a)",
                                    "9": "Cyrillic_General_CI_AS"
                                },
                                {
                                    "0": "user_rating_count",
                                    "1": "nvarchar",
                                    "2": "no",
                                    "3": "100",
                                    "4": "     ",
                                    "5": "     ",
                                    "6": "yes",
                                    "7": "(n/a)",
                                    "8": "(n/a)",
                                    "9": "Cyrillic_General_CI_AS"
                                },
                                {
                                    "0": "kinopoisk_ratings",
                                    "1": "nvarchar",
                                    "2": "no",
                                    "3": "100",
                                    "4": "     ",
                                    "5": "     ",
                                    "6": "yes",
                                    "7": "(n/a)",
                                    "8": "(n/a)",
                                    "9": "Cyrillic_General_CI_AS"
                                },
                                {
                                    "0": "kinopoisk_ids",
                                    "1": "nvarchar",
                                    "2": "no",
                                    "3": "100",
                                    "4": "     ",
                                    "5": "     ",
                                    "6": "yes",
                                    "7": "(n/a)",
                                    "8": "(n/a)",
                                    "9": "Cyrillic_General_CI_AS"
                                },
                                {
                                    "0": "date_of_rating",
                                    "1": "nvarchar",
                                    "2": "no",
                                    "3": "100",
                                    "4": "     ",
                                    "5": "     ",
                                    "6": "yes",
                                    "7": "(n/a)",
                                    "8": "(n/a)",
                                    "9": "Cyrillic_General_CI_AS"
                                },
                                {
                                    "0": "tconst",
                                    "1": "varchar",
                                    "2": "no",
                                    "3": "400",
                                    "4": "     ",
                                    "5": "     ",
                                    "6": "yes",
                                    "7": "no",
                                    "8": "yes",
                                    "9": "Cyrillic_General_CI_AS"
                                },
                                {
                                    "0": "titleType",
                                    "1": "varchar",
                                    "2": "no",
                                    "3": "400",
                                    "4": "     ",
                                    "5": "     ",
                                    "6": "yes",
                                    "7": "no",
                                    "8": "yes",
                                    "9": "Cyrillic_General_CI_AS"
                                },
                                {
                                    "0": "primaryTitle",
                                    "1": "varchar",
                                    "2": "no",
                                    "3": "400",
                                    "4": "     ",
                                    "5": "     ",
                                    "6": "yes",
                                    "7": "no",
                                    "8": "yes",
                                    "9": "Cyrillic_General_CI_AS"
                                },
                                {
                                    "0": "startYear",
                                    "1": "varchar",
                                    "2": "no",
                                    "3": "400",
                                    "4": "     ",
                                    "5": "     ",
                                    "6": "yes",
                                    "7": "no",
                                    "8": "yes",
                                    "9": "Cyrillic_General_CI_AS"
                                },
                                {
                                    "0": "endYear",
                                    "1": "varchar",
                                    "2": "no",
                                    "3": "400",
                                    "4": "     ",
                                    "5": "     ",
                                    "6": "yes",
                                    "7": "no",
                                    "8": "yes",
                                    "9": "Cyrillic_General_CI_AS"
                                },
                                {
                                    "0": "runtimeMinutes",
                                    "1": "varchar",
                                    "2": "no",
                                    "3": "400",
                                    "4": "     ",
                                    "5": "     ",
                                    "6": "yes",
                                    "7": "no",
                                    "8": "yes",
                                    "9": "Cyrillic_General_CI_AS"
                                },
                                {
                                    "0": "genres",
                                    "1": "varchar",
                                    "2": "no",
                                    "3": "400",
                                    "4": "     ",
                                    "5": "     ",
                                    "6": "yes",
                                    "7": "no",
                                    "8": "yes",
                                    "9": "Cyrillic_General_CI_AS"
                                },
                                {
                                    "0": "averageRating",
                                    "1": "varchar",
                                    "2": "no",
                                    "3": "400",
                                    "4": "     ",
                                    "5": "     ",
                                    "6": "yes",
                                    "7": "no",
                                    "8": "yes",
                                    "9": "Cyrillic_General_CI_AS"
                                },
                                {
                                    "0": "numVotes",
                                    "1": "varchar",
                                    "2": "no",
                                    "3": "400",
                                    "4": "     ",
                                    "5": "     ",
                                    "6": "yes",
                                    "7": "no",
                                    "8": "yes",
                                    "9": "Cyrillic_General_CI_AS"
                                }
                            ],
                            "schema": {
                                "fields": [
                                    {
                                        "name": "Column_name"
                                    },
                                    {
                                        "name": "Type"
                                    },
                                    {
                                        "name": "Computed"
                                    },
                                    {
                                        "name": "Length"
                                    },
                                    {
                                        "name": "Prec"
                                    },
                                    {
                                        "name": "Scale"
                                    },
                                    {
                                        "name": "Nullable"
                                    },
                                    {
                                        "name": "TrimTrailingBlanks"
                                    },
                                    {
                                        "name": "FixedLenNullInSource"
                                    },
                                    {
                                        "name": "Collation"
                                    }
                                ]
                            }
                        },
                        "text/html": [
                            "<table>\n",
                            "<tr><th>Column_name</th><th>Type</th><th>Computed</th><th>Length</th><th>Prec</th><th>Scale</th><th>Nullable</th><th>TrimTrailingBlanks</th><th>FixedLenNullInSource</th><th>Collation</th></tr>\n",
                            "<tr><td>id</td><td>nvarchar</td><td>no</td><td>200</td><td>     </td><td>     </td><td>yes</td><td>(n/a)</td><td>(n/a)</td><td>Cyrillic_General_CI_AS</td></tr>\n",
                            "<tr><td>russian_movie_names</td><td>nvarchar</td><td>no</td><td>200</td><td>     </td><td>     </td><td>yes</td><td>(n/a)</td><td>(n/a)</td><td>Cyrillic_General_CI_AS</td></tr>\n",
                            "<tr><td>english_movie_names</td><td>nvarchar</td><td>no</td><td>200</td><td>     </td><td>     </td><td>yes</td><td>(n/a)</td><td>(n/a)</td><td>Cyrillic_General_CI_AS</td></tr>\n",
                            "<tr><td>release_year</td><td>nvarchar</td><td>no</td><td>100</td><td>     </td><td>     </td><td>yes</td><td>(n/a)</td><td>(n/a)</td><td>Cyrillic_General_CI_AS</td></tr>\n",
                            "<tr><td>user_ratings</td><td>nvarchar</td><td>no</td><td>100</td><td>     </td><td>     </td><td>yes</td><td>(n/a)</td><td>(n/a)</td><td>Cyrillic_General_CI_AS</td></tr>\n",
                            "<tr><td>user_rating_count</td><td>nvarchar</td><td>no</td><td>100</td><td>     </td><td>     </td><td>yes</td><td>(n/a)</td><td>(n/a)</td><td>Cyrillic_General_CI_AS</td></tr>\n",
                            "<tr><td>kinopoisk_ratings</td><td>nvarchar</td><td>no</td><td>100</td><td>     </td><td>     </td><td>yes</td><td>(n/a)</td><td>(n/a)</td><td>Cyrillic_General_CI_AS</td></tr>\n",
                            "<tr><td>kinopoisk_ids</td><td>nvarchar</td><td>no</td><td>100</td><td>     </td><td>     </td><td>yes</td><td>(n/a)</td><td>(n/a)</td><td>Cyrillic_General_CI_AS</td></tr>\n",
                            "<tr><td>date_of_rating</td><td>nvarchar</td><td>no</td><td>100</td><td>     </td><td>     </td><td>yes</td><td>(n/a)</td><td>(n/a)</td><td>Cyrillic_General_CI_AS</td></tr>\n",
                            "<tr><td>tconst</td><td>varchar</td><td>no</td><td>400</td><td>     </td><td>     </td><td>yes</td><td>no</td><td>yes</td><td>Cyrillic_General_CI_AS</td></tr>\n",
                            "<tr><td>titleType</td><td>varchar</td><td>no</td><td>400</td><td>     </td><td>     </td><td>yes</td><td>no</td><td>yes</td><td>Cyrillic_General_CI_AS</td></tr>\n",
                            "<tr><td>primaryTitle</td><td>varchar</td><td>no</td><td>400</td><td>     </td><td>     </td><td>yes</td><td>no</td><td>yes</td><td>Cyrillic_General_CI_AS</td></tr>\n",
                            "<tr><td>startYear</td><td>varchar</td><td>no</td><td>400</td><td>     </td><td>     </td><td>yes</td><td>no</td><td>yes</td><td>Cyrillic_General_CI_AS</td></tr>\n",
                            "<tr><td>endYear</td><td>varchar</td><td>no</td><td>400</td><td>     </td><td>     </td><td>yes</td><td>no</td><td>yes</td><td>Cyrillic_General_CI_AS</td></tr>\n",
                            "<tr><td>runtimeMinutes</td><td>varchar</td><td>no</td><td>400</td><td>     </td><td>     </td><td>yes</td><td>no</td><td>yes</td><td>Cyrillic_General_CI_AS</td></tr>\n",
                            "<tr><td>genres</td><td>varchar</td><td>no</td><td>400</td><td>     </td><td>     </td><td>yes</td><td>no</td><td>yes</td><td>Cyrillic_General_CI_AS</td></tr>\n",
                            "<tr><td>averageRating</td><td>varchar</td><td>no</td><td>400</td><td>     </td><td>     </td><td>yes</td><td>no</td><td>yes</td><td>Cyrillic_General_CI_AS</td></tr>\n",
                            "<tr><td>numVotes</td><td>varchar</td><td>no</td><td>400</td><td>     </td><td>     </td><td>yes</td><td>no</td><td>yes</td><td>Cyrillic_General_CI_AS</td></tr>\n",
                            "</table>"
                        ]
                    },
                    "execution_count": 46,
                    "metadata": {},
                    "output_type": "execute_result"
                },
                {
                    "data": {
                        "application/vnd.dataresource+json": {
                            "data": [
                                {
                                    "0": "No identity column defined.",
                                    "1": "NULL",
                                    "2": "NULL",
                                    "3": "NULL"
                                }
                            ],
                            "schema": {
                                "fields": [
                                    {
                                        "name": "Identity"
                                    },
                                    {
                                        "name": "Seed"
                                    },
                                    {
                                        "name": "Increment"
                                    },
                                    {
                                        "name": "Not For Replication"
                                    }
                                ]
                            }
                        },
                        "text/html": [
                            "<table>\n",
                            "<tr><th>Identity</th><th>Seed</th><th>Increment</th><th>Not For Replication</th></tr>\n",
                            "<tr><td>No identity column defined.</td><td>NULL</td><td>NULL</td><td>NULL</td></tr>\n",
                            "</table>"
                        ]
                    },
                    "execution_count": 46,
                    "metadata": {},
                    "output_type": "execute_result"
                },
                {
                    "data": {
                        "application/vnd.dataresource+json": {
                            "data": [
                                {
                                    "0": "No rowguidcol column defined."
                                }
                            ],
                            "schema": {
                                "fields": [
                                    {
                                        "name": "RowGuidCol"
                                    }
                                ]
                            }
                        },
                        "text/html": [
                            "<table>\n",
                            "<tr><th>RowGuidCol</th></tr>\n",
                            "<tr><td>No rowguidcol column defined.</td></tr>\n",
                            "</table>"
                        ]
                    },
                    "execution_count": 46,
                    "metadata": {},
                    "output_type": "execute_result"
                },
                {
                    "data": {
                        "application/vnd.dataresource+json": {
                            "data": [
                                {
                                    "0": "PRIMARY"
                                }
                            ],
                            "schema": {
                                "fields": [
                                    {
                                        "name": "Data_located_on_filegroup"
                                    }
                                ]
                            }
                        },
                        "text/html": [
                            "<table>\n",
                            "<tr><th>Data_located_on_filegroup</th></tr>\n",
                            "<tr><td>PRIMARY</td></tr>\n",
                            "</table>"
                        ]
                    },
                    "execution_count": 46,
                    "metadata": {},
                    "output_type": "execute_result"
                }
            ],
            "source": [
                "EXEC sp_help 'my_only_movies' /*method of viewing column data_types */"
            ]
        },
        {
            "cell_type": "code",
            "execution_count": 24,
            "metadata": {
                "azdata_cell_guid": "5d0cad66-7bf9-4b89-afad-9c4c3a504a7d",
                "language": "sql",
                "tags": [
                    "hide_input"
                ],
                "vscode": {
                    "languageId": "r"
                }
            },
            "outputs": [
                {
                    "data": {
                        "text/html": [
                            "Commands completed successfully."
                        ]
                    },
                    "metadata": {},
                    "output_type": "display_data"
                },
                {
                    "data": {
                        "text/html": [
                            "Total execution time: 00:00:00.657"
                        ]
                    },
                    "metadata": {},
                    "output_type": "display_data"
                }
            ],
            "source": [
                "AlTER TABLE my_only_movies\n",
                "ALTER COLUMN id INT NUll"
            ]
        },
        {
            "cell_type": "code",
            "execution_count": 25,
            "metadata": {
                "azdata_cell_guid": "a22d28b3-f4c8-4024-adba-5adb0a1da185",
                "language": "sql",
                "vscode": {
                    "languageId": "r"
                }
            },
            "outputs": [
                {
                    "data": {
                        "text/html": [
                            "Commands completed successfully."
                        ]
                    },
                    "metadata": {},
                    "output_type": "display_data"
                },
                {
                    "data": {
                        "text/html": [
                            "Total execution time: 00:00:00.641"
                        ]
                    },
                    "metadata": {},
                    "output_type": "display_data"
                }
            ],
            "source": [
                "AlTER TABLE my_only_movies\n",
                "ALTER COLUMN release_year INT NUll"
            ]
        },
        {
            "cell_type": "code",
            "execution_count": 26,
            "metadata": {
                "azdata_cell_guid": "95732ea0-e0a1-4a60-86f8-b6d2e7479802",
                "language": "sql",
                "vscode": {
                    "languageId": "r"
                }
            },
            "outputs": [
                {
                    "data": {
                        "text/html": [
                            "Commands completed successfully."
                        ]
                    },
                    "metadata": {},
                    "output_type": "display_data"
                },
                {
                    "data": {
                        "text/html": [
                            "Total execution time: 00:00:00.657"
                        ]
                    },
                    "metadata": {},
                    "output_type": "display_data"
                }
            ],
            "source": [
                "AlTER TABLE my_only_movies\n",
                "ALTER COLUMN user_ratings INT NUll"
            ]
        },
        {
            "cell_type": "code",
            "execution_count": 27,
            "metadata": {
                "azdata_cell_guid": "6169e03f-f77b-4581-812e-fc78b5f01e59",
                "language": "sql",
                "tags": [],
                "vscode": {
                    "languageId": "r"
                }
            },
            "outputs": [
                {
                    "data": {
                        "text/html": [
                            "Commands completed successfully."
                        ]
                    },
                    "metadata": {},
                    "output_type": "display_data"
                },
                {
                    "data": {
                        "text/html": [
                            "Total execution time: 00:00:00.689"
                        ]
                    },
                    "metadata": {},
                    "output_type": "display_data"
                }
            ],
            "source": [
                "AlTER TABLE my_only_movies\n",
                "ALTER COLUMN user_rating_count INT NUll"
            ]
        },
        {
            "cell_type": "code",
            "execution_count": null,
            "metadata": {
                "azdata_cell_guid": "0999f024-2527-46e8-9f9f-92d1739f577f",
                "language": "sql",
                "tags": []
            },
            "outputs": [],
            "source": [
                "UPDATE my_only_movies\n",
                "SET  kinopoisk_ratings = REPLACE(kinopoisk_ratings, ',', '.')"
            ]
        },
        {
            "cell_type": "code",
            "execution_count": null,
            "metadata": {
                "azdata_cell_guid": "a010c1ea-e1be-470b-889b-4d6f7de16672",
                "language": "sql"
            },
            "outputs": [],
            "source": [
                "AlTER TABLE my_only_movies\n",
                "ALTER COLUMN kinopoisk_ratings FLOAT NUll"
            ]
        },
        {
            "cell_type": "code",
            "execution_count": 42,
            "metadata": {
                "azdata_cell_guid": "a6bffd7c-59b2-4d2c-a87c-081a77f65d78",
                "language": "sql",
                "tags": [],
                "vscode": {
                    "languageId": "r"
                }
            },
            "outputs": [
                {
                    "data": {
                        "text/html": [
                            "Commands completed successfully."
                        ]
                    },
                    "metadata": {},
                    "output_type": "display_data"
                },
                {
                    "data": {
                        "text/html": [
                            "Total execution time: 00:00:00.754"
                        ]
                    },
                    "metadata": {},
                    "output_type": "display_data"
                }
            ],
            "source": [
                "AlTER TABLE my_only_movies\n",
                "ALTER COLUMN averageRating FLOAT NUll"
            ]
        },
        {
            "cell_type": "code",
            "execution_count": 43,
            "metadata": {
                "azdata_cell_guid": "28a339f6-e59e-4c22-836d-25e8bf88801f",
                "language": "sql",
                "vscode": {
                    "languageId": "r"
                }
            },
            "outputs": [
                {
                    "data": {
                        "text/html": [
                            "(185389 rows affected)"
                        ]
                    },
                    "metadata": {},
                    "output_type": "display_data"
                },
                {
                    "data": {
                        "text/html": [
                            "Total execution time: 00:00:01.630"
                        ]
                    },
                    "metadata": {},
                    "output_type": "display_data"
                }
            ],
            "source": [
                "UPDATE my_only_movies\n",
                "SET date_of_rating = left(date_of_rating, charindex(',', date_of_rating) - 1),\n",
                "kinopoisk_ratings = ROUND(kinopoisk_ratings, 1)\n",
                "FROM my_only_movies    /* removed time from date_of_rating, rounded kinipoisk_rating to 1 decimal */\n",
                "\n",
                "\n",
                "AlTER TABLE my_only_movies\n",
                "ALTER COLUMN date_of_rating DATE NUll"
            ]
        },
        {
            "cell_type": "code",
            "execution_count": 44,
            "metadata": {
                "azdata_cell_guid": "fe153843-f828-4776-88ce-018af605381b",
                "language": "sql",
                "vscode": {
                    "languageId": "r"
                }
            },
            "outputs": [
                {
                    "ename": "",
                    "evalue": "Msg 245, Level 16, State 1, Line 1\r\nОшибка преобразования значения varchar \"\\N\" в тип данных int.",
                    "output_type": "error",
                    "traceback": []
                },
                {
                    "data": {
                        "text/html": [
                            "Выполнение данной инструкции было прервано."
                        ]
                    },
                    "metadata": {},
                    "output_type": "display_data"
                },
                {
                    "data": {
                        "text/html": [
                            "Total execution time: 00:00:00.231"
                        ]
                    },
                    "metadata": {},
                    "output_type": "display_data"
                }
            ],
            "source": [
                "AlTER TABLE my_only_movies\n",
                "ALTER COLUMN runtimeMinutes INT NUll "
            ]
        },
        {
            "cell_type": "code",
            "execution_count": 45,
            "metadata": {
                "azdata_cell_guid": "91d2daa4-4fa7-4864-9fc5-79a3c2b35a2b",
                "language": "sql",
                "vscode": {
                    "languageId": "r"
                }
            },
            "outputs": [
                {
                    "data": {
                        "text/html": [
                            "(185389 rows affected)"
                        ]
                    },
                    "metadata": {},
                    "output_type": "display_data"
                },
                {
                    "data": {
                        "text/html": [
                            "(21 rows affected)"
                        ]
                    },
                    "metadata": {},
                    "output_type": "display_data"
                },
                {
                    "data": {
                        "text/html": [
                            "Total execution time: 00:00:01.747"
                        ]
                    },
                    "metadata": {},
                    "output_type": "display_data"
                }
            ],
            "source": [
                "UPDATE \n",
                "    my_only_movies\n",
                "SET\n",
                "    runtimeMinutes = REPLACE(runtimeMinutes, '\\N','0')  /*replaced NA's with 0 to then change the data type to integer, \n",
                "    as it wasn't possible before there still were varchars (NA)*/\n",
                "\n",
                "AlTER TABLE my_only_movies\n",
                "ALTER COLUMN runtimeMinutes INT NUll \n",
                "\n",
                "Delete\n",
                "FROM my_only_movies\n",
                "WHERE runtimeMinutes = 0\n",
                "\n",
                "AlTER TABLE my_only_movies\n",
                "ALTER COLUMN averageRating FLOAT NUll \n",
                "\n",
                "AlTER TABLE my_only_movies\n",
                "ALTER COLUMN numVotes int NUll \n",
                "\n",
                "ALTER TABLE my_only_movies\n",
                "Drop COLUMN kinopoisk_ids,\n",
                "english_movie_names,\n",
                "startYear, \n",
                "endYear"
            ]
        },
        {
            "attachments": {},
            "cell_type": "markdown",
            "metadata": {
                "azdata_cell_guid": "d5b98958-871b-4ee1-a190-e6e1db6a9393"
            },
            "source": [
                "#### 4.6. Separated genres into 3 column so I can make analysis based on genres later."
            ]
        },
        {
            "cell_type": "code",
            "execution_count": 46,
            "metadata": {
                "azdata_cell_guid": "9a62d268-82b5-4689-b70e-0f6b6d6af05c",
                "language": "sql",
                "vscode": {
                    "languageId": "r"
                }
            },
            "outputs": [
                {
                    "data": {
                        "text/html": [
                            "(10 rows affected)"
                        ]
                    },
                    "metadata": {},
                    "output_type": "display_data"
                },
                {
                    "data": {
                        "text/html": [
                            "Total execution time: 00:00:00.009"
                        ]
                    },
                    "metadata": {},
                    "output_type": "display_data"
                },
                {
                    "data": {
                        "application/vnd.dataresource+json": {
                            "data": [
                                {
                                    "0": "Adventure",
                                    "1": "Animation",
                                    "2": "Comedy"
                                },
                                {
                                    "0": "Adventure",
                                    "1": "Animation",
                                    "2": "Comedy"
                                },
                                {
                                    "0": "Adventure",
                                    "1": "Animation",
                                    "2": "Comedy"
                                },
                                {
                                    "0": "Adventure",
                                    "1": "Animation",
                                    "2": "Comedy"
                                },
                                {
                                    "0": "Adventure",
                                    "1": "Animation",
                                    "2": "Comedy"
                                },
                                {
                                    "0": "Adventure",
                                    "1": "Animation",
                                    "2": "Comedy"
                                },
                                {
                                    "0": "Adventure",
                                    "1": "Animation",
                                    "2": "Comedy"
                                },
                                {
                                    "0": "Adventure",
                                    "1": "Animation",
                                    "2": "Comedy"
                                },
                                {
                                    "0": "Adventure",
                                    "1": "Animation",
                                    "2": "Comedy"
                                },
                                {
                                    "0": "Adventure",
                                    "1": "Animation",
                                    "2": "Comedy"
                                }
                            ],
                            "schema": {
                                "fields": [
                                    {
                                        "name": "genre_1"
                                    },
                                    {
                                        "name": "genre_2"
                                    },
                                    {
                                        "name": "genre_3"
                                    }
                                ]
                            }
                        },
                        "text/html": [
                            "<table><tr><th>genre_1</th><th>genre_2</th><th>genre_3</th></tr><tr><td>Adventure</td><td>Animation</td><td>Comedy</td></tr><tr><td>Adventure</td><td>Animation</td><td>Comedy</td></tr><tr><td>Adventure</td><td>Animation</td><td>Comedy</td></tr><tr><td>Adventure</td><td>Animation</td><td>Comedy</td></tr><tr><td>Adventure</td><td>Animation</td><td>Comedy</td></tr><tr><td>Adventure</td><td>Animation</td><td>Comedy</td></tr><tr><td>Adventure</td><td>Animation</td><td>Comedy</td></tr><tr><td>Adventure</td><td>Animation</td><td>Comedy</td></tr><tr><td>Adventure</td><td>Animation</td><td>Comedy</td></tr><tr><td>Adventure</td><td>Animation</td><td>Comedy</td></tr></table>"
                        ]
                    },
                    "execution_count": 46,
                    "metadata": {},
                    "output_type": "execute_result"
                }
            ],
            "source": [
                "/* Separating genres column into 3 */\n",
                "SELECT TOP 10 PARSENAME (REPLACE(genres, ',', '.'), 3) as genre_1,\n",
                "PARSENAME (REPLACE(genres, ',', '.'), 2) as genre_2,\n",
                "PARSENAME (REPLACE(genres, ',', '.'), 1) as genre_3\n",
                "from my_only_movies                                            /* parsename counts from right to left */"
            ]
        },
        {
            "cell_type": "code",
            "execution_count": null,
            "metadata": {
                "azdata_cell_guid": "99f52e49-a66d-4a46-b8cc-690844379978",
                "language": "sql",
                "vscode": {
                    "languageId": "r"
                }
            },
            "outputs": [],
            "source": [
                "ALTER TABLE my_only_movies\n",
                "ADD genre_1 VARCHAR(50), genre_2 VARCHAR(50), genre_3 VARCHAR(50)"
            ]
        },
        {
            "cell_type": "code",
            "execution_count": 48,
            "metadata": {
                "azdata_cell_guid": "a5774e8d-74e1-4c18-82a3-9e66d270e550",
                "language": "sql",
                "vscode": {
                    "languageId": "r"
                }
            },
            "outputs": [
                {
                    "data": {
                        "text/html": [
                            "(185368 rows affected)"
                        ]
                    },
                    "metadata": {},
                    "output_type": "display_data"
                },
                {
                    "data": {
                        "text/html": [
                            "Total execution time: 00:00:01.735"
                        ]
                    },
                    "metadata": {},
                    "output_type": "display_data"
                }
            ],
            "source": [
                "UPDATE my_only_movies\n",
                "SET genre_1 = PARSENAME (REPLACE(genres, ',', '.'), 3),\n",
                "genre_2 = PARSENAME (REPLACE(genres, ',', '.'), 2) ,\n",
                "genre_3 = PARSENAME (REPLACE(genres, ',', '.'), 1)"
            ]
        },
        {
            "attachments": {},
            "cell_type": "markdown",
            "metadata": {
                "azdata_cell_guid": "8e825613-ed3b-4272-adb8-f9859ed124f5"
            },
            "source": [
                "### And there it was - the <u>**final cleaned table**</u> for analysis."
            ]
        },
        {
            "cell_type": "code",
            "execution_count": 1,
            "metadata": {
                "azdata_cell_guid": "3d006b97-f66d-4f7a-8b2e-907f0787df5c",
                "language": "sql",
                "vscode": {
                    "languageId": "r"
                }
            },
            "outputs": [
                {
                    "data": {
                        "text/html": [
                            "(813 rows affected)"
                        ]
                    },
                    "metadata": {},
                    "output_type": "display_data"
                },
                {
                    "data": {
                        "text/html": [
                            "(10 rows affected)"
                        ]
                    },
                    "metadata": {},
                    "output_type": "display_data"
                },
                {
                    "data": {
                        "text/html": [
                            "Total execution time: 00:00:00.519"
                        ]
                    },
                    "metadata": {},
                    "output_type": "display_data"
                },
                {
                    "data": {
                        "application/vnd.dataresource+json": {
                            "data": [
                                {
                                    "0": "1",
                                    "1": "Джентльмены предпочитают блондинок ",
                                    "2": "1953",
                                    "3": "7",
                                    "4": "24366",
                                    "5": "7,7",
                                    "6": "2023-03-20",
                                    "7": "tt0045810",
                                    "8": "movie",
                                    "9": "Gentlemen Prefer Blondes",
                                    "10": "91",
                                    "11": "Comedy,Musical,Romance",
                                    "12": "7,1",
                                    "13": "39911",
                                    "14": "Comedy",
                                    "15": "Musical",
                                    "16": "Romance"
                                },
                                {
                                    "0": "2",
                                    "1": "Как выйти замуж за миллионера ",
                                    "2": "1953",
                                    "3": "8",
                                    "4": "11226",
                                    "5": "7,7",
                                    "6": "2023-03-19",
                                    "7": "tt0045891",
                                    "8": "movie",
                                    "9": "How to Marry a Millionaire",
                                    "10": "95",
                                    "11": "Comedy,Drama,Romance",
                                    "12": "6,8",
                                    "13": "23373",
                                    "14": "Comedy",
                                    "15": "Drama",
                                    "16": "Romance"
                                },
                                {
                                    "0": "3",
                                    "1": "На Золотом пруду ",
                                    "2": "1981",
                                    "3": "8",
                                    "4": "2623",
                                    "5": "7,8",
                                    "6": "2023-03-15",
                                    "7": "tt0082846",
                                    "8": "movie",
                                    "9": "On Golden Pond",
                                    "10": "109",
                                    "11": "Drama",
                                    "12": "7,6",
                                    "13": "32663",
                                    "14": "NULL",
                                    "15": "NULL",
                                    "16": "Drama"
                                },
                                {
                                    "0": "5",
                                    "1": "Человек дождя ",
                                    "2": "1988",
                                    "3": "8",
                                    "4": "339912",
                                    "5": "8,2",
                                    "6": "2023-03-11",
                                    "7": "tt0095953",
                                    "8": "movie",
                                    "9": "Rain Man",
                                    "10": "133",
                                    "11": "Drama",
                                    "12": "8",
                                    "13": "523021",
                                    "14": "NULL",
                                    "15": "NULL",
                                    "16": "Drama"
                                },
                                {
                                    "0": "8",
                                    "1": "Доводы рассудка ",
                                    "2": "2022",
                                    "3": "7",
                                    "4": "6153",
                                    "5": "6",
                                    "6": "2023-02-28",
                                    "7": "tt13456318",
                                    "8": "movie",
                                    "9": "Persuasion",
                                    "10": "108",
                                    "11": "Drama,Romance",
                                    "12": "5,8",
                                    "13": "31346",
                                    "14": "NULL",
                                    "15": "Drama",
                                    "16": "Romance"
                                },
                                {
                                    "0": "11",
                                    "1": "Страна снов ",
                                    "2": "2022",
                                    "3": "7",
                                    "4": "4096",
                                    "5": "6,9",
                                    "6": "2023-02-26",
                                    "7": "tt13320662",
                                    "8": "movie",
                                    "9": "Slumberland",
                                    "10": "117",
                                    "11": "Adventure,Comedy,Drama",
                                    "12": "6,7",
                                    "13": "24702",
                                    "14": "Adventure",
                                    "15": "Comedy",
                                    "16": "Drama"
                                },
                                {
                                    "0": "13",
                                    "1": "К тебе или ко мне? ",
                                    "2": "2023",
                                    "3": "5",
                                    "4": "3463",
                                    "5": "6,2",
                                    "6": "2023-02-24",
                                    "7": "tt12823454",
                                    "8": "movie",
                                    "9": "Your Place or Mine",
                                    "10": "109",
                                    "11": "Comedy,Romance",
                                    "12": "5,6",
                                    "13": "28682",
                                    "14": "NULL",
                                    "15": "Comedy",
                                    "16": "Romance"
                                },
                                {
                                    "0": "15",
                                    "1": "Четыре Рождества ",
                                    "2": "2008",
                                    "3": "5",
                                    "4": "34572",
                                    "5": "6,2",
                                    "6": "2023-02-17",
                                    "7": "tt0369436",
                                    "8": "movie",
                                    "9": "Four Christmases",
                                    "10": "88",
                                    "11": "Comedy,Drama,Romance",
                                    "12": "5,7",
                                    "13": "75789",
                                    "14": "Comedy",
                                    "15": "Drama",
                                    "16": "Romance"
                                },
                                {
                                    "0": "17",
                                    "1": "Цена измены ",
                                    "2": "2005",
                                    "3": "7",
                                    "4": "56526",
                                    "5": "7,5",
                                    "6": "2023-02-11",
                                    "7": "tt0398017",
                                    "8": "movie",
                                    "9": "Derailed",
                                    "10": "108",
                                    "11": "Crime,Drama,Thriller",
                                    "12": "6,6",
                                    "13": "74764",
                                    "14": "Crime",
                                    "15": "Drama",
                                    "16": "Thriller"
                                },
                                {
                                    "0": "19",
                                    "1": "В джазе только девушки ",
                                    "2": "1959",
                                    "3": "9",
                                    "4": "297776",
                                    "5": "8,5",
                                    "6": "2023-02-05",
                                    "7": "tt0053291",
                                    "8": "movie",
                                    "9": "Some Like It Hot",
                                    "10": "121",
                                    "11": "Comedy,Music,Romance",
                                    "12": "8,2",
                                    "13": "271366",
                                    "14": "Comedy",
                                    "15": "Music",
                                    "16": "Romance"
                                }
                            ],
                            "schema": {
                                "fields": [
                                    {
                                        "name": "id"
                                    },
                                    {
                                        "name": "russian_movie_names"
                                    },
                                    {
                                        "name": "release_year"
                                    },
                                    {
                                        "name": "user_ratings"
                                    },
                                    {
                                        "name": "user_rating_count"
                                    },
                                    {
                                        "name": "kinopoisk_ratings"
                                    },
                                    {
                                        "name": "date_of_rating"
                                    },
                                    {
                                        "name": "tconst"
                                    },
                                    {
                                        "name": "titleType"
                                    },
                                    {
                                        "name": "primaryTitle"
                                    },
                                    {
                                        "name": "runtimeMinutes"
                                    },
                                    {
                                        "name": "genres"
                                    },
                                    {
                                        "name": "averageRating"
                                    },
                                    {
                                        "name": "numVotes"
                                    },
                                    {
                                        "name": "genre_1"
                                    },
                                    {
                                        "name": "genre_2"
                                    },
                                    {
                                        "name": "genre_3"
                                    }
                                ]
                            }
                        },
                        "text/html": [
                            "<table>\n",
                            "<tr><th>id</th><th>russian_movie_names</th><th>release_year</th><th>user_ratings</th><th>user_rating_count</th><th>kinopoisk_ratings</th><th>date_of_rating</th><th>tconst</th><th>titleType</th><th>primaryTitle</th><th>runtimeMinutes</th><th>genres</th><th>averageRating</th><th>numVotes</th><th>genre_1</th><th>genre_2</th><th>genre_3</th></tr>\n",
                            "<tr><td>1</td><td>Джентльмены предпочитают блондинок </td><td>1953</td><td>7</td><td>24366</td><td>7,7</td><td>2023-03-20</td><td>tt0045810</td><td>movie</td><td>Gentlemen Prefer Blondes</td><td>91</td><td>Comedy,Musical,Romance</td><td>7,1</td><td>39911</td><td>Comedy</td><td>Musical</td><td>Romance</td></tr>\n",
                            "<tr><td>2</td><td>Как выйти замуж за миллионера </td><td>1953</td><td>8</td><td>11226</td><td>7,7</td><td>2023-03-19</td><td>tt0045891</td><td>movie</td><td>How to Marry a Millionaire</td><td>95</td><td>Comedy,Drama,Romance</td><td>6,8</td><td>23373</td><td>Comedy</td><td>Drama</td><td>Romance</td></tr>\n",
                            "<tr><td>3</td><td>На Золотом пруду </td><td>1981</td><td>8</td><td>2623</td><td>7,8</td><td>2023-03-15</td><td>tt0082846</td><td>movie</td><td>On Golden Pond</td><td>109</td><td>Drama</td><td>7,6</td><td>32663</td><td>NULL</td><td>NULL</td><td>Drama</td></tr>\n",
                            "<tr><td>5</td><td>Человек дождя </td><td>1988</td><td>8</td><td>339912</td><td>8,2</td><td>2023-03-11</td><td>tt0095953</td><td>movie</td><td>Rain Man</td><td>133</td><td>Drama</td><td>8</td><td>523021</td><td>NULL</td><td>NULL</td><td>Drama</td></tr>\n",
                            "<tr><td>8</td><td>Доводы рассудка </td><td>2022</td><td>7</td><td>6153</td><td>6</td><td>2023-02-28</td><td>tt13456318</td><td>movie</td><td>Persuasion</td><td>108</td><td>Drama,Romance</td><td>5,8</td><td>31346</td><td>NULL</td><td>Drama</td><td>Romance</td></tr>\n",
                            "<tr><td>11</td><td>Страна снов </td><td>2022</td><td>7</td><td>4096</td><td>6,9</td><td>2023-02-26</td><td>tt13320662</td><td>movie</td><td>Slumberland</td><td>117</td><td>Adventure,Comedy,Drama</td><td>6,7</td><td>24702</td><td>Adventure</td><td>Comedy</td><td>Drama</td></tr>\n",
                            "<tr><td>13</td><td>К тебе или ко мне? </td><td>2023</td><td>5</td><td>3463</td><td>6,2</td><td>2023-02-24</td><td>tt12823454</td><td>movie</td><td>Your Place or Mine</td><td>109</td><td>Comedy,Romance</td><td>5,6</td><td>28682</td><td>NULL</td><td>Comedy</td><td>Romance</td></tr>\n",
                            "<tr><td>15</td><td>Четыре Рождества </td><td>2008</td><td>5</td><td>34572</td><td>6,2</td><td>2023-02-17</td><td>tt0369436</td><td>movie</td><td>Four Christmases</td><td>88</td><td>Comedy,Drama,Romance</td><td>5,7</td><td>75789</td><td>Comedy</td><td>Drama</td><td>Romance</td></tr>\n",
                            "<tr><td>17</td><td>Цена измены </td><td>2005</td><td>7</td><td>56526</td><td>7,5</td><td>2023-02-11</td><td>tt0398017</td><td>movie</td><td>Derailed</td><td>108</td><td>Crime,Drama,Thriller</td><td>6,6</td><td>74764</td><td>Crime</td><td>Drama</td><td>Thriller</td></tr>\n",
                            "<tr><td>19</td><td>В джазе только девушки </td><td>1959</td><td>9</td><td>297776</td><td>8,5</td><td>2023-02-05</td><td>tt0053291</td><td>movie</td><td>Some Like It Hot</td><td>121</td><td>Comedy,Music,Romance</td><td>8,2</td><td>271366</td><td>Comedy</td><td>Music</td><td>Romance</td></tr>\n",
                            "</table>"
                        ]
                    },
                    "execution_count": 1,
                    "metadata": {},
                    "output_type": "execute_result"
                }
            ],
            "source": [
                "DROP TABLE IF EXISTS my_only_movies_set\n",
                "SELECT *\n",
                "INTO my_only_movies_set\n",
                "FROM my_only_movies\n",
                "WHERE numVotes > 1000\n",
                "GROUP BY [id]\n",
                "      ,[russian_movie_names]\n",
                "      ,[release_year]\n",
                "      ,[user_ratings]\n",
                "      ,[user_rating_count]\n",
                "      ,[kinopoisk_ratings]\n",
                "      ,[date_of_rating]\n",
                "      ,[tconst]\n",
                "      ,[titleType]\n",
                "      ,[primaryTitle]\n",
                "      ,[runtimeMinutes]\n",
                "      ,[genres]\n",
                "      ,[averageRating]\n",
                "      ,[numVotes]  \n",
                "      ,[genre_1] \n",
                "      ,[genre_2]\n",
                "      ,[genre_3]\n",
                "ORDER BY primaryTitle\n",
                "SELECT TOP 10 *\n",
                "FROM my_only_movies_set"
            ]
        },
        {
            "attachments": {},
            "cell_type": "markdown",
            "metadata": {
                "azdata_cell_guid": "3dcb4801-67dc-4280-b570-e9faeeb3851a"
            },
            "source": [
                "## 5\\. Analysis"
            ]
        },
        {
            "cell_type": "code",
            "execution_count": 58,
            "metadata": {
                "azdata_cell_guid": "107963e7-4cd5-43ac-bd24-a8bbee796845",
                "language": "sql",
                "tags": [],
                "vscode": {
                    "languageId": "r"
                }
            },
            "outputs": [
                {
                    "data": {
                        "text/html": [
                            "(813 rows affected)"
                        ]
                    },
                    "metadata": {},
                    "output_type": "display_data"
                },
                {
                    "data": {
                        "text/html": [
                            "(10 rows affected)"
                        ]
                    },
                    "metadata": {},
                    "output_type": "display_data"
                },
                {
                    "data": {
                        "text/html": [
                            "Total execution time: 00:00:01.451"
                        ]
                    },
                    "metadata": {},
                    "output_type": "display_data"
                },
                {
                    "data": {
                        "application/vnd.dataresource+json": {
                            "data": [
                                {
                                    "0": "487",
                                    "1": "Малыш ",
                                    "2": "1921",
                                    "3": "9",
                                    "4": "41047",
                                    "5": "8.2",
                                    "6": "2016-06-15",
                                    "7": "tt0012349",
                                    "8": "movie",
                                    "9": "The Kid",
                                    "10": "68",
                                    "11": "Comedy,Drama,Family",
                                    "12": "8,3",
                                    "13": "128355",
                                    "14": "Comedy",
                                    "15": "Drama",
                                    "16": "Family",
                                    "17": "Charles Chaplin"
                                },
                                {
                                    "0": "842",
                                    "1": "Леди исчезает ",
                                    "2": "1938",
                                    "3": "8",
                                    "4": "6716",
                                    "5": "7.7",
                                    "6": "2013-07-13",
                                    "7": "tt0030341",
                                    "8": "movie",
                                    "9": "The Lady Vanishes",
                                    "10": "96",
                                    "11": "Mystery,Thriller",
                                    "12": "7,8",
                                    "13": "54282",
                                    "14": "NULL",
                                    "15": "Mystery",
                                    "16": "Thriller",
                                    "17": "Alfred Hitchcock"
                                },
                                {
                                    "0": "1196",
                                    "1": "Кейт и Лео ",
                                    "2": "2001",
                                    "3": "8",
                                    "4": "134242",
                                    "5": "7.6",
                                    "6": "2011-06-24",
                                    "7": "tt0035423",
                                    "8": "movie",
                                    "9": "Kate & Leopold",
                                    "10": "118",
                                    "11": "Comedy,Fantasy,Romance",
                                    "12": "6,4",
                                    "13": "86310",
                                    "14": "Comedy",
                                    "15": "Fantasy",
                                    "16": "Romance",
                                    "17": "James Mangold"
                                },
                                {
                                    "0": "1",
                                    "1": "Джентльмены предпочитают блондинок ",
                                    "2": "1953",
                                    "3": "7",
                                    "4": "24366",
                                    "5": "7.7",
                                    "6": "2023-03-20",
                                    "7": "tt0045810",
                                    "8": "movie",
                                    "9": "Gentlemen Prefer Blondes",
                                    "10": "91",
                                    "11": "Comedy,Musical,Romance",
                                    "12": "7,1",
                                    "13": "39911",
                                    "14": "Comedy",
                                    "15": "Musical",
                                    "16": "Romance",
                                    "17": "Howard Hawks"
                                },
                                {
                                    "0": "2",
                                    "1": "Как выйти замуж за миллионера ",
                                    "2": "1953",
                                    "3": "8",
                                    "4": "11226",
                                    "5": "7.7",
                                    "6": "2023-03-19",
                                    "7": "tt0045891",
                                    "8": "movie",
                                    "9": "How to Marry a Millionaire",
                                    "10": "95",
                                    "11": "Comedy,Drama,Romance",
                                    "12": "6,8",
                                    "13": "23373",
                                    "14": "Comedy",
                                    "15": "Drama",
                                    "16": "Romance",
                                    "17": "Jean Negulesco"
                                },
                                {
                                    "0": "1205",
                                    "1": "Римские каникулы ",
                                    "2": "1953",
                                    "3": "10",
                                    "4": "125660",
                                    "5": "8.3",
                                    "6": "2011-05-07",
                                    "7": "tt0046250",
                                    "8": "movie",
                                    "9": "Roman Holiday",
                                    "10": "118",
                                    "11": "Comedy,Romance",
                                    "12": "8",
                                    "13": "141418",
                                    "14": "NULL",
                                    "15": "Comedy",
                                    "16": "Romance",
                                    "17": "William Wyler"
                                },
                                {
                                    "0": "182",
                                    "1": "Зуд седьмого года ",
                                    "2": "1955",
                                    "3": "4",
                                    "4": "8524",
                                    "5": "7.3",
                                    "6": "2020-08-22",
                                    "7": "tt0048605",
                                    "8": "movie",
                                    "9": "The Seven Year Itch",
                                    "10": "105",
                                    "11": "Comedy,Romance",
                                    "12": "7,1",
                                    "13": "40252",
                                    "14": "NULL",
                                    "15": "Comedy",
                                    "16": "Romance",
                                    "17": "Billy Wilder"
                                },
                                {
                                    "0": "23",
                                    "1": "Забавная мордашка ",
                                    "2": "1957",
                                    "3": "5",
                                    "4": "10084",
                                    "5": "7.5",
                                    "6": "2023-01-16",
                                    "7": "tt0050419",
                                    "8": "movie",
                                    "9": "Funny Face",
                                    "10": "103",
                                    "11": "Comedy,Musical,Romance",
                                    "12": "7",
                                    "13": "31298",
                                    "14": "Comedy",
                                    "15": "Musical",
                                    "16": "Romance",
                                    "17": "Stanley Donen"
                                },
                                {
                                    "0": "19",
                                    "1": "В джазе только девушки ",
                                    "2": "1959",
                                    "3": "9",
                                    "4": "297776",
                                    "5": "8.5",
                                    "6": "2023-02-05",
                                    "7": "tt0053291",
                                    "8": "movie",
                                    "9": "Some Like It Hot",
                                    "10": "121",
                                    "11": "Comedy,Music,Romance",
                                    "12": "8,2",
                                    "13": "271366",
                                    "14": "Comedy",
                                    "15": "Music",
                                    "16": "Romance",
                                    "17": "Billy Wilder"
                                },
                                {
                                    "0": "1206",
                                    "1": "Завтрак у Тиффани ",
                                    "2": "1961",
                                    "3": "10",
                                    "4": "122276",
                                    "5": "8.1",
                                    "6": "2011-05-07",
                                    "7": "tt0054698",
                                    "8": "movie",
                                    "9": "Breakfast at Tiffany's",
                                    "10": "115",
                                    "11": "Comedy,Drama,Romance",
                                    "12": "7,6",
                                    "13": "184334",
                                    "14": "Comedy",
                                    "15": "Drama",
                                    "16": "Romance",
                                    "17": "Blake Edwards"
                                }
                            ],
                            "schema": {
                                "fields": [
                                    {
                                        "name": "id"
                                    },
                                    {
                                        "name": "russian_movie_names"
                                    },
                                    {
                                        "name": "release_year"
                                    },
                                    {
                                        "name": "user_ratings"
                                    },
                                    {
                                        "name": "user_rating_count"
                                    },
                                    {
                                        "name": "kinopoisk_ratings"
                                    },
                                    {
                                        "name": "date_of_rating"
                                    },
                                    {
                                        "name": "tconst"
                                    },
                                    {
                                        "name": "titleType"
                                    },
                                    {
                                        "name": "primaryTitle"
                                    },
                                    {
                                        "name": "runtimeMinutes"
                                    },
                                    {
                                        "name": "genres"
                                    },
                                    {
                                        "name": "averageRating"
                                    },
                                    {
                                        "name": "numVotes"
                                    },
                                    {
                                        "name": "genre_1"
                                    },
                                    {
                                        "name": "genre_2"
                                    },
                                    {
                                        "name": "genre_3"
                                    },
                                    {
                                        "name": "director"
                                    }
                                ]
                            }
                        },
                        "text/html": [
                            "<table><tr><th>id</th><th>russian_movie_names</th><th>release_year</th><th>user_ratings</th><th>user_rating_count</th><th>kinopoisk_ratings</th><th>date_of_rating</th><th>tconst</th><th>titleType</th><th>primaryTitle</th><th>runtimeMinutes</th><th>genres</th><th>averageRating</th><th>numVotes</th><th>genre_1</th><th>genre_2</th><th>genre_3</th><th>director</th></tr><tr><td>487</td><td>Малыш </td><td>1921</td><td>9</td><td>41047</td><td>8.2</td><td>2016-06-15</td><td>tt0012349</td><td>movie</td><td>The Kid</td><td>68</td><td>Comedy,Drama,Family</td><td>8,3</td><td>128355</td><td>Comedy</td><td>Drama</td><td>Family</td><td>Charles Chaplin</td></tr><tr><td>842</td><td>Леди исчезает </td><td>1938</td><td>8</td><td>6716</td><td>7.7</td><td>2013-07-13</td><td>tt0030341</td><td>movie</td><td>The Lady Vanishes</td><td>96</td><td>Mystery,Thriller</td><td>7,8</td><td>54282</td><td>NULL</td><td>Mystery</td><td>Thriller</td><td>Alfred Hitchcock</td></tr><tr><td>1196</td><td>Кейт и Лео </td><td>2001</td><td>8</td><td>134242</td><td>7.6</td><td>2011-06-24</td><td>tt0035423</td><td>movie</td><td>Kate &amp; Leopold</td><td>118</td><td>Comedy,Fantasy,Romance</td><td>6,4</td><td>86310</td><td>Comedy</td><td>Fantasy</td><td>Romance</td><td>James Mangold</td></tr><tr><td>1</td><td>Джентльмены предпочитают блондинок </td><td>1953</td><td>7</td><td>24366</td><td>7.7</td><td>2023-03-20</td><td>tt0045810</td><td>movie</td><td>Gentlemen Prefer Blondes</td><td>91</td><td>Comedy,Musical,Romance</td><td>7,1</td><td>39911</td><td>Comedy</td><td>Musical</td><td>Romance</td><td>Howard Hawks</td></tr><tr><td>2</td><td>Как выйти замуж за миллионера </td><td>1953</td><td>8</td><td>11226</td><td>7.7</td><td>2023-03-19</td><td>tt0045891</td><td>movie</td><td>How to Marry a Millionaire</td><td>95</td><td>Comedy,Drama,Romance</td><td>6,8</td><td>23373</td><td>Comedy</td><td>Drama</td><td>Romance</td><td>Jean Negulesco</td></tr><tr><td>1205</td><td>Римские каникулы </td><td>1953</td><td>10</td><td>125660</td><td>8.3</td><td>2011-05-07</td><td>tt0046250</td><td>movie</td><td>Roman Holiday</td><td>118</td><td>Comedy,Romance</td><td>8</td><td>141418</td><td>NULL</td><td>Comedy</td><td>Romance</td><td>William Wyler</td></tr><tr><td>182</td><td>Зуд седьмого года </td><td>1955</td><td>4</td><td>8524</td><td>7.3</td><td>2020-08-22</td><td>tt0048605</td><td>movie</td><td>The Seven Year Itch</td><td>105</td><td>Comedy,Romance</td><td>7,1</td><td>40252</td><td>NULL</td><td>Comedy</td><td>Romance</td><td>Billy Wilder</td></tr><tr><td>23</td><td>Забавная мордашка </td><td>1957</td><td>5</td><td>10084</td><td>7.5</td><td>2023-01-16</td><td>tt0050419</td><td>movie</td><td>Funny Face</td><td>103</td><td>Comedy,Musical,Romance</td><td>7</td><td>31298</td><td>Comedy</td><td>Musical</td><td>Romance</td><td>Stanley Donen</td></tr><tr><td>19</td><td>В джазе только девушки </td><td>1959</td><td>9</td><td>297776</td><td>8.5</td><td>2023-02-05</td><td>tt0053291</td><td>movie</td><td>Some Like It Hot</td><td>121</td><td>Comedy,Music,Romance</td><td>8,2</td><td>271366</td><td>Comedy</td><td>Music</td><td>Romance</td><td>Billy Wilder</td></tr><tr><td>1206</td><td>Завтрак у Тиффани </td><td>1961</td><td>10</td><td>122276</td><td>8.1</td><td>2011-05-07</td><td>tt0054698</td><td>movie</td><td>Breakfast at Tiffany's</td><td>115</td><td>Comedy,Drama,Romance</td><td>7,6</td><td>184334</td><td>Comedy</td><td>Drama</td><td>Romance</td><td>Blake Edwards</td></tr></table>"
                        ]
                    },
                    "execution_count": 58,
                    "metadata": {},
                    "output_type": "execute_result"
                }
            ],
            "source": [
                "--------------------------------------------------------------------------------------\n",
                "/* DIRECTORS */\n",
                "------------------------------------------------------------------------------------------\n",
                "DROP TABLE IF EXISTS #my_movies_with_director\n",
                "SELECT my_only_movies_set.*,\n",
                "directors_movies_df.primaryname AS director\n",
                "INTO #my_movies_with_director\n",
                "  FROM my_only_movies_set\n",
                "  LEFT JOIN directors_movies_df\n",
                "  ON my_only_movies_set.tconst = directors_movies_df.tconst\n",
                " /*joined my movies and directors into new table*/\n",
                "\n",
                " SELECT TOP 10 *\n",
                " FROM #my_movies_with_director"
            ]
        },
        {
            "cell_type": "code",
            "execution_count": 59,
            "metadata": {
                "azdata_cell_guid": "d5bedbc7-f1c8-4a90-a5fe-0d3332f36f02",
                "language": "sql",
                "vscode": {
                    "languageId": "r"
                }
            },
            "outputs": [
                {
                    "data": {
                        "text/html": [
                            "(813 rows affected)"
                        ]
                    },
                    "metadata": {},
                    "output_type": "display_data"
                },
                {
                    "data": {
                        "text/html": [
                            "(10 rows affected)"
                        ]
                    },
                    "metadata": {},
                    "output_type": "display_data"
                },
                {
                    "data": {
                        "text/html": [
                            "Total execution time: 00:00:00.059"
                        ]
                    },
                    "metadata": {},
                    "output_type": "display_data"
                },
                {
                    "data": {
                        "application/vnd.dataresource+json": {
                            "data": [
                                {
                                    "0": "1",
                                    "1": "Джентльмены предпочитают блондинок ",
                                    "2": "1953",
                                    "3": "7",
                                    "4": "24366",
                                    "5": "7.7",
                                    "6": "2023-03-20",
                                    "7": "tt0045810",
                                    "8": "movie",
                                    "9": "Gentlemen Prefer Blondes",
                                    "10": "91",
                                    "11": "Comedy,Musical,Romance",
                                    "12": "7,1",
                                    "13": "39911",
                                    "14": "Comedy",
                                    "15": "Musical",
                                    "16": "Romance",
                                    "17": "Howard Hawks"
                                },
                                {
                                    "0": "2",
                                    "1": "Как выйти замуж за миллионера ",
                                    "2": "1953",
                                    "3": "8",
                                    "4": "11226",
                                    "5": "7.7",
                                    "6": "2023-03-19",
                                    "7": "tt0045891",
                                    "8": "movie",
                                    "9": "How to Marry a Millionaire",
                                    "10": "95",
                                    "11": "Comedy,Drama,Romance",
                                    "12": "6,8",
                                    "13": "23373",
                                    "14": "Comedy",
                                    "15": "Drama",
                                    "16": "Romance",
                                    "17": "Jean Negulesco"
                                },
                                {
                                    "0": "3",
                                    "1": "На Золотом пруду ",
                                    "2": "1981",
                                    "3": "8",
                                    "4": "2623",
                                    "5": "7.8",
                                    "6": "2023-03-15",
                                    "7": "tt0082846",
                                    "8": "movie",
                                    "9": "On Golden Pond",
                                    "10": "109",
                                    "11": "Drama",
                                    "12": "7,6",
                                    "13": "32663",
                                    "14": "NULL",
                                    "15": "NULL",
                                    "16": "Drama",
                                    "17": "Mark Rydell"
                                },
                                {
                                    "0": "5",
                                    "1": "Человек дождя ",
                                    "2": "1988",
                                    "3": "8",
                                    "4": "339912",
                                    "5": "8.2",
                                    "6": "2023-03-11",
                                    "7": "tt0095953",
                                    "8": "movie",
                                    "9": "Rain Man",
                                    "10": "133",
                                    "11": "Drama",
                                    "12": "8",
                                    "13": "523021",
                                    "14": "NULL",
                                    "15": "NULL",
                                    "16": "Drama",
                                    "17": "Barry Levinson"
                                },
                                {
                                    "0": "8",
                                    "1": "Доводы рассудка ",
                                    "2": "2022",
                                    "3": "7",
                                    "4": "6153",
                                    "5": "6",
                                    "6": "2023-02-28",
                                    "7": "tt13456318",
                                    "8": "movie",
                                    "9": "Persuasion",
                                    "10": "108",
                                    "11": "Drama,Romance",
                                    "12": "5,8",
                                    "13": "31346",
                                    "14": "NULL",
                                    "15": "Drama",
                                    "16": "Romance",
                                    "17": "Carrie Cracknell"
                                },
                                {
                                    "0": "11",
                                    "1": "Страна снов ",
                                    "2": "2022",
                                    "3": "7",
                                    "4": "4096",
                                    "5": "6.9",
                                    "6": "2023-02-26",
                                    "7": "tt13320662",
                                    "8": "movie",
                                    "9": "Slumberland",
                                    "10": "117",
                                    "11": "Adventure,Comedy,Drama",
                                    "12": "6,7",
                                    "13": "24702",
                                    "14": "Adventure",
                                    "15": "Comedy",
                                    "16": "Drama",
                                    "17": "Francis Lawrence"
                                },
                                {
                                    "0": "13",
                                    "1": "К тебе или ко мне? ",
                                    "2": "2023",
                                    "3": "5",
                                    "4": "3463",
                                    "5": "6.2",
                                    "6": "2023-02-24",
                                    "7": "tt12823454",
                                    "8": "movie",
                                    "9": "Your Place or Mine",
                                    "10": "109",
                                    "11": "Comedy,Romance",
                                    "12": "5,6",
                                    "13": "28682",
                                    "14": "NULL",
                                    "15": "Comedy",
                                    "16": "Romance",
                                    "17": "Aline Brosh McKenna"
                                },
                                {
                                    "0": "15",
                                    "1": "Четыре Рождества ",
                                    "2": "2008",
                                    "3": "5",
                                    "4": "34572",
                                    "5": "6.2",
                                    "6": "2023-02-17",
                                    "7": "tt0369436",
                                    "8": "movie",
                                    "9": "Four Christmases",
                                    "10": "88",
                                    "11": "Comedy,Drama,Romance",
                                    "12": "5,7",
                                    "13": "75789",
                                    "14": "Comedy",
                                    "15": "Drama",
                                    "16": "Romance",
                                    "17": "Seth Gordon"
                                },
                                {
                                    "0": "17",
                                    "1": "Цена измены ",
                                    "2": "2005",
                                    "3": "7",
                                    "4": "56526",
                                    "5": "7.5",
                                    "6": "2023-02-11",
                                    "7": "tt0398017",
                                    "8": "movie",
                                    "9": "Derailed",
                                    "10": "108",
                                    "11": "Crime,Drama,Thriller",
                                    "12": "6,6",
                                    "13": "74764",
                                    "14": "Crime",
                                    "15": "Drama",
                                    "16": "Thriller",
                                    "17": "Mikael Håfström"
                                },
                                {
                                    "0": "19",
                                    "1": "В джазе только девушки ",
                                    "2": "1959",
                                    "3": "9",
                                    "4": "297776",
                                    "5": "8.5",
                                    "6": "2023-02-05",
                                    "7": "tt0053291",
                                    "8": "movie",
                                    "9": "Some Like It Hot",
                                    "10": "121",
                                    "11": "Comedy,Music,Romance",
                                    "12": "8,2",
                                    "13": "271366",
                                    "14": "Comedy",
                                    "15": "Music",
                                    "16": "Romance",
                                    "17": "Billy Wilder"
                                }
                            ],
                            "schema": {
                                "fields": [
                                    {
                                        "name": "id"
                                    },
                                    {
                                        "name": "russian_movie_names"
                                    },
                                    {
                                        "name": "release_year"
                                    },
                                    {
                                        "name": "user_ratings"
                                    },
                                    {
                                        "name": "user_rating_count"
                                    },
                                    {
                                        "name": "kinopoisk_ratings"
                                    },
                                    {
                                        "name": "date_of_rating"
                                    },
                                    {
                                        "name": "tconst"
                                    },
                                    {
                                        "name": "titleType"
                                    },
                                    {
                                        "name": "primaryTitle"
                                    },
                                    {
                                        "name": "runtimeMinutes"
                                    },
                                    {
                                        "name": "genres"
                                    },
                                    {
                                        "name": "averageRating"
                                    },
                                    {
                                        "name": "numVotes"
                                    },
                                    {
                                        "name": "genre_1"
                                    },
                                    {
                                        "name": "genre_2"
                                    },
                                    {
                                        "name": "genre_3"
                                    },
                                    {
                                        "name": "director"
                                    }
                                ]
                            }
                        },
                        "text/html": [
                            "<table><tr><th>id</th><th>russian_movie_names</th><th>release_year</th><th>user_ratings</th><th>user_rating_count</th><th>kinopoisk_ratings</th><th>date_of_rating</th><th>tconst</th><th>titleType</th><th>primaryTitle</th><th>runtimeMinutes</th><th>genres</th><th>averageRating</th><th>numVotes</th><th>genre_1</th><th>genre_2</th><th>genre_3</th><th>director</th></tr><tr><td>1</td><td>Джентльмены предпочитают блондинок </td><td>1953</td><td>7</td><td>24366</td><td>7.7</td><td>2023-03-20</td><td>tt0045810</td><td>movie</td><td>Gentlemen Prefer Blondes</td><td>91</td><td>Comedy,Musical,Romance</td><td>7,1</td><td>39911</td><td>Comedy</td><td>Musical</td><td>Romance</td><td>Howard Hawks</td></tr><tr><td>2</td><td>Как выйти замуж за миллионера </td><td>1953</td><td>8</td><td>11226</td><td>7.7</td><td>2023-03-19</td><td>tt0045891</td><td>movie</td><td>How to Marry a Millionaire</td><td>95</td><td>Comedy,Drama,Romance</td><td>6,8</td><td>23373</td><td>Comedy</td><td>Drama</td><td>Romance</td><td>Jean Negulesco</td></tr><tr><td>3</td><td>На Золотом пруду </td><td>1981</td><td>8</td><td>2623</td><td>7.8</td><td>2023-03-15</td><td>tt0082846</td><td>movie</td><td>On Golden Pond</td><td>109</td><td>Drama</td><td>7,6</td><td>32663</td><td>NULL</td><td>NULL</td><td>Drama</td><td>Mark Rydell</td></tr><tr><td>5</td><td>Человек дождя </td><td>1988</td><td>8</td><td>339912</td><td>8.2</td><td>2023-03-11</td><td>tt0095953</td><td>movie</td><td>Rain Man</td><td>133</td><td>Drama</td><td>8</td><td>523021</td><td>NULL</td><td>NULL</td><td>Drama</td><td>Barry Levinson</td></tr><tr><td>8</td><td>Доводы рассудка </td><td>2022</td><td>7</td><td>6153</td><td>6</td><td>2023-02-28</td><td>tt13456318</td><td>movie</td><td>Persuasion</td><td>108</td><td>Drama,Romance</td><td>5,8</td><td>31346</td><td>NULL</td><td>Drama</td><td>Romance</td><td>Carrie Cracknell</td></tr><tr><td>11</td><td>Страна снов </td><td>2022</td><td>7</td><td>4096</td><td>6.9</td><td>2023-02-26</td><td>tt13320662</td><td>movie</td><td>Slumberland</td><td>117</td><td>Adventure,Comedy,Drama</td><td>6,7</td><td>24702</td><td>Adventure</td><td>Comedy</td><td>Drama</td><td>Francis Lawrence</td></tr><tr><td>13</td><td>К тебе или ко мне? </td><td>2023</td><td>5</td><td>3463</td><td>6.2</td><td>2023-02-24</td><td>tt12823454</td><td>movie</td><td>Your Place or Mine</td><td>109</td><td>Comedy,Romance</td><td>5,6</td><td>28682</td><td>NULL</td><td>Comedy</td><td>Romance</td><td>Aline Brosh McKenna</td></tr><tr><td>15</td><td>Четыре Рождества </td><td>2008</td><td>5</td><td>34572</td><td>6.2</td><td>2023-02-17</td><td>tt0369436</td><td>movie</td><td>Four Christmases</td><td>88</td><td>Comedy,Drama,Romance</td><td>5,7</td><td>75789</td><td>Comedy</td><td>Drama</td><td>Romance</td><td>Seth Gordon</td></tr><tr><td>17</td><td>Цена измены </td><td>2005</td><td>7</td><td>56526</td><td>7.5</td><td>2023-02-11</td><td>tt0398017</td><td>movie</td><td>Derailed</td><td>108</td><td>Crime,Drama,Thriller</td><td>6,6</td><td>74764</td><td>Crime</td><td>Drama</td><td>Thriller</td><td>Mikael Håfström</td></tr><tr><td>19</td><td>В джазе только девушки </td><td>1959</td><td>9</td><td>297776</td><td>8.5</td><td>2023-02-05</td><td>tt0053291</td><td>movie</td><td>Some Like It Hot</td><td>121</td><td>Comedy,Music,Romance</td><td>8,2</td><td>271366</td><td>Comedy</td><td>Music</td><td>Romance</td><td>Billy Wilder</td></tr></table>"
                        ]
                    },
                    "execution_count": 59,
                    "metadata": {},
                    "output_type": "execute_result"
                }
            ],
            "source": [
                "DROP TABLE IF EXISTS my_movies_with_directors_group\n",
                "SELECT * \n",
                "INTO my_movies_with_directors_group\n",
                "FROM #my_movies_with_director\n",
                "GROUP BY [id]\n",
                "      ,[russian_movie_names]\n",
                "      ,[release_year]\n",
                "      ,[user_ratings]\n",
                "      ,[user_rating_count]\n",
                "      ,[kinopoisk_ratings]\n",
                "      ,[date_of_rating]\n",
                "      ,[tconst]\n",
                "      ,[titleType]\n",
                "      ,[primaryTitle]\n",
                "      ,[runtimeMinutes]\n",
                "      ,[genres]\n",
                "      ,[averageRating]\n",
                "      ,[numVotes]  \n",
                "      ,[genre_1] \n",
                "      ,[genre_2]\n",
                "      ,[genre_3]\n",
                "      ,[director]\n",
                "\n",
                "SELECT TOP 10 *\n",
                "FROM my_movies_with_directors_group"
            ]
        },
        {
            "cell_type": "code",
            "execution_count": 60,
            "metadata": {
                "azdata_cell_guid": "e2d14946-3014-4d6a-aa59-ccf383cd22d9",
                "language": "sql",
                "vscode": {
                    "languageId": "r"
                }
            },
            "outputs": [
                {
                    "data": {
                        "text/html": [
                            "Внимание! Значение NULL исключено в агрегатных или других операциях SET."
                        ]
                    },
                    "metadata": {},
                    "output_type": "display_data"
                },
                {
                    "data": {
                        "text/html": [
                            "(1 row affected)"
                        ]
                    },
                    "metadata": {},
                    "output_type": "display_data"
                },
                {
                    "data": {
                        "text/html": [
                            "Total execution time: 00:00:00.006"
                        ]
                    },
                    "metadata": {},
                    "output_type": "display_data"
                },
                {
                    "data": {
                        "application/vnd.dataresource+json": {
                            "data": [
                                {
                                    "0": "499"
                                }
                            ],
                            "schema": {
                                "fields": [
                                    {
                                        "name": "(No column name)"
                                    }
                                ]
                            }
                        },
                        "text/html": [
                            "<table><tr><th>(No column name)</th></tr><tr><td>499</td></tr></table>"
                        ]
                    },
                    "execution_count": 60,
                    "metadata": {},
                    "output_type": "execute_result"
                }
            ],
            "source": [
                "SELECT APPROX_COUNT_DISTINCT(director) \n",
                "FROM my_movies_with_directors_group  /* #499 */"
            ]
        },
        {
            "cell_type": "code",
            "execution_count": 61,
            "metadata": {
                "azdata_cell_guid": "c5fcead0-90c2-4a4a-a084-47d8d0d1631e",
                "language": "sql"
            },
            "outputs": [
                {
                    "data": {
                        "text/html": [
                            "(11 rows affected)"
                        ]
                    },
                    "metadata": {},
                    "output_type": "display_data"
                },
                {
                    "data": {
                        "text/html": [
                            "(11 rows affected)"
                        ]
                    },
                    "metadata": {},
                    "output_type": "display_data"
                },
                {
                    "data": {
                        "text/html": [
                            "Total execution time: 00:00:00.019"
                        ]
                    },
                    "metadata": {},
                    "output_type": "display_data"
                },
                {
                    "data": {
                        "application/vnd.dataresource+json": {
                            "data": [
                                {
                                    "0": "Garry Marshall",
                                    "1": "11"
                                },
                                {
                                    "0": "Chris Columbus",
                                    "1": "7"
                                },
                                {
                                    "0": "Francis Lawrence",
                                    "1": "6"
                                },
                                {
                                    "0": "Nancy Meyers",
                                    "1": "6"
                                },
                                {
                                    "0": "Robert Luketic",
                                    "1": "6"
                                },
                                {
                                    "0": "Tim Burton",
                                    "1": "5"
                                },
                                {
                                    "0": "Paul Feig",
                                    "1": "5"
                                },
                                {
                                    "0": "Peter Jackson",
                                    "1": "5"
                                },
                                {
                                    "0": "John Hughes",
                                    "1": "5"
                                },
                                {
                                    "0": "Adam Shankman",
                                    "1": "5"
                                },
                                {
                                    "0": "Anne Fletcher",
                                    "1": "5"
                                }
                            ],
                            "schema": {
                                "fields": [
                                    {
                                        "name": "director"
                                    },
                                    {
                                        "name": "num_of_films"
                                    }
                                ]
                            }
                        },
                        "text/html": [
                            "<table><tr><th>director</th><th>num_of_films</th></tr><tr><td>Garry Marshall</td><td>11</td></tr><tr><td>Chris Columbus</td><td>7</td></tr><tr><td>Francis Lawrence</td><td>6</td></tr><tr><td>Nancy Meyers</td><td>6</td></tr><tr><td>Robert Luketic</td><td>6</td></tr><tr><td>Tim Burton</td><td>5</td></tr><tr><td>Paul Feig</td><td>5</td></tr><tr><td>Peter Jackson</td><td>5</td></tr><tr><td>John Hughes</td><td>5</td></tr><tr><td>Adam Shankman</td><td>5</td></tr><tr><td>Anne Fletcher</td><td>5</td></tr></table>"
                        ]
                    },
                    "execution_count": 61,
                    "metadata": {},
                    "output_type": "execute_result"
                }
            ],
            "source": [
                "/* My top directors */\n",
                "DROP TABLE IF EXISTS  #my_dir\n",
                "Select director, COUNT(*) as num_of_films\n",
                "INTO #my_dir\n",
                "FROM my_movies_with_directors_group\n",
                "GROUP By director\n",
                "HAVING director is not NULL AND COUNT(*) > 4\n",
                "ORDER by num_of_films DESC\n",
                "/* 82 directors are Null which mostly are cartoons */\n",
                "\n",
                "Select * \n",
                "FROM #my_dir\n",
                "ORDER by num_of_films DESC\n"
            ]
        },
        {
            "cell_type": "code",
            "execution_count": 62,
            "metadata": {
                "azdata_cell_guid": "242d5356-fd1b-4213-b783-77b006ac8bff",
                "language": "sql",
                "tags": [],
                "vscode": {
                    "languageId": "r"
                }
            },
            "outputs": [
                {
                    "data": {
                        "text/html": [
                            "(66 rows affected)"
                        ]
                    },
                    "metadata": {},
                    "output_type": "display_data"
                },
                {
                    "data": {
                        "text/html": [
                            "(10 rows affected)"
                        ]
                    },
                    "metadata": {},
                    "output_type": "display_data"
                },
                {
                    "data": {
                        "text/html": [
                            "Total execution time: 00:00:00.027"
                        ]
                    },
                    "metadata": {},
                    "output_type": "display_data"
                },
                {
                    "data": {
                        "application/vnd.dataresource+json": {
                            "data": [
                                {
                                    "0": "Adam Shankman",
                                    "1": "5",
                                    "2": "A Walk to Remember",
                                    "3": "199254",
                                    "4": "8"
                                },
                                {
                                    "0": "Adam Shankman",
                                    "1": "5",
                                    "2": "Bedtime Stories",
                                    "3": "78565",
                                    "4": "6"
                                },
                                {
                                    "0": "Adam Shankman",
                                    "1": "5",
                                    "2": "Cheaper by the Dozen 2",
                                    "3": "37716",
                                    "4": "6"
                                },
                                {
                                    "0": "Adam Shankman",
                                    "1": "5",
                                    "2": "Hairspray",
                                    "3": "77656",
                                    "4": "7"
                                },
                                {
                                    "0": "Adam Shankman",
                                    "1": "5",
                                    "2": "The Wedding Planner",
                                    "3": "90671",
                                    "4": "6"
                                },
                                {
                                    "0": "Anne Fletcher",
                                    "1": "5",
                                    "2": "27 Dresses",
                                    "3": "106978",
                                    "4": "7"
                                },
                                {
                                    "0": "Anne Fletcher",
                                    "1": "5",
                                    "2": "Hot Pursuit",
                                    "3": "50462",
                                    "4": "6"
                                },
                                {
                                    "0": "Anne Fletcher",
                                    "1": "5",
                                    "2": "Step Up",
                                    "3": "131625",
                                    "4": "7"
                                },
                                {
                                    "0": "Anne Fletcher",
                                    "1": "5",
                                    "2": "The Guilt Trip",
                                    "3": "20777",
                                    "4": "6"
                                },
                                {
                                    "0": "Anne Fletcher",
                                    "1": "5",
                                    "2": "The Proposal",
                                    "3": "400457",
                                    "4": "7"
                                }
                            ],
                            "schema": {
                                "fields": [
                                    {
                                        "name": "director"
                                    },
                                    {
                                        "name": "num_of_films"
                                    },
                                    {
                                        "name": "primaryTitle"
                                    },
                                    {
                                        "name": "avg_num_votes"
                                    },
                                    {
                                        "name": "avg_rating"
                                    }
                                ]
                            }
                        },
                        "text/html": [
                            "<table><tr><th>director</th><th>num_of_films</th><th>primaryTitle</th><th>avg_num_votes</th><th>avg_rating</th></tr><tr><td>Adam Shankman</td><td>5</td><td>A Walk to Remember</td><td>199254</td><td>8</td></tr><tr><td>Adam Shankman</td><td>5</td><td>Bedtime Stories</td><td>78565</td><td>6</td></tr><tr><td>Adam Shankman</td><td>5</td><td>Cheaper by the Dozen 2</td><td>37716</td><td>6</td></tr><tr><td>Adam Shankman</td><td>5</td><td>Hairspray</td><td>77656</td><td>7</td></tr><tr><td>Adam Shankman</td><td>5</td><td>The Wedding Planner</td><td>90671</td><td>6</td></tr><tr><td>Anne Fletcher</td><td>5</td><td>27 Dresses</td><td>106978</td><td>7</td></tr><tr><td>Anne Fletcher</td><td>5</td><td>Hot Pursuit</td><td>50462</td><td>6</td></tr><tr><td>Anne Fletcher</td><td>5</td><td>Step Up</td><td>131625</td><td>7</td></tr><tr><td>Anne Fletcher</td><td>5</td><td>The Guilt Trip</td><td>20777</td><td>6</td></tr><tr><td>Anne Fletcher</td><td>5</td><td>The Proposal</td><td>400457</td><td>7</td></tr></table>"
                        ]
                    },
                    "execution_count": 62,
                    "metadata": {},
                    "output_type": "execute_result"
                }
            ],
            "source": [
                "DROP TABLE IF EXISTS #my_dir_with_movies\n",
                "Select #my_dir.director, #my_dir.num_of_films, my_movies_with_directors_group.primaryTitle,\n",
                "(AVG(my_movies_with_directors_group.numVotes + my_movies_with_directors_group.user_rating_count)/2) as avg_num_votes,\n",
                "ROUND((AVG(my_movies_with_directors_group.kinopoisk_ratings + my_movies_with_directors_group.averageRating)/2),0) as avg_rating\n",
                "INTO #my_dir_with_movies\n",
                "FROM #my_dir\n",
                "LEFT JOIN my_movies_with_directors_group\n",
                "ON #my_dir.director = my_movies_with_directors_group.director\n",
                "GROUP BY #my_dir.director, #my_dir.num_of_films, my_movies_with_directors_group.primaryTitle\n",
                "\n",
                "SELECT top 10 *\n",
                "FROM #my_dir_with_movies"
            ]
        },
        {
            "attachments": {},
            "cell_type": "markdown",
            "metadata": {
                "azdata_cell_guid": "08b00b38-c85a-4f01-b86f-b2dce8124004"
            },
            "source": [
                "### Then I made some changes in excel file(pivot, avg) and visualized it in **Tableau.**"
            ]
        },
        {
            "cell_type": "code",
            "execution_count": 2,
            "metadata": {
                "azdata_cell_guid": "56d67ef9-323c-48e4-ba14-90fa96ce07a2",
                "language": "sql",
                "vscode": {
                    "languageId": "r"
                }
            },
            "outputs": [
                {
                    "data": {
                        "text/html": [
                            "<div class='tableauPlaceholder' id='viz1680760565630' style='position: relative'><noscript><a href='#'><img alt='Dashboard 1 ' src='https:&#47;&#47;public.tableau.com&#47;static&#47;images&#47;Di&#47;Directors_16802650716880&#47;Dashboard1&#47;1_rss.png' style='border: none' /></a></noscript><object class='tableauViz'  style='display:none;'><param name='host_url' value='https%3A%2F%2Fpublic.tableau.com%2F' /> <param name='embed_code_version' value='3' /> <param name='site_root' value='' /><param name='name' value='Directors_16802650716880&#47;Dashboard1' /><param name='tabs' value='no' /><param name='toolbar' value='yes' /><param name='static_image' value='https:&#47;&#47;public.tableau.com&#47;static&#47;images&#47;Di&#47;Directors_16802650716880&#47;Dashboard1&#47;1.png' /> <param name='animate_transition' value='yes' /><param name='display_static_image' value='yes' /><param name='display_spinner' value='yes' /><param name='display_overlay' value='yes' /><param name='display_count' value='yes' /><param name='language' value='en-US' /></object></div>                <script type='text/javascript'>                    var divElement = document.getElementById('viz1680760565630');                    var vizElement = divElement.getElementsByTagName('object')[0];                    if ( divElement.offsetWidth > 800 ) { vizElement.style.width='1024px';vizElement.style.height='795px';} else if ( divElement.offsetWidth > 500 ) { vizElement.style.width='1024px';vizElement.style.height='795px';} else { vizElement.style.width='100%';vizElement.style.height='977px';}                     var scriptElement = document.createElement('script');                    scriptElement.src = 'https://public.tableau.com/javascripts/api/viz_v1.js';                    vizElement.parentNode.insertBefore(scriptElement, vizElement);                </script>\n"
                        ],
                        "text/plain": [
                            "<IPython.core.display.HTML object>"
                        ]
                    },
                    "metadata": {},
                    "output_type": "display_data"
                }
            ],
            "source": [
                "%%html\n",
                "<div class='tableauPlaceholder' id='viz1680760565630' style='position: relative'><noscript><a href='#'><img alt='Dashboard 1 ' src='https:&#47;&#47;public.tableau.com&#47;static&#47;images&#47;Di&#47;Directors_16802650716880&#47;Dashboard1&#47;1_rss.png' style='border: none' /></a></noscript><object class='tableauViz'  style='display:none;'><param name='host_url' value='https%3A%2F%2Fpublic.tableau.com%2F' /> <param name='embed_code_version' value='3' /> <param name='site_root' value='' /><param name='name' value='Directors_16802650716880&#47;Dashboard1' /><param name='tabs' value='no' /><param name='toolbar' value='yes' /><param name='static_image' value='https:&#47;&#47;public.tableau.com&#47;static&#47;images&#47;Di&#47;Directors_16802650716880&#47;Dashboard1&#47;1.png' /> <param name='animate_transition' value='yes' /><param name='display_static_image' value='yes' /><param name='display_spinner' value='yes' /><param name='display_overlay' value='yes' /><param name='display_count' value='yes' /><param name='language' value='en-US' /></object></div>                <script type='text/javascript'>                    var divElement = document.getElementById('viz1680760565630');                    var vizElement = divElement.getElementsByTagName('object')[0];                    if ( divElement.offsetWidth > 800 ) { vizElement.style.width='1024px';vizElement.style.height='795px';} else if ( divElement.offsetWidth > 500 ) { vizElement.style.width='1024px';vizElement.style.height='795px';} else { vizElement.style.width='100%';vizElement.style.height='977px';}                     var scriptElement = document.createElement('script');                    scriptElement.src = 'https://public.tableau.com/javascripts/api/viz_v1.js';                    vizElement.parentNode.insertBefore(scriptElement, vizElement);                </script>"
            ]
        },
        {
            "cell_type": "code",
            "execution_count": 63,
            "metadata": {
                "azdata_cell_guid": "df55c7e6-abe1-4e56-904c-6fcff45148b8",
                "language": "sql",
                "tags": [],
                "vscode": {
                    "languageId": "r"
                }
            },
            "outputs": [
                {
                    "data": {
                        "text/html": [
                            "(3207 rows affected)"
                        ]
                    },
                    "metadata": {},
                    "output_type": "display_data"
                },
                {
                    "data": {
                        "text/html": [
                            "(10 rows affected)"
                        ]
                    },
                    "metadata": {},
                    "output_type": "display_data"
                },
                {
                    "data": {
                        "text/html": [
                            "Total execution time: 00:00:05.874"
                        ]
                    },
                    "metadata": {},
                    "output_type": "display_data"
                },
                {
                    "data": {
                        "application/vnd.dataresource+json": {
                            "data": [
                                {
                                    "0": "127",
                                    "1": "За бортом ",
                                    "2": "1987",
                                    "3": "7",
                                    "4": "138028",
                                    "5": "8",
                                    "6": "2021-04-17",
                                    "7": "tt0093693",
                                    "8": "movie",
                                    "9": "Overboard",
                                    "10": "112",
                                    "11": "Comedy,Romance",
                                    "12": "6,9",
                                    "13": "62810",
                                    "14": "NULL",
                                    "15": "Comedy",
                                    "16": "Romance",
                                    "17": "nm0000443",
                                    "18": "actress"
                                },
                                {
                                    "0": "127",
                                    "1": "За бортом ",
                                    "2": "1987",
                                    "3": "7",
                                    "4": "138028",
                                    "5": "8",
                                    "6": "2021-04-17",
                                    "7": "tt0093693",
                                    "8": "movie",
                                    "9": "Overboard",
                                    "10": "112",
                                    "11": "Comedy,Romance",
                                    "12": "6,9",
                                    "13": "62810",
                                    "14": "NULL",
                                    "15": "Comedy",
                                    "16": "Romance",
                                    "17": "nm0000621",
                                    "18": "actor"
                                },
                                {
                                    "0": "127",
                                    "1": "За бортом ",
                                    "2": "1987",
                                    "3": "7",
                                    "4": "138028",
                                    "5": "8",
                                    "6": "2021-04-17",
                                    "7": "tt0093693",
                                    "8": "movie",
                                    "9": "Overboard",
                                    "10": "112",
                                    "11": "Comedy,Romance",
                                    "12": "6,9",
                                    "13": "62810",
                                    "14": "NULL",
                                    "15": "Comedy",
                                    "16": "Romance",
                                    "17": "nm0001346",
                                    "18": "actor"
                                },
                                {
                                    "0": "127",
                                    "1": "За бортом ",
                                    "2": "1987",
                                    "3": "7",
                                    "4": "138028",
                                    "5": "8",
                                    "6": "2021-04-17",
                                    "7": "tt0093693",
                                    "8": "movie",
                                    "9": "Overboard",
                                    "10": "112",
                                    "11": "Comedy,Romance",
                                    "12": "6,9",
                                    "13": "62810",
                                    "14": "NULL",
                                    "15": "Comedy",
                                    "16": "Romance",
                                    "17": "nm0001340",
                                    "18": "actress"
                                },
                                {
                                    "0": "70",
                                    "1": "Самолетом, поездом, машиной ",
                                    "2": "1987",
                                    "3": "7",
                                    "4": "21237",
                                    "5": "7.5",
                                    "6": "2022-04-15",
                                    "7": "tt0093748",
                                    "8": "movie",
                                    "9": "Planes, Trains & Automobiles",
                                    "10": "93",
                                    "11": "Comedy,Drama",
                                    "12": "7,6",
                                    "13": "149681",
                                    "14": "NULL",
                                    "15": "Comedy",
                                    "16": "Drama",
                                    "17": "nm0000188",
                                    "18": "actor"
                                },
                                {
                                    "0": "70",
                                    "1": "Самолетом, поездом, машиной ",
                                    "2": "1987",
                                    "3": "7",
                                    "4": "21237",
                                    "5": "7.5",
                                    "6": "2022-04-15",
                                    "7": "tt0093748",
                                    "8": "movie",
                                    "9": "Planes, Trains & Automobiles",
                                    "10": "93",
                                    "11": "Comedy,Drama",
                                    "12": "7,6",
                                    "13": "149681",
                                    "14": "NULL",
                                    "15": "Comedy",
                                    "16": "Drama",
                                    "17": "nm0001006",
                                    "18": "actor"
                                },
                                {
                                    "0": "70",
                                    "1": "Самолетом, поездом, машиной ",
                                    "2": "1987",
                                    "3": "7",
                                    "4": "21237",
                                    "5": "7.5",
                                    "6": "2022-04-15",
                                    "7": "tt0093748",
                                    "8": "movie",
                                    "9": "Planes, Trains & Automobiles",
                                    "10": "93",
                                    "11": "Comedy,Drama",
                                    "12": "7,6",
                                    "13": "149681",
                                    "14": "NULL",
                                    "15": "Comedy",
                                    "16": "Drama",
                                    "17": "nm0732309",
                                    "18": "actress"
                                },
                                {
                                    "0": "70",
                                    "1": "Самолетом, поездом, машиной ",
                                    "2": "1987",
                                    "3": "7",
                                    "4": "21237",
                                    "5": "7.5",
                                    "6": "2022-04-15",
                                    "7": "tt0093748",
                                    "8": "movie",
                                    "9": "Planes, Trains & Automobiles",
                                    "10": "93",
                                    "11": "Comedy,Drama",
                                    "12": "7,6",
                                    "13": "149681",
                                    "14": "NULL",
                                    "15": "Comedy",
                                    "16": "Drama",
                                    "17": "nm0571106",
                                    "18": "actor"
                                },
                                {
                                    "0": "305",
                                    "1": "Чудо-женщина ",
                                    "2": "2017",
                                    "3": "8",
                                    "4": "218916",
                                    "5": "6.8",
                                    "6": "2018-12-25",
                                    "7": "tt0451279",
                                    "8": "movie",
                                    "9": "Wonder Woman",
                                    "10": "141",
                                    "11": "Action,Adventure,Fantasy",
                                    "12": "7,4",
                                    "13": "668853",
                                    "14": "Action",
                                    "15": "Adventure",
                                    "16": "Fantasy",
                                    "17": "nm2933757",
                                    "18": "actress"
                                },
                                {
                                    "0": "305",
                                    "1": "Чудо-женщина ",
                                    "2": "2017",
                                    "3": "8",
                                    "4": "218916",
                                    "5": "6.8",
                                    "6": "2018-12-25",
                                    "7": "tt0451279",
                                    "8": "movie",
                                    "9": "Wonder Woman",
                                    "10": "141",
                                    "11": "Action,Adventure,Fantasy",
                                    "12": "7,4",
                                    "13": "668853",
                                    "14": "Action",
                                    "15": "Adventure",
                                    "16": "Fantasy",
                                    "17": "nm1517976",
                                    "18": "actor"
                                }
                            ],
                            "schema": {
                                "fields": [
                                    {
                                        "name": "id"
                                    },
                                    {
                                        "name": "russian_movie_names"
                                    },
                                    {
                                        "name": "release_year"
                                    },
                                    {
                                        "name": "user_ratings"
                                    },
                                    {
                                        "name": "user_rating_count"
                                    },
                                    {
                                        "name": "kinopoisk_ratings"
                                    },
                                    {
                                        "name": "date_of_rating"
                                    },
                                    {
                                        "name": "tconst"
                                    },
                                    {
                                        "name": "titleType"
                                    },
                                    {
                                        "name": "primaryTitle"
                                    },
                                    {
                                        "name": "runtimeMinutes"
                                    },
                                    {
                                        "name": "genres"
                                    },
                                    {
                                        "name": "averageRating"
                                    },
                                    {
                                        "name": "numVotes"
                                    },
                                    {
                                        "name": "genre_1"
                                    },
                                    {
                                        "name": "genre_2"
                                    },
                                    {
                                        "name": "genre_3"
                                    },
                                    {
                                        "name": "nconst"
                                    },
                                    {
                                        "name": "category"
                                    }
                                ]
                            }
                        },
                        "text/html": [
                            "<table><tr><th>id</th><th>russian_movie_names</th><th>release_year</th><th>user_ratings</th><th>user_rating_count</th><th>kinopoisk_ratings</th><th>date_of_rating</th><th>tconst</th><th>titleType</th><th>primaryTitle</th><th>runtimeMinutes</th><th>genres</th><th>averageRating</th><th>numVotes</th><th>genre_1</th><th>genre_2</th><th>genre_3</th><th>nconst</th><th>category</th></tr><tr><td>127</td><td>За бортом </td><td>1987</td><td>7</td><td>138028</td><td>8</td><td>2021-04-17</td><td>tt0093693</td><td>movie</td><td>Overboard</td><td>112</td><td>Comedy,Romance</td><td>6,9</td><td>62810</td><td>NULL</td><td>Comedy</td><td>Romance</td><td>nm0000443</td><td>actress</td></tr><tr><td>127</td><td>За бортом </td><td>1987</td><td>7</td><td>138028</td><td>8</td><td>2021-04-17</td><td>tt0093693</td><td>movie</td><td>Overboard</td><td>112</td><td>Comedy,Romance</td><td>6,9</td><td>62810</td><td>NULL</td><td>Comedy</td><td>Romance</td><td>nm0000621</td><td>actor</td></tr><tr><td>127</td><td>За бортом </td><td>1987</td><td>7</td><td>138028</td><td>8</td><td>2021-04-17</td><td>tt0093693</td><td>movie</td><td>Overboard</td><td>112</td><td>Comedy,Romance</td><td>6,9</td><td>62810</td><td>NULL</td><td>Comedy</td><td>Romance</td><td>nm0001346</td><td>actor</td></tr><tr><td>127</td><td>За бортом </td><td>1987</td><td>7</td><td>138028</td><td>8</td><td>2021-04-17</td><td>tt0093693</td><td>movie</td><td>Overboard</td><td>112</td><td>Comedy,Romance</td><td>6,9</td><td>62810</td><td>NULL</td><td>Comedy</td><td>Romance</td><td>nm0001340</td><td>actress</td></tr><tr><td>70</td><td>Самолетом, поездом, машиной </td><td>1987</td><td>7</td><td>21237</td><td>7.5</td><td>2022-04-15</td><td>tt0093748</td><td>movie</td><td>Planes, Trains &amp; Automobiles</td><td>93</td><td>Comedy,Drama</td><td>7,6</td><td>149681</td><td>NULL</td><td>Comedy</td><td>Drama</td><td>nm0000188</td><td>actor</td></tr><tr><td>70</td><td>Самолетом, поездом, машиной </td><td>1987</td><td>7</td><td>21237</td><td>7.5</td><td>2022-04-15</td><td>tt0093748</td><td>movie</td><td>Planes, Trains &amp; Automobiles</td><td>93</td><td>Comedy,Drama</td><td>7,6</td><td>149681</td><td>NULL</td><td>Comedy</td><td>Drama</td><td>nm0001006</td><td>actor</td></tr><tr><td>70</td><td>Самолетом, поездом, машиной </td><td>1987</td><td>7</td><td>21237</td><td>7.5</td><td>2022-04-15</td><td>tt0093748</td><td>movie</td><td>Planes, Trains &amp; Automobiles</td><td>93</td><td>Comedy,Drama</td><td>7,6</td><td>149681</td><td>NULL</td><td>Comedy</td><td>Drama</td><td>nm0732309</td><td>actress</td></tr><tr><td>70</td><td>Самолетом, поездом, машиной </td><td>1987</td><td>7</td><td>21237</td><td>7.5</td><td>2022-04-15</td><td>tt0093748</td><td>movie</td><td>Planes, Trains &amp; Automobiles</td><td>93</td><td>Comedy,Drama</td><td>7,6</td><td>149681</td><td>NULL</td><td>Comedy</td><td>Drama</td><td>nm0571106</td><td>actor</td></tr><tr><td>305</td><td>Чудо-женщина </td><td>2017</td><td>8</td><td>218916</td><td>6.8</td><td>2018-12-25</td><td>tt0451279</td><td>movie</td><td>Wonder Woman</td><td>141</td><td>Action,Adventure,Fantasy</td><td>7,4</td><td>668853</td><td>Action</td><td>Adventure</td><td>Fantasy</td><td>nm2933757</td><td>actress</td></tr><tr><td>305</td><td>Чудо-женщина </td><td>2017</td><td>8</td><td>218916</td><td>6.8</td><td>2018-12-25</td><td>tt0451279</td><td>movie</td><td>Wonder Woman</td><td>141</td><td>Action,Adventure,Fantasy</td><td>7,4</td><td>668853</td><td>Action</td><td>Adventure</td><td>Fantasy</td><td>nm1517976</td><td>actor</td></tr></table>"
                        ]
                    },
                    "execution_count": 63,
                    "metadata": {},
                    "output_type": "execute_result"
                }
            ],
            "source": [
                "---------------------------------------------------------------------------------------\n",
                "/* ACTORS */\n",
                "---------------------------------------------------------------------------------------\n",
                "DROP TABLE IF EXISTS #my_movies_with_n_actors\n",
                "SELECT my_only_movies_set.*,\n",
                "principals_set.nconst,\n",
                "principals_set.category \n",
                "INTO #my_movies_with_n_actors\n",
                "  FROM my_only_movies_set\n",
                "  LEFT JOIN principals_set\n",
                "  ON my_only_movies_set.tconst = principals_set.tconst\n",
                "\n",
                "\n",
                "SELECT TOP 10 *\n",
                "FROM  #my_movies_with_n_actors                                                   /*joined my movies and n_actors into new table*/\n"
            ]
        },
        {
            "cell_type": "code",
            "execution_count": 64,
            "metadata": {
                "azdata_cell_guid": "2da17226-9744-4eb3-b62b-1b9951445e36",
                "language": "sql",
                "vscode": {
                    "languageId": "r"
                }
            },
            "outputs": [
                {
                    "data": {
                        "text/html": [
                            "(12605 rows affected)"
                        ]
                    },
                    "metadata": {},
                    "output_type": "display_data"
                },
                {
                    "data": {
                        "text/html": [
                            "Total execution time: 00:00:05.425"
                        ]
                    },
                    "metadata": {},
                    "output_type": "display_data"
                }
            ],
            "source": [
                "DROP TABLE IF EXISTS #temptable\n",
                "SELECT #my_movies_with_n_actors.*,\n",
                "final_set.primaryName\n",
                "INTO #temptable\n",
                " FROM #my_movies_with_n_actors\n",
                " LEFT JOIN final_set\n",
                " ON #my_movies_with_n_actors.nconst = final_set.nconst"
            ]
        },
        {
            "cell_type": "code",
            "execution_count": 65,
            "metadata": {
                "azdata_cell_guid": "297a752b-b674-4a5c-89b9-ab545f06e919",
                "language": "sql",
                "vscode": {
                    "languageId": "r"
                }
            },
            "outputs": [
                {
                    "data": {
                        "text/html": [
                            "(12605 rows affected)"
                        ]
                    },
                    "metadata": {},
                    "output_type": "display_data"
                },
                {
                    "data": {
                        "text/html": [
                            "(10 rows affected)"
                        ]
                    },
                    "metadata": {},
                    "output_type": "display_data"
                },
                {
                    "data": {
                        "text/html": [
                            "Total execution time: 00:00:00.052"
                        ]
                    },
                    "metadata": {},
                    "output_type": "display_data"
                },
                {
                    "data": {
                        "application/vnd.dataresource+json": {
                            "data": [
                                {
                                    "0": "695",
                                    "1": "Семейка Крудс ",
                                    "2": "2013",
                                    "3": "8",
                                    "4": "173377",
                                    "5": "7.6",
                                    "6": "2014-05-04",
                                    "7": "tt0481499",
                                    "8": "movie",
                                    "9": "The Croods",
                                    "10": "98",
                                    "11": "Adventure,Animation,Comedy",
                                    "12": "7,2",
                                    "13": "220377",
                                    "14": "Adventure",
                                    "15": "Animation",
                                    "16": "Comedy",
                                    "17": "nm0005351",
                                    "18": "actor",
                                    "19": "Ryan Reynolds"
                                },
                                {
                                    "0": "509",
                                    "1": "Дэдпул ",
                                    "2": "2016",
                                    "3": "6",
                                    "4": "621617",
                                    "5": "7.6",
                                    "6": "2016-05-09",
                                    "7": "tt1431045",
                                    "8": "movie",
                                    "9": "Deadpool",
                                    "10": "108",
                                    "11": "Action,Comedy",
                                    "12": "8",
                                    "13": "1055990",
                                    "14": "NULL",
                                    "15": "Action",
                                    "16": "Comedy",
                                    "17": "nm0005351",
                                    "18": "actor",
                                    "19": "Ryan Reynolds"
                                },
                                {
                                    "0": "762",
                                    "1": "Погребенный заживо ",
                                    "2": "2010",
                                    "3": "8",
                                    "4": "156857",
                                    "5": "7.6",
                                    "6": "2013-10-29",
                                    "7": "tt1462758",
                                    "8": "movie",
                                    "9": "Buried",
                                    "10": "95",
                                    "11": "Drama,Mystery,Thriller",
                                    "12": "7",
                                    "13": "163669",
                                    "14": "Drama",
                                    "15": "Mystery",
                                    "16": "Thriller",
                                    "17": "nm0005351",
                                    "18": "actor",
                                    "19": "Ryan Reynolds"
                                },
                                {
                                    "0": "913",
                                    "1": "Хочу как ты ",
                                    "2": "2011",
                                    "3": "7",
                                    "4": "80780",
                                    "5": "6.7",
                                    "6": "2013-02-28",
                                    "7": "tt1488555",
                                    "8": "movie",
                                    "9": "The Change-Up",
                                    "10": "112",
                                    "11": "Comedy,Fantasy",
                                    "12": "6,3",
                                    "13": "187677",
                                    "14": "NULL",
                                    "15": "Comedy",
                                    "16": "Fantasy",
                                    "17": "nm0005351",
                                    "18": "actor",
                                    "19": "Ryan Reynolds"
                                },
                                {
                                    "0": "80",
                                    "1": "Проект «Адам» ",
                                    "2": "2022",
                                    "3": "5",
                                    "4": "62416",
                                    "5": "6.6",
                                    "6": "2022-04-01",
                                    "7": "tt2463208",
                                    "8": "movie",
                                    "9": "The Adam Project",
                                    "10": "106",
                                    "11": "Action,Adventure,Comedy",
                                    "12": "6,7",
                                    "13": "209860",
                                    "14": "Action",
                                    "15": "Adventure",
                                    "16": "Comedy",
                                    "17": "nm0005351",
                                    "18": "actor",
                                    "19": "Ryan Reynolds"
                                },
                                {
                                    "0": "1132",
                                    "1": "Предложение ",
                                    "2": "2009",
                                    "3": "9",
                                    "4": "464707",
                                    "5": "7.7",
                                    "6": "2011-09-25",
                                    "7": "tt1041829",
                                    "8": "movie",
                                    "9": "The Proposal",
                                    "10": "108",
                                    "11": "Comedy,Drama,Romance",
                                    "12": "6,7",
                                    "13": "336207",
                                    "14": "Comedy",
                                    "15": "Drama",
                                    "16": "Romance",
                                    "17": "nm0005351",
                                    "18": "actor",
                                    "19": "Ryan Reynolds"
                                },
                                {
                                    "0": "509",
                                    "1": "Дэдпул ",
                                    "2": "2016",
                                    "3": "6",
                                    "4": "621617",
                                    "5": "7.6",
                                    "6": "2016-05-09",
                                    "7": "tt1431045",
                                    "8": "movie",
                                    "9": "Deadpool",
                                    "10": "108",
                                    "11": "Action,Comedy",
                                    "12": "8",
                                    "13": "1055990",
                                    "14": "NULL",
                                    "15": "Action",
                                    "16": "Comedy",
                                    "17": "nm1072555",
                                    "18": "actress",
                                    "19": "Morena Baccarin"
                                },
                                {
                                    "0": "134",
                                    "1": "Гренландия ",
                                    "2": "2020",
                                    "3": "7",
                                    "4": "100194",
                                    "5": "6.5",
                                    "6": "2021-03-13",
                                    "7": "tt7737786",
                                    "8": "movie",
                                    "9": "Greenland",
                                    "10": "119",
                                    "11": "Action,Thriller",
                                    "12": "6,4",
                                    "13": "121925",
                                    "14": "NULL",
                                    "15": "Action",
                                    "16": "Thriller",
                                    "17": "nm1072555",
                                    "18": "actress",
                                    "19": "Morena Baccarin"
                                },
                                {
                                    "0": "509",
                                    "1": "Дэдпул ",
                                    "2": "2016",
                                    "3": "6",
                                    "4": "621617",
                                    "5": "7.6",
                                    "6": "2016-05-09",
                                    "7": "tt1431045",
                                    "8": "movie",
                                    "9": "Deadpool",
                                    "10": "108",
                                    "11": "Action,Comedy",
                                    "12": "8",
                                    "13": "1055990",
                                    "14": "NULL",
                                    "15": "Action",
                                    "16": "Comedy",
                                    "17": "nm4534098",
                                    "18": "actor",
                                    "19": "Ed Skrein"
                                },
                                {
                                    "0": "970",
                                    "1": "Пережить Рождество ",
                                    "2": "2004",
                                    "3": "6",
                                    "4": "23364",
                                    "5": "6.7",
                                    "6": "2012-12-12",
                                    "7": "tt0252028",
                                    "8": "movie",
                                    "9": "Surviving Christmas",
                                    "10": "91",
                                    "11": "Comedy,Romance",
                                    "12": "5,4",
                                    "13": "26016",
                                    "14": "NULL",
                                    "15": "Comedy",
                                    "16": "Romance",
                                    "17": "nm0001254",
                                    "18": "actor",
                                    "19": "James Gandolfini"
                                }
                            ],
                            "schema": {
                                "fields": [
                                    {
                                        "name": "id"
                                    },
                                    {
                                        "name": "russian_movie_names"
                                    },
                                    {
                                        "name": "release_year"
                                    },
                                    {
                                        "name": "user_ratings"
                                    },
                                    {
                                        "name": "user_rating_count"
                                    },
                                    {
                                        "name": "kinopoisk_ratings"
                                    },
                                    {
                                        "name": "date_of_rating"
                                    },
                                    {
                                        "name": "tconst"
                                    },
                                    {
                                        "name": "titleType"
                                    },
                                    {
                                        "name": "primaryTitle"
                                    },
                                    {
                                        "name": "runtimeMinutes"
                                    },
                                    {
                                        "name": "genres"
                                    },
                                    {
                                        "name": "averageRating"
                                    },
                                    {
                                        "name": "numVotes"
                                    },
                                    {
                                        "name": "genre_1"
                                    },
                                    {
                                        "name": "genre_2"
                                    },
                                    {
                                        "name": "genre_3"
                                    },
                                    {
                                        "name": "nconst"
                                    },
                                    {
                                        "name": "category"
                                    },
                                    {
                                        "name": "primaryName"
                                    }
                                ]
                            }
                        },
                        "text/html": [
                            "<table><tr><th>id</th><th>russian_movie_names</th><th>release_year</th><th>user_ratings</th><th>user_rating_count</th><th>kinopoisk_ratings</th><th>date_of_rating</th><th>tconst</th><th>titleType</th><th>primaryTitle</th><th>runtimeMinutes</th><th>genres</th><th>averageRating</th><th>numVotes</th><th>genre_1</th><th>genre_2</th><th>genre_3</th><th>nconst</th><th>category</th><th>primaryName</th></tr><tr><td>695</td><td>Семейка Крудс </td><td>2013</td><td>8</td><td>173377</td><td>7.6</td><td>2014-05-04</td><td>tt0481499</td><td>movie</td><td>The Croods</td><td>98</td><td>Adventure,Animation,Comedy</td><td>7,2</td><td>220377</td><td>Adventure</td><td>Animation</td><td>Comedy</td><td>nm0005351</td><td>actor</td><td>Ryan Reynolds</td></tr><tr><td>509</td><td>Дэдпул </td><td>2016</td><td>6</td><td>621617</td><td>7.6</td><td>2016-05-09</td><td>tt1431045</td><td>movie</td><td>Deadpool</td><td>108</td><td>Action,Comedy</td><td>8</td><td>1055990</td><td>NULL</td><td>Action</td><td>Comedy</td><td>nm0005351</td><td>actor</td><td>Ryan Reynolds</td></tr><tr><td>762</td><td>Погребенный заживо </td><td>2010</td><td>8</td><td>156857</td><td>7.6</td><td>2013-10-29</td><td>tt1462758</td><td>movie</td><td>Buried</td><td>95</td><td>Drama,Mystery,Thriller</td><td>7</td><td>163669</td><td>Drama</td><td>Mystery</td><td>Thriller</td><td>nm0005351</td><td>actor</td><td>Ryan Reynolds</td></tr><tr><td>913</td><td>Хочу как ты </td><td>2011</td><td>7</td><td>80780</td><td>6.7</td><td>2013-02-28</td><td>tt1488555</td><td>movie</td><td>The Change-Up</td><td>112</td><td>Comedy,Fantasy</td><td>6,3</td><td>187677</td><td>NULL</td><td>Comedy</td><td>Fantasy</td><td>nm0005351</td><td>actor</td><td>Ryan Reynolds</td></tr><tr><td>80</td><td>Проект «Адам» </td><td>2022</td><td>5</td><td>62416</td><td>6.6</td><td>2022-04-01</td><td>tt2463208</td><td>movie</td><td>The Adam Project</td><td>106</td><td>Action,Adventure,Comedy</td><td>6,7</td><td>209860</td><td>Action</td><td>Adventure</td><td>Comedy</td><td>nm0005351</td><td>actor</td><td>Ryan Reynolds</td></tr><tr><td>1132</td><td>Предложение </td><td>2009</td><td>9</td><td>464707</td><td>7.7</td><td>2011-09-25</td><td>tt1041829</td><td>movie</td><td>The Proposal</td><td>108</td><td>Comedy,Drama,Romance</td><td>6,7</td><td>336207</td><td>Comedy</td><td>Drama</td><td>Romance</td><td>nm0005351</td><td>actor</td><td>Ryan Reynolds</td></tr><tr><td>509</td><td>Дэдпул </td><td>2016</td><td>6</td><td>621617</td><td>7.6</td><td>2016-05-09</td><td>tt1431045</td><td>movie</td><td>Deadpool</td><td>108</td><td>Action,Comedy</td><td>8</td><td>1055990</td><td>NULL</td><td>Action</td><td>Comedy</td><td>nm1072555</td><td>actress</td><td>Morena Baccarin</td></tr><tr><td>134</td><td>Гренландия </td><td>2020</td><td>7</td><td>100194</td><td>6.5</td><td>2021-03-13</td><td>tt7737786</td><td>movie</td><td>Greenland</td><td>119</td><td>Action,Thriller</td><td>6,4</td><td>121925</td><td>NULL</td><td>Action</td><td>Thriller</td><td>nm1072555</td><td>actress</td><td>Morena Baccarin</td></tr><tr><td>509</td><td>Дэдпул </td><td>2016</td><td>6</td><td>621617</td><td>7.6</td><td>2016-05-09</td><td>tt1431045</td><td>movie</td><td>Deadpool</td><td>108</td><td>Action,Comedy</td><td>8</td><td>1055990</td><td>NULL</td><td>Action</td><td>Comedy</td><td>nm4534098</td><td>actor</td><td>Ed Skrein</td></tr><tr><td>970</td><td>Пережить Рождество </td><td>2004</td><td>6</td><td>23364</td><td>6.7</td><td>2012-12-12</td><td>tt0252028</td><td>movie</td><td>Surviving Christmas</td><td>91</td><td>Comedy,Romance</td><td>5,4</td><td>26016</td><td>NULL</td><td>Comedy</td><td>Romance</td><td>nm0001254</td><td>actor</td><td>James Gandolfini</td></tr></table>"
                        ]
                    },
                    "execution_count": 65,
                    "metadata": {},
                    "output_type": "execute_result"
                }
            ],
            "source": [
                "DROP TABLE IF EXISTS my_movies_with_actors\n",
                "SELECT *\n",
                "into my_movies_with_actors\n",
                "FROM #temptable\n",
                "\n",
                "SELECT TOP 10 *\n",
                "FROM my_movies_with_actors"
            ]
        },
        {
            "cell_type": "code",
            "execution_count": 66,
            "metadata": {
                "azdata_cell_guid": "03214aec-f1e1-44cf-92a4-2af06b85a548",
                "language": "sql",
                "vscode": {
                    "languageId": "r"
                }
            },
            "outputs": [
                {
                    "data": {
                        "text/html": [
                            "Внимание! Значение NULL исключено в агрегатных или других операциях SET."
                        ]
                    },
                    "metadata": {},
                    "output_type": "display_data"
                },
                {
                    "data": {
                        "text/html": [
                            "(1 row affected)"
                        ]
                    },
                    "metadata": {},
                    "output_type": "display_data"
                },
                {
                    "data": {
                        "text/html": [
                            "Total execution time: 00:00:00.008"
                        ]
                    },
                    "metadata": {},
                    "output_type": "display_data"
                },
                {
                    "data": {
                        "application/vnd.dataresource+json": {
                            "data": [
                                {
                                    "0": "1829"
                                }
                            ],
                            "schema": {
                                "fields": [
                                    {
                                        "name": "(No column name)"
                                    }
                                ]
                            }
                        },
                        "text/html": [
                            "<table><tr><th>(No column name)</th></tr><tr><td>1829</td></tr></table>"
                        ]
                    },
                    "execution_count": 66,
                    "metadata": {},
                    "output_type": "execute_result"
                }
            ],
            "source": [
                "SELECT APPROX_COUNT_DISTINCT(nconst) \n",
                "FROM my_movies_with_actors  /* #1829 actors */"
            ]
        },
        {
            "cell_type": "code",
            "execution_count": 81,
            "metadata": {
                "azdata_cell_guid": "c1857b1f-8d9b-4484-9e68-f4375506b481",
                "language": "sql",
                "vscode": {
                    "languageId": "r"
                }
            },
            "outputs": [
                {
                    "data": {
                        "text/html": [
                            "(15 rows affected)"
                        ]
                    },
                    "metadata": {},
                    "output_type": "display_data"
                },
                {
                    "data": {
                        "text/html": [
                            "(15 rows affected)"
                        ]
                    },
                    "metadata": {},
                    "output_type": "display_data"
                },
                {
                    "data": {
                        "text/html": [
                            "Total execution time: 00:00:00.024"
                        ]
                    },
                    "metadata": {},
                    "output_type": "display_data"
                },
                {
                    "data": {
                        "application/vnd.dataresource+json": {
                            "data": [
                                {
                                    "0": "Adam Sandler",
                                    "1": "12"
                                },
                                {
                                    "0": "Channing Tatum",
                                    "1": "10"
                                },
                                {
                                    "0": "Tom Hanks",
                                    "1": "10"
                                },
                                {
                                    "0": "Zac Efron",
                                    "1": "10"
                                },
                                {
                                    "0": "Chris Evans",
                                    "1": "9"
                                },
                                {
                                    "0": "Jude Law",
                                    "1": "9"
                                },
                                {
                                    "0": "Woody Harrelson",
                                    "1": "9"
                                },
                                {
                                    "0": "Bradley Cooper",
                                    "1": "8"
                                },
                                {
                                    "0": "Daniel Radcliffe",
                                    "1": "8"
                                },
                                {
                                    "0": "Johnny Depp",
                                    "1": "8"
                                },
                                {
                                    "0": "Mark Ruffalo",
                                    "1": "8"
                                },
                                {
                                    "0": "Matt Damon",
                                    "1": "8"
                                },
                                {
                                    "0": "Robert Downey Jr.",
                                    "1": "8"
                                },
                                {
                                    "0": "Robert Pattinson",
                                    "1": "8"
                                },
                                {
                                    "0": "Gerard Butler",
                                    "1": "7"
                                }
                            ],
                            "schema": {
                                "fields": [
                                    {
                                        "name": "primaryName"
                                    },
                                    {
                                        "name": "num_actors"
                                    }
                                ]
                            }
                        },
                        "text/html": [
                            "<table><tr><th>primaryName</th><th>num_actors</th></tr><tr><td>Adam Sandler</td><td>12</td></tr><tr><td>Channing Tatum</td><td>10</td></tr><tr><td>Tom Hanks</td><td>10</td></tr><tr><td>Zac Efron</td><td>10</td></tr><tr><td>Chris Evans</td><td>9</td></tr><tr><td>Jude Law</td><td>9</td></tr><tr><td>Woody Harrelson</td><td>9</td></tr><tr><td>Bradley Cooper</td><td>8</td></tr><tr><td>Daniel Radcliffe</td><td>8</td></tr><tr><td>Johnny Depp</td><td>8</td></tr><tr><td>Mark Ruffalo</td><td>8</td></tr><tr><td>Matt Damon</td><td>8</td></tr><tr><td>Robert Downey Jr.</td><td>8</td></tr><tr><td>Robert Pattinson</td><td>8</td></tr><tr><td>Gerard Butler</td><td>7</td></tr></table>"
                        ]
                    },
                    "execution_count": 81,
                    "metadata": {},
                    "output_type": "execute_result"
                }
            ],
            "source": [
                "DROP TABLE IF EXISTS #actors\n",
                "Select TOP 15 primaryName, COUNT(*)/4 as num_actors /* each movie has 4 primaty actors by default in IMDB */\n",
                "into #actors\n",
                "FROM my_movies_with_actors\n",
                "GROUP BY primaryName, category\n",
                "HAVING primaryName is not NULL AND category = 'actor' \n",
                "ORDER by num_actors DESC, primaryName\n",
                "\n",
                "SELECT *\n",
                "FROM #actors"
            ]
        },
        {
            "cell_type": "code",
            "execution_count": 82,
            "metadata": {
                "azdata_cell_guid": "a6aef398-cdf4-4c1b-a848-d0d32145960a",
                "language": "sql",
                "vscode": {
                    "languageId": "r"
                }
            },
            "outputs": [
                {
                    "data": {
                        "text/html": [
                            "(15 rows affected)"
                        ]
                    },
                    "metadata": {},
                    "output_type": "display_data"
                },
                {
                    "data": {
                        "text/html": [
                            "(15 rows affected)"
                        ]
                    },
                    "metadata": {},
                    "output_type": "display_data"
                },
                {
                    "data": {
                        "text/html": [
                            "Total execution time: 00:00:00.040"
                        ]
                    },
                    "metadata": {},
                    "output_type": "display_data"
                },
                {
                    "data": {
                        "application/vnd.dataresource+json": {
                            "data": [
                                {
                                    "0": "Julia Roberts",
                                    "1": "actress",
                                    "2": "15"
                                },
                                {
                                    "0": "Rachel McAdams",
                                    "1": "actress",
                                    "2": "15"
                                },
                                {
                                    "0": "Reese Witherspoon",
                                    "1": "actress",
                                    "2": "15"
                                },
                                {
                                    "0": "Cameron Diaz",
                                    "1": "actress",
                                    "2": "13"
                                },
                                {
                                    "0": "Jennifer Aniston",
                                    "1": "actress",
                                    "2": "13"
                                },
                                {
                                    "0": "Meryl Streep",
                                    "1": "actress",
                                    "2": "12"
                                },
                                {
                                    "0": "Sandra Bullock",
                                    "1": "actress",
                                    "2": "12"
                                },
                                {
                                    "0": "Anne Hathaway",
                                    "1": "actress",
                                    "2": "11"
                                },
                                {
                                    "0": "Emma Watson",
                                    "1": "actress",
                                    "2": "10"
                                },
                                {
                                    "0": "Kate Hudson",
                                    "1": "actress",
                                    "2": "10"
                                },
                                {
                                    "0": "Emma Stone",
                                    "1": "actress",
                                    "2": "9"
                                },
                                {
                                    "0": "Hilary Duff",
                                    "1": "actress",
                                    "2": "9"
                                },
                                {
                                    "0": "Jennifer Lawrence",
                                    "1": "actress",
                                    "2": "9"
                                },
                                {
                                    "0": "Meg Ryan",
                                    "1": "actress",
                                    "2": "9"
                                },
                                {
                                    "0": "Scarlett Johansson",
                                    "1": "actress",
                                    "2": "9"
                                }
                            ],
                            "schema": {
                                "fields": [
                                    {
                                        "name": "primaryName"
                                    },
                                    {
                                        "name": "category"
                                    },
                                    {
                                        "name": "num_actress"
                                    }
                                ]
                            }
                        },
                        "text/html": [
                            "<table><tr><th>primaryName</th><th>category</th><th>num_actress</th></tr><tr><td>Julia Roberts</td><td>actress</td><td>15</td></tr><tr><td>Rachel McAdams</td><td>actress</td><td>15</td></tr><tr><td>Reese Witherspoon</td><td>actress</td><td>15</td></tr><tr><td>Cameron Diaz</td><td>actress</td><td>13</td></tr><tr><td>Jennifer Aniston</td><td>actress</td><td>13</td></tr><tr><td>Meryl Streep</td><td>actress</td><td>12</td></tr><tr><td>Sandra Bullock</td><td>actress</td><td>12</td></tr><tr><td>Anne Hathaway</td><td>actress</td><td>11</td></tr><tr><td>Emma Watson</td><td>actress</td><td>10</td></tr><tr><td>Kate Hudson</td><td>actress</td><td>10</td></tr><tr><td>Emma Stone</td><td>actress</td><td>9</td></tr><tr><td>Hilary Duff</td><td>actress</td><td>9</td></tr><tr><td>Jennifer Lawrence</td><td>actress</td><td>9</td></tr><tr><td>Meg Ryan</td><td>actress</td><td>9</td></tr><tr><td>Scarlett Johansson</td><td>actress</td><td>9</td></tr></table>"
                        ]
                    },
                    "execution_count": 82,
                    "metadata": {},
                    "output_type": "execute_result"
                }
            ],
            "source": [
                "DROP TABLE IF EXISTS #actress\n",
                "Select TOP 15 primaryName, category, COUNT(*)/4 as num_actress /* each movie has 4 primaty actors by default in IMDB */\n",
                "INTO #actress\n",
                "FROM my_movies_with_actors\n",
                "GROUP BY primaryName, category \n",
                "HAVING primaryName is not NULL AND category = 'actress' \n",
                "ORDER by num_actress DESC, primaryName\n",
                "\n",
                "SELECT *\n",
                "FROM #actress"
            ]
        },
        {
            "cell_type": "code",
            "execution_count": 85,
            "metadata": {
                "azdata_cell_guid": "a940b7d7-9907-4f99-bc83-6bce8a9f909e",
                "language": "sql",
                "vscode": {
                    "languageId": "r"
                }
            },
            "outputs": [
                {
                    "data": {
                        "text/html": [
                            "(20 rows affected)"
                        ]
                    },
                    "metadata": {},
                    "output_type": "display_data"
                },
                {
                    "data": {
                        "text/html": [
                            "Total execution time: 00:00:00.015"
                        ]
                    },
                    "metadata": {},
                    "output_type": "display_data"
                },
                {
                    "data": {
                        "application/vnd.dataresource+json": {
                            "data": [
                                {
                                    "0": "Adam Sandler",
                                    "1": "12",
                                    "2": "50 First Dates"
                                },
                                {
                                    "0": "Adam Sandler",
                                    "1": "12",
                                    "2": "Bedtime Stories"
                                },
                                {
                                    "0": "Adam Sandler",
                                    "1": "12",
                                    "2": "Blended"
                                },
                                {
                                    "0": "Adam Sandler",
                                    "1": "12",
                                    "2": "Click"
                                },
                                {
                                    "0": "Adam Sandler",
                                    "1": "12",
                                    "2": "Grown Ups"
                                },
                                {
                                    "0": "Adam Sandler",
                                    "1": "12",
                                    "2": "Grown Ups 2"
                                },
                                {
                                    "0": "Adam Sandler",
                                    "1": "12",
                                    "2": "Hotel Transylvania"
                                },
                                {
                                    "0": "Adam Sandler",
                                    "1": "12",
                                    "2": "Just Go with It"
                                },
                                {
                                    "0": "Adam Sandler",
                                    "1": "12",
                                    "2": "Little Nicky"
                                },
                                {
                                    "0": "Adam Sandler",
                                    "1": "12",
                                    "2": "Murder Mystery"
                                },
                                {
                                    "0": "Adam Sandler",
                                    "1": "12",
                                    "2": "Reign Over Me"
                                },
                                {
                                    "0": "Adam Sandler",
                                    "1": "12",
                                    "2": "That's My Boy"
                                },
                                {
                                    "0": "Channing Tatum",
                                    "1": "10",
                                    "2": "21 Jump Street"
                                },
                                {
                                    "0": "Channing Tatum",
                                    "1": "10",
                                    "2": "22 Jump Street"
                                },
                                {
                                    "0": "Channing Tatum",
                                    "1": "10",
                                    "2": "Dear John"
                                },
                                {
                                    "0": "Channing Tatum",
                                    "1": "10",
                                    "2": "Magic Mike"
                                },
                                {
                                    "0": "Channing Tatum",
                                    "1": "10",
                                    "2": "Magic Mike XXL"
                                },
                                {
                                    "0": "Channing Tatum",
                                    "1": "10",
                                    "2": "Side Effects"
                                },
                                {
                                    "0": "Channing Tatum",
                                    "1": "10",
                                    "2": "Smallfoot"
                                },
                                {
                                    "0": "Channing Tatum",
                                    "1": "10",
                                    "2": "Step Up"
                                }
                            ],
                            "schema": {
                                "fields": [
                                    {
                                        "name": "primaryName"
                                    },
                                    {
                                        "name": "num_actors"
                                    },
                                    {
                                        "name": "primaryTitle"
                                    }
                                ]
                            }
                        },
                        "text/html": [
                            "<table><tr><th>primaryName</th><th>num_actors</th><th>primaryTitle</th></tr><tr><td>Adam Sandler</td><td>12</td><td>50 First Dates</td></tr><tr><td>Adam Sandler</td><td>12</td><td>Bedtime Stories</td></tr><tr><td>Adam Sandler</td><td>12</td><td>Blended</td></tr><tr><td>Adam Sandler</td><td>12</td><td>Click</td></tr><tr><td>Adam Sandler</td><td>12</td><td>Grown Ups</td></tr><tr><td>Adam Sandler</td><td>12</td><td>Grown Ups 2</td></tr><tr><td>Adam Sandler</td><td>12</td><td>Hotel Transylvania</td></tr><tr><td>Adam Sandler</td><td>12</td><td>Just Go with It</td></tr><tr><td>Adam Sandler</td><td>12</td><td>Little Nicky</td></tr><tr><td>Adam Sandler</td><td>12</td><td>Murder Mystery</td></tr><tr><td>Adam Sandler</td><td>12</td><td>Reign Over Me</td></tr><tr><td>Adam Sandler</td><td>12</td><td>That's My Boy</td></tr><tr><td>Channing Tatum</td><td>10</td><td>21 Jump Street</td></tr><tr><td>Channing Tatum</td><td>10</td><td>22 Jump Street</td></tr><tr><td>Channing Tatum</td><td>10</td><td>Dear John</td></tr><tr><td>Channing Tatum</td><td>10</td><td>Magic Mike</td></tr><tr><td>Channing Tatum</td><td>10</td><td>Magic Mike XXL</td></tr><tr><td>Channing Tatum</td><td>10</td><td>Side Effects</td></tr><tr><td>Channing Tatum</td><td>10</td><td>Smallfoot</td></tr><tr><td>Channing Tatum</td><td>10</td><td>Step Up</td></tr></table>"
                        ]
                    },
                    "execution_count": 85,
                    "metadata": {},
                    "output_type": "execute_result"
                }
            ],
            "source": [
                "SELECT TOP 20 * \n",
                "FROM (Select #actors.primaryName, #actors.num_actors,\n",
                "my_movies_with_actors.primaryTitle\n",
                "FROM #actors\n",
                "LEFT JOIN my_movies_with_actors\n",
                "ON #actors.primaryName = my_movies_with_actors.primaryName \n",
                "GROUP BY #actors.primaryName,  #actors.num_actors, my_movies_with_actors.primaryTitle\n",
                ") as a\n",
                "ORDER BY num_actors DESC\n"
            ]
        },
        {
            "cell_type": "code",
            "execution_count": 86,
            "metadata": {
                "azdata_cell_guid": "6f48ab74-ac37-4eba-9325-af35fd22246e",
                "language": "sql",
                "vscode": {
                    "languageId": "r"
                }
            },
            "outputs": [
                {
                    "data": {
                        "text/html": [
                            "(20 rows affected)"
                        ]
                    },
                    "metadata": {},
                    "output_type": "display_data"
                },
                {
                    "data": {
                        "text/html": [
                            "Total execution time: 00:00:00.019"
                        ]
                    },
                    "metadata": {},
                    "output_type": "display_data"
                },
                {
                    "data": {
                        "application/vnd.dataresource+json": {
                            "data": [
                                {
                                    "0": "Julia Roberts",
                                    "1": "15",
                                    "2": "Closer"
                                },
                                {
                                    "0": "Julia Roberts",
                                    "1": "15",
                                    "2": "Dying Young"
                                },
                                {
                                    "0": "Julia Roberts",
                                    "1": "15",
                                    "2": "Eat Pray Love"
                                },
                                {
                                    "0": "Julia Roberts",
                                    "1": "15",
                                    "2": "Erin Brockovich"
                                },
                                {
                                    "0": "Julia Roberts",
                                    "1": "15",
                                    "2": "Mirror Mirror"
                                },
                                {
                                    "0": "Julia Roberts",
                                    "1": "15",
                                    "2": "Mona Lisa Smile"
                                },
                                {
                                    "0": "Julia Roberts",
                                    "1": "15",
                                    "2": "Mother's Day"
                                },
                                {
                                    "0": "Julia Roberts",
                                    "1": "15",
                                    "2": "My Best Friend's Wedding"
                                },
                                {
                                    "0": "Julia Roberts",
                                    "1": "15",
                                    "2": "Notting Hill"
                                },
                                {
                                    "0": "Julia Roberts",
                                    "1": "15",
                                    "2": "Pretty Woman"
                                },
                                {
                                    "0": "Julia Roberts",
                                    "1": "15",
                                    "2": "Runaway Bride"
                                },
                                {
                                    "0": "Julia Roberts",
                                    "1": "15",
                                    "2": "Sleeping with the Enemy"
                                },
                                {
                                    "0": "Julia Roberts",
                                    "1": "15",
                                    "2": "Steel Magnolias"
                                },
                                {
                                    "0": "Julia Roberts",
                                    "1": "15",
                                    "2": "Stepmom"
                                },
                                {
                                    "0": "Julia Roberts",
                                    "1": "15",
                                    "2": "Valentine's Day"
                                },
                                {
                                    "0": "Rachel McAdams",
                                    "1": "15",
                                    "2": "About Time"
                                },
                                {
                                    "0": "Rachel McAdams",
                                    "1": "15",
                                    "2": "Doctor Strange"
                                },
                                {
                                    "0": "Rachel McAdams",
                                    "1": "15",
                                    "2": "Eurovision Song Contest: The Story of Fire Saga"
                                },
                                {
                                    "0": "Rachel McAdams",
                                    "1": "15",
                                    "2": "Game Night"
                                },
                                {
                                    "0": "Rachel McAdams",
                                    "1": "15",
                                    "2": "Mean Girls"
                                }
                            ],
                            "schema": {
                                "fields": [
                                    {
                                        "name": "primaryName"
                                    },
                                    {
                                        "name": "num_actress"
                                    },
                                    {
                                        "name": "primaryTitle"
                                    }
                                ]
                            }
                        },
                        "text/html": [
                            "<table><tr><th>primaryName</th><th>num_actress</th><th>primaryTitle</th></tr><tr><td>Julia Roberts</td><td>15</td><td>Closer</td></tr><tr><td>Julia Roberts</td><td>15</td><td>Dying Young</td></tr><tr><td>Julia Roberts</td><td>15</td><td>Eat Pray Love</td></tr><tr><td>Julia Roberts</td><td>15</td><td>Erin Brockovich</td></tr><tr><td>Julia Roberts</td><td>15</td><td>Mirror Mirror</td></tr><tr><td>Julia Roberts</td><td>15</td><td>Mona Lisa Smile</td></tr><tr><td>Julia Roberts</td><td>15</td><td>Mother's Day</td></tr><tr><td>Julia Roberts</td><td>15</td><td>My Best Friend's Wedding</td></tr><tr><td>Julia Roberts</td><td>15</td><td>Notting Hill</td></tr><tr><td>Julia Roberts</td><td>15</td><td>Pretty Woman</td></tr><tr><td>Julia Roberts</td><td>15</td><td>Runaway Bride</td></tr><tr><td>Julia Roberts</td><td>15</td><td>Sleeping with the Enemy</td></tr><tr><td>Julia Roberts</td><td>15</td><td>Steel Magnolias</td></tr><tr><td>Julia Roberts</td><td>15</td><td>Stepmom</td></tr><tr><td>Julia Roberts</td><td>15</td><td>Valentine's Day</td></tr><tr><td>Rachel McAdams</td><td>15</td><td>About Time</td></tr><tr><td>Rachel McAdams</td><td>15</td><td>Doctor Strange</td></tr><tr><td>Rachel McAdams</td><td>15</td><td>Eurovision Song Contest: The Story of Fire Saga</td></tr><tr><td>Rachel McAdams</td><td>15</td><td>Game Night</td></tr><tr><td>Rachel McAdams</td><td>15</td><td>Mean Girls</td></tr></table>"
                        ]
                    },
                    "execution_count": 86,
                    "metadata": {},
                    "output_type": "execute_result"
                }
            ],
            "source": [
                "SELECT TOP 20 *\n",
                "FROM (Select #actress.primaryName, #actress.num_actress,\n",
                "my_movies_with_actors.primaryTitle\n",
                "FROM #actress\n",
                "LEFT JOIN my_movies_with_actors\n",
                "ON #actress.primaryName = my_movies_with_actors.primaryName \n",
                "GROUP BY #actress.primaryName,  #actress.num_actress, my_movies_with_actors.primaryTitle) as b\n",
                "ORDER BY num_actress DESC"
            ]
        },
        {
            "cell_type": "code",
            "execution_count": 87,
            "metadata": {
                "azdata_cell_guid": "e132ffe1-a548-4114-8560-f1e1975ac3a6",
                "language": "sql",
                "tags": [],
                "vscode": {
                    "languageId": "r"
                }
            },
            "outputs": [
                {
                    "data": {
                        "text/html": [
                            "(10 rows affected)"
                        ]
                    },
                    "metadata": {},
                    "output_type": "display_data"
                },
                {
                    "data": {
                        "text/html": [
                            "Total execution time: 00:00:00.013"
                        ]
                    },
                    "metadata": {},
                    "output_type": "display_data"
                },
                {
                    "data": {
                        "application/vnd.dataresource+json": {
                            "data": [
                                {
                                    "0": "1927",
                                    "1": "1928",
                                    "2": "1",
                                    "3": "ACTOR",
                                    "4": "Richard Barthelmess",
                                    "5": "The Noose",
                                    "6": "0"
                                },
                                {
                                    "0": "1927",
                                    "1": "1928",
                                    "2": "1",
                                    "3": "ACTOR",
                                    "4": "Emil Jannings",
                                    "5": "The Last Command",
                                    "6": "1"
                                },
                                {
                                    "0": "1927",
                                    "1": "1928",
                                    "2": "1",
                                    "3": "ACTRESS",
                                    "4": "Louise Dresser",
                                    "5": "A Ship Comes In",
                                    "6": "0"
                                },
                                {
                                    "0": "1927",
                                    "1": "1928",
                                    "2": "1",
                                    "3": "ACTRESS",
                                    "4": "Janet Gaynor",
                                    "5": "7th Heaven",
                                    "6": "1"
                                },
                                {
                                    "0": "1927",
                                    "1": "1928",
                                    "2": "1",
                                    "3": "ACTRESS",
                                    "4": "Gloria Swanson",
                                    "5": "Sadie Thompson",
                                    "6": "0"
                                },
                                {
                                    "0": "1927",
                                    "1": "1928",
                                    "2": "1",
                                    "3": "ART DIRECTION",
                                    "4": "Rochus Gliese",
                                    "5": "Sunrise",
                                    "6": "0"
                                },
                                {
                                    "0": "1927",
                                    "1": "1928",
                                    "2": "1",
                                    "3": "ART DIRECTION",
                                    "4": "William Cameron Menzies",
                                    "5": "The Dove;",
                                    "6": "1"
                                },
                                {
                                    "0": "1927",
                                    "1": "1928",
                                    "2": "1",
                                    "3": "ART DIRECTION",
                                    "4": "Harry Oliver",
                                    "5": "7th Heaven",
                                    "6": "0"
                                },
                                {
                                    "0": "1927",
                                    "1": "1928",
                                    "2": "1",
                                    "3": "CINEMATOGRAPHY",
                                    "4": "George Barnes",
                                    "5": "The Devil Dancer;",
                                    "6": "0"
                                },
                                {
                                    "0": "1927",
                                    "1": "1928",
                                    "2": "1",
                                    "3": "CINEMATOGRAPHY",
                                    "4": "Charles Rosher",
                                    "5": "Sunrise",
                                    "6": "1"
                                }
                            ],
                            "schema": {
                                "fields": [
                                    {
                                        "name": "year_film"
                                    },
                                    {
                                        "name": "year_ceremony"
                                    },
                                    {
                                        "name": "ceremony"
                                    },
                                    {
                                        "name": "category"
                                    },
                                    {
                                        "name": "name"
                                    },
                                    {
                                        "name": "film"
                                    },
                                    {
                                        "name": "winner"
                                    }
                                ]
                            }
                        },
                        "text/html": [
                            "<table><tr><th>year_film</th><th>year_ceremony</th><th>ceremony</th><th>category</th><th>name</th><th>film</th><th>winner</th></tr><tr><td>1927</td><td>1928</td><td>1</td><td>ACTOR</td><td>Richard Barthelmess</td><td>The Noose</td><td>0</td></tr><tr><td>1927</td><td>1928</td><td>1</td><td>ACTOR</td><td>Emil Jannings</td><td>The Last Command</td><td>1</td></tr><tr><td>1927</td><td>1928</td><td>1</td><td>ACTRESS</td><td>Louise Dresser</td><td>A Ship Comes In</td><td>0</td></tr><tr><td>1927</td><td>1928</td><td>1</td><td>ACTRESS</td><td>Janet Gaynor</td><td>7th Heaven</td><td>1</td></tr><tr><td>1927</td><td>1928</td><td>1</td><td>ACTRESS</td><td>Gloria Swanson</td><td>Sadie Thompson</td><td>0</td></tr><tr><td>1927</td><td>1928</td><td>1</td><td>ART DIRECTION</td><td>Rochus Gliese</td><td>Sunrise</td><td>0</td></tr><tr><td>1927</td><td>1928</td><td>1</td><td>ART DIRECTION</td><td>William Cameron Menzies</td><td>The Dove;</td><td>1</td></tr><tr><td>1927</td><td>1928</td><td>1</td><td>ART DIRECTION</td><td>Harry Oliver</td><td>7th Heaven</td><td>0</td></tr><tr><td>1927</td><td>1928</td><td>1</td><td>CINEMATOGRAPHY</td><td>George Barnes</td><td>The Devil Dancer;</td><td>0</td></tr><tr><td>1927</td><td>1928</td><td>1</td><td>CINEMATOGRAPHY</td><td>Charles Rosher</td><td>Sunrise</td><td>1</td></tr></table>"
                        ]
                    },
                    "execution_count": 87,
                    "metadata": {},
                    "output_type": "execute_result"
                }
            ],
            "source": [
                "---------------------------------------------------------------------------------------------------------------\n",
                "/*oscars*/\n",
                "---------------------------------------------------------------------------------------------------------------\n",
                "/* winners */\n",
                "---------------------------------------------------------------------------------------------------------------\n",
                "\n",
                "SELECT TOP 10 *\n",
                "FROM the_oscar_award_set\n"
            ]
        },
        {
            "cell_type": "code",
            "execution_count": 88,
            "metadata": {
                "azdata_cell_guid": "3f538031-6775-4ca1-aee4-35f372b5c68e",
                "language": "sql",
                "vscode": {
                    "languageId": "r"
                }
            },
            "outputs": [
                {
                    "data": {
                        "text/html": [
                            "(1 row affected)"
                        ]
                    },
                    "metadata": {},
                    "output_type": "display_data"
                },
                {
                    "data": {
                        "text/html": [
                            "Total execution time: 00:00:00.016"
                        ]
                    },
                    "metadata": {},
                    "output_type": "display_data"
                },
                {
                    "data": {
                        "application/vnd.dataresource+json": {
                            "data": [
                                {
                                    "0": "180"
                                }
                            ],
                            "schema": {
                                "fields": [
                                    {
                                        "name": "(No column name)"
                                    }
                                ]
                            }
                        },
                        "text/html": [
                            "<table><tr><th>(No column name)</th></tr><tr><td>180</td></tr></table>"
                        ]
                    },
                    "execution_count": 88,
                    "metadata": {},
                    "output_type": "execute_result"
                }
            ],
            "source": [
                "SELECT APPROX_COUNT_DISTINCT(film)\n",
                "FROM the_oscar_award_set\n",
                "WHERE winner = 1 AND \n",
                "(category = 'BEST PICTURE' OR \n",
                "category = 'ANIMATED FEATURE FILM' OR \n",
                "category = 'DIRECTING' OR \n",
                "category = 'CINEMATOGRAPHY'  OR \n",
                "category = 'DOCUMENTARY FEATURE FILM' OR \n",
                "category = 'INTERNATIONAL FEATURE FILM') /* 180 movie have won in these main categories */"
            ]
        },
        {
            "cell_type": "code",
            "execution_count": null,
            "metadata": {
                "azdata_cell_guid": "73226ef5-5bdc-4197-8fe3-fe567addef65",
                "language": "sql",
                "vscode": {
                    "languageId": "r"
                }
            },
            "outputs": [],
            "source": [
                "DROP TABLE IF EXISTS #oscars_set\n",
                "SELECT [IMDB].[dbo].[my_only_movies_set].[release_year]\n",
                "      ,[IMDB].[dbo].[my_only_movies_set].[user_ratings]\n",
                "      ,[IMDB].[dbo].[my_only_movies_set].[primaryTitle]\n",
                "      ,[IMDB].[dbo].[my_only_movies_set].[runtimeMinutes]\n",
                "      ,[IMDB].[dbo].[my_only_movies_set].[user_rating_count]\n",
                "      ,[IMDB].[dbo].[my_only_movies_set].[kinopoisk_ratings]\n",
                "      ,[IMDB].[dbo].[my_only_movies_set].[averageRating]\n",
                "      ,[IMDB].[dbo].[my_only_movies_set].[numVotes]\n",
                "      ,[IMDB].[dbo].[my_only_movies_set].[genre_1]\n",
                "      ,[IMDB].[dbo].[my_only_movies_set].[genre_2]\n",
                "      ,[IMDB].[dbo].[my_only_movies_set].[genre_3]\n",
                "      ,[IMDB].[dbo].[the_oscar_award_set].[winner]\n",
                "      ,[IMDB].[dbo].[the_oscar_award_set].[category]\n",
                "INTO #oscars_set\n",
                "FROM [IMDB].[dbo].[my_only_movies_set]\n",
                "INNER JOIN [IMDB].[dbo].[the_oscar_award_set]\n",
                "ON [IMDB].[dbo].[my_only_movies_set].[primaryTitle] = [IMDB].[dbo].[the_oscar_award_set].[film] \n"
            ]
        },
        {
            "cell_type": "code",
            "execution_count": 91,
            "metadata": {
                "azdata_cell_guid": "9646098c-6b06-4166-ae3b-7a384cd649ed",
                "language": "sql"
            },
            "outputs": [
                {
                    "data": {
                        "text/html": [
                            "(10 rows affected)"
                        ]
                    },
                    "metadata": {},
                    "output_type": "display_data"
                },
                {
                    "data": {
                        "text/html": [
                            "Total execution time: 00:00:00.014"
                        ]
                    },
                    "metadata": {},
                    "output_type": "display_data"
                },
                {
                    "data": {
                        "application/vnd.dataresource+json": {
                            "data": [
                                {
                                    "0": "12 Years a Slave",
                                    "1": "2013",
                                    "2": "8",
                                    "3": "268851",
                                    "4": "7.8",
                                    "5": "8,1",
                                    "6": "711021",
                                    "7": "8",
                                    "8": "0"
                                },
                                {
                                    "0": "American Beauty",
                                    "1": "1999",
                                    "2": "6",
                                    "3": "230561",
                                    "4": "8",
                                    "5": "8,4",
                                    "6": "1166635",
                                    "7": "8",
                                    "8": "-25"
                                },
                                {
                                    "0": "Avatar",
                                    "1": "2009",
                                    "2": "8",
                                    "3": "941876",
                                    "4": "8",
                                    "5": "7,9",
                                    "6": "1331063",
                                    "7": "8",
                                    "8": "0"
                                },
                                {
                                    "0": "Big Hero 6",
                                    "1": "2014",
                                    "2": "8",
                                    "3": "294855",
                                    "4": "8",
                                    "5": "7,8",
                                    "6": "471294",
                                    "7": "8",
                                    "8": "0"
                                },
                                {
                                    "0": "Birdman or (The Unexpected Virtue of Ignorance)",
                                    "1": "2014",
                                    "2": "6",
                                    "3": "210183",
                                    "4": "7.6",
                                    "5": "7,7",
                                    "6": "641280",
                                    "7": "8",
                                    "8": "-25"
                                },
                                {
                                    "0": "Bonnie and Clyde",
                                    "1": "1967",
                                    "2": "8",
                                    "3": "24802",
                                    "4": "7.7",
                                    "5": "7,7",
                                    "6": "115588",
                                    "7": "8",
                                    "8": "0"
                                },
                                {
                                    "0": "Brave",
                                    "1": "2012",
                                    "2": "6",
                                    "3": "211669",
                                    "4": "7.4",
                                    "5": "7,1",
                                    "6": "420092",
                                    "7": "7",
                                    "8": "-14"
                                },
                                {
                                    "0": "Coco",
                                    "1": "2017",
                                    "2": "10",
                                    "3": "618660",
                                    "4": "8.7",
                                    "5": "8,4",
                                    "6": "524452",
                                    "7": "9",
                                    "8": "11"
                                },
                                {
                                    "0": "Encanto",
                                    "1": "2021",
                                    "2": "8",
                                    "3": "116221",
                                    "4": "7.5",
                                    "5": "7,2",
                                    "6": "231920",
                                    "7": "7",
                                    "8": "14"
                                },
                                {
                                    "0": "Finding Nemo",
                                    "1": "2003",
                                    "2": "8",
                                    "3": "311646",
                                    "4": "7.9",
                                    "5": "8,2",
                                    "6": "1057717",
                                    "7": "8",
                                    "8": "0"
                                }
                            ],
                            "schema": {
                                "fields": [
                                    {
                                        "name": "primaryTitle"
                                    },
                                    {
                                        "name": "release_year"
                                    },
                                    {
                                        "name": "user_ratings"
                                    },
                                    {
                                        "name": "user_rating_count"
                                    },
                                    {
                                        "name": "kinopoisk_ratings"
                                    },
                                    {
                                        "name": "averageRating"
                                    },
                                    {
                                        "name": "numVotes"
                                    },
                                    {
                                        "name": "people_rating"
                                    },
                                    {
                                        "name": "perc"
                                    }
                                ]
                            }
                        },
                        "text/html": [
                            "<table><tr><th>primaryTitle</th><th>release_year</th><th>user_ratings</th><th>user_rating_count</th><th>kinopoisk_ratings</th><th>averageRating</th><th>numVotes</th><th>people_rating</th><th>perc</th></tr><tr><td>12 Years a Slave</td><td>2013</td><td>8</td><td>268851</td><td>7.8</td><td>8,1</td><td>711021</td><td>8</td><td>0</td></tr><tr><td>American Beauty</td><td>1999</td><td>6</td><td>230561</td><td>8</td><td>8,4</td><td>1166635</td><td>8</td><td>-25</td></tr><tr><td>Avatar</td><td>2009</td><td>8</td><td>941876</td><td>8</td><td>7,9</td><td>1331063</td><td>8</td><td>0</td></tr><tr><td>Big Hero 6</td><td>2014</td><td>8</td><td>294855</td><td>8</td><td>7,8</td><td>471294</td><td>8</td><td>0</td></tr><tr><td>Birdman or (The Unexpected Virtue of Ignorance)</td><td>2014</td><td>6</td><td>210183</td><td>7.6</td><td>7,7</td><td>641280</td><td>8</td><td>-25</td></tr><tr><td>Bonnie and Clyde</td><td>1967</td><td>8</td><td>24802</td><td>7.7</td><td>7,7</td><td>115588</td><td>8</td><td>0</td></tr><tr><td>Brave</td><td>2012</td><td>6</td><td>211669</td><td>7.4</td><td>7,1</td><td>420092</td><td>7</td><td>-14</td></tr><tr><td>Coco</td><td>2017</td><td>10</td><td>618660</td><td>8.7</td><td>8,4</td><td>524452</td><td>9</td><td>11</td></tr><tr><td>Encanto</td><td>2021</td><td>8</td><td>116221</td><td>7.5</td><td>7,2</td><td>231920</td><td>7</td><td>14</td></tr><tr><td>Finding Nemo</td><td>2003</td><td>8</td><td>311646</td><td>7.9</td><td>8,2</td><td>1057717</td><td>8</td><td>0</td></tr></table>"
                        ]
                    },
                    "execution_count": 91,
                    "metadata": {},
                    "output_type": "execute_result"
                }
            ],
            "source": [
                "SELECT TOP 10 *\n",
                "FROM (SELECT primaryTitle, release_year, user_ratings, \n",
                "user_rating_count, kinopoisk_ratings, averageRating, numVotes, \n",
                "ROUND((AVG(kinopoisk_ratings + averageRating)/2),0) as people_rating,\n",
                "(ROUND(((user_ratings / ROUND((AVG(kinopoisk_ratings + averageRating)/2),0)) * 100), 0) -100) as perc\n",
                "FROM  #oscars_set\n",
                "WHERE winner = 1 AND \n",
                "(category = 'BEST PICTURE' OR \n",
                "category = 'ANIMATED FEATURE FILM' OR \n",
                "category = 'DIRECTING' OR \n",
                "category = 'CINEMATOGRAPHY'  OR \n",
                "category = 'DOCUMENTARY FEATURE FILM' OR \n",
                "category = 'INTERNATIONAL FEATURE FILM') \n",
                "GROUP BY primaryTitle, release_year, user_ratings, user_rating_count, kinopoisk_ratings, averageRating, numVotes) as o \n",
                "\n",
                "/* 32 movies I watched that had won in main nominations*/\n"
            ]
        },
        {
            "cell_type": "code",
            "execution_count": 92,
            "metadata": {
                "azdata_cell_guid": "27a6a494-379a-4323-b3a1-2c4e966f61c8",
                "language": "sql",
                "tags": [],
                "vscode": {
                    "languageId": "r"
                }
            },
            "outputs": [
                {
                    "data": {
                        "text/html": [
                            "(1 row affected)"
                        ]
                    },
                    "metadata": {},
                    "output_type": "display_data"
                },
                {
                    "data": {
                        "text/html": [
                            "Total execution time: 00:00:00.013"
                        ]
                    },
                    "metadata": {},
                    "output_type": "display_data"
                },
                {
                    "data": {
                        "application/vnd.dataresource+json": {
                            "data": [
                                {
                                    "0": "740"
                                }
                            ],
                            "schema": {
                                "fields": [
                                    {
                                        "name": "(No column name)"
                                    }
                                ]
                            }
                        },
                        "text/html": [
                            "<table><tr><th>(No column name)</th></tr><tr><td>740</td></tr></table>"
                        ]
                    },
                    "execution_count": 92,
                    "metadata": {},
                    "output_type": "execute_result"
                }
            ],
            "source": [
                "---------------------------------------------------------------------------------------------------------------\n",
                "/* nominees */\n",
                "---------------------------------------------------------------------------------------------------------------\n",
                "SELECT APPROX_COUNT_DISTINCT(film)\n",
                "FROM the_oscar_award_set\n",
                "WHERE winner = 0 AND \n",
                "(category = 'BEST PICTURE' OR \n",
                "category = 'ANIMATED FEATURE FILM' OR \n",
                "category = 'DIRECTING' OR \n",
                "category = 'CINEMATOGRAPHY'  OR \n",
                "category = 'DOCUMENTARY FEATURE FILM' OR \n",
                "category = 'INTERNATIONAL FEATURE FILM') \n",
                "/* 740 movie have nominations in these categories */"
            ]
        },
        {
            "cell_type": "code",
            "execution_count": 94,
            "metadata": {
                "azdata_cell_guid": "5376b0fc-9a91-4778-b4a2-d11f166c642b",
                "language": "sql"
            },
            "outputs": [
                {
                    "data": {
                        "text/html": [
                            "(10 rows affected)"
                        ]
                    },
                    "metadata": {},
                    "output_type": "display_data"
                },
                {
                    "data": {
                        "text/html": [
                            "Total execution time: 00:00:00.015"
                        ]
                    },
                    "metadata": {},
                    "output_type": "display_data"
                },
                {
                    "data": {
                        "application/vnd.dataresource+json": {
                            "data": [
                                {
                                    "0": "Roman Holiday",
                                    "1": "1953",
                                    "2": "10",
                                    "3": "125660",
                                    "4": "8.3",
                                    "5": "8",
                                    "6": "141418",
                                    "7": "8",
                                    "8": "25"
                                },
                                {
                                    "0": "Funny Face",
                                    "1": "1957",
                                    "2": "5",
                                    "3": "10084",
                                    "4": "7.5",
                                    "5": "7",
                                    "6": "31298",
                                    "7": "7",
                                    "8": "-29"
                                },
                                {
                                    "0": "Some Like It Hot",
                                    "1": "1959",
                                    "2": "9",
                                    "3": "297776",
                                    "4": "8.5",
                                    "5": "8,2",
                                    "6": "271366",
                                    "7": "8",
                                    "8": "13"
                                },
                                {
                                    "0": "Bonnie and Clyde",
                                    "1": "1967",
                                    "2": "8",
                                    "3": "24802",
                                    "4": "7.7",
                                    "5": "7,7",
                                    "6": "115588",
                                    "7": "8",
                                    "8": "0"
                                },
                                {
                                    "0": "Love Story",
                                    "1": "1970",
                                    "2": "8",
                                    "3": "7996",
                                    "4": "7.9",
                                    "5": "6,9",
                                    "6": "35445",
                                    "7": "7",
                                    "8": "14"
                                },
                                {
                                    "0": "The Way We Were",
                                    "1": "1973",
                                    "2": "7",
                                    "3": "5673",
                                    "4": "7.8",
                                    "5": "7",
                                    "6": "26012",
                                    "7": "7",
                                    "8": "0"
                                },
                                {
                                    "0": "Kramer vs. Kramer",
                                    "1": "1979",
                                    "2": "7",
                                    "3": "48253",
                                    "4": "8",
                                    "5": "7,8",
                                    "6": "148449",
                                    "7": "8",
                                    "8": "-12"
                                },
                                {
                                    "0": "On Golden Pond",
                                    "1": "1981",
                                    "2": "8",
                                    "3": "2623",
                                    "4": "7.8",
                                    "5": "7,6",
                                    "6": "32663",
                                    "7": "8",
                                    "8": "0"
                                },
                                {
                                    "0": "Rain Man",
                                    "1": "1988",
                                    "2": "8",
                                    "3": "339912",
                                    "4": "8.2",
                                    "5": "8",
                                    "6": "523021",
                                    "7": "8",
                                    "8": "0"
                                },
                                {
                                    "0": "Dead Poets Society",
                                    "1": "1989",
                                    "2": "7",
                                    "3": "194086",
                                    "4": "8.2",
                                    "5": "8,1",
                                    "6": "503232",
                                    "7": "8",
                                    "8": "-12"
                                }
                            ],
                            "schema": {
                                "fields": [
                                    {
                                        "name": "primaryTitle"
                                    },
                                    {
                                        "name": "release_year"
                                    },
                                    {
                                        "name": "user_ratings"
                                    },
                                    {
                                        "name": "user_rating_count"
                                    },
                                    {
                                        "name": "kinopoisk_ratings"
                                    },
                                    {
                                        "name": "averageRating"
                                    },
                                    {
                                        "name": "numVotes"
                                    },
                                    {
                                        "name": "people_rating"
                                    },
                                    {
                                        "name": "perc"
                                    }
                                ]
                            }
                        },
                        "text/html": [
                            "<table><tr><th>primaryTitle</th><th>release_year</th><th>user_ratings</th><th>user_rating_count</th><th>kinopoisk_ratings</th><th>averageRating</th><th>numVotes</th><th>people_rating</th><th>perc</th></tr><tr><td>Roman Holiday</td><td>1953</td><td>10</td><td>125660</td><td>8.3</td><td>8</td><td>141418</td><td>8</td><td>25</td></tr><tr><td>Funny Face</td><td>1957</td><td>5</td><td>10084</td><td>7.5</td><td>7</td><td>31298</td><td>7</td><td>-29</td></tr><tr><td>Some Like It Hot</td><td>1959</td><td>9</td><td>297776</td><td>8.5</td><td>8,2</td><td>271366</td><td>8</td><td>13</td></tr><tr><td>Bonnie and Clyde</td><td>1967</td><td>8</td><td>24802</td><td>7.7</td><td>7,7</td><td>115588</td><td>8</td><td>0</td></tr><tr><td>Love Story</td><td>1970</td><td>8</td><td>7996</td><td>7.9</td><td>6,9</td><td>35445</td><td>7</td><td>14</td></tr><tr><td>The Way We Were</td><td>1973</td><td>7</td><td>5673</td><td>7.8</td><td>7</td><td>26012</td><td>7</td><td>0</td></tr><tr><td>Kramer vs. Kramer</td><td>1979</td><td>7</td><td>48253</td><td>8</td><td>7,8</td><td>148449</td><td>8</td><td>-12</td></tr><tr><td>On Golden Pond</td><td>1981</td><td>8</td><td>2623</td><td>7.8</td><td>7,6</td><td>32663</td><td>8</td><td>0</td></tr><tr><td>Rain Man</td><td>1988</td><td>8</td><td>339912</td><td>8.2</td><td>8</td><td>523021</td><td>8</td><td>0</td></tr><tr><td>Dead Poets Society</td><td>1989</td><td>7</td><td>194086</td><td>8.2</td><td>8,1</td><td>503232</td><td>8</td><td>-12</td></tr></table>"
                        ]
                    },
                    "execution_count": 94,
                    "metadata": {},
                    "output_type": "execute_result"
                }
            ],
            "source": [
                "SELECT TOP 10 * \n",
                "FROM (SELECT primaryTitle, release_year, user_ratings, \n",
                "user_rating_count, kinopoisk_ratings, averageRating, numVotes, \n",
                "ROUND((AVG(kinopoisk_ratings + averageRating)/2),0) as people_rating,\n",
                "(ROUND(((user_ratings / ROUND((AVG(kinopoisk_ratings + averageRating)/2),0)) * 100), 0) -100) as perc\n",
                "FROM  #oscars_set\n",
                "WHERE winner = 0 AND\n",
                "(category = 'BEST PICTURE' OR \n",
                "category = 'ANIMATED FEATURE FILM' OR \n",
                "category = 'DIRECTING' OR \n",
                "category = 'CINEMATOGRAPHY'  OR \n",
                "category = 'DOCUMENTARY FEATURE FILM' OR \n",
                "category = 'INTERNATIONAL FEATURE FILM') \n",
                "GROUP BY primaryTitle, release_year, user_ratings, user_rating_count, kinopoisk_ratings, averageRating, numVotes) as o\n",
                "ORDER BY release_year\n",
                " /* 83 movies I watched that had been nominated in main nominations*/\n"
            ]
        },
        {
            "cell_type": "code",
            "execution_count": null,
            "metadata": {
                "azdata_cell_guid": "329017c6-ce1d-4f7e-a3aa-65587a156771",
                "language": "sql",
                "vscode": {
                    "languageId": "r"
                }
            },
            "outputs": [],
            "source": [
                "---------------------------------------------------------------------------------------------------------------\n",
                "/* noms and wons by actors */\n",
                "---------------------------------------------------------------------------------------------------------------\n",
                "---------------------------------------------------------------------------------------------------------------\n",
                "Select TOP 25 primaryName, category, COUNT(*) as num_actors\n",
                "into #my_actors\n",
                "FROM my_movies_with_actors\n",
                "GROUP BY primaryName, category \n",
                "HAVING primaryName is not NULL AND category = 'actor' \n",
                "ORDER by num_actors DESC, primaryName\n",
                "\n",
                "Select TOP 25 primaryName, category, COUNT(*) as num_actors\n",
                "into #my_actress\n",
                "FROM my_movies_with_actors\n",
                "GROUP BY primaryName, category \n",
                "HAVING primaryName is not NULL AND category = 'actress' \n",
                "ORDER by num_actors DESC, primaryName\n"
            ]
        },
        {
            "cell_type": "code",
            "execution_count": 98,
            "metadata": {
                "azdata_cell_guid": "649743e3-7e6a-4fbe-9849-d8f9df4070c2",
                "language": "sql",
                "vscode": {
                    "languageId": "r"
                }
            },
            "outputs": [
                {
                    "data": {
                        "text/html": [
                            "(54 rows affected)"
                        ]
                    },
                    "metadata": {},
                    "output_type": "display_data"
                },
                {
                    "data": {
                        "text/html": [
                            "Total execution time: 00:00:00.018"
                        ]
                    },
                    "metadata": {},
                    "output_type": "display_data"
                }
            ],
            "source": [
                "DROP TABLE IF EXISTS #my_actors_oscar\n",
                "SELECT #my_actors.primaryName,\n",
                "the_oscar_award_set.year_ceremony,\n",
                "the_oscar_award_set.film,\n",
                "the_oscar_award_set.category,\n",
                "the_oscar_award_set.winner\n",
                "INTO #my_actors_oscar\n",
                "FROM #my_actors\n",
                "LEFT JOIN the_oscar_award_set\n",
                "ON #my_actors.primaryName = the_oscar_award_set.name"
            ]
        },
        {
            "cell_type": "code",
            "execution_count": 101,
            "metadata": {
                "azdata_cell_guid": "e301ecd1-bff4-4679-952e-3e000eca0de3",
                "language": "sql"
            },
            "outputs": [
                {
                    "data": {
                        "text/html": [
                            "(10 rows affected)"
                        ]
                    },
                    "metadata": {},
                    "output_type": "display_data"
                },
                {
                    "data": {
                        "text/html": [
                            "Total execution time: 00:00:00.004"
                        ]
                    },
                    "metadata": {},
                    "output_type": "display_data"
                },
                {
                    "data": {
                        "application/vnd.dataresource+json": {
                            "data": [
                                {
                                    "0": "Robert De Niro",
                                    "1": "1975",
                                    "2": "The Godfather Part II",
                                    "3": "ACTOR IN A SUPPORTING ROLE",
                                    "4": "1"
                                },
                                {
                                    "0": "Robert De Niro",
                                    "1": "1977",
                                    "2": "Taxi Driver",
                                    "3": "ACTOR IN A LEADING ROLE",
                                    "4": "0"
                                },
                                {
                                    "0": "Robert De Niro",
                                    "1": "1979",
                                    "2": "The Deer Hunter",
                                    "3": "ACTOR IN A LEADING ROLE",
                                    "4": "0"
                                },
                                {
                                    "0": "Robert De Niro",
                                    "1": "1981",
                                    "2": "Raging Bull",
                                    "3": "ACTOR IN A LEADING ROLE",
                                    "4": "1"
                                },
                                {
                                    "0": "Tom Hanks",
                                    "1": "1989",
                                    "2": "Big",
                                    "3": "ACTOR IN A LEADING ROLE",
                                    "4": "0"
                                },
                                {
                                    "0": "Robert De Niro",
                                    "1": "1991",
                                    "2": "Awakenings",
                                    "3": "ACTOR IN A LEADING ROLE",
                                    "4": "0"
                                },
                                {
                                    "0": "Robert De Niro",
                                    "1": "1992",
                                    "2": "Cape Fear",
                                    "3": "ACTOR IN A LEADING ROLE",
                                    "4": "0"
                                },
                                {
                                    "0": "Robert Downey Jr.",
                                    "1": "1993",
                                    "2": "Chaplin",
                                    "3": "ACTOR IN A LEADING ROLE",
                                    "4": "0"
                                },
                                {
                                    "0": "Tom Hanks",
                                    "1": "1994",
                                    "2": "Philadelphia",
                                    "3": "ACTOR IN A LEADING ROLE",
                                    "4": "1"
                                },
                                {
                                    "0": "Liam Neeson",
                                    "1": "1994",
                                    "2": "Schindler's List",
                                    "3": "ACTOR IN A LEADING ROLE",
                                    "4": "0"
                                }
                            ],
                            "schema": {
                                "fields": [
                                    {
                                        "name": "primaryName"
                                    },
                                    {
                                        "name": "year_ceremony"
                                    },
                                    {
                                        "name": "film"
                                    },
                                    {
                                        "name": "category"
                                    },
                                    {
                                        "name": "winner"
                                    }
                                ]
                            }
                        },
                        "text/html": [
                            "<table><tr><th>primaryName</th><th>year_ceremony</th><th>film</th><th>category</th><th>winner</th></tr><tr><td>Robert De Niro</td><td>1975</td><td>The Godfather Part II</td><td>ACTOR IN A SUPPORTING ROLE</td><td>1</td></tr><tr><td>Robert De Niro</td><td>1977</td><td>Taxi Driver</td><td>ACTOR IN A LEADING ROLE</td><td>0</td></tr><tr><td>Robert De Niro</td><td>1979</td><td>The Deer Hunter</td><td>ACTOR IN A LEADING ROLE</td><td>0</td></tr><tr><td>Robert De Niro</td><td>1981</td><td>Raging Bull</td><td>ACTOR IN A LEADING ROLE</td><td>1</td></tr><tr><td>Tom Hanks</td><td>1989</td><td>Big</td><td>ACTOR IN A LEADING ROLE</td><td>0</td></tr><tr><td>Robert De Niro</td><td>1991</td><td>Awakenings</td><td>ACTOR IN A LEADING ROLE</td><td>0</td></tr><tr><td>Robert De Niro</td><td>1992</td><td>Cape Fear</td><td>ACTOR IN A LEADING ROLE</td><td>0</td></tr><tr><td>Robert Downey Jr.</td><td>1993</td><td>Chaplin</td><td>ACTOR IN A LEADING ROLE</td><td>0</td></tr><tr><td>Tom Hanks</td><td>1994</td><td>Philadelphia</td><td>ACTOR IN A LEADING ROLE</td><td>1</td></tr><tr><td>Liam Neeson</td><td>1994</td><td>Schindler's List</td><td>ACTOR IN A LEADING ROLE</td><td>0</td></tr></table>"
                        ]
                    },
                    "execution_count": 101,
                    "metadata": {},
                    "output_type": "execute_result"
                }
            ],
            "source": [
                "SELECT TOP 10 *\n",
                "FROM #my_actors_oscar"
            ]
        },
        {
            "cell_type": "code",
            "execution_count": 102,
            "metadata": {
                "azdata_cell_guid": "094cd29d-acd6-4e33-973c-4854ea5966b7",
                "language": "sql",
                "tags": []
            },
            "outputs": [
                {
                    "data": {
                        "text/html": [
                            "(67 rows affected)"
                        ]
                    },
                    "metadata": {},
                    "output_type": "display_data"
                },
                {
                    "data": {
                        "text/html": [
                            "Total execution time: 00:00:00.016"
                        ]
                    },
                    "metadata": {},
                    "output_type": "display_data"
                }
            ],
            "source": [
                "DROP TABLE IF EXISTS #my_actress_oscar\n",
                "SELECT #my_actress.primaryName,\n",
                "the_oscar_award_set.year_ceremony,\n",
                "the_oscar_award_set.film,\n",
                "the_oscar_award_set.category,\n",
                "the_oscar_award_set.winner\n",
                "INTO #my_actress_oscar\n",
                "FROM #my_actress\n",
                "LEFT JOIN the_oscar_award_set\n",
                "ON #my_actress.primaryName = the_oscar_award_set.name"
            ]
        },
        {
            "cell_type": "code",
            "execution_count": 103,
            "metadata": {
                "azdata_cell_guid": "00426dda-4e89-4cc8-b09e-80589990ed09",
                "language": "sql",
                "tags": []
            },
            "outputs": [
                {
                    "data": {
                        "text/html": [
                            "(10 rows affected)"
                        ]
                    },
                    "metadata": {},
                    "output_type": "display_data"
                },
                {
                    "data": {
                        "text/html": [
                            "Total execution time: 00:00:00.018"
                        ]
                    },
                    "metadata": {},
                    "output_type": "display_data"
                },
                {
                    "data": {
                        "application/vnd.dataresource+json": {
                            "data": [
                                {
                                    "0": "Meryl Streep",
                                    "1": "1979",
                                    "2": "The Deer Hunter",
                                    "3": "ACTRESS IN A SUPPORTING ROLE",
                                    "4": "0"
                                },
                                {
                                    "0": "Meryl Streep",
                                    "1": "1980",
                                    "2": "Kramer vs. Kramer",
                                    "3": "ACTRESS IN A SUPPORTING ROLE",
                                    "4": "1"
                                },
                                {
                                    "0": "Meryl Streep",
                                    "1": "1982",
                                    "2": "The French Lieutenant's Woman",
                                    "3": "ACTRESS IN A LEADING ROLE",
                                    "4": "0"
                                },
                                {
                                    "0": "Meryl Streep",
                                    "1": "1983",
                                    "2": "Sophie's Choice",
                                    "3": "ACTRESS IN A LEADING ROLE",
                                    "4": "1"
                                },
                                {
                                    "0": "Meryl Streep",
                                    "1": "1984",
                                    "2": "Silkwood",
                                    "3": "ACTRESS IN A LEADING ROLE",
                                    "4": "0"
                                },
                                {
                                    "0": "Meryl Streep",
                                    "1": "1986",
                                    "2": "Out of Africa",
                                    "3": "ACTRESS IN A LEADING ROLE",
                                    "4": "0"
                                },
                                {
                                    "0": "Meryl Streep",
                                    "1": "1988",
                                    "2": "Ironweed",
                                    "3": "ACTRESS IN A LEADING ROLE",
                                    "4": "0"
                                },
                                {
                                    "0": "Meryl Streep",
                                    "1": "1989",
                                    "2": "A Cry in the Dark",
                                    "3": "ACTRESS IN A LEADING ROLE",
                                    "4": "0"
                                },
                                {
                                    "0": "Julia Roberts",
                                    "1": "1990",
                                    "2": "Steel Magnolias",
                                    "3": "ACTRESS IN A SUPPORTING ROLE",
                                    "4": "0"
                                },
                                {
                                    "0": "Julia Roberts",
                                    "1": "1991",
                                    "2": "Pretty Woman",
                                    "3": "ACTRESS IN A LEADING ROLE",
                                    "4": "0"
                                }
                            ],
                            "schema": {
                                "fields": [
                                    {
                                        "name": "primaryName"
                                    },
                                    {
                                        "name": "year_ceremony"
                                    },
                                    {
                                        "name": "film"
                                    },
                                    {
                                        "name": "category"
                                    },
                                    {
                                        "name": "winner"
                                    }
                                ]
                            }
                        },
                        "text/html": [
                            "<table><tr><th>primaryName</th><th>year_ceremony</th><th>film</th><th>category</th><th>winner</th></tr><tr><td>Meryl Streep</td><td>1979</td><td>The Deer Hunter</td><td>ACTRESS IN A SUPPORTING ROLE</td><td>0</td></tr><tr><td>Meryl Streep</td><td>1980</td><td>Kramer vs. Kramer</td><td>ACTRESS IN A SUPPORTING ROLE</td><td>1</td></tr><tr><td>Meryl Streep</td><td>1982</td><td>The French Lieutenant's Woman</td><td>ACTRESS IN A LEADING ROLE</td><td>0</td></tr><tr><td>Meryl Streep</td><td>1983</td><td>Sophie's Choice</td><td>ACTRESS IN A LEADING ROLE</td><td>1</td></tr><tr><td>Meryl Streep</td><td>1984</td><td>Silkwood</td><td>ACTRESS IN A LEADING ROLE</td><td>0</td></tr><tr><td>Meryl Streep</td><td>1986</td><td>Out of Africa</td><td>ACTRESS IN A LEADING ROLE</td><td>0</td></tr><tr><td>Meryl Streep</td><td>1988</td><td>Ironweed</td><td>ACTRESS IN A LEADING ROLE</td><td>0</td></tr><tr><td>Meryl Streep</td><td>1989</td><td>A Cry in the Dark</td><td>ACTRESS IN A LEADING ROLE</td><td>0</td></tr><tr><td>Julia Roberts</td><td>1990</td><td>Steel Magnolias</td><td>ACTRESS IN A SUPPORTING ROLE</td><td>0</td></tr><tr><td>Julia Roberts</td><td>1991</td><td>Pretty Woman</td><td>ACTRESS IN A LEADING ROLE</td><td>0</td></tr></table>"
                        ]
                    },
                    "execution_count": 103,
                    "metadata": {},
                    "output_type": "execute_result"
                }
            ],
            "source": [
                "SELECT TOP 10 *\n",
                "FROM #my_actress_oscar\n",
                "---------------------------------------------------------------------------------------------------------------"
            ]
        },
        {
            "attachments": {},
            "cell_type": "markdown",
            "metadata": {
                "azdata_cell_guid": "6d4ef67c-a0e0-41b0-a40e-c1d89e08c337"
            },
            "source": [
                "### I made some changes in excel file **(pivot tables, avg, vlookup)** and visualized it in **Tableau.**"
            ]
        },
        {
            "cell_type": "code",
            "execution_count": 1,
            "metadata": {
                "azdata_cell_guid": "ab747dbe-a636-43a5-a081-5f9d71575f56",
                "language": "sql",
                "tags": [],
                "vscode": {
                    "languageId": "r"
                }
            },
            "outputs": [
                {
                    "data": {
                        "text/html": [
                            "<div class='tableauPlaceholder' id='viz1680776492463' style='position: relative'><noscript><a href='#'><img alt='Dashboard 1 ' src='https:&#47;&#47;public.tableau.com&#47;static&#47;images&#47;Ac&#47;Actresses&#47;Dashboard1&#47;1_rss.png' style='border: none' /></a></noscript><object class='tableauViz'  style='display:none;'><param name='host_url' value='https%3A%2F%2Fpublic.tableau.com%2F' /> <param name='embed_code_version' value='3' /> <param name='site_root' value='' /><param name='name' value='Actresses&#47;Dashboard1' /><param name='tabs' value='no' /><param name='toolbar' value='yes' /><param name='static_image' value='https:&#47;&#47;public.tableau.com&#47;static&#47;images&#47;Ac&#47;Actresses&#47;Dashboard1&#47;1.png' /> <param name='animate_transition' value='yes' /><param name='display_static_image' value='yes' /><param name='display_spinner' value='yes' /><param name='display_overlay' value='yes' /><param name='display_count' value='yes' /><param name='language' value='en-US' /></object></div>                <script type='text/javascript'>                    var divElement = document.getElementById('viz1680776492463');                    var vizElement = divElement.getElementsByTagName('object')[0];                    if ( divElement.offsetWidth > 800 ) { vizElement.style.width='900px';vizElement.style.height='927px';} else if ( divElement.offsetWidth > 500 ) { vizElement.style.width='900px';vizElement.style.height='927px';} else { vizElement.style.width='100%';vizElement.style.height='727px';}                     var scriptElement = document.createElement('script');                    scriptElement.src = 'https://public.tableau.com/javascripts/api/viz_v1.js';                    vizElement.parentNode.insertBefore(scriptElement, vizElement);                </script>\n"
                        ],
                        "text/plain": [
                            "<IPython.core.display.HTML object>"
                        ]
                    },
                    "metadata": {},
                    "output_type": "display_data"
                }
            ],
            "source": [
                "%%html\n",
                "<div class='tableauPlaceholder' id='viz1680776492463' style='position: relative'><noscript><a href='#'><img alt='Dashboard 1 ' src='https:&#47;&#47;public.tableau.com&#47;static&#47;images&#47;Ac&#47;Actresses&#47;Dashboard1&#47;1_rss.png' style='border: none' /></a></noscript><object class='tableauViz'  style='display:none;'><param name='host_url' value='https%3A%2F%2Fpublic.tableau.com%2F' /> <param name='embed_code_version' value='3' /> <param name='site_root' value='' /><param name='name' value='Actresses&#47;Dashboard1' /><param name='tabs' value='no' /><param name='toolbar' value='yes' /><param name='static_image' value='https:&#47;&#47;public.tableau.com&#47;static&#47;images&#47;Ac&#47;Actresses&#47;Dashboard1&#47;1.png' /> <param name='animate_transition' value='yes' /><param name='display_static_image' value='yes' /><param name='display_spinner' value='yes' /><param name='display_overlay' value='yes' /><param name='display_count' value='yes' /><param name='language' value='en-US' /></object></div>                <script type='text/javascript'>                    var divElement = document.getElementById('viz1680776492463');                    var vizElement = divElement.getElementsByTagName('object')[0];                    if ( divElement.offsetWidth > 800 ) { vizElement.style.width='900px';vizElement.style.height='927px';} else if ( divElement.offsetWidth > 500 ) { vizElement.style.width='900px';vizElement.style.height='927px';} else { vizElement.style.width='100%';vizElement.style.height='727px';}                     var scriptElement = document.createElement('script');                    scriptElement.src = 'https://public.tableau.com/javascripts/api/viz_v1.js';                    vizElement.parentNode.insertBefore(scriptElement, vizElement);                </script>"
            ]
        },
        {
            "cell_type": "code",
            "execution_count": null,
            "metadata": {
                "azdata_cell_guid": "71ebea93-82e9-4326-b249-8e11bb06345e",
                "language": "sql",
                "vscode": {
                    "languageId": "r"
                }
            },
            "outputs": [],
            "source": [
                "---------------------------------------------------------------------------------------------------------------\n",
                "/* ratings */\n",
                "---------------------------------------------------------------------------------------------------------------\n",
                "SELECT [genre_1] \n",
                "      ,[genre_2]\n",
                "      ,[genre_3], /* ROUND((AVG(kinopoisk_ratings + averageRating)/2),0) AS people_ratings, */\n",
                " ROUND(((user_ratings / ROUND((AVG(kinopoisk_ratings + averageRating)/2),0)) * 100), 0) as perc\n",
                "FROM my_only_movies_set\n",
                "GROUP BY primaryTitle, release_year, user_ratings, genre_1, genre_2 ,genre_3"
            ]
        },
        {
            "attachments": {},
            "cell_type": "markdown",
            "metadata": {
                "azdata_cell_guid": "e8b9cd3f-5736-4884-b30a-84db1f5ea660"
            },
            "source": [
                "I extracted rating difference between my ratings and avg kinopoisk and IMDB ratings. \n",
                "Continuied my work in excel where I made pivot tables and then vizualizied them in Tableau."
            ]
        },
        {
            "cell_type": "code",
            "execution_count": 2,
            "metadata": {
                "azdata_cell_guid": "50a9c0cc-3a66-45c2-904f-a6c08106b097",
                "language": "sql",
                "vscode": {
                    "languageId": "r"
                }
            },
            "outputs": [
                {
                    "data": {
                        "text/html": [
                            "<div class='tableauPlaceholder' id='viz1680777613177' style='position: relative'><noscript><a href='#'><img alt='Difference in ratings, % ' src='https:&#47;&#47;public.tableau.com&#47;static&#47;images&#47;Ra&#47;Ratingdifference&#47;Dashboard1&#47;1_rss.png' style='border: none' /></a></noscript><object class='tableauViz'  style='display:none;'><param name='host_url' value='https%3A%2F%2Fpublic.tableau.com%2F' /> <param name='embed_code_version' value='3' /> <param name='site_root' value='' /><param name='name' value='Ratingdifference&#47;Dashboard1' /><param name='tabs' value='no' /><param name='toolbar' value='yes' /><param name='static_image' value='https:&#47;&#47;public.tableau.com&#47;static&#47;images&#47;Ra&#47;Ratingdifference&#47;Dashboard1&#47;1.png' /> <param name='animate_transition' value='yes' /><param name='display_static_image' value='yes' /><param name='display_spinner' value='yes' /><param name='display_overlay' value='yes' /><param name='display_count' value='yes' /><param name='language' value='en-US' /></object></div>                <script type='text/javascript'>                    var divElement = document.getElementById('viz1680777613177');                    var vizElement = divElement.getElementsByTagName('object')[0];                    if ( divElement.offsetWidth > 800 ) { vizElement.style.width='800px';vizElement.style.height='527px';} else if ( divElement.offsetWidth > 500 ) { vizElement.style.width='800px';vizElement.style.height='527px';} else { vizElement.style.width='100%';vizElement.style.height='727px';}                     var scriptElement = document.createElement('script');                    scriptElement.src = 'https://public.tableau.com/javascripts/api/viz_v1.js';                    vizElement.parentNode.insertBefore(scriptElement, vizElement);                </script>\n"
                        ],
                        "text/plain": [
                            "<IPython.core.display.HTML object>"
                        ]
                    },
                    "metadata": {},
                    "output_type": "display_data"
                }
            ],
            "source": [
                "%%html\n",
                "<div class='tableauPlaceholder' id='viz1680777613177' style='position: relative'><noscript><a href='#'><img alt='Difference in ratings, % ' src='https:&#47;&#47;public.tableau.com&#47;static&#47;images&#47;Ra&#47;Ratingdifference&#47;Dashboard1&#47;1_rss.png' style='border: none' /></a></noscript><object class='tableauViz'  style='display:none;'><param name='host_url' value='https%3A%2F%2Fpublic.tableau.com%2F' /> <param name='embed_code_version' value='3' /> <param name='site_root' value='' /><param name='name' value='Ratingdifference&#47;Dashboard1' /><param name='tabs' value='no' /><param name='toolbar' value='yes' /><param name='static_image' value='https:&#47;&#47;public.tableau.com&#47;static&#47;images&#47;Ra&#47;Ratingdifference&#47;Dashboard1&#47;1.png' /> <param name='animate_transition' value='yes' /><param name='display_static_image' value='yes' /><param name='display_spinner' value='yes' /><param name='display_overlay' value='yes' /><param name='display_count' value='yes' /><param name='language' value='en-US' /></object></div>                <script type='text/javascript'>                    var divElement = document.getElementById('viz1680777613177');                    var vizElement = divElement.getElementsByTagName('object')[0];                    if ( divElement.offsetWidth > 800 ) { vizElement.style.width='800px';vizElement.style.height='527px';} else if ( divElement.offsetWidth > 500 ) { vizElement.style.width='800px';vizElement.style.height='527px';} else { vizElement.style.width='100%';vizElement.style.height='727px';}                     var scriptElement = document.createElement('script');                    scriptElement.src = 'https://public.tableau.com/javascripts/api/viz_v1.js';                    vizElement.parentNode.insertBefore(scriptElement, vizElement);                </script>"
            ]
        },
        {
            "attachments": {},
            "cell_type": "markdown",
            "metadata": {
                "azdata_cell_guid": "ba575f7e-6dd4-4fe8-8cb6-ef89e0700a81"
            },
            "source": [
                "I decided to check if I have a bias towardss some actors: \n",
                "\n",
                "### \"Do I tend to rate mvoies with certain actors higher then others?'"
            ]
        },
        {
            "cell_type": "code",
            "execution_count": 107,
            "metadata": {
                "azdata_cell_guid": "65f77659-c182-4551-a983-1b9290cf7c0d",
                "language": "sql",
                "vscode": {
                    "languageId": "r"
                }
            },
            "outputs": [
                {
                    "data": {
                        "text/html": [
                            "(362 rows affected)"
                        ]
                    },
                    "metadata": {},
                    "output_type": "display_data"
                },
                {
                    "data": {
                        "text/html": [
                            "(10 rows affected)"
                        ]
                    },
                    "metadata": {},
                    "output_type": "display_data"
                },
                {
                    "data": {
                        "text/html": [
                            "Total execution time: 00:00:00.016"
                        ]
                    },
                    "metadata": {},
                    "output_type": "display_data"
                },
                {
                    "data": {
                        "application/vnd.dataresource+json": {
                            "data": [
                                {
                                    "0": "1921",
                                    "1": "The Kid",
                                    "2": "tt0012349",
                                    "3": "13"
                                },
                                {
                                    "0": "1937",
                                    "1": "Snow White and the Seven Dwarfs",
                                    "2": "tt0029583",
                                    "3": "25"
                                },
                                {
                                    "0": "1939",
                                    "1": "Gone with the Wind",
                                    "2": "tt0031381",
                                    "3": "25"
                                },
                                {
                                    "0": "1942",
                                    "1": "Bambi",
                                    "2": "tt0034492",
                                    "3": "13"
                                },
                                {
                                    "0": "1953",
                                    "1": "How to Marry a Millionaire",
                                    "2": "tt0045891",
                                    "3": "14"
                                },
                                {
                                    "0": "1953",
                                    "1": "Roman Holiday",
                                    "2": "tt0046250",
                                    "3": "25"
                                },
                                {
                                    "0": "1955",
                                    "1": "Lady and the Tramp",
                                    "2": "tt0048280",
                                    "3": "25"
                                },
                                {
                                    "0": "1959",
                                    "1": "Some Like It Hot",
                                    "2": "tt0053291",
                                    "3": "13"
                                },
                                {
                                    "0": "1961",
                                    "1": "Breakfast at Tiffany's",
                                    "2": "tt0054698",
                                    "3": "25"
                                },
                                {
                                    "0": "1961",
                                    "1": "One Hundred and One Dalmatians",
                                    "2": "tt0055254",
                                    "3": "25"
                                }
                            ],
                            "schema": {
                                "fields": [
                                    {
                                        "name": "release_year"
                                    },
                                    {
                                        "name": "primaryTitle"
                                    },
                                    {
                                        "name": "tconst"
                                    },
                                    {
                                        "name": "perc"
                                    }
                                ]
                            }
                        },
                        "text/html": [
                            "<table><tr><th>release_year</th><th>primaryTitle</th><th>tconst</th><th>perc</th></tr><tr><td>1921</td><td>The Kid</td><td>tt0012349</td><td>13</td></tr><tr><td>1937</td><td>Snow White and the Seven Dwarfs</td><td>tt0029583</td><td>25</td></tr><tr><td>1939</td><td>Gone with the Wind</td><td>tt0031381</td><td>25</td></tr><tr><td>1942</td><td>Bambi</td><td>tt0034492</td><td>13</td></tr><tr><td>1953</td><td>How to Marry a Millionaire</td><td>tt0045891</td><td>14</td></tr><tr><td>1953</td><td>Roman Holiday</td><td>tt0046250</td><td>25</td></tr><tr><td>1955</td><td>Lady and the Tramp</td><td>tt0048280</td><td>25</td></tr><tr><td>1959</td><td>Some Like It Hot</td><td>tt0053291</td><td>13</td></tr><tr><td>1961</td><td>Breakfast at Tiffany's</td><td>tt0054698</td><td>25</td></tr><tr><td>1961</td><td>One Hundred and One Dalmatians</td><td>tt0055254</td><td>25</td></tr></table>"
                        ]
                    },
                    "execution_count": 107,
                    "metadata": {},
                    "output_type": "execute_result"
                }
            ],
            "source": [
                "/* Moves I rated higher then most people */\n",
                "\n",
                "DROP TABLE IF EXISTS #movies_with_higher_rating\n",
                "SELECT [release_year]\n",
                "      ,[primaryTitle]\n",
                "      ,[tconst]\n",
                "/* , ROUND((AVG(kinopoisk_ratings + averageRating)/2),0) AS people_ratings,  */\n",
                ", (ROUND(((user_ratings / ROUND((AVG(kinopoisk_ratings + averageRating)/2),0)) * 100), 0)-100) as perc\n",
                "into #movies_with_higher_rating\n",
                "FROM my_only_movies_set\n",
                "GROUP BY [release_year]\n",
                "      ,[user_ratings]\n",
                "      ,[user_rating_count]\n",
                "      ,[kinopoisk_ratings]\n",
                "      ,[date_of_rating]\n",
                "      ,[tconst]\n",
                "      ,[titleType]\n",
                "      ,[primaryTitle]\n",
                "      ,[runtimeMinutes]\n",
                "      ,[averageRating]\n",
                "HAVING (ROUND(((user_ratings / ROUND((AVG(kinopoisk_ratings + averageRating)/2),0)) * 100), 0)-100) > 0\n",
                "\n",
                "SELECT TOP 10 *\n",
                "FROM #movies_with_higher_rating"
            ]
        },
        {
            "cell_type": "code",
            "execution_count": 108,
            "metadata": {
                "azdata_cell_guid": "606166aa-8040-4ddf-9c8a-f00bfef342c9",
                "language": "sql",
                "tags": []
            },
            "outputs": [
                {
                    "data": {
                        "text/html": [
                            "(5611 rows affected)"
                        ]
                    },
                    "metadata": {},
                    "output_type": "display_data"
                },
                {
                    "data": {
                        "text/html": [
                            "(10 rows affected)"
                        ]
                    },
                    "metadata": {},
                    "output_type": "display_data"
                },
                {
                    "data": {
                        "text/html": [
                            "Total execution time: 00:00:11.198"
                        ]
                    },
                    "metadata": {},
                    "output_type": "display_data"
                },
                {
                    "data": {
                        "application/vnd.dataresource+json": {
                            "data": [
                                {
                                    "0": "2003",
                                    "1": "Cheaper by the Dozen",
                                    "2": "17",
                                    "3": "actress",
                                    "4": "Piper Perabo"
                                },
                                {
                                    "0": "1995",
                                    "1": "Balto",
                                    "2": "13",
                                    "3": "actor",
                                    "4": "Jim Cummings"
                                },
                                {
                                    "0": "2008",
                                    "1": "The Little Mermaid: Ariel's Beginning",
                                    "2": "14",
                                    "3": "actor",
                                    "4": "Jim Cummings"
                                },
                                {
                                    "0": "1992",
                                    "1": "Aladdin",
                                    "2": "13",
                                    "3": "actor",
                                    "4": "Jonathan Freeman"
                                },
                                {
                                    "0": "1992",
                                    "1": "Aladdin",
                                    "2": "13",
                                    "3": "actress",
                                    "4": "Linda Larkin"
                                },
                                {
                                    "0": "2010",
                                    "1": "The Twilight Saga: Eclipse",
                                    "2": "33",
                                    "3": "actor",
                                    "4": "Xavier Samuel"
                                },
                                {
                                    "0": "1992",
                                    "1": "Aladdin",
                                    "2": "13",
                                    "3": "actor",
                                    "4": "Scott Weinger"
                                },
                                {
                                    "0": "1961",
                                    "1": "One Hundred and One Dalmatians",
                                    "2": "25",
                                    "3": "actress",
                                    "4": "Betty Lou Gerson"
                                },
                                {
                                    "0": "2012",
                                    "1": "Total Recall",
                                    "2": "33",
                                    "3": "actor",
                                    "4": "Bryan Cranston"
                                },
                                {
                                    "0": "2014",
                                    "1": "Godzilla",
                                    "2": "17",
                                    "3": "actor",
                                    "4": "Bryan Cranston"
                                }
                            ],
                            "schema": {
                                "fields": [
                                    {
                                        "name": "release_year"
                                    },
                                    {
                                        "name": "primaryTitle"
                                    },
                                    {
                                        "name": "perc"
                                    },
                                    {
                                        "name": "category"
                                    },
                                    {
                                        "name": "primaryName"
                                    }
                                ]
                            }
                        },
                        "text/html": [
                            "<table><tr><th>release_year</th><th>primaryTitle</th><th>perc</th><th>category</th><th>primaryName</th></tr><tr><td>2003</td><td>Cheaper by the Dozen</td><td>17</td><td>actress</td><td>Piper Perabo</td></tr><tr><td>1995</td><td>Balto</td><td>13</td><td>actor</td><td>Jim Cummings</td></tr><tr><td>2008</td><td>The Little Mermaid: Ariel's Beginning</td><td>14</td><td>actor</td><td>Jim Cummings</td></tr><tr><td>1992</td><td>Aladdin</td><td>13</td><td>actor</td><td>Jonathan Freeman</td></tr><tr><td>1992</td><td>Aladdin</td><td>13</td><td>actress</td><td>Linda Larkin</td></tr><tr><td>2010</td><td>The Twilight Saga: Eclipse</td><td>33</td><td>actor</td><td>Xavier Samuel</td></tr><tr><td>1992</td><td>Aladdin</td><td>13</td><td>actor</td><td>Scott Weinger</td></tr><tr><td>1961</td><td>One Hundred and One Dalmatians</td><td>25</td><td>actress</td><td>Betty Lou Gerson</td></tr><tr><td>2012</td><td>Total Recall</td><td>33</td><td>actor</td><td>Bryan Cranston</td></tr><tr><td>2014</td><td>Godzilla</td><td>17</td><td>actor</td><td>Bryan Cranston</td></tr></table>"
                        ]
                    },
                    "execution_count": 108,
                    "metadata": {},
                    "output_type": "execute_result"
                }
            ],
            "source": [
                "DROP TABLE IF EXISTS #movies_with_higher_rating_with_ac\n",
                "SELECT [#movies_with_higher_rating].release_year\n",
                ",[#movies_with_higher_rating].primaryTitle\n",
                ",[#movies_with_higher_rating].perc\n",
                ",[principals_set].category\n",
                ",[final_set].primaryName\n",
                "INTO #movies_with_higher_rating_with_ac\n",
                "FROM #movies_with_higher_rating\n",
                "LEFT JOIN principals_set\n",
                "ON #movies_with_higher_rating.tconst = principals_set.tconst\n",
                "LEFT JOIN final_set\n",
                "ON principals_set.nconst = final_set.nconst\n",
                "\n",
                "SELECT TOP 10 *\n",
                "FROM #movies_with_higher_rating_with_ac\n"
            ]
        },
        {
            "cell_type": "code",
            "execution_count": 128,
            "metadata": {
                "azdata_cell_guid": "a17d7f8b-431b-499a-a9cf-0d7eecf71ff0",
                "language": "sql"
            },
            "outputs": [
                {
                    "data": {
                        "text/html": [
                            "Внимание! Значение NULL исключено в агрегатных или других операциях SET."
                        ]
                    },
                    "metadata": {},
                    "output_type": "display_data"
                },
                {
                    "data": {
                        "text/html": [
                            "(25 rows affected)"
                        ]
                    },
                    "metadata": {},
                    "output_type": "display_data"
                },
                {
                    "data": {
                        "text/html": [
                            "(10 rows affected)"
                        ]
                    },
                    "metadata": {},
                    "output_type": "display_data"
                },
                {
                    "data": {
                        "text/html": [
                            "Total execution time: 00:00:00.022"
                        ]
                    },
                    "metadata": {},
                    "output_type": "display_data"
                },
                {
                    "data": {
                        "application/vnd.dataresource+json": {
                            "data": [
                                {
                                    "0": "Anne Hathaway",
                                    "1": "8"
                                },
                                {
                                    "0": "Reese Witherspoon",
                                    "1": "8"
                                },
                                {
                                    "0": "Hilary Duff",
                                    "1": "7"
                                },
                                {
                                    "0": "Kate Hudson",
                                    "1": "7"
                                },
                                {
                                    "0": "Rachel McAdams",
                                    "1": "7"
                                },
                                {
                                    "0": "Robert Pattinson",
                                    "1": "7"
                                },
                                {
                                    "0": "Adam Sandler",
                                    "1": "6"
                                },
                                {
                                    "0": "Cameron Diaz",
                                    "1": "6"
                                },
                                {
                                    "0": "Daniel Radcliffe",
                                    "1": "6"
                                },
                                {
                                    "0": "Julia Roberts",
                                    "1": "6"
                                }
                            ],
                            "schema": {
                                "fields": [
                                    {
                                        "name": "primaryName"
                                    },
                                    {
                                        "name": "n_of_times"
                                    }
                                ]
                            }
                        },
                        "text/html": [
                            "<table><tr><th>primaryName</th><th>n_of_times</th></tr><tr><td>Anne Hathaway</td><td>8</td></tr><tr><td>Reese Witherspoon</td><td>8</td></tr><tr><td>Hilary Duff</td><td>7</td></tr><tr><td>Kate Hudson</td><td>7</td></tr><tr><td>Rachel McAdams</td><td>7</td></tr><tr><td>Robert Pattinson</td><td>7</td></tr><tr><td>Adam Sandler</td><td>6</td></tr><tr><td>Cameron Diaz</td><td>6</td></tr><tr><td>Daniel Radcliffe</td><td>6</td></tr><tr><td>Julia Roberts</td><td>6</td></tr></table>"
                        ]
                    },
                    "execution_count": 128,
                    "metadata": {},
                    "output_type": "execute_result"
                }
            ],
            "source": [
                "DROP TABLE IF EXISTS #temp2\n",
                "SELECT TOP 25 primaryName,  COUNT(primaryName)/4 as n_of_times\n",
                "INTO #temp2\n",
                "FROM #movies_with_higher_rating_with_ac\n",
                "GROUP BY primaryName\n",
                "ORDER BY n_of_times DESC   /* actors who when starring in a movie I tend to rate higher then most */\n",
                "\n",
                "SELECT TOP 10 *\n",
                "FROM #temp2"
            ]
        },
        {
            "cell_type": "code",
            "execution_count": 116,
            "metadata": {
                "azdata_cell_guid": "eb42d55f-cbdb-43a6-acd1-07205849718d",
                "language": "sql"
            },
            "outputs": [
                {
                    "data": {
                        "text/html": [
                            "(251 rows affected)"
                        ]
                    },
                    "metadata": {},
                    "output_type": "display_data"
                },
                {
                    "data": {
                        "text/html": [
                            "(10 rows affected)"
                        ]
                    },
                    "metadata": {},
                    "output_type": "display_data"
                },
                {
                    "data": {
                        "text/html": [
                            "Total execution time: 00:00:00.019"
                        ]
                    },
                    "metadata": {},
                    "output_type": "display_data"
                },
                {
                    "data": {
                        "application/vnd.dataresource+json": {
                            "data": [
                                {
                                    "0": "1955",
                                    "1": "The Seven Year Itch",
                                    "2": "tt0048605",
                                    "3": "-43"
                                },
                                {
                                    "0": "1957",
                                    "1": "Funny Face",
                                    "2": "tt0050419",
                                    "3": "-29"
                                },
                                {
                                    "0": "1978",
                                    "1": "Grease",
                                    "2": "tt0077631",
                                    "3": "-29"
                                },
                                {
                                    "0": "1979",
                                    "1": "Kramer vs. Kramer",
                                    "2": "tt0079417",
                                    "3": "-12"
                                },
                                {
                                    "0": "1984",
                                    "1": "Sixteen Candles",
                                    "2": "tt0088128",
                                    "3": "-14"
                                },
                                {
                                    "0": "1987",
                                    "1": "Planes, Trains & Automobiles",
                                    "2": "tt0093748",
                                    "3": "-12"
                                },
                                {
                                    "0": "1989",
                                    "1": "Dead Poets Society",
                                    "2": "tt0097165",
                                    "3": "-12"
                                },
                                {
                                    "0": "1991",
                                    "1": "Sleeping with the Enemy",
                                    "2": "tt0102945",
                                    "3": "-29"
                                },
                                {
                                    "0": "1991",
                                    "1": "Dying Young",
                                    "2": "tt0101787",
                                    "3": "-14"
                                },
                                {
                                    "0": "1991",
                                    "1": "Wild Hearts Can't Be Broken",
                                    "2": "tt0103262",
                                    "3": "-12"
                                }
                            ],
                            "schema": {
                                "fields": [
                                    {
                                        "name": "release_year"
                                    },
                                    {
                                        "name": "primaryTitle"
                                    },
                                    {
                                        "name": "tconst"
                                    },
                                    {
                                        "name": "perc"
                                    }
                                ]
                            }
                        },
                        "text/html": [
                            "<table><tr><th>release_year</th><th>primaryTitle</th><th>tconst</th><th>perc</th></tr><tr><td>1955</td><td>The Seven Year Itch</td><td>tt0048605</td><td>-43</td></tr><tr><td>1957</td><td>Funny Face</td><td>tt0050419</td><td>-29</td></tr><tr><td>1978</td><td>Grease</td><td>tt0077631</td><td>-29</td></tr><tr><td>1979</td><td>Kramer vs. Kramer</td><td>tt0079417</td><td>-12</td></tr><tr><td>1984</td><td>Sixteen Candles</td><td>tt0088128</td><td>-14</td></tr><tr><td>1987</td><td>Planes, Trains &amp; Automobiles</td><td>tt0093748</td><td>-12</td></tr><tr><td>1989</td><td>Dead Poets Society</td><td>tt0097165</td><td>-12</td></tr><tr><td>1991</td><td>Sleeping with the Enemy</td><td>tt0102945</td><td>-29</td></tr><tr><td>1991</td><td>Dying Young</td><td>tt0101787</td><td>-14</td></tr><tr><td>1991</td><td>Wild Hearts Can't Be Broken</td><td>tt0103262</td><td>-12</td></tr></table>"
                        ]
                    },
                    "execution_count": 116,
                    "metadata": {},
                    "output_type": "execute_result"
                }
            ],
            "source": [
                " /* Moves I rated lower then most people */ \n",
                "\n",
                "SELECT [release_year]\n",
                "      ,[primaryTitle]\n",
                "      ,[tconst]\n",
                "/* , ROUND((AVG(kinopoisk_ratings + averageRating)/2),0) AS people_ratings,  */\n",
                ", (ROUND(((user_ratings / ROUND((AVG(kinopoisk_ratings + averageRating)/2),0)) * 100), 0)-100) as perc\n",
                "into #movies_with_lower_rating\n",
                "FROM my_only_movies_set\n",
                "GROUP BY [release_year]\n",
                "      ,[user_ratings]\n",
                "      ,[user_rating_count]\n",
                "      ,[kinopoisk_ratings]\n",
                "      ,[date_of_rating]\n",
                "      ,[tconst]\n",
                "      ,[titleType]\n",
                "      ,[primaryTitle]\n",
                "      ,[runtimeMinutes]\n",
                "      ,[averageRating]\n",
                "HAVING (ROUND(((user_ratings / ROUND((AVG(kinopoisk_ratings + averageRating)/2),0)) * 100), 0)-100) < 0\n",
                "\n",
                "SELECT TOP 10 *\n",
                "FROM #movies_with_lower_rating\n"
            ]
        },
        {
            "cell_type": "code",
            "execution_count": 117,
            "metadata": {
                "azdata_cell_guid": "a0fa4b21-9d1b-42b6-9a80-b59acd8720ab",
                "language": "sql"
            },
            "outputs": [
                {
                    "data": {
                        "text/html": [
                            "(3924 rows affected)"
                        ]
                    },
                    "metadata": {},
                    "output_type": "display_data"
                },
                {
                    "data": {
                        "text/html": [
                            "Total execution time: 00:00:11.420"
                        ]
                    },
                    "metadata": {},
                    "output_type": "display_data"
                }
            ],
            "source": [
                "SELECT [#movies_with_lower_rating].release_year\n",
                ",[#movies_with_lower_rating].primaryTitle\n",
                ",[#movies_with_lower_rating].perc\n",
                ",[principals_set].category\n",
                ",[final_set].primaryName\n",
                "INTO #movies_with_lower_rating_with_ac\n",
                "FROM #movies_with_lower_rating\n",
                "LEFT JOIN principals_set\n",
                "ON #movies_with_lower_rating.tconst = principals_set.tconst\n",
                "LEFT JOIN final_set\n",
                "ON principals_set.nconst = final_set.nconst"
            ]
        },
        {
            "cell_type": "code",
            "execution_count": 118,
            "metadata": {
                "azdata_cell_guid": "676e6e7a-a50e-4ba3-a88d-79e665533216",
                "language": "sql"
            },
            "outputs": [
                {
                    "data": {
                        "text/html": [
                            "(10 rows affected)"
                        ]
                    },
                    "metadata": {},
                    "output_type": "display_data"
                },
                {
                    "data": {
                        "text/html": [
                            "Total execution time: 00:00:00.008"
                        ]
                    },
                    "metadata": {},
                    "output_type": "display_data"
                },
                {
                    "data": {
                        "application/vnd.dataresource+json": {
                            "data": [
                                {
                                    "0": "2005",
                                    "1": "Imagine Me & You",
                                    "2": "-29",
                                    "3": "actress",
                                    "4": "Piper Perabo"
                                },
                                {
                                    "0": "2009",
                                    "1": "Knowing",
                                    "2": "-14",
                                    "3": "actor",
                                    "4": "Chandler Canterbury"
                                },
                                {
                                    "0": "2012",
                                    "1": "Chronicle",
                                    "2": "-43",
                                    "3": "actor",
                                    "4": "Alex Russell"
                                },
                                {
                                    "0": "2018",
                                    "1": "Life of the Party",
                                    "2": "-17",
                                    "3": "actress",
                                    "4": "Melissa McCarthy"
                                },
                                {
                                    "0": "2013",
                                    "1": "The Heat",
                                    "2": "-14",
                                    "3": "actress",
                                    "4": "Melissa McCarthy"
                                },
                                {
                                    "0": "2015",
                                    "1": "Spy",
                                    "2": "-14",
                                    "3": "actress",
                                    "4": "Melissa McCarthy"
                                },
                                {
                                    "0": "2018",
                                    "1": "Life of the Party",
                                    "2": "-17",
                                    "3": "actor",
                                    "4": "Ben Falcone"
                                },
                                {
                                    "0": "2011",
                                    "1": "A Few Best Men",
                                    "2": "-33",
                                    "3": "actor",
                                    "4": "Xavier Samuel"
                                },
                                {
                                    "0": "2012",
                                    "1": "The First Time",
                                    "2": "-14",
                                    "3": "actor",
                                    "4": "James Frecheville"
                                },
                                {
                                    "0": "2005",
                                    "1": "In Her Shoes",
                                    "2": "-14",
                                    "3": "actor",
                                    "4": "Anson Mount"
                                }
                            ],
                            "schema": {
                                "fields": [
                                    {
                                        "name": "release_year"
                                    },
                                    {
                                        "name": "primaryTitle"
                                    },
                                    {
                                        "name": "perc"
                                    },
                                    {
                                        "name": "category"
                                    },
                                    {
                                        "name": "primaryName"
                                    }
                                ]
                            }
                        },
                        "text/html": [
                            "<table><tr><th>release_year</th><th>primaryTitle</th><th>perc</th><th>category</th><th>primaryName</th></tr><tr><td>2005</td><td>Imagine Me &amp; You</td><td>-29</td><td>actress</td><td>Piper Perabo</td></tr><tr><td>2009</td><td>Knowing</td><td>-14</td><td>actor</td><td>Chandler Canterbury</td></tr><tr><td>2012</td><td>Chronicle</td><td>-43</td><td>actor</td><td>Alex Russell</td></tr><tr><td>2018</td><td>Life of the Party</td><td>-17</td><td>actress</td><td>Melissa McCarthy</td></tr><tr><td>2013</td><td>The Heat</td><td>-14</td><td>actress</td><td>Melissa McCarthy</td></tr><tr><td>2015</td><td>Spy</td><td>-14</td><td>actress</td><td>Melissa McCarthy</td></tr><tr><td>2018</td><td>Life of the Party</td><td>-17</td><td>actor</td><td>Ben Falcone</td></tr><tr><td>2011</td><td>A Few Best Men</td><td>-33</td><td>actor</td><td>Xavier Samuel</td></tr><tr><td>2012</td><td>The First Time</td><td>-14</td><td>actor</td><td>James Frecheville</td></tr><tr><td>2005</td><td>In Her Shoes</td><td>-14</td><td>actor</td><td>Anson Mount</td></tr></table>"
                        ]
                    },
                    "execution_count": 118,
                    "metadata": {},
                    "output_type": "execute_result"
                }
            ],
            "source": [
                "SELECT TOP 10 *\n",
                "FROM #movies_with_lower_rating_with_ac"
            ]
        },
        {
            "cell_type": "code",
            "execution_count": 127,
            "metadata": {
                "azdata_cell_guid": "7f29293c-fb8b-45ec-9a2c-dfe12b235c27",
                "language": "sql"
            },
            "outputs": [
                {
                    "data": {
                        "text/html": [
                            "Внимание! Значение NULL исключено в агрегатных или других операциях SET."
                        ]
                    },
                    "metadata": {},
                    "output_type": "display_data"
                },
                {
                    "data": {
                        "text/html": [
                            "(25 rows affected)"
                        ]
                    },
                    "metadata": {},
                    "output_type": "display_data"
                },
                {
                    "data": {
                        "text/html": [
                            "(10 rows affected)"
                        ]
                    },
                    "metadata": {},
                    "output_type": "display_data"
                },
                {
                    "data": {
                        "text/html": [
                            "Total execution time: 00:00:00.017"
                        ]
                    },
                    "metadata": {},
                    "output_type": "display_data"
                },
                {
                    "data": {
                        "application/vnd.dataresource+json": {
                            "data": [
                                {
                                    "0": "Adam Sandler",
                                    "1": "6"
                                },
                                {
                                    "0": "Jude Law",
                                    "1": "6"
                                },
                                {
                                    "0": "Cate Blanchett",
                                    "1": "5"
                                },
                                {
                                    "0": "Emma Thompson",
                                    "1": "5"
                                },
                                {
                                    "0": "Meryl Streep",
                                    "1": "5"
                                },
                                {
                                    "0": "Tom Hanks",
                                    "1": "5"
                                },
                                {
                                    "0": "Bradley Cooper",
                                    "1": "4"
                                },
                                {
                                    "0": "Chris Evans",
                                    "1": "4"
                                },
                                {
                                    "0": "Emma Watson",
                                    "1": "4"
                                },
                                {
                                    "0": "Gwyneth Paltrow",
                                    "1": "4"
                                }
                            ],
                            "schema": {
                                "fields": [
                                    {
                                        "name": "primaryName"
                                    },
                                    {
                                        "name": "n_of_times"
                                    }
                                ]
                            }
                        },
                        "text/html": [
                            "<table><tr><th>primaryName</th><th>n_of_times</th></tr><tr><td>Adam Sandler</td><td>6</td></tr><tr><td>Jude Law</td><td>6</td></tr><tr><td>Cate Blanchett</td><td>5</td></tr><tr><td>Emma Thompson</td><td>5</td></tr><tr><td>Meryl Streep</td><td>5</td></tr><tr><td>Tom Hanks</td><td>5</td></tr><tr><td>Bradley Cooper</td><td>4</td></tr><tr><td>Chris Evans</td><td>4</td></tr><tr><td>Emma Watson</td><td>4</td></tr><tr><td>Gwyneth Paltrow</td><td>4</td></tr></table>"
                        ]
                    },
                    "execution_count": 127,
                    "metadata": {},
                    "output_type": "execute_result"
                }
            ],
            "source": [
                "DROP TABLE IF EXISTS #temp1\n",
                "SELECT TOP 25 primaryName, COUNT(primaryName)/4  as n_of_times\n",
                "into #temp1\n",
                "FROM #movies_with_lower_rating_with_ac\n",
                "GROUP BY primaryName\n",
                "ORDER BY n_of_times DESC  /* actors who when starring in a movie I tend to rate lower then most */\n",
                "\n",
                "SELECT TOP 10 *\n",
                "FROM #temp1"
            ]
        },
        {
            "cell_type": "code",
            "execution_count": 129,
            "metadata": {
                "azdata_cell_guid": "05ac1049-8c0d-42b1-aeba-a7e29404bb9c",
                "language": "sql"
            },
            "outputs": [
                {
                    "data": {
                        "text/html": [
                            "(1 row affected)"
                        ]
                    },
                    "metadata": {},
                    "output_type": "display_data"
                },
                {
                    "data": {
                        "text/html": [
                            "Total execution time: 00:00:00.009"
                        ]
                    },
                    "metadata": {},
                    "output_type": "display_data"
                },
                {
                    "data": {
                        "application/vnd.dataresource+json": {
                            "data": [
                                {
                                    "0": "261"
                                }
                            ],
                            "schema": {
                                "fields": [
                                    {
                                        "name": "(No column name)"
                                    }
                                ]
                            }
                        },
                        "text/html": [
                            "<table><tr><th>(No column name)</th></tr><tr><td>261</td></tr></table>"
                        ]
                    },
                    "execution_count": 129,
                    "metadata": {},
                    "output_type": "execute_result"
                }
            ],
            "source": [
                "SELECT APPROX_COUNT_DISTINCT(#movies_with_lower_rating_with_ac.primaryName)\n",
                "FROM #movies_with_lower_rating_with_ac\n",
                "INNER JOIN #movies_with_higher_rating_with_ac\n",
                "ON #movies_with_lower_rating_with_ac.primaryName = #movies_with_higher_rating_with_ac.primaryName  \n",
                " /* 261 actor in both tables */"
            ]
        },
        {
            "cell_type": "code",
            "execution_count": 130,
            "metadata": {
                "azdata_cell_guid": "1bf6ca4b-86d6-401e-ab08-72e5753dd6a7",
                "language": "sql"
            },
            "outputs": [
                {
                    "data": {
                        "text/html": [
                            "(7 rows affected)"
                        ]
                    },
                    "metadata": {},
                    "output_type": "display_data"
                },
                {
                    "data": {
                        "text/html": [
                            "Total execution time: 00:00:00.011"
                        ]
                    },
                    "metadata": {},
                    "output_type": "display_data"
                },
                {
                    "data": {
                        "application/vnd.dataresource+json": {
                            "data": [
                                {
                                    "0": "Adam Sandler",
                                    "1": "6",
                                    "2": "Adam Sandler",
                                    "3": "6"
                                },
                                {
                                    "0": "Meryl Streep",
                                    "1": "5",
                                    "2": "Meryl Streep",
                                    "3": "5"
                                },
                                {
                                    "0": "Emma Watson",
                                    "1": "4",
                                    "2": "Emma Watson",
                                    "3": "5"
                                },
                                {
                                    "0": "Jennifer Aniston",
                                    "1": "4",
                                    "2": "Jennifer Aniston",
                                    "3": "5"
                                },
                                {
                                    "0": "Julia Roberts",
                                    "1": "4",
                                    "2": "Julia Roberts",
                                    "3": "6"
                                },
                                {
                                    "0": "Reese Witherspoon",
                                    "1": "4",
                                    "2": "Reese Witherspoon",
                                    "3": "8"
                                },
                                {
                                    "0": "Zac Efron",
                                    "1": "4",
                                    "2": "Zac Efron",
                                    "3": "6"
                                }
                            ],
                            "schema": {
                                "fields": [
                                    {
                                        "name": "primaryName"
                                    },
                                    {
                                        "name": "n_of_times"
                                    },
                                    {
                                        "name": "primaryName"
                                    },
                                    {
                                        "name": "n_of_times"
                                    }
                                ]
                            }
                        },
                        "text/html": [
                            "<table><tr><th>primaryName</th><th>n_of_times</th><th>primaryName</th><th>n_of_times</th></tr><tr><td>Adam Sandler</td><td>6</td><td>Adam Sandler</td><td>6</td></tr><tr><td>Meryl Streep</td><td>5</td><td>Meryl Streep</td><td>5</td></tr><tr><td>Emma Watson</td><td>4</td><td>Emma Watson</td><td>5</td></tr><tr><td>Jennifer Aniston</td><td>4</td><td>Jennifer Aniston</td><td>5</td></tr><tr><td>Julia Roberts</td><td>4</td><td>Julia Roberts</td><td>6</td></tr><tr><td>Reese Witherspoon</td><td>4</td><td>Reese Witherspoon</td><td>8</td></tr><tr><td>Zac Efron</td><td>4</td><td>Zac Efron</td><td>6</td></tr></table>"
                        ]
                    },
                    "execution_count": 130,
                    "metadata": {},
                    "output_type": "execute_result"
                }
            ],
            "source": [
                "SELECT #temp1.*,\n",
                "#temp2.*\n",
                "FROM #temp1\n",
                "INNER JOIN  #temp2\n",
                "ON #temp1.primaryName = #temp2.primaryName /* 7 actors of top 25 are in both tables */\n",
                "\n",
                "---------------------------------------------------------------------------------------------------------------\n"
            ]
        },
        {
            "attachments": {},
            "cell_type": "markdown",
            "metadata": {
                "azdata_cell_guid": "f175f188-b1ac-4d03-9b0f-b49f429f36a8",
                "language": ""
            },
            "source": [
                "7 actors of top 25 were in both tables which indicates that I don not have bias based on actors."
            ]
        },
        {
            "cell_type": "code",
            "execution_count": 132,
            "metadata": {
                "azdata_cell_guid": "b3a1c3ae-03f7-4e08-acbc-594c1d110a9a",
                "language": "sql",
                "vscode": {
                    "languageId": "r"
                }
            },
            "outputs": [
                {
                    "data": {
                        "text/html": [
                            "(10 rows affected)"
                        ]
                    },
                    "metadata": {},
                    "output_type": "display_data"
                },
                {
                    "data": {
                        "text/html": [
                            "Total execution time: 00:00:00.012"
                        ]
                    },
                    "metadata": {},
                    "output_type": "display_data"
                },
                {
                    "data": {
                        "application/vnd.dataresource+json": {
                            "data": [
                                {
                                    "0": "495",
                                    "1": "Кловерфилд, 10 ",
                                    "2": "2016",
                                    "3": "7",
                                    "4": "132410",
                                    "5": "6.9",
                                    "6": "2016-06-01",
                                    "7": "tt1179933",
                                    "8": "movie",
                                    "9": "10 Cloverfield Lane",
                                    "10": "103",
                                    "11": "Drama,Horror,Mystery",
                                    "12": "7,2",
                                    "13": "336556",
                                    "14": "Drama",
                                    "15": "Horror",
                                    "16": "Mystery"
                                },
                                {
                                    "0": "1016",
                                    "1": "10 причин моей ненависти ",
                                    "2": "1999",
                                    "3": "8",
                                    "4": "146396",
                                    "5": "7.8",
                                    "6": "2012-08-01",
                                    "7": "tt0147800",
                                    "8": "movie",
                                    "9": "10 Things I Hate About You",
                                    "10": "97",
                                    "11": "Comedy,Drama,Romance",
                                    "12": "7,3",
                                    "13": "353429",
                                    "14": "Comedy",
                                    "15": "Drama",
                                    "16": "Romance"
                                },
                                {
                                    "0": "1186",
                                    "1": "101 далматинец ",
                                    "2": "1996",
                                    "3": "8",
                                    "4": "78824",
                                    "5": "6.8",
                                    "6": "2011-06-25",
                                    "7": "tt0115433",
                                    "8": "movie",
                                    "9": "101 Dalmatians",
                                    "10": "103",
                                    "11": "Adventure,Comedy,Crime",
                                    "12": "5,7",
                                    "13": "113459",
                                    "14": "Adventure",
                                    "15": "Comedy",
                                    "16": "Crime"
                                },
                                {
                                    "0": "95",
                                    "1": "12 рождественских свиданий ",
                                    "2": "2011",
                                    "3": "7",
                                    "4": "4932",
                                    "5": "6.8",
                                    "6": "2022-01-01",
                                    "7": "tt1846442",
                                    "8": "tvMovie",
                                    "9": "12 Dates of Christmas",
                                    "10": "90",
                                    "11": "Comedy,Family,Fantasy",
                                    "12": "6,3",
                                    "13": "7422",
                                    "14": "Comedy",
                                    "15": "Family",
                                    "16": "Fantasy"
                                },
                                {
                                    "0": "1044",
                                    "1": "Мальчики из календаря ",
                                    "2": "2009",
                                    "3": "6",
                                    "4": "690",
                                    "5": "5.9",
                                    "6": "2012-06-08",
                                    "7": "tt1446201",
                                    "8": "tvMovie",
                                    "9": "12 Men of Christmas",
                                    "10": "95",
                                    "11": "Comedy,Romance",
                                    "12": "5,5",
                                    "13": "2520",
                                    "14": "NULL",
                                    "15": "Comedy",
                                    "16": "Romance"
                                },
                                {
                                    "0": "559",
                                    "1": "12 лет рабства ",
                                    "2": "2013",
                                    "3": "8",
                                    "4": "268851",
                                    "5": "7.8",
                                    "6": "2015-06-28",
                                    "7": "tt2024544",
                                    "8": "movie",
                                    "9": "12 Years a Slave",
                                    "10": "134",
                                    "11": "Biography,Drama,History",
                                    "12": "8,1",
                                    "13": "711021",
                                    "14": "Biography",
                                    "15": "Drama",
                                    "16": "History"
                                },
                                {
                                    "0": "847",
                                    "1": "127 часов ",
                                    "2": "2010",
                                    "3": "7",
                                    "4": "248923",
                                    "5": "7.7",
                                    "6": "2013-07-01",
                                    "7": "tt1542344",
                                    "8": "movie",
                                    "9": "127 Hours",
                                    "10": "94",
                                    "11": "Biography,Drama",
                                    "12": "7,5",
                                    "13": "383854",
                                    "14": "NULL",
                                    "15": "Biography",
                                    "16": "Drama"
                                },
                                {
                                    "0": "1210",
                                    "1": "Из 13 в 30 ",
                                    "2": "2004",
                                    "3": "8",
                                    "4": "76662",
                                    "5": "6.9",
                                    "6": "2011-01-28",
                                    "7": "tt0337563",
                                    "8": "movie",
                                    "9": "13 Going on 30",
                                    "10": "98",
                                    "11": "Comedy,Fantasy,Romance",
                                    "12": "6,3",
                                    "13": "199047",
                                    "14": "Comedy",
                                    "15": "Fantasy",
                                    "16": "Romance"
                                },
                                {
                                    "0": "1039",
                                    "1": "16 желаний ",
                                    "2": "2010",
                                    "3": "7",
                                    "4": "12100",
                                    "5": "6.1",
                                    "6": "2012-06-14",
                                    "7": "tt1646876",
                                    "8": "tvMovie",
                                    "9": "16 Wishes",
                                    "10": "90",
                                    "11": "Drama,Family,Fantasy",
                                    "12": "5,4",
                                    "13": "14687",
                                    "14": "Drama",
                                    "15": "Family",
                                    "16": "Fantasy"
                                },
                                {
                                    "0": "1211",
                                    "1": "Папе снова 17 ",
                                    "2": "2009",
                                    "3": "8",
                                    "4": "160431",
                                    "5": "7.1",
                                    "6": "2011-01-28",
                                    "7": "tt0974661",
                                    "8": "movie",
                                    "9": "17 Again",
                                    "10": "102",
                                    "11": "Comedy,Drama,Fantasy",
                                    "12": "6,4",
                                    "13": "206314",
                                    "14": "Comedy",
                                    "15": "Drama",
                                    "16": "Fantasy"
                                }
                            ],
                            "schema": {
                                "fields": [
                                    {
                                        "name": "id"
                                    },
                                    {
                                        "name": "russian_movie_names"
                                    },
                                    {
                                        "name": "release_year"
                                    },
                                    {
                                        "name": "user_ratings"
                                    },
                                    {
                                        "name": "user_rating_count"
                                    },
                                    {
                                        "name": "kinopoisk_ratings"
                                    },
                                    {
                                        "name": "date_of_rating"
                                    },
                                    {
                                        "name": "tconst"
                                    },
                                    {
                                        "name": "titleType"
                                    },
                                    {
                                        "name": "primaryTitle"
                                    },
                                    {
                                        "name": "runtimeMinutes"
                                    },
                                    {
                                        "name": "genres"
                                    },
                                    {
                                        "name": "averageRating"
                                    },
                                    {
                                        "name": "numVotes"
                                    },
                                    {
                                        "name": "genre_1"
                                    },
                                    {
                                        "name": "genre_2"
                                    },
                                    {
                                        "name": "genre_3"
                                    }
                                ]
                            }
                        },
                        "text/html": [
                            "<table><tr><th>id</th><th>russian_movie_names</th><th>release_year</th><th>user_ratings</th><th>user_rating_count</th><th>kinopoisk_ratings</th><th>date_of_rating</th><th>tconst</th><th>titleType</th><th>primaryTitle</th><th>runtimeMinutes</th><th>genres</th><th>averageRating</th><th>numVotes</th><th>genre_1</th><th>genre_2</th><th>genre_3</th></tr><tr><td>495</td><td>Кловерфилд, 10 </td><td>2016</td><td>7</td><td>132410</td><td>6.9</td><td>2016-06-01</td><td>tt1179933</td><td>movie</td><td>10 Cloverfield Lane</td><td>103</td><td>Drama,Horror,Mystery</td><td>7,2</td><td>336556</td><td>Drama</td><td>Horror</td><td>Mystery</td></tr><tr><td>1016</td><td>10 причин моей ненависти </td><td>1999</td><td>8</td><td>146396</td><td>7.8</td><td>2012-08-01</td><td>tt0147800</td><td>movie</td><td>10 Things I Hate About You</td><td>97</td><td>Comedy,Drama,Romance</td><td>7,3</td><td>353429</td><td>Comedy</td><td>Drama</td><td>Romance</td></tr><tr><td>1186</td><td>101 далматинец </td><td>1996</td><td>8</td><td>78824</td><td>6.8</td><td>2011-06-25</td><td>tt0115433</td><td>movie</td><td>101 Dalmatians</td><td>103</td><td>Adventure,Comedy,Crime</td><td>5,7</td><td>113459</td><td>Adventure</td><td>Comedy</td><td>Crime</td></tr><tr><td>95</td><td>12 рождественских свиданий </td><td>2011</td><td>7</td><td>4932</td><td>6.8</td><td>2022-01-01</td><td>tt1846442</td><td>tvMovie</td><td>12 Dates of Christmas</td><td>90</td><td>Comedy,Family,Fantasy</td><td>6,3</td><td>7422</td><td>Comedy</td><td>Family</td><td>Fantasy</td></tr><tr><td>1044</td><td>Мальчики из календаря </td><td>2009</td><td>6</td><td>690</td><td>5.9</td><td>2012-06-08</td><td>tt1446201</td><td>tvMovie</td><td>12 Men of Christmas</td><td>95</td><td>Comedy,Romance</td><td>5,5</td><td>2520</td><td>NULL</td><td>Comedy</td><td>Romance</td></tr><tr><td>559</td><td>12 лет рабства </td><td>2013</td><td>8</td><td>268851</td><td>7.8</td><td>2015-06-28</td><td>tt2024544</td><td>movie</td><td>12 Years a Slave</td><td>134</td><td>Biography,Drama,History</td><td>8,1</td><td>711021</td><td>Biography</td><td>Drama</td><td>History</td></tr><tr><td>847</td><td>127 часов </td><td>2010</td><td>7</td><td>248923</td><td>7.7</td><td>2013-07-01</td><td>tt1542344</td><td>movie</td><td>127 Hours</td><td>94</td><td>Biography,Drama</td><td>7,5</td><td>383854</td><td>NULL</td><td>Biography</td><td>Drama</td></tr><tr><td>1210</td><td>Из 13 в 30 </td><td>2004</td><td>8</td><td>76662</td><td>6.9</td><td>2011-01-28</td><td>tt0337563</td><td>movie</td><td>13 Going on 30</td><td>98</td><td>Comedy,Fantasy,Romance</td><td>6,3</td><td>199047</td><td>Comedy</td><td>Fantasy</td><td>Romance</td></tr><tr><td>1039</td><td>16 желаний </td><td>2010</td><td>7</td><td>12100</td><td>6.1</td><td>2012-06-14</td><td>tt1646876</td><td>tvMovie</td><td>16 Wishes</td><td>90</td><td>Drama,Family,Fantasy</td><td>5,4</td><td>14687</td><td>Drama</td><td>Family</td><td>Fantasy</td></tr><tr><td>1211</td><td>Папе снова 17 </td><td>2009</td><td>8</td><td>160431</td><td>7.1</td><td>2011-01-28</td><td>tt0974661</td><td>movie</td><td>17 Again</td><td>102</td><td>Comedy,Drama,Fantasy</td><td>6,4</td><td>206314</td><td>Comedy</td><td>Drama</td><td>Fantasy</td></tr></table>"
                        ]
                    },
                    "execution_count": 132,
                    "metadata": {},
                    "output_type": "execute_result"
                }
            ],
            "source": [
                "---------------------------------------------------------------------------------------------------------------\n",
                "/*date*/\n",
                "---------------------------------------------------------------------------------------------------------------\n",
                "---------------------------------------------------------------------------------------------------------------\n",
                "SELECT TOP 10 *\n",
                "FROM my_only_movies_set\n",
                "WHERE numVotes > 1000\n",
                "ORDER BY primaryTitle"
            ]
        },
        {
            "cell_type": "code",
            "execution_count": 133,
            "metadata": {
                "azdata_cell_guid": "7d8dbcf9-16cd-4151-b19a-66a7a699121b",
                "language": "sql",
                "vscode": {
                    "languageId": "r"
                }
            },
            "outputs": [
                {
                    "data": {
                        "text/html": [
                            "Commands completed successfully."
                        ]
                    },
                    "metadata": {},
                    "output_type": "display_data"
                },
                {
                    "data": {
                        "text/html": [
                            "Total execution time: 00:00:00.002"
                        ]
                    },
                    "metadata": {},
                    "output_type": "display_data"
                }
            ],
            "source": [
                "ALTER TABLE my_only_movies_set\n",
                "ADD week_day VARCHAR(10)\n"
            ]
        },
        {
            "cell_type": "code",
            "execution_count": 134,
            "metadata": {
                "azdata_cell_guid": "1346ad39-19c2-4edb-bde6-efbbeccf57a8",
                "language": "sql",
                "vscode": {
                    "languageId": "r"
                }
            },
            "outputs": [
                {
                    "data": {
                        "text/html": [
                            "(813 rows affected)"
                        ]
                    },
                    "metadata": {},
                    "output_type": "display_data"
                },
                {
                    "data": {
                        "text/html": [
                            "Total execution time: 00:00:00.007"
                        ]
                    },
                    "metadata": {},
                    "output_type": "display_data"
                }
            ],
            "source": [
                "UPDATE my_only_movies_set\n",
                "SET week_day = case datepart(WEEKDAY,[date_of_rating])       \n",
                "  When 1 Then 'Monday'      \n",
                "  When 2 Then 'Tuesday'       \n",
                "  When 3 Then 'Wednesday'     \n",
                "  When 4 Then 'Thursday'   \n",
                "  When 5 Then 'Friday'     \n",
                "  When 6 Then 'Saturday'     \n",
                "  When 7 Then 'Sunday'\n",
                "END"
            ]
        },
        {
            "cell_type": "code",
            "execution_count": 137,
            "metadata": {
                "azdata_cell_guid": "317359f0-699d-4422-bb83-d49014e36c1f",
                "language": "sql",
                "vscode": {
                    "languageId": "r"
                }
            },
            "outputs": [
                {
                    "data": {
                        "text/html": [
                            "(10 rows affected)"
                        ]
                    },
                    "metadata": {},
                    "output_type": "display_data"
                },
                {
                    "data": {
                        "text/html": [
                            "Total execution time: 00:00:00.009"
                        ]
                    },
                    "metadata": {},
                    "output_type": "display_data"
                },
                {
                    "data": {
                        "application/vnd.dataresource+json": {
                            "data": [
                                {
                                    "0": "Comedy",
                                    "1": "Musical",
                                    "2": "Romance",
                                    "3": "Monday"
                                },
                                {
                                    "0": "Comedy",
                                    "1": "Drama",
                                    "2": "Romance",
                                    "3": "Sunday"
                                },
                                {
                                    "0": "NULL",
                                    "1": "NULL",
                                    "2": "Drama",
                                    "3": "Wednesday"
                                },
                                {
                                    "0": "NULL",
                                    "1": "NULL",
                                    "2": "Drama",
                                    "3": "Saturday"
                                },
                                {
                                    "0": "NULL",
                                    "1": "Drama",
                                    "2": "Romance",
                                    "3": "Tuesday"
                                },
                                {
                                    "0": "Adventure",
                                    "1": "Comedy",
                                    "2": "Drama",
                                    "3": "Sunday"
                                },
                                {
                                    "0": "NULL",
                                    "1": "Comedy",
                                    "2": "Romance",
                                    "3": "Friday"
                                },
                                {
                                    "0": "Comedy",
                                    "1": "Drama",
                                    "2": "Romance",
                                    "3": "Friday"
                                },
                                {
                                    "0": "Crime",
                                    "1": "Drama",
                                    "2": "Thriller",
                                    "3": "Saturday"
                                },
                                {
                                    "0": "Comedy",
                                    "1": "Music",
                                    "2": "Romance",
                                    "3": "Sunday"
                                }
                            ],
                            "schema": {
                                "fields": [
                                    {
                                        "name": "genre_1"
                                    },
                                    {
                                        "name": "genre_2"
                                    },
                                    {
                                        "name": "genre_3"
                                    },
                                    {
                                        "name": "week_day"
                                    }
                                ]
                            }
                        },
                        "text/html": [
                            "<table><tr><th>genre_1</th><th>genre_2</th><th>genre_3</th><th>week_day</th></tr><tr><td>Comedy</td><td>Musical</td><td>Romance</td><td>Monday</td></tr><tr><td>Comedy</td><td>Drama</td><td>Romance</td><td>Sunday</td></tr><tr><td>NULL</td><td>NULL</td><td>Drama</td><td>Wednesday</td></tr><tr><td>NULL</td><td>NULL</td><td>Drama</td><td>Saturday</td></tr><tr><td>NULL</td><td>Drama</td><td>Romance</td><td>Tuesday</td></tr><tr><td>Adventure</td><td>Comedy</td><td>Drama</td><td>Sunday</td></tr><tr><td>NULL</td><td>Comedy</td><td>Romance</td><td>Friday</td></tr><tr><td>Comedy</td><td>Drama</td><td>Romance</td><td>Friday</td></tr><tr><td>Crime</td><td>Drama</td><td>Thriller</td><td>Saturday</td></tr><tr><td>Comedy</td><td>Music</td><td>Romance</td><td>Sunday</td></tr></table>"
                        ]
                    },
                    "execution_count": 137,
                    "metadata": {},
                    "output_type": "execute_result"
                }
            ],
            "source": [
                "SELECT TOP 10 *\n",
                "FROM (SELECT genre_1, genre_2, genre_3, week_day\n",
                "FROM my_only_movies_set) as d"
            ]
        },
        {
            "attachments": {},
            "cell_type": "markdown",
            "metadata": {
                "azdata_cell_guid": "17f732d6-0f45-466d-9f85-b2d8c715e27f",
                "language": "sql"
            },
            "source": [
                "I extracted this table as a excel file, created pivots and made a tableau viz."
            ]
        },
        {
            "cell_type": "code",
            "execution_count": 6,
            "metadata": {
                "azdata_cell_guid": "26d10c32-2698-4f53-a85a-0b9d947b5659",
                "language": "sql",
                "vscode": {
                    "languageId": "r"
                }
            },
            "outputs": [
                {
                    "data": {
                        "text/html": [
                            "<div class='tableauPlaceholder' id='viz1680794036713' style='position: relative'><noscript><a href='#'><img alt='Dashboard 1 ' src='https:&#47;&#47;public.tableau.com&#47;static&#47;images&#47;Wh&#47;WhatgenredoIchoosethroughouttheweek&#47;Dashboard1&#47;1_rss.png' style='border: none' /></a></noscript><object class='tableauViz'  style='display:none;'><param name='host_url' value='https%3A%2F%2Fpublic.tableau.com%2F' /> <param name='embed_code_version' value='3' /> <param name='site_root' value='' /><param name='name' value='WhatgenredoIchoosethroughouttheweek&#47;Dashboard1' /><param name='tabs' value='no' /><param name='toolbar' value='yes' /><param name='static_image' value='https:&#47;&#47;public.tableau.com&#47;static&#47;images&#47;Wh&#47;WhatgenredoIchoosethroughouttheweek&#47;Dashboard1&#47;1.png' /> <param name='animate_transition' value='yes' /><param name='display_static_image' value='yes' /><param name='display_spinner' value='yes' /><param name='display_overlay' value='yes' /><param name='display_count' value='yes' /><param name='language' value='en-US' /></object></div>                <script type='text/javascript'>                    var divElement = document.getElementById('viz1680794036713');                    var vizElement = divElement.getElementsByTagName('object')[0];                    if ( divElement.offsetWidth > 800 ) { vizElement.style.width='700px';vizElement.style.height='527px';} else if ( divElement.offsetWidth > 500 ) { vizElement.style.width='700px';vizElement.style.height='527px';} else { vizElement.style.width='100%';vizElement.style.height='727px';}                     var scriptElement = document.createElement('script');                    scriptElement.src = 'https://public.tableau.com/javascripts/api/viz_v1.js';                    vizElement.parentNode.insertBefore(scriptElement, vizElement);                </script>\n"
                        ],
                        "text/plain": [
                            "<IPython.core.display.HTML object>"
                        ]
                    },
                    "metadata": {},
                    "output_type": "display_data"
                }
            ],
            "source": [
                "%%html\n",
                "<div class='tableauPlaceholder' id='viz1680794036713' style='position: relative'><noscript><a href='#'><img alt='Dashboard 1 ' src='https:&#47;&#47;public.tableau.com&#47;static&#47;images&#47;Wh&#47;WhatgenredoIchoosethroughouttheweek&#47;Dashboard1&#47;1_rss.png' style='border: none' /></a></noscript><object class='tableauViz'  style='display:none;'><param name='host_url' value='https%3A%2F%2Fpublic.tableau.com%2F' /> <param name='embed_code_version' value='3' /> <param name='site_root' value='' /><param name='name' value='WhatgenredoIchoosethroughouttheweek&#47;Dashboard1' /><param name='tabs' value='no' /><param name='toolbar' value='yes' /><param name='static_image' value='https:&#47;&#47;public.tableau.com&#47;static&#47;images&#47;Wh&#47;WhatgenredoIchoosethroughouttheweek&#47;Dashboard1&#47;1.png' /> <param name='animate_transition' value='yes' /><param name='display_static_image' value='yes' /><param name='display_spinner' value='yes' /><param name='display_overlay' value='yes' /><param name='display_count' value='yes' /><param name='language' value='en-US' /></object></div>                <script type='text/javascript'>                    var divElement = document.getElementById('viz1680794036713');                    var vizElement = divElement.getElementsByTagName('object')[0];                    if ( divElement.offsetWidth > 800 ) { vizElement.style.width='700px';vizElement.style.height='527px';} else if ( divElement.offsetWidth > 500 ) { vizElement.style.width='700px';vizElement.style.height='527px';} else { vizElement.style.width='100%';vizElement.style.height='727px';}                     var scriptElement = document.createElement('script');                    scriptElement.src = 'https://public.tableau.com/javascripts/api/viz_v1.js';                    vizElement.parentNode.insertBefore(scriptElement, vizElement);                </script>"
            ]
        },
        {
            "cell_type": "code",
            "execution_count": 138,
            "metadata": {
                "azdata_cell_guid": "38d77e15-f62b-484b-9670-3b21dc2ae0b4",
                "language": "sql",
                "vscode": {
                    "languageId": "r"
                }
            },
            "outputs": [
                {
                    "data": {
                        "text/html": [
                            "(10 rows affected)"
                        ]
                    },
                    "metadata": {},
                    "output_type": "display_data"
                },
                {
                    "data": {
                        "text/html": [
                            "Total execution time: 00:00:00.009"
                        ]
                    },
                    "metadata": {},
                    "output_type": "display_data"
                },
                {
                    "data": {
                        "application/vnd.dataresource+json": {
                            "data": [
                                {
                                    "0": "Comedy",
                                    "1": "Musical",
                                    "2": "Romance",
                                    "3": "2023-03-20",
                                    "4": "2023"
                                },
                                {
                                    "0": "Comedy",
                                    "1": "Drama",
                                    "2": "Romance",
                                    "3": "2023-03-19",
                                    "4": "2023"
                                },
                                {
                                    "0": "NULL",
                                    "1": "NULL",
                                    "2": "Drama",
                                    "3": "2023-03-15",
                                    "4": "2023"
                                },
                                {
                                    "0": "NULL",
                                    "1": "NULL",
                                    "2": "Drama",
                                    "3": "2023-03-11",
                                    "4": "2023"
                                },
                                {
                                    "0": "NULL",
                                    "1": "Drama",
                                    "2": "Romance",
                                    "3": "2023-02-28",
                                    "4": "2023"
                                },
                                {
                                    "0": "Adventure",
                                    "1": "Comedy",
                                    "2": "Drama",
                                    "3": "2023-02-26",
                                    "4": "2023"
                                },
                                {
                                    "0": "NULL",
                                    "1": "Comedy",
                                    "2": "Romance",
                                    "3": "2023-02-24",
                                    "4": "2023"
                                },
                                {
                                    "0": "Comedy",
                                    "1": "Drama",
                                    "2": "Romance",
                                    "3": "2023-02-17",
                                    "4": "2023"
                                },
                                {
                                    "0": "Crime",
                                    "1": "Drama",
                                    "2": "Thriller",
                                    "3": "2023-02-11",
                                    "4": "2023"
                                },
                                {
                                    "0": "Comedy",
                                    "1": "Music",
                                    "2": "Romance",
                                    "3": "2023-02-05",
                                    "4": "2023"
                                }
                            ],
                            "schema": {
                                "fields": [
                                    {
                                        "name": "genre_1"
                                    },
                                    {
                                        "name": "genre_2"
                                    },
                                    {
                                        "name": "genre_3"
                                    },
                                    {
                                        "name": "date_of_rating"
                                    },
                                    {
                                        "name": "year"
                                    }
                                ]
                            }
                        },
                        "text/html": [
                            "<table><tr><th>genre_1</th><th>genre_2</th><th>genre_3</th><th>date_of_rating</th><th>year</th></tr><tr><td>Comedy</td><td>Musical</td><td>Romance</td><td>2023-03-20</td><td>2023</td></tr><tr><td>Comedy</td><td>Drama</td><td>Romance</td><td>2023-03-19</td><td>2023</td></tr><tr><td>NULL</td><td>NULL</td><td>Drama</td><td>2023-03-15</td><td>2023</td></tr><tr><td>NULL</td><td>NULL</td><td>Drama</td><td>2023-03-11</td><td>2023</td></tr><tr><td>NULL</td><td>Drama</td><td>Romance</td><td>2023-02-28</td><td>2023</td></tr><tr><td>Adventure</td><td>Comedy</td><td>Drama</td><td>2023-02-26</td><td>2023</td></tr><tr><td>NULL</td><td>Comedy</td><td>Romance</td><td>2023-02-24</td><td>2023</td></tr><tr><td>Comedy</td><td>Drama</td><td>Romance</td><td>2023-02-17</td><td>2023</td></tr><tr><td>Crime</td><td>Drama</td><td>Thriller</td><td>2023-02-11</td><td>2023</td></tr><tr><td>Comedy</td><td>Music</td><td>Romance</td><td>2023-02-05</td><td>2023</td></tr></table>"
                        ]
                    },
                    "execution_count": 138,
                    "metadata": {},
                    "output_type": "execute_result"
                }
            ],
            "source": [
                "SELECT TOP 10 *\n",
                "FROM (SELECT [genre_1] \n",
                "      ,[genre_2]\n",
                "      ,[genre_3]\n",
                "      ,[date_of_rating]\n",
                "      , datepart(year,[date_of_rating]) as year\n",
                "From my_only_movies_set \n",
                "GROUP BY\n",
                "       [genre_1] \n",
                "      ,[genre_2]\n",
                "      ,[genre_3]\n",
                "      ,[date_of_rating]) as y\n",
                " "
            ]
        },
        {
            "cell_type": "code",
            "execution_count": 4,
            "metadata": {
                "azdata_cell_guid": "48730701-8979-4039-9c8f-1a8d4af5bc99",
                "language": "sql",
                "vscode": {
                    "languageId": "r"
                }
            },
            "outputs": [
                {
                    "data": {
                        "text/html": [
                            "<div class='tableauPlaceholder' id='viz1680793987297' style='position: relative'><noscript><a href='#'><img alt='Dashboard 1 ' src='https:&#47;&#47;public.tableau.com&#47;static&#47;images&#47;Ho&#47;HowmanymoviesdidIwatcheveryyear&#47;Dashboard1&#47;1_rss.png' style='border: none' /></a></noscript><object class='tableauViz'  style='display:none;'><param name='host_url' value='https%3A%2F%2Fpublic.tableau.com%2F' /> <param name='embed_code_version' value='3' /> <param name='site_root' value='' /><param name='name' value='HowmanymoviesdidIwatcheveryyear&#47;Dashboard1' /><param name='tabs' value='no' /><param name='toolbar' value='yes' /><param name='static_image' value='https:&#47;&#47;public.tableau.com&#47;static&#47;images&#47;Ho&#47;HowmanymoviesdidIwatcheveryyear&#47;Dashboard1&#47;1.png' /> <param name='animate_transition' value='yes' /><param name='display_static_image' value='yes' /><param name='display_spinner' value='yes' /><param name='display_overlay' value='yes' /><param name='display_count' value='yes' /><param name='language' value='en-US' /></object></div>                <script type='text/javascript'>                    var divElement = document.getElementById('viz1680793987297');                    var vizElement = divElement.getElementsByTagName('object')[0];                    if ( divElement.offsetWidth > 800 ) { vizElement.style.width='700px';vizElement.style.height='527px';} else if ( divElement.offsetWidth > 500 ) { vizElement.style.width='700px';vizElement.style.height='527px';} else { vizElement.style.width='100%';vizElement.style.height='727px';}                     var scriptElement = document.createElement('script');                    scriptElement.src = 'https://public.tableau.com/javascripts/api/viz_v1.js';                    vizElement.parentNode.insertBefore(scriptElement, vizElement);                </script>\n"
                        ],
                        "text/plain": [
                            "<IPython.core.display.HTML object>"
                        ]
                    },
                    "metadata": {},
                    "output_type": "display_data"
                }
            ],
            "source": [
                "%%HTML\n",
                "<div class='tableauPlaceholder' id='viz1680793987297' style='position: relative'><noscript><a href='#'><img alt='Dashboard 1 ' src='https:&#47;&#47;public.tableau.com&#47;static&#47;images&#47;Ho&#47;HowmanymoviesdidIwatcheveryyear&#47;Dashboard1&#47;1_rss.png' style='border: none' /></a></noscript><object class='tableauViz'  style='display:none;'><param name='host_url' value='https%3A%2F%2Fpublic.tableau.com%2F' /> <param name='embed_code_version' value='3' /> <param name='site_root' value='' /><param name='name' value='HowmanymoviesdidIwatcheveryyear&#47;Dashboard1' /><param name='tabs' value='no' /><param name='toolbar' value='yes' /><param name='static_image' value='https:&#47;&#47;public.tableau.com&#47;static&#47;images&#47;Ho&#47;HowmanymoviesdidIwatcheveryyear&#47;Dashboard1&#47;1.png' /> <param name='animate_transition' value='yes' /><param name='display_static_image' value='yes' /><param name='display_spinner' value='yes' /><param name='display_overlay' value='yes' /><param name='display_count' value='yes' /><param name='language' value='en-US' /></object></div>                <script type='text/javascript'>                    var divElement = document.getElementById('viz1680793987297');                    var vizElement = divElement.getElementsByTagName('object')[0];                    if ( divElement.offsetWidth > 800 ) { vizElement.style.width='700px';vizElement.style.height='527px';} else if ( divElement.offsetWidth > 500 ) { vizElement.style.width='700px';vizElement.style.height='527px';} else { vizElement.style.width='100%';vizElement.style.height='727px';}                     var scriptElement = document.createElement('script');                    scriptElement.src = 'https://public.tableau.com/javascripts/api/viz_v1.js';                    vizElement.parentNode.insertBefore(scriptElement, vizElement);                </script>"
            ]
        },
        {
            "attachments": {},
            "cell_type": "markdown",
            "metadata": {
                "azdata_cell_guid": "f21f907f-ede8-48b1-a710-be5551321f04"
            },
            "source": [
                "### Comparing rating and activity of users on \"Kinopoisk\" and \"IMDB\""
            ]
        },
        {
            "cell_type": "code",
            "execution_count": 23,
            "metadata": {
                "azdata_cell_guid": "f8889262-9551-4ca8-a201-d22aab9811c1",
                "language": "sql",
                "tags": [],
                "vscode": {
                    "languageId": "r"
                }
            },
            "outputs": [
                {
                    "data": {
                        "text/html": [
                            "(1 row affected)"
                        ]
                    },
                    "metadata": {},
                    "output_type": "display_data"
                },
                {
                    "data": {
                        "text/html": [
                            "Total execution time: 00:00:00.009"
                        ]
                    },
                    "metadata": {},
                    "output_type": "display_data"
                },
                {
                    "data": {
                        "application/vnd.dataresource+json": {
                            "data": [
                                {
                                    "0": "7,346134542818234",
                                    "1": "137051",
                                    "2": "215670",
                                    "3": "0.635469"
                                }
                            ],
                            "schema": {
                                "fields": [
                                    {
                                        "name": "total"
                                    },
                                    {
                                        "name": "kinopoisk_users"
                                    },
                                    {
                                        "name": "imdb_users"
                                    },
                                    {
                                        "name": "diff_in_votes"
                                    }
                                ]
                            }
                        },
                        "text/html": [
                            "<table>\n",
                            "<tr><th>total</th><th>kinopoisk_users</th><th>imdb_users</th><th>diff_in_votes</th></tr>\n",
                            "<tr><td>7,346134542818234</td><td>137051</td><td>215670</td><td>0.635469</td></tr>\n",
                            "</table>"
                        ]
                    },
                    "execution_count": 23,
                    "metadata": {},
                    "output_type": "execute_result"
                }
            ],
            "source": [
                "SELECT ((AVG(kinopoisk_ratings)/AVG(averageRating) * 100) - 100) as total,\n",
                "AVG(user_rating_count) as kinopoisk_users, AVG(numVotes) as imdb_users,\n",
                "(AVG(1.0 * user_rating_count)/ AVG(numVotes)) as diff_in_votes\n",
                "FROM my_only_movies_set \n"
            ]
        },
        {
            "attachments": {},
            "cell_type": "markdown",
            "metadata": {
                "azdata_cell_guid": "8b7885e3-65ad-45be-95ed-3b50c3ad997d",
                "language": "sql"
            },
            "source": [
                "\"Kinopoisk\" has in average a 7.35% higher rating and 63,54% less number of votes per movie than \"IMDB\"."
            ]
        },
        {
            "attachments": {},
            "cell_type": "markdown",
            "metadata": {
                "azdata_cell_guid": "9b5c8ea7-9fc4-40a0-95f5-a67bd14ba5f9",
                "language": "sql"
            },
            "source": [
                "### \"Do movies longer then 2 hours tend to have less views?\""
            ]
        },
        {
            "cell_type": "code",
            "execution_count": 4,
            "metadata": {
                "azdata_cell_guid": "9d90ada7-e375-4be2-81d1-8277adbf55bc",
                "language": "sql",
                "vscode": {
                    "languageId": "r"
                }
            },
            "outputs": [
                {
                    "data": {
                        "text/html": [
                            "(1 row affected)"
                        ]
                    },
                    "metadata": {},
                    "output_type": "display_data"
                },
                {
                    "data": {
                        "text/html": [
                            "Total execution time: 00:00:00.016"
                        ]
                    },
                    "metadata": {},
                    "output_type": "display_data"
                },
                {
                    "data": {
                        "application/vnd.dataresource+json": {
                            "data": [
                                {
                                    "0": "113591",
                                    "1": "215670"
                                }
                            ],
                            "schema": {
                                "fields": [
                                    {
                                        "name": "median"
                                    },
                                    {
                                        "name": "avg_user_rating"
                                    }
                                ]
                            }
                        },
                        "text/html": [
                            "<table>\n",
                            "<tr><th>median</th><th>avg_user_rating</th></tr>\n",
                            "<tr><td>113591</td><td>215670</td></tr>\n",
                            "</table>"
                        ]
                    },
                    "execution_count": 4,
                    "metadata": {},
                    "output_type": "execute_result"
                }
            ],
            "source": [
                "SELECT (\n",
                "      (SELECT MAX(numVotes) FROM\n",
                "      (SELECT top 50 percent numVotes FROM my_only_movies_set ORDER BY numVotes ASC) AS one_half)\n",
                "      +\n",
                "      (SELECT MIN(numVotes) FROM\n",
                "      (SELECT top 50 percent numVotes FROM my_only_movies_set ORDER BY numVotes DESC) AS sec_half)\n",
                ") /2 as median,\n",
                "AVG(numVotes) as avg_user_rating /* median is 113591, avg is 215670 */\n",
                "FROM my_only_movies_set\n"
            ]
        },
        {
            "cell_type": "code",
            "execution_count": 15,
            "metadata": {
                "azdata_cell_guid": "2fe4be61-3485-4089-bfce-4143257a7eb6",
                "language": "sql"
            },
            "outputs": [
                {
                    "data": {
                        "text/html": [
                            "(10 rows affected)"
                        ]
                    },
                    "metadata": {},
                    "output_type": "display_data"
                },
                {
                    "data": {
                        "text/html": [
                            "Total execution time: 00:00:00.010"
                        ]
                    },
                    "metadata": {},
                    "output_type": "display_data"
                },
                {
                    "data": {
                        "application/vnd.dataresource+json": {
                            "data": [
                                {
                                    "0": "1988",
                                    "1": "Rain Man",
                                    "2": "133",
                                    "3": "523021",
                                    "4": "300"
                                },
                                {
                                    "0": "1959",
                                    "1": "Some Like It Hot",
                                    "2": "121",
                                    "3": "271366",
                                    "4": "100"
                                },
                                {
                                    "0": "2022",
                                    "1": "Glass Onion",
                                    "2": "139",
                                    "3": "368526",
                                    "4": "200"
                                },
                                {
                                    "0": "1999",
                                    "1": "Notting Hill",
                                    "2": "124",
                                    "3": "321631",
                                    "4": "100"
                                },
                                {
                                    "0": "2009",
                                    "1": "It's Complicated",
                                    "2": "121",
                                    "3": "94799",
                                    "4": "-100"
                                },
                                {
                                    "0": "2022",
                                    "1": "Where the Crawdads Sing",
                                    "2": "125",
                                    "3": "88552",
                                    "4": "-100"
                                },
                                {
                                    "0": "1965",
                                    "1": "The Sound of Music",
                                    "2": "172",
                                    "3": "242008",
                                    "4": "100"
                                },
                                {
                                    "0": "2005",
                                    "1": "Pride & Prejudice",
                                    "2": "129",
                                    "3": "304579",
                                    "4": "100"
                                },
                                {
                                    "0": "2019",
                                    "1": "Jumanji: The Next Level",
                                    "2": "123",
                                    "3": "259180",
                                    "4": "100"
                                },
                                {
                                    "0": "2003",
                                    "1": "Something's Gotta Give",
                                    "2": "128",
                                    "3": "124334",
                                    "4": "0"
                                }
                            ],
                            "schema": {
                                "fields": [
                                    {
                                        "name": "release_year"
                                    },
                                    {
                                        "name": "primaryTitle"
                                    },
                                    {
                                        "name": "runtimeMinutes"
                                    },
                                    {
                                        "name": "numVotes"
                                    },
                                    {
                                        "name": "per_of_median"
                                    }
                                ]
                            }
                        },
                        "text/html": [
                            "<table>\n",
                            "<tr><th>release_year</th><th>primaryTitle</th><th>runtimeMinutes</th><th>numVotes</th><th>per_of_median</th></tr>\n",
                            "<tr><td>1988</td><td>Rain Man</td><td>133</td><td>523021</td><td>300</td></tr>\n",
                            "<tr><td>1959</td><td>Some Like It Hot</td><td>121</td><td>271366</td><td>100</td></tr>\n",
                            "<tr><td>2022</td><td>Glass Onion</td><td>139</td><td>368526</td><td>200</td></tr>\n",
                            "<tr><td>1999</td><td>Notting Hill</td><td>124</td><td>321631</td><td>100</td></tr>\n",
                            "<tr><td>2009</td><td>It's Complicated</td><td>121</td><td>94799</td><td>-100</td></tr>\n",
                            "<tr><td>2022</td><td>Where the Crawdads Sing</td><td>125</td><td>88552</td><td>-100</td></tr>\n",
                            "<tr><td>1965</td><td>The Sound of Music</td><td>172</td><td>242008</td><td>100</td></tr>\n",
                            "<tr><td>2005</td><td>Pride &amp; Prejudice</td><td>129</td><td>304579</td><td>100</td></tr>\n",
                            "<tr><td>2019</td><td>Jumanji: The Next Level</td><td>123</td><td>259180</td><td>100</td></tr>\n",
                            "<tr><td>2003</td><td>Something's Gotta Give</td><td>128</td><td>124334</td><td>0</td></tr>\n",
                            "</table>"
                        ]
                    },
                    "execution_count": 15,
                    "metadata": {},
                    "output_type": "execute_result"
                }
            ],
            "source": [
                "SELECT TOP 10 *\n",
                "FROM (SELECT [release_year]\n",
                "      ,[primaryTitle]\n",
                "      ,[runtimeMinutes]\n",
                "      ,[numVotes]\n",
                "      , ROUND((([numVotes]/113591) * 100), 0) - 100 as per_of_median\n",
                "FROM my_only_movies_set\n",
                "WHERE runtimeMinutes >= 120) as a"
            ]
        },
        {
            "cell_type": "code",
            "execution_count": 5,
            "metadata": {
                "azdata_cell_guid": "40d695ff-44c1-4f45-b6eb-58b06df4b6e6",
                "language": "sql",
                "vscode": {
                    "languageId": "r"
                }
            },
            "outputs": [
                {
                    "data": {
                        "text/html": [
                            "<div class='tableauPlaceholder' id='viz1680794006225' style='position: relative'><noscript><a href='#'><img alt='Dashboard 1 ' src='https:&#47;&#47;public.tableau.com&#47;static&#47;images&#47;Do&#47;Domovieslongerthan2hrstendtohavelessviews&#47;Dashboard1&#47;1_rss.png' style='border: none' /></a></noscript><object class='tableauViz'  style='display:none;'><param name='host_url' value='https%3A%2F%2Fpublic.tableau.com%2F' /> <param name='embed_code_version' value='3' /> <param name='site_root' value='' /><param name='name' value='Domovieslongerthan2hrstendtohavelessviews&#47;Dashboard1' /><param name='tabs' value='no' /><param name='toolbar' value='yes' /><param name='static_image' value='https:&#47;&#47;public.tableau.com&#47;static&#47;images&#47;Do&#47;Domovieslongerthan2hrstendtohavelessviews&#47;Dashboard1&#47;1.png' /> <param name='animate_transition' value='yes' /><param name='display_static_image' value='yes' /><param name='display_spinner' value='yes' /><param name='display_overlay' value='yes' /><param name='display_count' value='yes' /><param name='language' value='en-US' /></object></div>                <script type='text/javascript'>                    var divElement = document.getElementById('viz1680794006225');                    var vizElement = divElement.getElementsByTagName('object')[0];                    if ( divElement.offsetWidth > 800 ) { vizElement.style.width='800px';vizElement.style.height='627px';} else if ( divElement.offsetWidth > 500 ) { vizElement.style.width='800px';vizElement.style.height='627px';} else { vizElement.style.width='100%';vizElement.style.height='727px';}                     var scriptElement = document.createElement('script');                    scriptElement.src = 'https://public.tableau.com/javascripts/api/viz_v1.js';                    vizElement.parentNode.insertBefore(scriptElement, vizElement);                </script>\n"
                        ],
                        "text/plain": [
                            "<IPython.core.display.HTML object>"
                        ]
                    },
                    "metadata": {},
                    "output_type": "display_data"
                }
            ],
            "source": [
                "%%html\n",
                "<div class='tableauPlaceholder' id='viz1680794006225' style='position: relative'><noscript><a href='#'><img alt='Dashboard 1 ' src='https:&#47;&#47;public.tableau.com&#47;static&#47;images&#47;Do&#47;Domovieslongerthan2hrstendtohavelessviews&#47;Dashboard1&#47;1_rss.png' style='border: none' /></a></noscript><object class='tableauViz'  style='display:none;'><param name='host_url' value='https%3A%2F%2Fpublic.tableau.com%2F' /> <param name='embed_code_version' value='3' /> <param name='site_root' value='' /><param name='name' value='Domovieslongerthan2hrstendtohavelessviews&#47;Dashboard1' /><param name='tabs' value='no' /><param name='toolbar' value='yes' /><param name='static_image' value='https:&#47;&#47;public.tableau.com&#47;static&#47;images&#47;Do&#47;Domovieslongerthan2hrstendtohavelessviews&#47;Dashboard1&#47;1.png' /> <param name='animate_transition' value='yes' /><param name='display_static_image' value='yes' /><param name='display_spinner' value='yes' /><param name='display_overlay' value='yes' /><param name='display_count' value='yes' /><param name='language' value='en-US' /></object></div>                <script type='text/javascript'>                    var divElement = document.getElementById('viz1680794006225');                    var vizElement = divElement.getElementsByTagName('object')[0];                    if ( divElement.offsetWidth > 800 ) { vizElement.style.width='800px';vizElement.style.height='627px';} else if ( divElement.offsetWidth > 500 ) { vizElement.style.width='800px';vizElement.style.height='627px';} else { vizElement.style.width='100%';vizElement.style.height='727px';}                     var scriptElement = document.createElement('script');                    scriptElement.src = 'https://public.tableau.com/javascripts/api/viz_v1.js';                    vizElement.parentNode.insertBefore(scriptElement, vizElement);                </script>"
            ]
        },
        {
            "attachments": {},
            "cell_type": "markdown",
            "metadata": {
                "azdata_cell_guid": "ade9389c-1fc8-4007-95db-b324b91db8e4",
                "language": ""
            },
            "source": [
                "As we can see, the length of movies don't really correlate with views."
            ]
        },
        {
            "attachments": {},
            "cell_type": "markdown",
            "metadata": {},
            "source": [
                "## 6. Share"
            ]
        },
        {
            "attachments": {},
            "cell_type": "markdown",
            "metadata": {},
            "source": [
                "Key findings from this project:\n"
            ]
        },
        {
            "attachments": {},
            "cell_type": "markdown",
            "metadata": {},
            "source": [
                "* Favorite genres: **comedy, drama, romance**, and I tend to rate higher animations, documentaries and family movies, tрough I do rate lower fantasy, musicals, crime and horror. But I do not rate higher or lower based on my favorite actors or actresses.\n",
                "\n",
                "* I **prefer romance any day of the week; comedy on Tue, Fri and Sat; drama on Thu; family on Mon, Wed**. Sometimes I like to surpise myself with a bit of fantasy, sci-fi or thriller.\n",
                "\n",
                "* I have **the highest number of watched movies in 2013** and it significantly decreased in the next year and **continued to decrese**. I guess that it is due to the start of university (2014) and I haven't had that much free time ever since.\n",
                "\n",
                "* **Most watched director is Garry Marshall** (Pretty Woman, The Princess Diaries, Overboard), which is robust as he is famous for making movies in my favourite genres, though his movies have less then median views. Based on that finding I've added few films to watch in the near future, which most likely I will enjoy.\n",
                "\n",
                "* Favorite actors are **Adam Sandler, Channing Tatum, Tom Hanks, Zac Efron** which  are most known for their roles in comedy, drama and romance. Only Tom Hanks out four of them have been nominated 3 times for the Oscar and won twice.\n",
                "\n",
                "* Favorite actresses are **Julia Roberts, Rachel McAdams, Reese Witherspoon** which again are most known for their roles in comedy, drama and romance. All three were nominated for the Oscar, though Rachel McAdams haven't won yet.\n",
                "\n",
                "* As for the Oscars: I've watched **32 movies out of 180** which have won in the main nominations (which is  17,8%), and **only 83 movies which had been nominated in main categories, out of 740 (which is 11,2%)**, so I added a few to my list \"To Watch\" to expand the horizons of the awarded movies.\n",
                "\n",
                "* \"Kinopoisk\" has in average a 7.35% higher rating and 63,54% less number of votes per movie than \"IMDB'.\n",
                "\n",
                "* Movies longer then 2 hours do not tend to have less views.\n",
                "\n",
                "\n",
                "\n"
            ]
        }
    ],
    "metadata": {
        "anaconda-cloud": "",
        "kernelspec": {
            "display_name": "SQL",
            "language": "sql",
            "name": "SQL"
        },
        "language_info": {
            "name": "sql",
            "version": ""
        }
    },
    "nbformat": 4,
    "nbformat_minor": 2
}
